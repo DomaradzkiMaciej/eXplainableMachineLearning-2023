{
  "nbformat": 4,
  "nbformat_minor": 0,
  "metadata": {
    "colab": {
      "provenance": []
    },
    "kernelspec": {
      "name": "python3",
      "display_name": "Python 3"
    },
    "language_info": {
      "name": "python"
    }
  },
  "cells": [
    {
      "cell_type": "markdown",
      "source": [
        "# Task A"
      ],
      "metadata": {
        "id": "a-Gh6oO8cASs"
      }
    },
    {
      "cell_type": "markdown",
      "source": [
        "I am sorry, I was not in time to finish Task A. I will do my best to finish it as soon as possible and add it to my Pull Request. For now, I send a notebook with finished Task B as the deadline is close."
      ],
      "metadata": {
        "id": "q3_N9ZHLhR3T"
      }
    },
    {
      "cell_type": "markdown",
      "source": [
        "# Task B"
      ],
      "metadata": {
        "id": "O6PncxYQcFqq"
      }
    },
    {
      "cell_type": "markdown",
      "source": [
        "Function $v$ takes subsets of the set of players $\\{A, B, C\\}$ as an arguments and yields a reward the subset gets. It's known that:\n",
        "\n",
        "$v() = 0$\n",
        "\n",
        "$v(A) = 20$\n",
        "\n",
        "$v(B) = 20$\n",
        "\n",
        "$v(C) = 60$\n",
        "\n",
        "$v(A,B) = 60$\n",
        "\n",
        "$v(A,C) = 70$\n",
        "\n",
        "$v(B,C) = 70$\n",
        "\n",
        "$v(A,B,C) = 100$\n",
        "\n",
        "Let's denote by $\\phi$ a function assigning Shapley values to players. We calculate:\n",
        "\n",
        "$\\phi(A) = \\frac{1}{6} \\Big(2v(A) + \\big(v(A,B) - v(B)\\big) + \\big(v(A,C) - v(C)\\big) + 2\\big( v(A,B,C) - v(B,C)\\big) \\Big) = \\frac{1}{6} \\big(2\\cdot 20 + (60-20) + (70-60) + 2(100-70)\\big) = \\frac{150}{6} = 25$\n",
        "\n",
        "$\\phi(B) = \\frac{1}{6} \\Big(2v(B) + \\big(v(A,B) - v(A)\\big) + \\big(v(B,C) - v(C)\\big) + 2\\big( v(A,B,C) - v(A,C)\\big) \\Big) = \\frac{1}{6} \\big(2\\cdot 20 + (60-20) + (70-60) + 2(100-70)\\big) = \\frac{150}{6} = 25$\n",
        "\n",
        "$\\phi(C) = \\frac{1}{6} \\Big(2v(C) + \\big(v(A,C) - v(C)\\big) + \\big(v(B,C) - v(B)\\big) + 2\\big( v(A,B,C) - v(A,B)\\big) \\Big) = \\frac{1}{6} \\big(2\\cdot 60 + (70-20) + (70-20) + 2(100-60)\\big) = \\frac{300}{6} = 50$\n",
        "\n",
        "We have $\\phi(A) = \\phi(B) = 25$ and $\\phi(C) = 50$. The fair split of the reward $A, B$ and $C$ get would be that $A$ and $B$ take 25 each, and $C$ takes 50."
      ],
      "metadata": {
        "id": "2BVuE6PScID7"
      }
    }
  ]
}