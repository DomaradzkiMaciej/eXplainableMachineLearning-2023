{
 "cells": [
  {
   "cell_type": "markdown",
   "metadata": {},
   "source": [
    "# Brain Stroke Dataset - Analysis, Part V\n",
    "\n",
    "**Author:** Jakub Bednarz\n",
    "\n",
    "**Previous parts**: [Part I](https://github.com/mim-uw/eXplainableMachineLearning-2023/blob/main/Homeworks/HW1/JakubBednarz/Analysis.ipynb), [Part II](https://htmlpreview.github.io/?https://github.com/mim-uw/eXplainableMachineLearning-2023/blob/main/Homeworks/HW2/JakubBednarz/Analysis%2C%20Part%20II.html), [Part III](https://htmlpreview.github.io/?https://github.com/mim-uw/eXplainableMachineLearning-2023/blob/main/Homeworks/HW3/JakubBednarz/Analysis%2C%20Part%20III.html), [Part IV](https://htmlpreview.github.io/?https://github.com/mim-uw/eXplainableMachineLearning-2023/blob/main/Homeworks/HW4/JakubBednarz/Analysis%2C%20Part%20IV.html)"
   ]
  },
  {
   "cell_type": "code",
   "execution_count": 14,
   "metadata": {},
   "outputs": [
    {
     "data": {
      "text/html": [
       "        <script type=\"text/javascript\">\n",
       "        window.PlotlyConfig = {MathJaxConfig: 'local'};\n",
       "        if (window.MathJax && window.MathJax.Hub && window.MathJax.Hub.Config) {window.MathJax.Hub.Config({SVG: {font: \"STIX-Web\"}});}\n",
       "        if (typeof require !== 'undefined') {\n",
       "        require.undef(\"plotly\");\n",
       "        requirejs.config({\n",
       "            paths: {\n",
       "                'plotly': ['https://cdn.plot.ly/plotly-2.14.0.min']\n",
       "            }\n",
       "        });\n",
       "        require(['plotly'], function(Plotly) {\n",
       "            window._Plotly = Plotly;\n",
       "        });\n",
       "        }\n",
       "        </script>\n",
       "        "
      ]
     },
     "metadata": {},
     "output_type": "display_data"
    }
   ],
   "source": [
    "import pandas as pd\n",
    "import matplotlib.pyplot as plt\n",
    "import numpy as np\n",
    "from typing import Union\n",
    "import plotly\n",
    "import plotly.express as px\n",
    "import plotly.offline as py\n",
    "import plotly.io as pio\n",
    "import plotly.graph_objects as go\n",
    "from scipy.special import logit\n",
    "from copy import deepcopy\n",
    "import warnings\n",
    "\n",
    "from sklearn.preprocessing import OneHotEncoder, OrdinalEncoder\n",
    "from sklearn.pipeline import Pipeline\n",
    "from sklearn.compose import ColumnTransformer\n",
    "from sklearn.model_selection import train_test_split\n",
    "from sklearn.model_selection import cross_val_score, StratifiedKFold\n",
    "from sklearn.base import BaseEstimator, ClassifierMixin\n",
    "from xgboost.sklearn import XGBClassifier\n",
    "from sklearn.linear_model import LogisticRegressionCV, LogisticRegression\n",
    "from sklearn.metrics import roc_auc_score\n",
    "from sklearn.utils.class_weight import compute_sample_weight\n",
    "from sklearn.svm import LinearSVC\n",
    "\n",
    "import optuna\n",
    "from optuna.trial import Trial, FrozenTrial\n",
    "from optuna.integration.sklearn import OptunaSearchCV\n",
    "\n",
    "import shap\n",
    "import shap.maskers\n",
    "import dalex\n",
    "import lime\n",
    "\n",
    "warnings.filterwarnings(action=\"ignore\")\n",
    "pio.renderers.default = \"notebook\"\n",
    "plotly.offline.init_notebook_mode(connected=True)"
   ]
  },
  {
   "cell_type": "code",
   "execution_count": 2,
   "metadata": {},
   "outputs": [],
   "source": [
    "df = pd.read_csv(\"brain_stroke.csv\")\n",
    "for col in (\"hypertension\", \"heart_disease\"):\n",
    "    df[col] = df[col].apply(lambda idx: [\"No\", \"Yes\"][idx])"
   ]
  },
  {
   "cell_type": "code",
   "execution_count": 3,
   "metadata": {},
   "outputs": [],
   "source": [
    "# for name, values in df.select_dtypes(\"object\").iteritems():\n",
    "#     print(name, values.unique())"
   ]
  },
  {
   "cell_type": "code",
   "execution_count": 4,
   "metadata": {},
   "outputs": [],
   "source": [
    "class ColumnTransformerEx(ColumnTransformer):\n",
    "    def transform(self, X):\n",
    "        if isinstance(X, pd.DataFrame):\n",
    "            return pd.DataFrame(\n",
    "                data=np.asarray(super().transform(X)),\n",
    "                columns=self.get_feature_names_out(),\n",
    "                index=X.index,\n",
    "            )\n",
    "        else:\n",
    "            return super().transform(X)\n",
    "    \n",
    "    def fit_transform(self, X, y=None):\n",
    "        if isinstance(X, pd.DataFrame):\n",
    "            return pd.DataFrame(\n",
    "                data=np.asarray(super().fit_transform(X, y)),\n",
    "                columns=self.get_feature_names_out(),\n",
    "                index=X.index,\n",
    "            )\n",
    "        else:\n",
    "            return super().fit_transform(X, y)\n",
    "\n",
    "cat_features = [\n",
    "    \"gender\",\n",
    "    \"ever_married\",\n",
    "    \"work_type\",\n",
    "    \"Residence_type\",\n",
    "    \"smoking_status\",\n",
    "    \"hypertension\",\n",
    "    \"heart_disease\",\n",
    "]\n",
    "\n",
    "one_tf = ColumnTransformerEx(\n",
    "    transformers=[\n",
    "        (col, OneHotEncoder(drop=\"if_binary\"), [col])\n",
    "        for col in cat_features],\n",
    "    remainder=\"passthrough\",\n",
    "    verbose_feature_names_out=False,\n",
    ")\n",
    "\n",
    "ord_tf = ColumnTransformerEx(\n",
    "    transformers=[\n",
    "        (col, OrdinalEncoder(), [col])\n",
    "        for col in cat_features],\n",
    "    remainder=\"passthrough\",\n",
    "    verbose_feature_names_out=False,\n",
    ")\n",
    "\n",
    "one_df = one_tf.fit_transform(df)\n",
    "ord_df = ord_tf.fit_transform(df)\n",
    "\n",
    "all_features = ord_df.columns.tolist()\n",
    "\n",
    "cat_idxes = [all_features.index(feat) for feat in cat_features]\n",
    "\n",
    "cat_names = {\n",
    "    idx: OrdinalEncoder().fit(df[[feat]]).categories_[0]\n",
    "    for idx, feat in zip(cat_idxes, cat_features)\n",
    "}\n",
    "\n",
    "X_tf = ColumnTransformerEx(\n",
    "    transformers=[\n",
    "        (col, OneHotEncoder(drop=\"if_binary\"), [col])\n",
    "        for col in cat_features],\n",
    "    remainder=\"passthrough\",\n",
    "    verbose_feature_names_out=False,\n",
    ")"
   ]
  },
  {
   "cell_type": "code",
   "execution_count": 5,
   "metadata": {},
   "outputs": [],
   "source": [
    "def split(df):\n",
    "    X, y = df.drop(columns=[\"stroke\"]), df[\"stroke\"]\n",
    "    train_X, test_X, train_y, test_y = \\\n",
    "        train_test_split(X, y, test_size=0.2, random_state=42, stratify=y)\n",
    "    return train_X, test_X, train_y, test_y\n",
    "\n",
    "train_X, test_X, train_y, test_y = split(df)\n",
    "X_tf = X_tf.fit(train_X)\n",
    "train_X_one, test_X_one, train_y_one, test_y_one = split(one_df)\n",
    "train_X_ord, test_X_ord, train_y_ord, test_y_ord = split(ord_df)"
   ]
  },
  {
   "cell_type": "code",
   "execution_count": 6,
   "metadata": {},
   "outputs": [],
   "source": [
    "conv_tf = ColumnTransformer(\n",
    "    transformers=[\n",
    "        (col, OneHotEncoder(drop=\"if_binary\"), [idx])\n",
    "        for col, idx in zip(cat_features, cat_idxes)],\n",
    "    remainder=\"passthrough\",\n",
    "    verbose_feature_names_out=False,\n",
    ")\n",
    "\n",
    "conv_tf = conv_tf.fit(ord_df.drop(columns=[\"stroke\"]).to_numpy())"
   ]
  },
  {
   "cell_type": "code",
   "execution_count": 7,
   "metadata": {},
   "outputs": [],
   "source": [
    "class XGBClassifier_Optuna:\n",
    "    def fit(self, X, y):\n",
    "        def model_fn(trial: Union[Trial, FrozenTrial]):\n",
    "            return XGBClassifier(\n",
    "                max_depth=int(trial.suggest_float(\"max_depth\", 3, 18, step=1)),\n",
    "                gamma=trial.suggest_float(\"gamma\", 1, 9),\n",
    "                reg_alpha=int(trial.suggest_float(\"reg_alpha\", 40, 180, step=1)),\n",
    "                reg_lambda=trial.suggest_float(\"reg_lambda\", 0, 1),\n",
    "                colsample_bytree=trial.suggest_float(\"colsample_bytree\", 0.5, 1),\n",
    "                min_child_weight=int(trial.suggest_float(\"min_child_weight\", 0, 10, step=1)),\n",
    "                n_estimators=180,\n",
    "                seed=42,\n",
    "            )\n",
    "\n",
    "        sample_wt = compute_sample_weight(\n",
    "            class_weight=\"balanced\",\n",
    "            y=y,\n",
    "        )\n",
    "        \n",
    "        fit_params = dict(\n",
    "            sample_weight=sample_wt,\n",
    "        )\n",
    "\n",
    "        def objective(trial: optuna.Trial):\n",
    "            model = model_fn(trial)\n",
    "            return np.min(cross_val_score(model, X, y, scoring=\"roc_auc\", fit_params=fit_params))\n",
    "        \n",
    "        optuna.logging.set_verbosity(optuna.logging.WARN)\n",
    "        sampler = optuna.samplers.TPESampler(seed=99)\n",
    "        study = optuna.create_study(direction=\"maximize\", sampler=sampler)\n",
    "        study.optimize(objective, n_trials=16)\n",
    "\n",
    "        model = model_fn(study.best_trial)\n",
    "        model.fit(X, y, **fit_params)\n",
    "        return model\n",
    "\n",
    "xgb_model = XGBClassifier_Optuna().fit(train_X_one, train_y_one)"
   ]
  },
  {
   "cell_type": "code",
   "execution_count": 11,
   "metadata": {},
   "outputs": [
    {
     "data": {
      "text/plain": [
       "0.7905807814149947"
      ]
     },
     "execution_count": 11,
     "metadata": {},
     "output_type": "execute_result"
    }
   ],
   "source": [
    "roc_auc_score(test_y_one, xgb_model.predict(test_X_one))"
   ]
  },
  {
   "cell_type": "code",
   "execution_count": 9,
   "metadata": {},
   "outputs": [],
   "source": [
    "lr_model_cv = LogisticRegressionCV(\n",
    "    solver=\"liblinear\",\n",
    "    scoring=\"roc_auc\",\n",
    "    class_weight=\"balanced\",\n",
    ")\n",
    "\n",
    "lr_model_cv = lr_model_cv.fit(train_X_one, train_y_one)\n",
    "\n",
    "lr_model = LogisticRegression(\n",
    "    solver=\"liblinear\",\n",
    "    class_weight=\"balanced\",\n",
    "    C=lr_model_cv.C_[0],\n",
    ")\n",
    "\n",
    "lr_model = lr_model.fit(train_X_one, train_y_one)"
   ]
  },
  {
   "cell_type": "code",
   "execution_count": 12,
   "metadata": {},
   "outputs": [
    {
     "data": {
      "text/plain": [
       "0.7943400211193241"
      ]
     },
     "execution_count": 12,
     "metadata": {},
     "output_type": "execute_result"
    }
   ],
   "source": [
    "roc_auc_score(test_y_one, lr_model.predict(test_X_one))"
   ]
  },
  {
   "cell_type": "code",
   "execution_count": 17,
   "metadata": {},
   "outputs": [],
   "source": [
    "class SVC_Optuna:\n",
    "    def fit(self, X, y):\n",
    "        def model_fn(trial: Union[Trial, FrozenTrial]):\n",
    "            return LinearSVC(\n",
    "                penalty=trial.suggest_categorical(\"penalty\", [\"l1\", \"l2\"]),\n",
    "                dual=False,\n",
    "                C=trial.suggest_loguniform(\"C\", 1e-4, 1e4),\n",
    "                random_state=42,\n",
    "            )\n",
    "\n",
    "        sample_wt = compute_sample_weight(\n",
    "            class_weight=\"balanced\",\n",
    "            y=y,\n",
    "        )\n",
    "        \n",
    "        fit_params = dict(\n",
    "            sample_weight=sample_wt,\n",
    "        )\n",
    "\n",
    "        def objective(trial: optuna.Trial):\n",
    "            model = model_fn(trial)\n",
    "            return np.min(cross_val_score(model, X, y, scoring=\"roc_auc\", fit_params=fit_params))\n",
    "        \n",
    "        optuna.logging.set_verbosity(optuna.logging.WARN)\n",
    "        sampler = optuna.samplers.TPESampler(seed=99)\n",
    "        study = optuna.create_study(direction=\"maximize\", sampler=sampler)\n",
    "        study.optimize(objective, n_trials=16)\n",
    "\n",
    "        model = model_fn(study.best_trial)\n",
    "        model.fit(X, y, **fit_params)\n",
    "        return model\n",
    "\n",
    "svc_model = SVC_Optuna().fit(train_X_one, train_y_one)"
   ]
  },
  {
   "cell_type": "code",
   "execution_count": 18,
   "metadata": {},
   "outputs": [
    {
     "data": {
      "text/plain": [
       "0.7922280887011615"
      ]
     },
     "execution_count": 18,
     "metadata": {},
     "output_type": "execute_result"
    }
   ],
   "source": [
    "roc_auc_score(test_y_one, svc_model.predict(test_X_one))"
   ]
  },
  {
   "cell_type": "markdown",
   "metadata": {},
   "source": [
    "## Introduction\n",
    "\n",
    "The goal for today is to become familiar with *Permutation-based Variable Importance* (PVI)."
   ]
  },
  {
   "cell_type": "markdown",
   "metadata": {},
   "source": [
    "### Calculate PVI for the selected model"
   ]
  },
  {
   "cell_type": "code",
   "execution_count": 19,
   "metadata": {},
   "outputs": [],
   "source": [
    "from sklearn.inspection import permutation_importance\n",
    "\n",
    "res = permutation_importance(xgb_model, test_X_one, test_y_one, n_repeats=10)\n",
    "\n",
    "imp_df = pd.DataFrame(\n",
    "    data=res[\"importances\"].T,\n",
    "    columns=test_X_one.columns,\n",
    ")"
   ]
  },
  {
   "cell_type": "code",
   "execution_count": 20,
   "metadata": {},
   "outputs": [
    {
     "data": {
      "application/vnd.plotly.v1+json": {
       "config": {
        "plotlyServerURL": "https://plot.ly"
       },
       "data": [
        {
         "alignmentgroup": "True",
         "hovertemplate": "value=%{x}<br>variable=%{y}<extra></extra>",
         "legendgroup": "",
         "marker": {
          "color": "#636efa"
         },
         "name": "",
         "notched": false,
         "offsetgroup": "",
         "orientation": "h",
         "showlegend": false,
         "type": "box",
         "x": [
          0,
          0,
          0,
          0,
          0,
          0,
          0,
          0,
          0,
          0,
          -0.02006018054162484,
          -0.01905717151454356,
          -0.01905717151454356,
          -0.032096288866599765,
          -0.02206619859578729,
          -0.030090270812437314,
          -0.02407221664994985,
          -0.031093279839518484,
          -0.013039117352056095,
          -0.017051153460381108,
          0,
          0,
          0,
          0,
          0,
          0,
          0,
          0,
          0,
          0,
          0,
          0,
          0,
          0,
          0,
          0,
          0,
          0,
          0,
          0,
          0.0030090270812437314,
          0.0010030090270812808,
          0.0020060180541625616,
          0.0030090270812437314,
          0.0030090270812437314,
          0.0020060180541625616,
          0.005015045135406293,
          0.0020060180541625616,
          0.0020060180541625616,
          0.0030090270812437314,
          0,
          0,
          0,
          0,
          0,
          0,
          0,
          0,
          0,
          0,
          0,
          0,
          0,
          0,
          0,
          0,
          0,
          0,
          0,
          0,
          0,
          0,
          0,
          0,
          0,
          0,
          0,
          0,
          0,
          0,
          -0.0010030090270811698,
          -0.0010030090270811698,
          -0.0010030090270811698,
          -0.0010030090270811698,
          0,
          -0.0010030090270811698,
          -0.0010030090270811698,
          -0.0010030090270811698,
          -0.0010030090270811698,
          -0.0010030090270811698,
          0,
          0,
          0,
          0,
          0,
          0,
          0,
          0,
          0,
          0,
          0,
          0,
          0,
          0,
          0,
          0,
          0,
          0,
          0,
          0,
          -0.006018054162487463,
          -0.007021063189568633,
          -0.0030090270812437314,
          -0.006018054162487463,
          -0.008024072216649913,
          -0.005015045135406182,
          -0.005015045135406182,
          -0.006018054162487463,
          -0.006018054162487463,
          -0.008024072216649913,
          0,
          0.0010030090270812808,
          0.0010030090270812808,
          0.0010030090270812808,
          0,
          0,
          -0.0010030090270811698,
          0,
          0.0010030090270812808,
          0,
          0.006018054162487463,
          0.012036108324974926,
          -0.005015045135406182,
          0.016048144433299938,
          0.0220661985957874,
          0.014042126379137487,
          0.0020060180541625616,
          0.0010030090270812808,
          0.008024072216650024,
          0.032096288866599876,
          0.0030090270812437314,
          0,
          0.0020060180541625616,
          0.0020060180541625616,
          -0.0020060180541624506,
          -0.0020060180541624506,
          0.0030090270812437314,
          0.004012036108325012,
          0.0010030090270812808,
          -0.0030090270812437314,
          0.0010030090270812808,
          -0.008024072216649913,
          -0.0030090270812437314,
          -0.004012036108324901,
          -0.0030090270812437314,
          0.0020060180541625616,
          -0.004012036108324901,
          0.0030090270812437314,
          -0.006018054162487463,
          -0.005015045135406182
         ],
         "x0": " ",
         "xaxis": "x",
         "y": [
          "gender_Male",
          "gender_Male",
          "gender_Male",
          "gender_Male",
          "gender_Male",
          "gender_Male",
          "gender_Male",
          "gender_Male",
          "gender_Male",
          "gender_Male",
          "ever_married_Yes",
          "ever_married_Yes",
          "ever_married_Yes",
          "ever_married_Yes",
          "ever_married_Yes",
          "ever_married_Yes",
          "ever_married_Yes",
          "ever_married_Yes",
          "ever_married_Yes",
          "ever_married_Yes",
          "work_type_Govt_job",
          "work_type_Govt_job",
          "work_type_Govt_job",
          "work_type_Govt_job",
          "work_type_Govt_job",
          "work_type_Govt_job",
          "work_type_Govt_job",
          "work_type_Govt_job",
          "work_type_Govt_job",
          "work_type_Govt_job",
          "work_type_Private",
          "work_type_Private",
          "work_type_Private",
          "work_type_Private",
          "work_type_Private",
          "work_type_Private",
          "work_type_Private",
          "work_type_Private",
          "work_type_Private",
          "work_type_Private",
          "work_type_Self-employed",
          "work_type_Self-employed",
          "work_type_Self-employed",
          "work_type_Self-employed",
          "work_type_Self-employed",
          "work_type_Self-employed",
          "work_type_Self-employed",
          "work_type_Self-employed",
          "work_type_Self-employed",
          "work_type_Self-employed",
          "work_type_children",
          "work_type_children",
          "work_type_children",
          "work_type_children",
          "work_type_children",
          "work_type_children",
          "work_type_children",
          "work_type_children",
          "work_type_children",
          "work_type_children",
          "Residence_type_Urban",
          "Residence_type_Urban",
          "Residence_type_Urban",
          "Residence_type_Urban",
          "Residence_type_Urban",
          "Residence_type_Urban",
          "Residence_type_Urban",
          "Residence_type_Urban",
          "Residence_type_Urban",
          "Residence_type_Urban",
          "smoking_status_Unknown",
          "smoking_status_Unknown",
          "smoking_status_Unknown",
          "smoking_status_Unknown",
          "smoking_status_Unknown",
          "smoking_status_Unknown",
          "smoking_status_Unknown",
          "smoking_status_Unknown",
          "smoking_status_Unknown",
          "smoking_status_Unknown",
          "smoking_status_formerly smoked",
          "smoking_status_formerly smoked",
          "smoking_status_formerly smoked",
          "smoking_status_formerly smoked",
          "smoking_status_formerly smoked",
          "smoking_status_formerly smoked",
          "smoking_status_formerly smoked",
          "smoking_status_formerly smoked",
          "smoking_status_formerly smoked",
          "smoking_status_formerly smoked",
          "smoking_status_never smoked",
          "smoking_status_never smoked",
          "smoking_status_never smoked",
          "smoking_status_never smoked",
          "smoking_status_never smoked",
          "smoking_status_never smoked",
          "smoking_status_never smoked",
          "smoking_status_never smoked",
          "smoking_status_never smoked",
          "smoking_status_never smoked",
          "smoking_status_smokes",
          "smoking_status_smokes",
          "smoking_status_smokes",
          "smoking_status_smokes",
          "smoking_status_smokes",
          "smoking_status_smokes",
          "smoking_status_smokes",
          "smoking_status_smokes",
          "smoking_status_smokes",
          "smoking_status_smokes",
          "hypertension_Yes",
          "hypertension_Yes",
          "hypertension_Yes",
          "hypertension_Yes",
          "hypertension_Yes",
          "hypertension_Yes",
          "hypertension_Yes",
          "hypertension_Yes",
          "hypertension_Yes",
          "hypertension_Yes",
          "heart_disease_Yes",
          "heart_disease_Yes",
          "heart_disease_Yes",
          "heart_disease_Yes",
          "heart_disease_Yes",
          "heart_disease_Yes",
          "heart_disease_Yes",
          "heart_disease_Yes",
          "heart_disease_Yes",
          "heart_disease_Yes",
          "age",
          "age",
          "age",
          "age",
          "age",
          "age",
          "age",
          "age",
          "age",
          "age",
          "avg_glucose_level",
          "avg_glucose_level",
          "avg_glucose_level",
          "avg_glucose_level",
          "avg_glucose_level",
          "avg_glucose_level",
          "avg_glucose_level",
          "avg_glucose_level",
          "avg_glucose_level",
          "avg_glucose_level",
          "bmi",
          "bmi",
          "bmi",
          "bmi",
          "bmi",
          "bmi",
          "bmi",
          "bmi",
          "bmi",
          "bmi"
         ],
         "y0": " ",
         "yaxis": "y"
        }
       ],
       "layout": {
        "boxmode": "group",
        "legend": {
         "tracegroupgap": 0
        },
        "margin": {
         "t": 60
        },
        "template": {
         "data": {
          "bar": [
           {
            "error_x": {
             "color": "#2a3f5f"
            },
            "error_y": {
             "color": "#2a3f5f"
            },
            "marker": {
             "line": {
              "color": "#E5ECF6",
              "width": 0.5
             },
             "pattern": {
              "fillmode": "overlay",
              "size": 10,
              "solidity": 0.2
             }
            },
            "type": "bar"
           }
          ],
          "barpolar": [
           {
            "marker": {
             "line": {
              "color": "#E5ECF6",
              "width": 0.5
             },
             "pattern": {
              "fillmode": "overlay",
              "size": 10,
              "solidity": 0.2
             }
            },
            "type": "barpolar"
           }
          ],
          "carpet": [
           {
            "aaxis": {
             "endlinecolor": "#2a3f5f",
             "gridcolor": "white",
             "linecolor": "white",
             "minorgridcolor": "white",
             "startlinecolor": "#2a3f5f"
            },
            "baxis": {
             "endlinecolor": "#2a3f5f",
             "gridcolor": "white",
             "linecolor": "white",
             "minorgridcolor": "white",
             "startlinecolor": "#2a3f5f"
            },
            "type": "carpet"
           }
          ],
          "choropleth": [
           {
            "colorbar": {
             "outlinewidth": 0,
             "ticks": ""
            },
            "type": "choropleth"
           }
          ],
          "contour": [
           {
            "colorbar": {
             "outlinewidth": 0,
             "ticks": ""
            },
            "colorscale": [
             [
              0,
              "#0d0887"
             ],
             [
              0.1111111111111111,
              "#46039f"
             ],
             [
              0.2222222222222222,
              "#7201a8"
             ],
             [
              0.3333333333333333,
              "#9c179e"
             ],
             [
              0.4444444444444444,
              "#bd3786"
             ],
             [
              0.5555555555555556,
              "#d8576b"
             ],
             [
              0.6666666666666666,
              "#ed7953"
             ],
             [
              0.7777777777777778,
              "#fb9f3a"
             ],
             [
              0.8888888888888888,
              "#fdca26"
             ],
             [
              1,
              "#f0f921"
             ]
            ],
            "type": "contour"
           }
          ],
          "contourcarpet": [
           {
            "colorbar": {
             "outlinewidth": 0,
             "ticks": ""
            },
            "type": "contourcarpet"
           }
          ],
          "heatmap": [
           {
            "colorbar": {
             "outlinewidth": 0,
             "ticks": ""
            },
            "colorscale": [
             [
              0,
              "#0d0887"
             ],
             [
              0.1111111111111111,
              "#46039f"
             ],
             [
              0.2222222222222222,
              "#7201a8"
             ],
             [
              0.3333333333333333,
              "#9c179e"
             ],
             [
              0.4444444444444444,
              "#bd3786"
             ],
             [
              0.5555555555555556,
              "#d8576b"
             ],
             [
              0.6666666666666666,
              "#ed7953"
             ],
             [
              0.7777777777777778,
              "#fb9f3a"
             ],
             [
              0.8888888888888888,
              "#fdca26"
             ],
             [
              1,
              "#f0f921"
             ]
            ],
            "type": "heatmap"
           }
          ],
          "heatmapgl": [
           {
            "colorbar": {
             "outlinewidth": 0,
             "ticks": ""
            },
            "colorscale": [
             [
              0,
              "#0d0887"
             ],
             [
              0.1111111111111111,
              "#46039f"
             ],
             [
              0.2222222222222222,
              "#7201a8"
             ],
             [
              0.3333333333333333,
              "#9c179e"
             ],
             [
              0.4444444444444444,
              "#bd3786"
             ],
             [
              0.5555555555555556,
              "#d8576b"
             ],
             [
              0.6666666666666666,
              "#ed7953"
             ],
             [
              0.7777777777777778,
              "#fb9f3a"
             ],
             [
              0.8888888888888888,
              "#fdca26"
             ],
             [
              1,
              "#f0f921"
             ]
            ],
            "type": "heatmapgl"
           }
          ],
          "histogram": [
           {
            "marker": {
             "pattern": {
              "fillmode": "overlay",
              "size": 10,
              "solidity": 0.2
             }
            },
            "type": "histogram"
           }
          ],
          "histogram2d": [
           {
            "colorbar": {
             "outlinewidth": 0,
             "ticks": ""
            },
            "colorscale": [
             [
              0,
              "#0d0887"
             ],
             [
              0.1111111111111111,
              "#46039f"
             ],
             [
              0.2222222222222222,
              "#7201a8"
             ],
             [
              0.3333333333333333,
              "#9c179e"
             ],
             [
              0.4444444444444444,
              "#bd3786"
             ],
             [
              0.5555555555555556,
              "#d8576b"
             ],
             [
              0.6666666666666666,
              "#ed7953"
             ],
             [
              0.7777777777777778,
              "#fb9f3a"
             ],
             [
              0.8888888888888888,
              "#fdca26"
             ],
             [
              1,
              "#f0f921"
             ]
            ],
            "type": "histogram2d"
           }
          ],
          "histogram2dcontour": [
           {
            "colorbar": {
             "outlinewidth": 0,
             "ticks": ""
            },
            "colorscale": [
             [
              0,
              "#0d0887"
             ],
             [
              0.1111111111111111,
              "#46039f"
             ],
             [
              0.2222222222222222,
              "#7201a8"
             ],
             [
              0.3333333333333333,
              "#9c179e"
             ],
             [
              0.4444444444444444,
              "#bd3786"
             ],
             [
              0.5555555555555556,
              "#d8576b"
             ],
             [
              0.6666666666666666,
              "#ed7953"
             ],
             [
              0.7777777777777778,
              "#fb9f3a"
             ],
             [
              0.8888888888888888,
              "#fdca26"
             ],
             [
              1,
              "#f0f921"
             ]
            ],
            "type": "histogram2dcontour"
           }
          ],
          "mesh3d": [
           {
            "colorbar": {
             "outlinewidth": 0,
             "ticks": ""
            },
            "type": "mesh3d"
           }
          ],
          "parcoords": [
           {
            "line": {
             "colorbar": {
              "outlinewidth": 0,
              "ticks": ""
             }
            },
            "type": "parcoords"
           }
          ],
          "pie": [
           {
            "automargin": true,
            "type": "pie"
           }
          ],
          "scatter": [
           {
            "fillpattern": {
             "fillmode": "overlay",
             "size": 10,
             "solidity": 0.2
            },
            "type": "scatter"
           }
          ],
          "scatter3d": [
           {
            "line": {
             "colorbar": {
              "outlinewidth": 0,
              "ticks": ""
             }
            },
            "marker": {
             "colorbar": {
              "outlinewidth": 0,
              "ticks": ""
             }
            },
            "type": "scatter3d"
           }
          ],
          "scattercarpet": [
           {
            "marker": {
             "colorbar": {
              "outlinewidth": 0,
              "ticks": ""
             }
            },
            "type": "scattercarpet"
           }
          ],
          "scattergeo": [
           {
            "marker": {
             "colorbar": {
              "outlinewidth": 0,
              "ticks": ""
             }
            },
            "type": "scattergeo"
           }
          ],
          "scattergl": [
           {
            "marker": {
             "colorbar": {
              "outlinewidth": 0,
              "ticks": ""
             }
            },
            "type": "scattergl"
           }
          ],
          "scattermapbox": [
           {
            "marker": {
             "colorbar": {
              "outlinewidth": 0,
              "ticks": ""
             }
            },
            "type": "scattermapbox"
           }
          ],
          "scatterpolar": [
           {
            "marker": {
             "colorbar": {
              "outlinewidth": 0,
              "ticks": ""
             }
            },
            "type": "scatterpolar"
           }
          ],
          "scatterpolargl": [
           {
            "marker": {
             "colorbar": {
              "outlinewidth": 0,
              "ticks": ""
             }
            },
            "type": "scatterpolargl"
           }
          ],
          "scatterternary": [
           {
            "marker": {
             "colorbar": {
              "outlinewidth": 0,
              "ticks": ""
             }
            },
            "type": "scatterternary"
           }
          ],
          "surface": [
           {
            "colorbar": {
             "outlinewidth": 0,
             "ticks": ""
            },
            "colorscale": [
             [
              0,
              "#0d0887"
             ],
             [
              0.1111111111111111,
              "#46039f"
             ],
             [
              0.2222222222222222,
              "#7201a8"
             ],
             [
              0.3333333333333333,
              "#9c179e"
             ],
             [
              0.4444444444444444,
              "#bd3786"
             ],
             [
              0.5555555555555556,
              "#d8576b"
             ],
             [
              0.6666666666666666,
              "#ed7953"
             ],
             [
              0.7777777777777778,
              "#fb9f3a"
             ],
             [
              0.8888888888888888,
              "#fdca26"
             ],
             [
              1,
              "#f0f921"
             ]
            ],
            "type": "surface"
           }
          ],
          "table": [
           {
            "cells": {
             "fill": {
              "color": "#EBF0F8"
             },
             "line": {
              "color": "white"
             }
            },
            "header": {
             "fill": {
              "color": "#C8D4E3"
             },
             "line": {
              "color": "white"
             }
            },
            "type": "table"
           }
          ]
         },
         "layout": {
          "annotationdefaults": {
           "arrowcolor": "#2a3f5f",
           "arrowhead": 0,
           "arrowwidth": 1
          },
          "autotypenumbers": "strict",
          "coloraxis": {
           "colorbar": {
            "outlinewidth": 0,
            "ticks": ""
           }
          },
          "colorscale": {
           "diverging": [
            [
             0,
             "#8e0152"
            ],
            [
             0.1,
             "#c51b7d"
            ],
            [
             0.2,
             "#de77ae"
            ],
            [
             0.3,
             "#f1b6da"
            ],
            [
             0.4,
             "#fde0ef"
            ],
            [
             0.5,
             "#f7f7f7"
            ],
            [
             0.6,
             "#e6f5d0"
            ],
            [
             0.7,
             "#b8e186"
            ],
            [
             0.8,
             "#7fbc41"
            ],
            [
             0.9,
             "#4d9221"
            ],
            [
             1,
             "#276419"
            ]
           ],
           "sequential": [
            [
             0,
             "#0d0887"
            ],
            [
             0.1111111111111111,
             "#46039f"
            ],
            [
             0.2222222222222222,
             "#7201a8"
            ],
            [
             0.3333333333333333,
             "#9c179e"
            ],
            [
             0.4444444444444444,
             "#bd3786"
            ],
            [
             0.5555555555555556,
             "#d8576b"
            ],
            [
             0.6666666666666666,
             "#ed7953"
            ],
            [
             0.7777777777777778,
             "#fb9f3a"
            ],
            [
             0.8888888888888888,
             "#fdca26"
            ],
            [
             1,
             "#f0f921"
            ]
           ],
           "sequentialminus": [
            [
             0,
             "#0d0887"
            ],
            [
             0.1111111111111111,
             "#46039f"
            ],
            [
             0.2222222222222222,
             "#7201a8"
            ],
            [
             0.3333333333333333,
             "#9c179e"
            ],
            [
             0.4444444444444444,
             "#bd3786"
            ],
            [
             0.5555555555555556,
             "#d8576b"
            ],
            [
             0.6666666666666666,
             "#ed7953"
            ],
            [
             0.7777777777777778,
             "#fb9f3a"
            ],
            [
             0.8888888888888888,
             "#fdca26"
            ],
            [
             1,
             "#f0f921"
            ]
           ]
          },
          "colorway": [
           "#636efa",
           "#EF553B",
           "#00cc96",
           "#ab63fa",
           "#FFA15A",
           "#19d3f3",
           "#FF6692",
           "#B6E880",
           "#FF97FF",
           "#FECB52"
          ],
          "font": {
           "color": "#2a3f5f"
          },
          "geo": {
           "bgcolor": "white",
           "lakecolor": "white",
           "landcolor": "#E5ECF6",
           "showlakes": true,
           "showland": true,
           "subunitcolor": "white"
          },
          "hoverlabel": {
           "align": "left"
          },
          "hovermode": "closest",
          "mapbox": {
           "style": "light"
          },
          "paper_bgcolor": "white",
          "plot_bgcolor": "#E5ECF6",
          "polar": {
           "angularaxis": {
            "gridcolor": "white",
            "linecolor": "white",
            "ticks": ""
           },
           "bgcolor": "#E5ECF6",
           "radialaxis": {
            "gridcolor": "white",
            "linecolor": "white",
            "ticks": ""
           }
          },
          "scene": {
           "xaxis": {
            "backgroundcolor": "#E5ECF6",
            "gridcolor": "white",
            "gridwidth": 2,
            "linecolor": "white",
            "showbackground": true,
            "ticks": "",
            "zerolinecolor": "white"
           },
           "yaxis": {
            "backgroundcolor": "#E5ECF6",
            "gridcolor": "white",
            "gridwidth": 2,
            "linecolor": "white",
            "showbackground": true,
            "ticks": "",
            "zerolinecolor": "white"
           },
           "zaxis": {
            "backgroundcolor": "#E5ECF6",
            "gridcolor": "white",
            "gridwidth": 2,
            "linecolor": "white",
            "showbackground": true,
            "ticks": "",
            "zerolinecolor": "white"
           }
          },
          "shapedefaults": {
           "line": {
            "color": "#2a3f5f"
           }
          },
          "ternary": {
           "aaxis": {
            "gridcolor": "white",
            "linecolor": "white",
            "ticks": ""
           },
           "baxis": {
            "gridcolor": "white",
            "linecolor": "white",
            "ticks": ""
           },
           "bgcolor": "#E5ECF6",
           "caxis": {
            "gridcolor": "white",
            "linecolor": "white",
            "ticks": ""
           }
          },
          "title": {
           "x": 0.05
          },
          "xaxis": {
           "automargin": true,
           "gridcolor": "white",
           "linecolor": "white",
           "ticks": "",
           "title": {
            "standoff": 15
           },
           "zerolinecolor": "white",
           "zerolinewidth": 2
          },
          "yaxis": {
           "automargin": true,
           "gridcolor": "white",
           "linecolor": "white",
           "ticks": "",
           "title": {
            "standoff": 15
           },
           "zerolinecolor": "white",
           "zerolinewidth": 2
          }
         }
        },
        "xaxis": {
         "anchor": "y",
         "domain": [
          0,
          1
         ],
         "title": {
          "text": "value"
         }
        },
        "yaxis": {
         "anchor": "x",
         "domain": [
          0,
          1
         ],
         "title": {
          "text": "variable"
         }
        }
       }
      },
      "text/html": [
       "<div>                            <div id=\"915217dd-d3bf-43b9-9265-65dd967f5fe7\" class=\"plotly-graph-div\" style=\"height:525px; width:100%;\"></div>            <script type=\"text/javascript\">                require([\"plotly\"], function(Plotly) {                    window.PLOTLYENV=window.PLOTLYENV || {};                                    if (document.getElementById(\"915217dd-d3bf-43b9-9265-65dd967f5fe7\")) {                    Plotly.newPlot(                        \"915217dd-d3bf-43b9-9265-65dd967f5fe7\",                        [{\"alignmentgroup\":\"True\",\"hovertemplate\":\"value=%{x}<br>variable=%{y}<extra></extra>\",\"legendgroup\":\"\",\"marker\":{\"color\":\"#636efa\"},\"name\":\"\",\"notched\":false,\"offsetgroup\":\"\",\"orientation\":\"h\",\"showlegend\":false,\"x\":[0.0,0.0,0.0,0.0,0.0,0.0,0.0,0.0,0.0,0.0,-0.02006018054162484,-0.01905717151454356,-0.01905717151454356,-0.032096288866599765,-0.02206619859578729,-0.030090270812437314,-0.02407221664994985,-0.031093279839518484,-0.013039117352056095,-0.017051153460381108,0.0,0.0,0.0,0.0,0.0,0.0,0.0,0.0,0.0,0.0,0.0,0.0,0.0,0.0,0.0,0.0,0.0,0.0,0.0,0.0,0.0030090270812437314,0.0010030090270812808,0.0020060180541625616,0.0030090270812437314,0.0030090270812437314,0.0020060180541625616,0.005015045135406293,0.0020060180541625616,0.0020060180541625616,0.0030090270812437314,0.0,0.0,0.0,0.0,0.0,0.0,0.0,0.0,0.0,0.0,0.0,0.0,0.0,0.0,0.0,0.0,0.0,0.0,0.0,0.0,0.0,0.0,0.0,0.0,0.0,0.0,0.0,0.0,0.0,0.0,-0.0010030090270811698,-0.0010030090270811698,-0.0010030090270811698,-0.0010030090270811698,0.0,-0.0010030090270811698,-0.0010030090270811698,-0.0010030090270811698,-0.0010030090270811698,-0.0010030090270811698,0.0,0.0,0.0,0.0,0.0,0.0,0.0,0.0,0.0,0.0,0.0,0.0,0.0,0.0,0.0,0.0,0.0,0.0,0.0,0.0,-0.006018054162487463,-0.007021063189568633,-0.0030090270812437314,-0.006018054162487463,-0.008024072216649913,-0.005015045135406182,-0.005015045135406182,-0.006018054162487463,-0.006018054162487463,-0.008024072216649913,0.0,0.0010030090270812808,0.0010030090270812808,0.0010030090270812808,0.0,0.0,-0.0010030090270811698,0.0,0.0010030090270812808,0.0,0.006018054162487463,0.012036108324974926,-0.005015045135406182,0.016048144433299938,0.0220661985957874,0.014042126379137487,0.0020060180541625616,0.0010030090270812808,0.008024072216650024,0.032096288866599876,0.0030090270812437314,0.0,0.0020060180541625616,0.0020060180541625616,-0.0020060180541624506,-0.0020060180541624506,0.0030090270812437314,0.004012036108325012,0.0010030090270812808,-0.0030090270812437314,0.0010030090270812808,-0.008024072216649913,-0.0030090270812437314,-0.004012036108324901,-0.0030090270812437314,0.0020060180541625616,-0.004012036108324901,0.0030090270812437314,-0.006018054162487463,-0.005015045135406182],\"x0\":\" \",\"xaxis\":\"x\",\"y\":[\"gender_Male\",\"gender_Male\",\"gender_Male\",\"gender_Male\",\"gender_Male\",\"gender_Male\",\"gender_Male\",\"gender_Male\",\"gender_Male\",\"gender_Male\",\"ever_married_Yes\",\"ever_married_Yes\",\"ever_married_Yes\",\"ever_married_Yes\",\"ever_married_Yes\",\"ever_married_Yes\",\"ever_married_Yes\",\"ever_married_Yes\",\"ever_married_Yes\",\"ever_married_Yes\",\"work_type_Govt_job\",\"work_type_Govt_job\",\"work_type_Govt_job\",\"work_type_Govt_job\",\"work_type_Govt_job\",\"work_type_Govt_job\",\"work_type_Govt_job\",\"work_type_Govt_job\",\"work_type_Govt_job\",\"work_type_Govt_job\",\"work_type_Private\",\"work_type_Private\",\"work_type_Private\",\"work_type_Private\",\"work_type_Private\",\"work_type_Private\",\"work_type_Private\",\"work_type_Private\",\"work_type_Private\",\"work_type_Private\",\"work_type_Self-employed\",\"work_type_Self-employed\",\"work_type_Self-employed\",\"work_type_Self-employed\",\"work_type_Self-employed\",\"work_type_Self-employed\",\"work_type_Self-employed\",\"work_type_Self-employed\",\"work_type_Self-employed\",\"work_type_Self-employed\",\"work_type_children\",\"work_type_children\",\"work_type_children\",\"work_type_children\",\"work_type_children\",\"work_type_children\",\"work_type_children\",\"work_type_children\",\"work_type_children\",\"work_type_children\",\"Residence_type_Urban\",\"Residence_type_Urban\",\"Residence_type_Urban\",\"Residence_type_Urban\",\"Residence_type_Urban\",\"Residence_type_Urban\",\"Residence_type_Urban\",\"Residence_type_Urban\",\"Residence_type_Urban\",\"Residence_type_Urban\",\"smoking_status_Unknown\",\"smoking_status_Unknown\",\"smoking_status_Unknown\",\"smoking_status_Unknown\",\"smoking_status_Unknown\",\"smoking_status_Unknown\",\"smoking_status_Unknown\",\"smoking_status_Unknown\",\"smoking_status_Unknown\",\"smoking_status_Unknown\",\"smoking_status_formerly smoked\",\"smoking_status_formerly smoked\",\"smoking_status_formerly smoked\",\"smoking_status_formerly smoked\",\"smoking_status_formerly smoked\",\"smoking_status_formerly smoked\",\"smoking_status_formerly smoked\",\"smoking_status_formerly smoked\",\"smoking_status_formerly smoked\",\"smoking_status_formerly smoked\",\"smoking_status_never smoked\",\"smoking_status_never smoked\",\"smoking_status_never smoked\",\"smoking_status_never smoked\",\"smoking_status_never smoked\",\"smoking_status_never smoked\",\"smoking_status_never smoked\",\"smoking_status_never smoked\",\"smoking_status_never smoked\",\"smoking_status_never smoked\",\"smoking_status_smokes\",\"smoking_status_smokes\",\"smoking_status_smokes\",\"smoking_status_smokes\",\"smoking_status_smokes\",\"smoking_status_smokes\",\"smoking_status_smokes\",\"smoking_status_smokes\",\"smoking_status_smokes\",\"smoking_status_smokes\",\"hypertension_Yes\",\"hypertension_Yes\",\"hypertension_Yes\",\"hypertension_Yes\",\"hypertension_Yes\",\"hypertension_Yes\",\"hypertension_Yes\",\"hypertension_Yes\",\"hypertension_Yes\",\"hypertension_Yes\",\"heart_disease_Yes\",\"heart_disease_Yes\",\"heart_disease_Yes\",\"heart_disease_Yes\",\"heart_disease_Yes\",\"heart_disease_Yes\",\"heart_disease_Yes\",\"heart_disease_Yes\",\"heart_disease_Yes\",\"heart_disease_Yes\",\"age\",\"age\",\"age\",\"age\",\"age\",\"age\",\"age\",\"age\",\"age\",\"age\",\"avg_glucose_level\",\"avg_glucose_level\",\"avg_glucose_level\",\"avg_glucose_level\",\"avg_glucose_level\",\"avg_glucose_level\",\"avg_glucose_level\",\"avg_glucose_level\",\"avg_glucose_level\",\"avg_glucose_level\",\"bmi\",\"bmi\",\"bmi\",\"bmi\",\"bmi\",\"bmi\",\"bmi\",\"bmi\",\"bmi\",\"bmi\"],\"y0\":\" \",\"yaxis\":\"y\",\"type\":\"box\"}],                        {\"template\":{\"data\":{\"histogram2dcontour\":[{\"type\":\"histogram2dcontour\",\"colorbar\":{\"outlinewidth\":0,\"ticks\":\"\"},\"colorscale\":[[0.0,\"#0d0887\"],[0.1111111111111111,\"#46039f\"],[0.2222222222222222,\"#7201a8\"],[0.3333333333333333,\"#9c179e\"],[0.4444444444444444,\"#bd3786\"],[0.5555555555555556,\"#d8576b\"],[0.6666666666666666,\"#ed7953\"],[0.7777777777777778,\"#fb9f3a\"],[0.8888888888888888,\"#fdca26\"],[1.0,\"#f0f921\"]]}],\"choropleth\":[{\"type\":\"choropleth\",\"colorbar\":{\"outlinewidth\":0,\"ticks\":\"\"}}],\"histogram2d\":[{\"type\":\"histogram2d\",\"colorbar\":{\"outlinewidth\":0,\"ticks\":\"\"},\"colorscale\":[[0.0,\"#0d0887\"],[0.1111111111111111,\"#46039f\"],[0.2222222222222222,\"#7201a8\"],[0.3333333333333333,\"#9c179e\"],[0.4444444444444444,\"#bd3786\"],[0.5555555555555556,\"#d8576b\"],[0.6666666666666666,\"#ed7953\"],[0.7777777777777778,\"#fb9f3a\"],[0.8888888888888888,\"#fdca26\"],[1.0,\"#f0f921\"]]}],\"heatmap\":[{\"type\":\"heatmap\",\"colorbar\":{\"outlinewidth\":0,\"ticks\":\"\"},\"colorscale\":[[0.0,\"#0d0887\"],[0.1111111111111111,\"#46039f\"],[0.2222222222222222,\"#7201a8\"],[0.3333333333333333,\"#9c179e\"],[0.4444444444444444,\"#bd3786\"],[0.5555555555555556,\"#d8576b\"],[0.6666666666666666,\"#ed7953\"],[0.7777777777777778,\"#fb9f3a\"],[0.8888888888888888,\"#fdca26\"],[1.0,\"#f0f921\"]]}],\"heatmapgl\":[{\"type\":\"heatmapgl\",\"colorbar\":{\"outlinewidth\":0,\"ticks\":\"\"},\"colorscale\":[[0.0,\"#0d0887\"],[0.1111111111111111,\"#46039f\"],[0.2222222222222222,\"#7201a8\"],[0.3333333333333333,\"#9c179e\"],[0.4444444444444444,\"#bd3786\"],[0.5555555555555556,\"#d8576b\"],[0.6666666666666666,\"#ed7953\"],[0.7777777777777778,\"#fb9f3a\"],[0.8888888888888888,\"#fdca26\"],[1.0,\"#f0f921\"]]}],\"contourcarpet\":[{\"type\":\"contourcarpet\",\"colorbar\":{\"outlinewidth\":0,\"ticks\":\"\"}}],\"contour\":[{\"type\":\"contour\",\"colorbar\":{\"outlinewidth\":0,\"ticks\":\"\"},\"colorscale\":[[0.0,\"#0d0887\"],[0.1111111111111111,\"#46039f\"],[0.2222222222222222,\"#7201a8\"],[0.3333333333333333,\"#9c179e\"],[0.4444444444444444,\"#bd3786\"],[0.5555555555555556,\"#d8576b\"],[0.6666666666666666,\"#ed7953\"],[0.7777777777777778,\"#fb9f3a\"],[0.8888888888888888,\"#fdca26\"],[1.0,\"#f0f921\"]]}],\"surface\":[{\"type\":\"surface\",\"colorbar\":{\"outlinewidth\":0,\"ticks\":\"\"},\"colorscale\":[[0.0,\"#0d0887\"],[0.1111111111111111,\"#46039f\"],[0.2222222222222222,\"#7201a8\"],[0.3333333333333333,\"#9c179e\"],[0.4444444444444444,\"#bd3786\"],[0.5555555555555556,\"#d8576b\"],[0.6666666666666666,\"#ed7953\"],[0.7777777777777778,\"#fb9f3a\"],[0.8888888888888888,\"#fdca26\"],[1.0,\"#f0f921\"]]}],\"mesh3d\":[{\"type\":\"mesh3d\",\"colorbar\":{\"outlinewidth\":0,\"ticks\":\"\"}}],\"scatter\":[{\"fillpattern\":{\"fillmode\":\"overlay\",\"size\":10,\"solidity\":0.2},\"type\":\"scatter\"}],\"parcoords\":[{\"type\":\"parcoords\",\"line\":{\"colorbar\":{\"outlinewidth\":0,\"ticks\":\"\"}}}],\"scatterpolargl\":[{\"type\":\"scatterpolargl\",\"marker\":{\"colorbar\":{\"outlinewidth\":0,\"ticks\":\"\"}}}],\"bar\":[{\"error_x\":{\"color\":\"#2a3f5f\"},\"error_y\":{\"color\":\"#2a3f5f\"},\"marker\":{\"line\":{\"color\":\"#E5ECF6\",\"width\":0.5},\"pattern\":{\"fillmode\":\"overlay\",\"size\":10,\"solidity\":0.2}},\"type\":\"bar\"}],\"scattergeo\":[{\"type\":\"scattergeo\",\"marker\":{\"colorbar\":{\"outlinewidth\":0,\"ticks\":\"\"}}}],\"scatterpolar\":[{\"type\":\"scatterpolar\",\"marker\":{\"colorbar\":{\"outlinewidth\":0,\"ticks\":\"\"}}}],\"histogram\":[{\"marker\":{\"pattern\":{\"fillmode\":\"overlay\",\"size\":10,\"solidity\":0.2}},\"type\":\"histogram\"}],\"scattergl\":[{\"type\":\"scattergl\",\"marker\":{\"colorbar\":{\"outlinewidth\":0,\"ticks\":\"\"}}}],\"scatter3d\":[{\"type\":\"scatter3d\",\"line\":{\"colorbar\":{\"outlinewidth\":0,\"ticks\":\"\"}},\"marker\":{\"colorbar\":{\"outlinewidth\":0,\"ticks\":\"\"}}}],\"scattermapbox\":[{\"type\":\"scattermapbox\",\"marker\":{\"colorbar\":{\"outlinewidth\":0,\"ticks\":\"\"}}}],\"scatterternary\":[{\"type\":\"scatterternary\",\"marker\":{\"colorbar\":{\"outlinewidth\":0,\"ticks\":\"\"}}}],\"scattercarpet\":[{\"type\":\"scattercarpet\",\"marker\":{\"colorbar\":{\"outlinewidth\":0,\"ticks\":\"\"}}}],\"carpet\":[{\"aaxis\":{\"endlinecolor\":\"#2a3f5f\",\"gridcolor\":\"white\",\"linecolor\":\"white\",\"minorgridcolor\":\"white\",\"startlinecolor\":\"#2a3f5f\"},\"baxis\":{\"endlinecolor\":\"#2a3f5f\",\"gridcolor\":\"white\",\"linecolor\":\"white\",\"minorgridcolor\":\"white\",\"startlinecolor\":\"#2a3f5f\"},\"type\":\"carpet\"}],\"table\":[{\"cells\":{\"fill\":{\"color\":\"#EBF0F8\"},\"line\":{\"color\":\"white\"}},\"header\":{\"fill\":{\"color\":\"#C8D4E3\"},\"line\":{\"color\":\"white\"}},\"type\":\"table\"}],\"barpolar\":[{\"marker\":{\"line\":{\"color\":\"#E5ECF6\",\"width\":0.5},\"pattern\":{\"fillmode\":\"overlay\",\"size\":10,\"solidity\":0.2}},\"type\":\"barpolar\"}],\"pie\":[{\"automargin\":true,\"type\":\"pie\"}]},\"layout\":{\"autotypenumbers\":\"strict\",\"colorway\":[\"#636efa\",\"#EF553B\",\"#00cc96\",\"#ab63fa\",\"#FFA15A\",\"#19d3f3\",\"#FF6692\",\"#B6E880\",\"#FF97FF\",\"#FECB52\"],\"font\":{\"color\":\"#2a3f5f\"},\"hovermode\":\"closest\",\"hoverlabel\":{\"align\":\"left\"},\"paper_bgcolor\":\"white\",\"plot_bgcolor\":\"#E5ECF6\",\"polar\":{\"bgcolor\":\"#E5ECF6\",\"angularaxis\":{\"gridcolor\":\"white\",\"linecolor\":\"white\",\"ticks\":\"\"},\"radialaxis\":{\"gridcolor\":\"white\",\"linecolor\":\"white\",\"ticks\":\"\"}},\"ternary\":{\"bgcolor\":\"#E5ECF6\",\"aaxis\":{\"gridcolor\":\"white\",\"linecolor\":\"white\",\"ticks\":\"\"},\"baxis\":{\"gridcolor\":\"white\",\"linecolor\":\"white\",\"ticks\":\"\"},\"caxis\":{\"gridcolor\":\"white\",\"linecolor\":\"white\",\"ticks\":\"\"}},\"coloraxis\":{\"colorbar\":{\"outlinewidth\":0,\"ticks\":\"\"}},\"colorscale\":{\"sequential\":[[0.0,\"#0d0887\"],[0.1111111111111111,\"#46039f\"],[0.2222222222222222,\"#7201a8\"],[0.3333333333333333,\"#9c179e\"],[0.4444444444444444,\"#bd3786\"],[0.5555555555555556,\"#d8576b\"],[0.6666666666666666,\"#ed7953\"],[0.7777777777777778,\"#fb9f3a\"],[0.8888888888888888,\"#fdca26\"],[1.0,\"#f0f921\"]],\"sequentialminus\":[[0.0,\"#0d0887\"],[0.1111111111111111,\"#46039f\"],[0.2222222222222222,\"#7201a8\"],[0.3333333333333333,\"#9c179e\"],[0.4444444444444444,\"#bd3786\"],[0.5555555555555556,\"#d8576b\"],[0.6666666666666666,\"#ed7953\"],[0.7777777777777778,\"#fb9f3a\"],[0.8888888888888888,\"#fdca26\"],[1.0,\"#f0f921\"]],\"diverging\":[[0,\"#8e0152\"],[0.1,\"#c51b7d\"],[0.2,\"#de77ae\"],[0.3,\"#f1b6da\"],[0.4,\"#fde0ef\"],[0.5,\"#f7f7f7\"],[0.6,\"#e6f5d0\"],[0.7,\"#b8e186\"],[0.8,\"#7fbc41\"],[0.9,\"#4d9221\"],[1,\"#276419\"]]},\"xaxis\":{\"gridcolor\":\"white\",\"linecolor\":\"white\",\"ticks\":\"\",\"title\":{\"standoff\":15},\"zerolinecolor\":\"white\",\"automargin\":true,\"zerolinewidth\":2},\"yaxis\":{\"gridcolor\":\"white\",\"linecolor\":\"white\",\"ticks\":\"\",\"title\":{\"standoff\":15},\"zerolinecolor\":\"white\",\"automargin\":true,\"zerolinewidth\":2},\"scene\":{\"xaxis\":{\"backgroundcolor\":\"#E5ECF6\",\"gridcolor\":\"white\",\"linecolor\":\"white\",\"showbackground\":true,\"ticks\":\"\",\"zerolinecolor\":\"white\",\"gridwidth\":2},\"yaxis\":{\"backgroundcolor\":\"#E5ECF6\",\"gridcolor\":\"white\",\"linecolor\":\"white\",\"showbackground\":true,\"ticks\":\"\",\"zerolinecolor\":\"white\",\"gridwidth\":2},\"zaxis\":{\"backgroundcolor\":\"#E5ECF6\",\"gridcolor\":\"white\",\"linecolor\":\"white\",\"showbackground\":true,\"ticks\":\"\",\"zerolinecolor\":\"white\",\"gridwidth\":2}},\"shapedefaults\":{\"line\":{\"color\":\"#2a3f5f\"}},\"annotationdefaults\":{\"arrowcolor\":\"#2a3f5f\",\"arrowhead\":0,\"arrowwidth\":1},\"geo\":{\"bgcolor\":\"white\",\"landcolor\":\"#E5ECF6\",\"subunitcolor\":\"white\",\"showland\":true,\"showlakes\":true,\"lakecolor\":\"white\"},\"title\":{\"x\":0.05},\"mapbox\":{\"style\":\"light\"}}},\"xaxis\":{\"anchor\":\"y\",\"domain\":[0.0,1.0],\"title\":{\"text\":\"value\"}},\"yaxis\":{\"anchor\":\"x\",\"domain\":[0.0,1.0],\"title\":{\"text\":\"variable\"}},\"legend\":{\"tracegroupgap\":0},\"margin\":{\"t\":60},\"boxmode\":\"group\"},                        {\"responsive\": true}                    ).then(function(){\n",
       "                            \n",
       "var gd = document.getElementById('915217dd-d3bf-43b9-9265-65dd967f5fe7');\n",
       "var x = new MutationObserver(function (mutations, observer) {{\n",
       "        var display = window.getComputedStyle(gd).display;\n",
       "        if (!display || display === 'none') {{\n",
       "            console.log([gd, 'removed!']);\n",
       "            Plotly.purge(gd);\n",
       "            observer.disconnect();\n",
       "        }}\n",
       "}});\n",
       "\n",
       "// Listen for the removal of the full notebook cells\n",
       "var notebookContainer = gd.closest('#notebook-container');\n",
       "if (notebookContainer) {{\n",
       "    x.observe(notebookContainer, {childList: true});\n",
       "}}\n",
       "\n",
       "// Listen for the clearing of the current output cell\n",
       "var outputEl = gd.closest('.output');\n",
       "if (outputEl) {{\n",
       "    x.observe(outputEl, {childList: true});\n",
       "}}\n",
       "\n",
       "                        })                };                });            </script>        </div>"
      ]
     },
     "metadata": {},
     "output_type": "display_data"
    }
   ],
   "source": [
    "fig = px.box(pd.melt(imp_df),\n",
    "    y=\"variable\",\n",
    "    x=\"value\",\n",
    ")\n",
    "fig"
   ]
  },
  {
   "cell_type": "code",
   "execution_count": 21,
   "metadata": {},
   "outputs": [
    {
     "data": {
      "application/vnd.plotly.v1+json": {
       "config": {
        "plotlyServerURL": "https://plot.ly"
       },
       "data": [
        {
         "alignmentgroup": "True",
         "hovertemplate": "value=%{x}<br>variable=%{y}<extra></extra>",
         "legendgroup": "",
         "marker": {
          "color": "#636efa"
         },
         "name": "",
         "notched": false,
         "offsetgroup": "",
         "orientation": "h",
         "showlegend": false,
         "type": "box",
         "x": [
          0,
          0,
          0,
          0,
          0,
          0,
          0,
          0,
          0,
          0,
          -0.02006018054162484,
          -0.01905717151454356,
          -0.01905717151454356,
          -0.032096288866599765,
          -0.02206619859578729,
          -0.030090270812437314,
          -0.02407221664994985,
          -0.031093279839518484,
          -0.013039117352056095,
          -0.017051153460381108,
          0,
          0,
          0,
          0,
          0,
          0,
          0,
          0,
          0,
          0,
          0,
          0,
          0,
          0,
          0,
          0,
          0,
          0,
          0,
          0,
          0.0030090270812437314,
          0.0010030090270812808,
          0.0020060180541625616,
          0.0030090270812437314,
          0.0030090270812437314,
          0.0020060180541625616,
          0.005015045135406293,
          0.0020060180541625616,
          0.0020060180541625616,
          0.0030090270812437314,
          0,
          0,
          0,
          0,
          0,
          0,
          0,
          0,
          0,
          0,
          0,
          0,
          0,
          0,
          0,
          0,
          0,
          0,
          0,
          0,
          0,
          0,
          0,
          0,
          0,
          0,
          0,
          0,
          0,
          0,
          -0.0010030090270811698,
          -0.0010030090270811698,
          -0.0010030090270811698,
          -0.0010030090270811698,
          0,
          -0.0010030090270811698,
          -0.0010030090270811698,
          -0.0010030090270811698,
          -0.0010030090270811698,
          -0.0010030090270811698,
          0,
          0,
          0,
          0,
          0,
          0,
          0,
          0,
          0,
          0,
          0,
          0,
          0,
          0,
          0,
          0,
          0,
          0,
          0,
          0,
          -0.006018054162487463,
          -0.007021063189568633,
          -0.0030090270812437314,
          -0.006018054162487463,
          -0.008024072216649913,
          -0.005015045135406182,
          -0.005015045135406182,
          -0.006018054162487463,
          -0.006018054162487463,
          -0.008024072216649913,
          0,
          0.0010030090270812808,
          0.0010030090270812808,
          0.0010030090270812808,
          0,
          0,
          -0.0010030090270811698,
          0,
          0.0010030090270812808,
          0,
          0.006018054162487463,
          0.012036108324974926,
          -0.005015045135406182,
          0.016048144433299938,
          0.0220661985957874,
          0.014042126379137487,
          0.0020060180541625616,
          0.0010030090270812808,
          0.008024072216650024,
          0.032096288866599876,
          0.0030090270812437314,
          0,
          0.0020060180541625616,
          0.0020060180541625616,
          -0.0020060180541624506,
          -0.0020060180541624506,
          0.0030090270812437314,
          0.004012036108325012,
          0.0010030090270812808,
          -0.0030090270812437314,
          0.0010030090270812808,
          -0.008024072216649913,
          -0.0030090270812437314,
          -0.004012036108324901,
          -0.0030090270812437314,
          0.0020060180541625616,
          -0.004012036108324901,
          0.0030090270812437314,
          -0.006018054162487463,
          -0.005015045135406182
         ],
         "x0": " ",
         "xaxis": "x",
         "y": [
          "gender_Male",
          "gender_Male",
          "gender_Male",
          "gender_Male",
          "gender_Male",
          "gender_Male",
          "gender_Male",
          "gender_Male",
          "gender_Male",
          "gender_Male",
          "ever_married_Yes",
          "ever_married_Yes",
          "ever_married_Yes",
          "ever_married_Yes",
          "ever_married_Yes",
          "ever_married_Yes",
          "ever_married_Yes",
          "ever_married_Yes",
          "ever_married_Yes",
          "ever_married_Yes",
          "work_type_Govt_job",
          "work_type_Govt_job",
          "work_type_Govt_job",
          "work_type_Govt_job",
          "work_type_Govt_job",
          "work_type_Govt_job",
          "work_type_Govt_job",
          "work_type_Govt_job",
          "work_type_Govt_job",
          "work_type_Govt_job",
          "work_type_Private",
          "work_type_Private",
          "work_type_Private",
          "work_type_Private",
          "work_type_Private",
          "work_type_Private",
          "work_type_Private",
          "work_type_Private",
          "work_type_Private",
          "work_type_Private",
          "work_type_Self-employed",
          "work_type_Self-employed",
          "work_type_Self-employed",
          "work_type_Self-employed",
          "work_type_Self-employed",
          "work_type_Self-employed",
          "work_type_Self-employed",
          "work_type_Self-employed",
          "work_type_Self-employed",
          "work_type_Self-employed",
          "work_type_children",
          "work_type_children",
          "work_type_children",
          "work_type_children",
          "work_type_children",
          "work_type_children",
          "work_type_children",
          "work_type_children",
          "work_type_children",
          "work_type_children",
          "Residence_type_Urban",
          "Residence_type_Urban",
          "Residence_type_Urban",
          "Residence_type_Urban",
          "Residence_type_Urban",
          "Residence_type_Urban",
          "Residence_type_Urban",
          "Residence_type_Urban",
          "Residence_type_Urban",
          "Residence_type_Urban",
          "smoking_status_Unknown",
          "smoking_status_Unknown",
          "smoking_status_Unknown",
          "smoking_status_Unknown",
          "smoking_status_Unknown",
          "smoking_status_Unknown",
          "smoking_status_Unknown",
          "smoking_status_Unknown",
          "smoking_status_Unknown",
          "smoking_status_Unknown",
          "smoking_status_formerly smoked",
          "smoking_status_formerly smoked",
          "smoking_status_formerly smoked",
          "smoking_status_formerly smoked",
          "smoking_status_formerly smoked",
          "smoking_status_formerly smoked",
          "smoking_status_formerly smoked",
          "smoking_status_formerly smoked",
          "smoking_status_formerly smoked",
          "smoking_status_formerly smoked",
          "smoking_status_never smoked",
          "smoking_status_never smoked",
          "smoking_status_never smoked",
          "smoking_status_never smoked",
          "smoking_status_never smoked",
          "smoking_status_never smoked",
          "smoking_status_never smoked",
          "smoking_status_never smoked",
          "smoking_status_never smoked",
          "smoking_status_never smoked",
          "smoking_status_smokes",
          "smoking_status_smokes",
          "smoking_status_smokes",
          "smoking_status_smokes",
          "smoking_status_smokes",
          "smoking_status_smokes",
          "smoking_status_smokes",
          "smoking_status_smokes",
          "smoking_status_smokes",
          "smoking_status_smokes",
          "hypertension_Yes",
          "hypertension_Yes",
          "hypertension_Yes",
          "hypertension_Yes",
          "hypertension_Yes",
          "hypertension_Yes",
          "hypertension_Yes",
          "hypertension_Yes",
          "hypertension_Yes",
          "hypertension_Yes",
          "heart_disease_Yes",
          "heart_disease_Yes",
          "heart_disease_Yes",
          "heart_disease_Yes",
          "heart_disease_Yes",
          "heart_disease_Yes",
          "heart_disease_Yes",
          "heart_disease_Yes",
          "heart_disease_Yes",
          "heart_disease_Yes",
          "age",
          "age",
          "age",
          "age",
          "age",
          "age",
          "age",
          "age",
          "age",
          "age",
          "avg_glucose_level",
          "avg_glucose_level",
          "avg_glucose_level",
          "avg_glucose_level",
          "avg_glucose_level",
          "avg_glucose_level",
          "avg_glucose_level",
          "avg_glucose_level",
          "avg_glucose_level",
          "avg_glucose_level",
          "bmi",
          "bmi",
          "bmi",
          "bmi",
          "bmi",
          "bmi",
          "bmi",
          "bmi",
          "bmi",
          "bmi"
         ],
         "y0": " ",
         "yaxis": "y"
        },
        {
         "marker": {
          "color": "red"
         },
         "mode": "markers",
         "type": "scatter",
         "x": [
          0,
          0.17624077,
          0,
          0,
          0.039758332,
          0,
          0,
          0,
          0.029176835,
          0,
          0,
          0.09467578,
          0.06862031,
          0.43257177,
          0.1226731,
          0.036283124
         ],
         "y": [
          "gender_Male",
          "ever_married_Yes",
          "work_type_Govt_job",
          "work_type_Private",
          "work_type_Self-employed",
          "work_type_children",
          "Residence_type_Urban",
          "smoking_status_Unknown",
          "smoking_status_formerly smoked",
          "smoking_status_never smoked",
          "smoking_status_smokes",
          "hypertension_Yes",
          "heart_disease_Yes",
          "age",
          "avg_glucose_level",
          "bmi"
         ]
        }
       ],
       "layout": {
        "boxmode": "group",
        "legend": {
         "tracegroupgap": 0
        },
        "margin": {
         "t": 60
        },
        "template": {
         "data": {
          "bar": [
           {
            "error_x": {
             "color": "#2a3f5f"
            },
            "error_y": {
             "color": "#2a3f5f"
            },
            "marker": {
             "line": {
              "color": "#E5ECF6",
              "width": 0.5
             },
             "pattern": {
              "fillmode": "overlay",
              "size": 10,
              "solidity": 0.2
             }
            },
            "type": "bar"
           }
          ],
          "barpolar": [
           {
            "marker": {
             "line": {
              "color": "#E5ECF6",
              "width": 0.5
             },
             "pattern": {
              "fillmode": "overlay",
              "size": 10,
              "solidity": 0.2
             }
            },
            "type": "barpolar"
           }
          ],
          "carpet": [
           {
            "aaxis": {
             "endlinecolor": "#2a3f5f",
             "gridcolor": "white",
             "linecolor": "white",
             "minorgridcolor": "white",
             "startlinecolor": "#2a3f5f"
            },
            "baxis": {
             "endlinecolor": "#2a3f5f",
             "gridcolor": "white",
             "linecolor": "white",
             "minorgridcolor": "white",
             "startlinecolor": "#2a3f5f"
            },
            "type": "carpet"
           }
          ],
          "choropleth": [
           {
            "colorbar": {
             "outlinewidth": 0,
             "ticks": ""
            },
            "type": "choropleth"
           }
          ],
          "contour": [
           {
            "colorbar": {
             "outlinewidth": 0,
             "ticks": ""
            },
            "colorscale": [
             [
              0,
              "#0d0887"
             ],
             [
              0.1111111111111111,
              "#46039f"
             ],
             [
              0.2222222222222222,
              "#7201a8"
             ],
             [
              0.3333333333333333,
              "#9c179e"
             ],
             [
              0.4444444444444444,
              "#bd3786"
             ],
             [
              0.5555555555555556,
              "#d8576b"
             ],
             [
              0.6666666666666666,
              "#ed7953"
             ],
             [
              0.7777777777777778,
              "#fb9f3a"
             ],
             [
              0.8888888888888888,
              "#fdca26"
             ],
             [
              1,
              "#f0f921"
             ]
            ],
            "type": "contour"
           }
          ],
          "contourcarpet": [
           {
            "colorbar": {
             "outlinewidth": 0,
             "ticks": ""
            },
            "type": "contourcarpet"
           }
          ],
          "heatmap": [
           {
            "colorbar": {
             "outlinewidth": 0,
             "ticks": ""
            },
            "colorscale": [
             [
              0,
              "#0d0887"
             ],
             [
              0.1111111111111111,
              "#46039f"
             ],
             [
              0.2222222222222222,
              "#7201a8"
             ],
             [
              0.3333333333333333,
              "#9c179e"
             ],
             [
              0.4444444444444444,
              "#bd3786"
             ],
             [
              0.5555555555555556,
              "#d8576b"
             ],
             [
              0.6666666666666666,
              "#ed7953"
             ],
             [
              0.7777777777777778,
              "#fb9f3a"
             ],
             [
              0.8888888888888888,
              "#fdca26"
             ],
             [
              1,
              "#f0f921"
             ]
            ],
            "type": "heatmap"
           }
          ],
          "heatmapgl": [
           {
            "colorbar": {
             "outlinewidth": 0,
             "ticks": ""
            },
            "colorscale": [
             [
              0,
              "#0d0887"
             ],
             [
              0.1111111111111111,
              "#46039f"
             ],
             [
              0.2222222222222222,
              "#7201a8"
             ],
             [
              0.3333333333333333,
              "#9c179e"
             ],
             [
              0.4444444444444444,
              "#bd3786"
             ],
             [
              0.5555555555555556,
              "#d8576b"
             ],
             [
              0.6666666666666666,
              "#ed7953"
             ],
             [
              0.7777777777777778,
              "#fb9f3a"
             ],
             [
              0.8888888888888888,
              "#fdca26"
             ],
             [
              1,
              "#f0f921"
             ]
            ],
            "type": "heatmapgl"
           }
          ],
          "histogram": [
           {
            "marker": {
             "pattern": {
              "fillmode": "overlay",
              "size": 10,
              "solidity": 0.2
             }
            },
            "type": "histogram"
           }
          ],
          "histogram2d": [
           {
            "colorbar": {
             "outlinewidth": 0,
             "ticks": ""
            },
            "colorscale": [
             [
              0,
              "#0d0887"
             ],
             [
              0.1111111111111111,
              "#46039f"
             ],
             [
              0.2222222222222222,
              "#7201a8"
             ],
             [
              0.3333333333333333,
              "#9c179e"
             ],
             [
              0.4444444444444444,
              "#bd3786"
             ],
             [
              0.5555555555555556,
              "#d8576b"
             ],
             [
              0.6666666666666666,
              "#ed7953"
             ],
             [
              0.7777777777777778,
              "#fb9f3a"
             ],
             [
              0.8888888888888888,
              "#fdca26"
             ],
             [
              1,
              "#f0f921"
             ]
            ],
            "type": "histogram2d"
           }
          ],
          "histogram2dcontour": [
           {
            "colorbar": {
             "outlinewidth": 0,
             "ticks": ""
            },
            "colorscale": [
             [
              0,
              "#0d0887"
             ],
             [
              0.1111111111111111,
              "#46039f"
             ],
             [
              0.2222222222222222,
              "#7201a8"
             ],
             [
              0.3333333333333333,
              "#9c179e"
             ],
             [
              0.4444444444444444,
              "#bd3786"
             ],
             [
              0.5555555555555556,
              "#d8576b"
             ],
             [
              0.6666666666666666,
              "#ed7953"
             ],
             [
              0.7777777777777778,
              "#fb9f3a"
             ],
             [
              0.8888888888888888,
              "#fdca26"
             ],
             [
              1,
              "#f0f921"
             ]
            ],
            "type": "histogram2dcontour"
           }
          ],
          "mesh3d": [
           {
            "colorbar": {
             "outlinewidth": 0,
             "ticks": ""
            },
            "type": "mesh3d"
           }
          ],
          "parcoords": [
           {
            "line": {
             "colorbar": {
              "outlinewidth": 0,
              "ticks": ""
             }
            },
            "type": "parcoords"
           }
          ],
          "pie": [
           {
            "automargin": true,
            "type": "pie"
           }
          ],
          "scatter": [
           {
            "fillpattern": {
             "fillmode": "overlay",
             "size": 10,
             "solidity": 0.2
            },
            "type": "scatter"
           }
          ],
          "scatter3d": [
           {
            "line": {
             "colorbar": {
              "outlinewidth": 0,
              "ticks": ""
             }
            },
            "marker": {
             "colorbar": {
              "outlinewidth": 0,
              "ticks": ""
             }
            },
            "type": "scatter3d"
           }
          ],
          "scattercarpet": [
           {
            "marker": {
             "colorbar": {
              "outlinewidth": 0,
              "ticks": ""
             }
            },
            "type": "scattercarpet"
           }
          ],
          "scattergeo": [
           {
            "marker": {
             "colorbar": {
              "outlinewidth": 0,
              "ticks": ""
             }
            },
            "type": "scattergeo"
           }
          ],
          "scattergl": [
           {
            "marker": {
             "colorbar": {
              "outlinewidth": 0,
              "ticks": ""
             }
            },
            "type": "scattergl"
           }
          ],
          "scattermapbox": [
           {
            "marker": {
             "colorbar": {
              "outlinewidth": 0,
              "ticks": ""
             }
            },
            "type": "scattermapbox"
           }
          ],
          "scatterpolar": [
           {
            "marker": {
             "colorbar": {
              "outlinewidth": 0,
              "ticks": ""
             }
            },
            "type": "scatterpolar"
           }
          ],
          "scatterpolargl": [
           {
            "marker": {
             "colorbar": {
              "outlinewidth": 0,
              "ticks": ""
             }
            },
            "type": "scatterpolargl"
           }
          ],
          "scatterternary": [
           {
            "marker": {
             "colorbar": {
              "outlinewidth": 0,
              "ticks": ""
             }
            },
            "type": "scatterternary"
           }
          ],
          "surface": [
           {
            "colorbar": {
             "outlinewidth": 0,
             "ticks": ""
            },
            "colorscale": [
             [
              0,
              "#0d0887"
             ],
             [
              0.1111111111111111,
              "#46039f"
             ],
             [
              0.2222222222222222,
              "#7201a8"
             ],
             [
              0.3333333333333333,
              "#9c179e"
             ],
             [
              0.4444444444444444,
              "#bd3786"
             ],
             [
              0.5555555555555556,
              "#d8576b"
             ],
             [
              0.6666666666666666,
              "#ed7953"
             ],
             [
              0.7777777777777778,
              "#fb9f3a"
             ],
             [
              0.8888888888888888,
              "#fdca26"
             ],
             [
              1,
              "#f0f921"
             ]
            ],
            "type": "surface"
           }
          ],
          "table": [
           {
            "cells": {
             "fill": {
              "color": "#EBF0F8"
             },
             "line": {
              "color": "white"
             }
            },
            "header": {
             "fill": {
              "color": "#C8D4E3"
             },
             "line": {
              "color": "white"
             }
            },
            "type": "table"
           }
          ]
         },
         "layout": {
          "annotationdefaults": {
           "arrowcolor": "#2a3f5f",
           "arrowhead": 0,
           "arrowwidth": 1
          },
          "autotypenumbers": "strict",
          "coloraxis": {
           "colorbar": {
            "outlinewidth": 0,
            "ticks": ""
           }
          },
          "colorscale": {
           "diverging": [
            [
             0,
             "#8e0152"
            ],
            [
             0.1,
             "#c51b7d"
            ],
            [
             0.2,
             "#de77ae"
            ],
            [
             0.3,
             "#f1b6da"
            ],
            [
             0.4,
             "#fde0ef"
            ],
            [
             0.5,
             "#f7f7f7"
            ],
            [
             0.6,
             "#e6f5d0"
            ],
            [
             0.7,
             "#b8e186"
            ],
            [
             0.8,
             "#7fbc41"
            ],
            [
             0.9,
             "#4d9221"
            ],
            [
             1,
             "#276419"
            ]
           ],
           "sequential": [
            [
             0,
             "#0d0887"
            ],
            [
             0.1111111111111111,
             "#46039f"
            ],
            [
             0.2222222222222222,
             "#7201a8"
            ],
            [
             0.3333333333333333,
             "#9c179e"
            ],
            [
             0.4444444444444444,
             "#bd3786"
            ],
            [
             0.5555555555555556,
             "#d8576b"
            ],
            [
             0.6666666666666666,
             "#ed7953"
            ],
            [
             0.7777777777777778,
             "#fb9f3a"
            ],
            [
             0.8888888888888888,
             "#fdca26"
            ],
            [
             1,
             "#f0f921"
            ]
           ],
           "sequentialminus": [
            [
             0,
             "#0d0887"
            ],
            [
             0.1111111111111111,
             "#46039f"
            ],
            [
             0.2222222222222222,
             "#7201a8"
            ],
            [
             0.3333333333333333,
             "#9c179e"
            ],
            [
             0.4444444444444444,
             "#bd3786"
            ],
            [
             0.5555555555555556,
             "#d8576b"
            ],
            [
             0.6666666666666666,
             "#ed7953"
            ],
            [
             0.7777777777777778,
             "#fb9f3a"
            ],
            [
             0.8888888888888888,
             "#fdca26"
            ],
            [
             1,
             "#f0f921"
            ]
           ]
          },
          "colorway": [
           "#636efa",
           "#EF553B",
           "#00cc96",
           "#ab63fa",
           "#FFA15A",
           "#19d3f3",
           "#FF6692",
           "#B6E880",
           "#FF97FF",
           "#FECB52"
          ],
          "font": {
           "color": "#2a3f5f"
          },
          "geo": {
           "bgcolor": "white",
           "lakecolor": "white",
           "landcolor": "#E5ECF6",
           "showlakes": true,
           "showland": true,
           "subunitcolor": "white"
          },
          "hoverlabel": {
           "align": "left"
          },
          "hovermode": "closest",
          "mapbox": {
           "style": "light"
          },
          "paper_bgcolor": "white",
          "plot_bgcolor": "#E5ECF6",
          "polar": {
           "angularaxis": {
            "gridcolor": "white",
            "linecolor": "white",
            "ticks": ""
           },
           "bgcolor": "#E5ECF6",
           "radialaxis": {
            "gridcolor": "white",
            "linecolor": "white",
            "ticks": ""
           }
          },
          "scene": {
           "xaxis": {
            "backgroundcolor": "#E5ECF6",
            "gridcolor": "white",
            "gridwidth": 2,
            "linecolor": "white",
            "showbackground": true,
            "ticks": "",
            "zerolinecolor": "white"
           },
           "yaxis": {
            "backgroundcolor": "#E5ECF6",
            "gridcolor": "white",
            "gridwidth": 2,
            "linecolor": "white",
            "showbackground": true,
            "ticks": "",
            "zerolinecolor": "white"
           },
           "zaxis": {
            "backgroundcolor": "#E5ECF6",
            "gridcolor": "white",
            "gridwidth": 2,
            "linecolor": "white",
            "showbackground": true,
            "ticks": "",
            "zerolinecolor": "white"
           }
          },
          "shapedefaults": {
           "line": {
            "color": "#2a3f5f"
           }
          },
          "ternary": {
           "aaxis": {
            "gridcolor": "white",
            "linecolor": "white",
            "ticks": ""
           },
           "baxis": {
            "gridcolor": "white",
            "linecolor": "white",
            "ticks": ""
           },
           "bgcolor": "#E5ECF6",
           "caxis": {
            "gridcolor": "white",
            "linecolor": "white",
            "ticks": ""
           }
          },
          "title": {
           "x": 0.05
          },
          "xaxis": {
           "automargin": true,
           "gridcolor": "white",
           "linecolor": "white",
           "ticks": "",
           "title": {
            "standoff": 15
           },
           "zerolinecolor": "white",
           "zerolinewidth": 2
          },
          "yaxis": {
           "automargin": true,
           "gridcolor": "white",
           "linecolor": "white",
           "ticks": "",
           "title": {
            "standoff": 15
           },
           "zerolinecolor": "white",
           "zerolinewidth": 2
          }
         }
        },
        "xaxis": {
         "anchor": "y",
         "domain": [
          0,
          1
         ],
         "title": {
          "text": "value"
         }
        },
        "yaxis": {
         "anchor": "x",
         "domain": [
          0,
          1
         ],
         "title": {
          "text": "variable"
         }
        }
       }
      },
      "text/html": [
       "<div>                            <div id=\"281ce921-c9fb-4cbe-bcf9-d43f65363983\" class=\"plotly-graph-div\" style=\"height:525px; width:100%;\"></div>            <script type=\"text/javascript\">                require([\"plotly\"], function(Plotly) {                    window.PLOTLYENV=window.PLOTLYENV || {};                                    if (document.getElementById(\"281ce921-c9fb-4cbe-bcf9-d43f65363983\")) {                    Plotly.newPlot(                        \"281ce921-c9fb-4cbe-bcf9-d43f65363983\",                        [{\"alignmentgroup\":\"True\",\"hovertemplate\":\"value=%{x}<br>variable=%{y}<extra></extra>\",\"legendgroup\":\"\",\"marker\":{\"color\":\"#636efa\"},\"name\":\"\",\"notched\":false,\"offsetgroup\":\"\",\"orientation\":\"h\",\"showlegend\":false,\"x\":[0.0,0.0,0.0,0.0,0.0,0.0,0.0,0.0,0.0,0.0,-0.02006018054162484,-0.01905717151454356,-0.01905717151454356,-0.032096288866599765,-0.02206619859578729,-0.030090270812437314,-0.02407221664994985,-0.031093279839518484,-0.013039117352056095,-0.017051153460381108,0.0,0.0,0.0,0.0,0.0,0.0,0.0,0.0,0.0,0.0,0.0,0.0,0.0,0.0,0.0,0.0,0.0,0.0,0.0,0.0,0.0030090270812437314,0.0010030090270812808,0.0020060180541625616,0.0030090270812437314,0.0030090270812437314,0.0020060180541625616,0.005015045135406293,0.0020060180541625616,0.0020060180541625616,0.0030090270812437314,0.0,0.0,0.0,0.0,0.0,0.0,0.0,0.0,0.0,0.0,0.0,0.0,0.0,0.0,0.0,0.0,0.0,0.0,0.0,0.0,0.0,0.0,0.0,0.0,0.0,0.0,0.0,0.0,0.0,0.0,-0.0010030090270811698,-0.0010030090270811698,-0.0010030090270811698,-0.0010030090270811698,0.0,-0.0010030090270811698,-0.0010030090270811698,-0.0010030090270811698,-0.0010030090270811698,-0.0010030090270811698,0.0,0.0,0.0,0.0,0.0,0.0,0.0,0.0,0.0,0.0,0.0,0.0,0.0,0.0,0.0,0.0,0.0,0.0,0.0,0.0,-0.006018054162487463,-0.007021063189568633,-0.0030090270812437314,-0.006018054162487463,-0.008024072216649913,-0.005015045135406182,-0.005015045135406182,-0.006018054162487463,-0.006018054162487463,-0.008024072216649913,0.0,0.0010030090270812808,0.0010030090270812808,0.0010030090270812808,0.0,0.0,-0.0010030090270811698,0.0,0.0010030090270812808,0.0,0.006018054162487463,0.012036108324974926,-0.005015045135406182,0.016048144433299938,0.0220661985957874,0.014042126379137487,0.0020060180541625616,0.0010030090270812808,0.008024072216650024,0.032096288866599876,0.0030090270812437314,0.0,0.0020060180541625616,0.0020060180541625616,-0.0020060180541624506,-0.0020060180541624506,0.0030090270812437314,0.004012036108325012,0.0010030090270812808,-0.0030090270812437314,0.0010030090270812808,-0.008024072216649913,-0.0030090270812437314,-0.004012036108324901,-0.0030090270812437314,0.0020060180541625616,-0.004012036108324901,0.0030090270812437314,-0.006018054162487463,-0.005015045135406182],\"x0\":\" \",\"xaxis\":\"x\",\"y\":[\"gender_Male\",\"gender_Male\",\"gender_Male\",\"gender_Male\",\"gender_Male\",\"gender_Male\",\"gender_Male\",\"gender_Male\",\"gender_Male\",\"gender_Male\",\"ever_married_Yes\",\"ever_married_Yes\",\"ever_married_Yes\",\"ever_married_Yes\",\"ever_married_Yes\",\"ever_married_Yes\",\"ever_married_Yes\",\"ever_married_Yes\",\"ever_married_Yes\",\"ever_married_Yes\",\"work_type_Govt_job\",\"work_type_Govt_job\",\"work_type_Govt_job\",\"work_type_Govt_job\",\"work_type_Govt_job\",\"work_type_Govt_job\",\"work_type_Govt_job\",\"work_type_Govt_job\",\"work_type_Govt_job\",\"work_type_Govt_job\",\"work_type_Private\",\"work_type_Private\",\"work_type_Private\",\"work_type_Private\",\"work_type_Private\",\"work_type_Private\",\"work_type_Private\",\"work_type_Private\",\"work_type_Private\",\"work_type_Private\",\"work_type_Self-employed\",\"work_type_Self-employed\",\"work_type_Self-employed\",\"work_type_Self-employed\",\"work_type_Self-employed\",\"work_type_Self-employed\",\"work_type_Self-employed\",\"work_type_Self-employed\",\"work_type_Self-employed\",\"work_type_Self-employed\",\"work_type_children\",\"work_type_children\",\"work_type_children\",\"work_type_children\",\"work_type_children\",\"work_type_children\",\"work_type_children\",\"work_type_children\",\"work_type_children\",\"work_type_children\",\"Residence_type_Urban\",\"Residence_type_Urban\",\"Residence_type_Urban\",\"Residence_type_Urban\",\"Residence_type_Urban\",\"Residence_type_Urban\",\"Residence_type_Urban\",\"Residence_type_Urban\",\"Residence_type_Urban\",\"Residence_type_Urban\",\"smoking_status_Unknown\",\"smoking_status_Unknown\",\"smoking_status_Unknown\",\"smoking_status_Unknown\",\"smoking_status_Unknown\",\"smoking_status_Unknown\",\"smoking_status_Unknown\",\"smoking_status_Unknown\",\"smoking_status_Unknown\",\"smoking_status_Unknown\",\"smoking_status_formerly smoked\",\"smoking_status_formerly smoked\",\"smoking_status_formerly smoked\",\"smoking_status_formerly smoked\",\"smoking_status_formerly smoked\",\"smoking_status_formerly smoked\",\"smoking_status_formerly smoked\",\"smoking_status_formerly smoked\",\"smoking_status_formerly smoked\",\"smoking_status_formerly smoked\",\"smoking_status_never smoked\",\"smoking_status_never smoked\",\"smoking_status_never smoked\",\"smoking_status_never smoked\",\"smoking_status_never smoked\",\"smoking_status_never smoked\",\"smoking_status_never smoked\",\"smoking_status_never smoked\",\"smoking_status_never smoked\",\"smoking_status_never smoked\",\"smoking_status_smokes\",\"smoking_status_smokes\",\"smoking_status_smokes\",\"smoking_status_smokes\",\"smoking_status_smokes\",\"smoking_status_smokes\",\"smoking_status_smokes\",\"smoking_status_smokes\",\"smoking_status_smokes\",\"smoking_status_smokes\",\"hypertension_Yes\",\"hypertension_Yes\",\"hypertension_Yes\",\"hypertension_Yes\",\"hypertension_Yes\",\"hypertension_Yes\",\"hypertension_Yes\",\"hypertension_Yes\",\"hypertension_Yes\",\"hypertension_Yes\",\"heart_disease_Yes\",\"heart_disease_Yes\",\"heart_disease_Yes\",\"heart_disease_Yes\",\"heart_disease_Yes\",\"heart_disease_Yes\",\"heart_disease_Yes\",\"heart_disease_Yes\",\"heart_disease_Yes\",\"heart_disease_Yes\",\"age\",\"age\",\"age\",\"age\",\"age\",\"age\",\"age\",\"age\",\"age\",\"age\",\"avg_glucose_level\",\"avg_glucose_level\",\"avg_glucose_level\",\"avg_glucose_level\",\"avg_glucose_level\",\"avg_glucose_level\",\"avg_glucose_level\",\"avg_glucose_level\",\"avg_glucose_level\",\"avg_glucose_level\",\"bmi\",\"bmi\",\"bmi\",\"bmi\",\"bmi\",\"bmi\",\"bmi\",\"bmi\",\"bmi\",\"bmi\"],\"y0\":\" \",\"yaxis\":\"y\",\"type\":\"box\"},{\"marker\":{\"color\":\"red\"},\"mode\":\"markers\",\"x\":[0.0,0.17624077,0.0,0.0,0.039758332,0.0,0.0,0.0,0.029176835,0.0,0.0,0.09467578,0.06862031,0.43257177,0.1226731,0.036283124],\"y\":[\"gender_Male\",\"ever_married_Yes\",\"work_type_Govt_job\",\"work_type_Private\",\"work_type_Self-employed\",\"work_type_children\",\"Residence_type_Urban\",\"smoking_status_Unknown\",\"smoking_status_formerly smoked\",\"smoking_status_never smoked\",\"smoking_status_smokes\",\"hypertension_Yes\",\"heart_disease_Yes\",\"age\",\"avg_glucose_level\",\"bmi\"],\"type\":\"scatter\"}],                        {\"template\":{\"data\":{\"histogram2dcontour\":[{\"type\":\"histogram2dcontour\",\"colorbar\":{\"outlinewidth\":0,\"ticks\":\"\"},\"colorscale\":[[0.0,\"#0d0887\"],[0.1111111111111111,\"#46039f\"],[0.2222222222222222,\"#7201a8\"],[0.3333333333333333,\"#9c179e\"],[0.4444444444444444,\"#bd3786\"],[0.5555555555555556,\"#d8576b\"],[0.6666666666666666,\"#ed7953\"],[0.7777777777777778,\"#fb9f3a\"],[0.8888888888888888,\"#fdca26\"],[1.0,\"#f0f921\"]]}],\"choropleth\":[{\"type\":\"choropleth\",\"colorbar\":{\"outlinewidth\":0,\"ticks\":\"\"}}],\"histogram2d\":[{\"type\":\"histogram2d\",\"colorbar\":{\"outlinewidth\":0,\"ticks\":\"\"},\"colorscale\":[[0.0,\"#0d0887\"],[0.1111111111111111,\"#46039f\"],[0.2222222222222222,\"#7201a8\"],[0.3333333333333333,\"#9c179e\"],[0.4444444444444444,\"#bd3786\"],[0.5555555555555556,\"#d8576b\"],[0.6666666666666666,\"#ed7953\"],[0.7777777777777778,\"#fb9f3a\"],[0.8888888888888888,\"#fdca26\"],[1.0,\"#f0f921\"]]}],\"heatmap\":[{\"type\":\"heatmap\",\"colorbar\":{\"outlinewidth\":0,\"ticks\":\"\"},\"colorscale\":[[0.0,\"#0d0887\"],[0.1111111111111111,\"#46039f\"],[0.2222222222222222,\"#7201a8\"],[0.3333333333333333,\"#9c179e\"],[0.4444444444444444,\"#bd3786\"],[0.5555555555555556,\"#d8576b\"],[0.6666666666666666,\"#ed7953\"],[0.7777777777777778,\"#fb9f3a\"],[0.8888888888888888,\"#fdca26\"],[1.0,\"#f0f921\"]]}],\"heatmapgl\":[{\"type\":\"heatmapgl\",\"colorbar\":{\"outlinewidth\":0,\"ticks\":\"\"},\"colorscale\":[[0.0,\"#0d0887\"],[0.1111111111111111,\"#46039f\"],[0.2222222222222222,\"#7201a8\"],[0.3333333333333333,\"#9c179e\"],[0.4444444444444444,\"#bd3786\"],[0.5555555555555556,\"#d8576b\"],[0.6666666666666666,\"#ed7953\"],[0.7777777777777778,\"#fb9f3a\"],[0.8888888888888888,\"#fdca26\"],[1.0,\"#f0f921\"]]}],\"contourcarpet\":[{\"type\":\"contourcarpet\",\"colorbar\":{\"outlinewidth\":0,\"ticks\":\"\"}}],\"contour\":[{\"type\":\"contour\",\"colorbar\":{\"outlinewidth\":0,\"ticks\":\"\"},\"colorscale\":[[0.0,\"#0d0887\"],[0.1111111111111111,\"#46039f\"],[0.2222222222222222,\"#7201a8\"],[0.3333333333333333,\"#9c179e\"],[0.4444444444444444,\"#bd3786\"],[0.5555555555555556,\"#d8576b\"],[0.6666666666666666,\"#ed7953\"],[0.7777777777777778,\"#fb9f3a\"],[0.8888888888888888,\"#fdca26\"],[1.0,\"#f0f921\"]]}],\"surface\":[{\"type\":\"surface\",\"colorbar\":{\"outlinewidth\":0,\"ticks\":\"\"},\"colorscale\":[[0.0,\"#0d0887\"],[0.1111111111111111,\"#46039f\"],[0.2222222222222222,\"#7201a8\"],[0.3333333333333333,\"#9c179e\"],[0.4444444444444444,\"#bd3786\"],[0.5555555555555556,\"#d8576b\"],[0.6666666666666666,\"#ed7953\"],[0.7777777777777778,\"#fb9f3a\"],[0.8888888888888888,\"#fdca26\"],[1.0,\"#f0f921\"]]}],\"mesh3d\":[{\"type\":\"mesh3d\",\"colorbar\":{\"outlinewidth\":0,\"ticks\":\"\"}}],\"scatter\":[{\"fillpattern\":{\"fillmode\":\"overlay\",\"size\":10,\"solidity\":0.2},\"type\":\"scatter\"}],\"parcoords\":[{\"type\":\"parcoords\",\"line\":{\"colorbar\":{\"outlinewidth\":0,\"ticks\":\"\"}}}],\"scatterpolargl\":[{\"type\":\"scatterpolargl\",\"marker\":{\"colorbar\":{\"outlinewidth\":0,\"ticks\":\"\"}}}],\"bar\":[{\"error_x\":{\"color\":\"#2a3f5f\"},\"error_y\":{\"color\":\"#2a3f5f\"},\"marker\":{\"line\":{\"color\":\"#E5ECF6\",\"width\":0.5},\"pattern\":{\"fillmode\":\"overlay\",\"size\":10,\"solidity\":0.2}},\"type\":\"bar\"}],\"scattergeo\":[{\"type\":\"scattergeo\",\"marker\":{\"colorbar\":{\"outlinewidth\":0,\"ticks\":\"\"}}}],\"scatterpolar\":[{\"type\":\"scatterpolar\",\"marker\":{\"colorbar\":{\"outlinewidth\":0,\"ticks\":\"\"}}}],\"histogram\":[{\"marker\":{\"pattern\":{\"fillmode\":\"overlay\",\"size\":10,\"solidity\":0.2}},\"type\":\"histogram\"}],\"scattergl\":[{\"type\":\"scattergl\",\"marker\":{\"colorbar\":{\"outlinewidth\":0,\"ticks\":\"\"}}}],\"scatter3d\":[{\"type\":\"scatter3d\",\"line\":{\"colorbar\":{\"outlinewidth\":0,\"ticks\":\"\"}},\"marker\":{\"colorbar\":{\"outlinewidth\":0,\"ticks\":\"\"}}}],\"scattermapbox\":[{\"type\":\"scattermapbox\",\"marker\":{\"colorbar\":{\"outlinewidth\":0,\"ticks\":\"\"}}}],\"scatterternary\":[{\"type\":\"scatterternary\",\"marker\":{\"colorbar\":{\"outlinewidth\":0,\"ticks\":\"\"}}}],\"scattercarpet\":[{\"type\":\"scattercarpet\",\"marker\":{\"colorbar\":{\"outlinewidth\":0,\"ticks\":\"\"}}}],\"carpet\":[{\"aaxis\":{\"endlinecolor\":\"#2a3f5f\",\"gridcolor\":\"white\",\"linecolor\":\"white\",\"minorgridcolor\":\"white\",\"startlinecolor\":\"#2a3f5f\"},\"baxis\":{\"endlinecolor\":\"#2a3f5f\",\"gridcolor\":\"white\",\"linecolor\":\"white\",\"minorgridcolor\":\"white\",\"startlinecolor\":\"#2a3f5f\"},\"type\":\"carpet\"}],\"table\":[{\"cells\":{\"fill\":{\"color\":\"#EBF0F8\"},\"line\":{\"color\":\"white\"}},\"header\":{\"fill\":{\"color\":\"#C8D4E3\"},\"line\":{\"color\":\"white\"}},\"type\":\"table\"}],\"barpolar\":[{\"marker\":{\"line\":{\"color\":\"#E5ECF6\",\"width\":0.5},\"pattern\":{\"fillmode\":\"overlay\",\"size\":10,\"solidity\":0.2}},\"type\":\"barpolar\"}],\"pie\":[{\"automargin\":true,\"type\":\"pie\"}]},\"layout\":{\"autotypenumbers\":\"strict\",\"colorway\":[\"#636efa\",\"#EF553B\",\"#00cc96\",\"#ab63fa\",\"#FFA15A\",\"#19d3f3\",\"#FF6692\",\"#B6E880\",\"#FF97FF\",\"#FECB52\"],\"font\":{\"color\":\"#2a3f5f\"},\"hovermode\":\"closest\",\"hoverlabel\":{\"align\":\"left\"},\"paper_bgcolor\":\"white\",\"plot_bgcolor\":\"#E5ECF6\",\"polar\":{\"bgcolor\":\"#E5ECF6\",\"angularaxis\":{\"gridcolor\":\"white\",\"linecolor\":\"white\",\"ticks\":\"\"},\"radialaxis\":{\"gridcolor\":\"white\",\"linecolor\":\"white\",\"ticks\":\"\"}},\"ternary\":{\"bgcolor\":\"#E5ECF6\",\"aaxis\":{\"gridcolor\":\"white\",\"linecolor\":\"white\",\"ticks\":\"\"},\"baxis\":{\"gridcolor\":\"white\",\"linecolor\":\"white\",\"ticks\":\"\"},\"caxis\":{\"gridcolor\":\"white\",\"linecolor\":\"white\",\"ticks\":\"\"}},\"coloraxis\":{\"colorbar\":{\"outlinewidth\":0,\"ticks\":\"\"}},\"colorscale\":{\"sequential\":[[0.0,\"#0d0887\"],[0.1111111111111111,\"#46039f\"],[0.2222222222222222,\"#7201a8\"],[0.3333333333333333,\"#9c179e\"],[0.4444444444444444,\"#bd3786\"],[0.5555555555555556,\"#d8576b\"],[0.6666666666666666,\"#ed7953\"],[0.7777777777777778,\"#fb9f3a\"],[0.8888888888888888,\"#fdca26\"],[1.0,\"#f0f921\"]],\"sequentialminus\":[[0.0,\"#0d0887\"],[0.1111111111111111,\"#46039f\"],[0.2222222222222222,\"#7201a8\"],[0.3333333333333333,\"#9c179e\"],[0.4444444444444444,\"#bd3786\"],[0.5555555555555556,\"#d8576b\"],[0.6666666666666666,\"#ed7953\"],[0.7777777777777778,\"#fb9f3a\"],[0.8888888888888888,\"#fdca26\"],[1.0,\"#f0f921\"]],\"diverging\":[[0,\"#8e0152\"],[0.1,\"#c51b7d\"],[0.2,\"#de77ae\"],[0.3,\"#f1b6da\"],[0.4,\"#fde0ef\"],[0.5,\"#f7f7f7\"],[0.6,\"#e6f5d0\"],[0.7,\"#b8e186\"],[0.8,\"#7fbc41\"],[0.9,\"#4d9221\"],[1,\"#276419\"]]},\"xaxis\":{\"gridcolor\":\"white\",\"linecolor\":\"white\",\"ticks\":\"\",\"title\":{\"standoff\":15},\"zerolinecolor\":\"white\",\"automargin\":true,\"zerolinewidth\":2},\"yaxis\":{\"gridcolor\":\"white\",\"linecolor\":\"white\",\"ticks\":\"\",\"title\":{\"standoff\":15},\"zerolinecolor\":\"white\",\"automargin\":true,\"zerolinewidth\":2},\"scene\":{\"xaxis\":{\"backgroundcolor\":\"#E5ECF6\",\"gridcolor\":\"white\",\"linecolor\":\"white\",\"showbackground\":true,\"ticks\":\"\",\"zerolinecolor\":\"white\",\"gridwidth\":2},\"yaxis\":{\"backgroundcolor\":\"#E5ECF6\",\"gridcolor\":\"white\",\"linecolor\":\"white\",\"showbackground\":true,\"ticks\":\"\",\"zerolinecolor\":\"white\",\"gridwidth\":2},\"zaxis\":{\"backgroundcolor\":\"#E5ECF6\",\"gridcolor\":\"white\",\"linecolor\":\"white\",\"showbackground\":true,\"ticks\":\"\",\"zerolinecolor\":\"white\",\"gridwidth\":2}},\"shapedefaults\":{\"line\":{\"color\":\"#2a3f5f\"}},\"annotationdefaults\":{\"arrowcolor\":\"#2a3f5f\",\"arrowhead\":0,\"arrowwidth\":1},\"geo\":{\"bgcolor\":\"white\",\"landcolor\":\"#E5ECF6\",\"subunitcolor\":\"white\",\"showland\":true,\"showlakes\":true,\"lakecolor\":\"white\"},\"title\":{\"x\":0.05},\"mapbox\":{\"style\":\"light\"}}},\"xaxis\":{\"anchor\":\"y\",\"domain\":[0.0,1.0],\"title\":{\"text\":\"value\"}},\"yaxis\":{\"anchor\":\"x\",\"domain\":[0.0,1.0],\"title\":{\"text\":\"variable\"}},\"legend\":{\"tracegroupgap\":0},\"margin\":{\"t\":60},\"boxmode\":\"group\"},                        {\"responsive\": true}                    ).then(function(){\n",
       "                            \n",
       "var gd = document.getElementById('281ce921-c9fb-4cbe-bcf9-d43f65363983');\n",
       "var x = new MutationObserver(function (mutations, observer) {{\n",
       "        var display = window.getComputedStyle(gd).display;\n",
       "        if (!display || display === 'none') {{\n",
       "            console.log([gd, 'removed!']);\n",
       "            Plotly.purge(gd);\n",
       "            observer.disconnect();\n",
       "        }}\n",
       "}});\n",
       "\n",
       "// Listen for the removal of the full notebook cells\n",
       "var notebookContainer = gd.closest('#notebook-container');\n",
       "if (notebookContainer) {{\n",
       "    x.observe(notebookContainer, {childList: true});\n",
       "}}\n",
       "\n",
       "// Listen for the clearing of the current output cell\n",
       "var outputEl = gd.closest('.output');\n",
       "if (outputEl) {{\n",
       "    x.observe(outputEl, {childList: true});\n",
       "}}\n",
       "\n",
       "                        })                };                });            </script>        </div>"
      ]
     },
     "metadata": {},
     "output_type": "display_data"
    }
   ],
   "source": [
    "fig = px.box(pd.melt(imp_df),\n",
    "    y=\"variable\",\n",
    "    x=\"value\",\n",
    ")\n",
    "fig.add_trace(go.Scatter(\n",
    "    y=test_X_one.columns,\n",
    "    x=xgb_model.feature_importances_,\n",
    "    mode=\"markers\",\n",
    "    marker=dict(color=\"red\"),\n",
    "))\n",
    "fig"
   ]
  },
  {
   "cell_type": "code",
   "execution_count": 22,
   "metadata": {},
   "outputs": [],
   "source": [
    "def pvi_for(model):\n",
    "    imp = permutation_importance(model, test_X_one, test_y_one, n_repeats=10)\n",
    "    imp_df = pd.DataFrame(\n",
    "        data=imp[\"importances\"].T,\n",
    "        columns=test_X_one.columns,\n",
    "    )\n",
    "    \n",
    "    mask = np.count_nonzero(imp_df, axis=0) > 0\n",
    "    imp_df = imp_df.iloc[:,mask]\n",
    "    \n",
    "    mean_vi = imp_df.mean(axis=0)\n",
    "    imp_df = imp_df.iloc[:,np.argsort(mean_vi)]\n",
    "\n",
    "    fig = px.box(pd.melt(imp_df),\n",
    "        y=\"variable\",\n",
    "        x=\"value\",\n",
    "    )\n",
    "    return fig"
   ]
  },
  {
   "cell_type": "code",
   "execution_count": 23,
   "metadata": {},
   "outputs": [
    {
     "data": {
      "application/vnd.plotly.v1+json": {
       "config": {
        "plotlyServerURL": "https://plot.ly"
       },
       "data": [
        {
         "alignmentgroup": "True",
         "hovertemplate": "value=%{x}<br>variable=%{y}<extra></extra>",
         "legendgroup": "",
         "marker": {
          "color": "#636efa"
         },
         "name": "",
         "notched": false,
         "offsetgroup": "",
         "orientation": "h",
         "showlegend": false,
         "type": "box",
         "x": [
          -0.01805416248746239,
          -0.01905717151454356,
          -0.02507522567703102,
          -0.02306920762286857,
          -0.02006018054162484,
          -0.014042126379137376,
          -0.013039117352056095,
          -0.02206619859578729,
          -0.02407221664994985,
          -0.02206619859578729,
          -0.005015045135406182,
          -0.010030090270812364,
          -0.009027081243731194,
          -0.007021063189568633,
          -0.008024072216649913,
          -0.010030090270812364,
          -0.010030090270812364,
          -0.007021063189568633,
          -0.008024072216649913,
          -0.007021063189568633,
          -0.004012036108324901,
          -0.0020060180541624506,
          -0.0030090270812437314,
          -0.0010030090270811698,
          0.0030090270812437314,
          -0.005015045135406182,
          -0.005015045135406182,
          -0.0010030090270811698,
          -0.0010030090270811698,
          -0.0020060180541624506,
          -0.0010030090270811698,
          0,
          -0.0010030090270811698,
          -0.0010030090270811698,
          0,
          -0.0010030090270811698,
          -0.0010030090270811698,
          0,
          -0.0010030090270811698,
          -0.0010030090270811698,
          -0.0020060180541624506,
          -0.004012036108324901,
          0.0010030090270812808,
          0.0010030090270812808,
          -0.007021063189568633,
          0.004012036108325012,
          -0.0030090270812437314,
          0.0010030090270812808,
          0,
          0.005015045135406293,
          0,
          -0.0010030090270811698,
          0.0020060180541625616,
          0,
          0.0010030090270812808,
          0.0020060180541625616,
          -0.0010030090270811698,
          0,
          -0.0010030090270811698,
          0,
          0.005015045135406293,
          -0.0010030090270811698,
          0.0010030090270812808,
          -0.0010030090270811698,
          0,
          0,
          0.0010030090270812808,
          0.0020060180541625616,
          0,
          -0.0020060180541624506,
          0.015045135406218657,
          0.016048144433299938,
          0.009027081243731194,
          0.008024072216650024,
          0.016048144433299938,
          0.01805416248746239,
          0.014042126379137487,
          0.02306920762286868,
          -0.0010030090270811698,
          0.010030090270812475
         ],
         "x0": " ",
         "xaxis": "x",
         "y": [
          "ever_married_Yes",
          "ever_married_Yes",
          "ever_married_Yes",
          "ever_married_Yes",
          "ever_married_Yes",
          "ever_married_Yes",
          "ever_married_Yes",
          "ever_married_Yes",
          "ever_married_Yes",
          "ever_married_Yes",
          "hypertension_Yes",
          "hypertension_Yes",
          "hypertension_Yes",
          "hypertension_Yes",
          "hypertension_Yes",
          "hypertension_Yes",
          "hypertension_Yes",
          "hypertension_Yes",
          "hypertension_Yes",
          "hypertension_Yes",
          "bmi",
          "bmi",
          "bmi",
          "bmi",
          "bmi",
          "bmi",
          "bmi",
          "bmi",
          "bmi",
          "bmi",
          "smoking_status_formerly smoked",
          "smoking_status_formerly smoked",
          "smoking_status_formerly smoked",
          "smoking_status_formerly smoked",
          "smoking_status_formerly smoked",
          "smoking_status_formerly smoked",
          "smoking_status_formerly smoked",
          "smoking_status_formerly smoked",
          "smoking_status_formerly smoked",
          "smoking_status_formerly smoked",
          "avg_glucose_level",
          "avg_glucose_level",
          "avg_glucose_level",
          "avg_glucose_level",
          "avg_glucose_level",
          "avg_glucose_level",
          "avg_glucose_level",
          "avg_glucose_level",
          "avg_glucose_level",
          "avg_glucose_level",
          "heart_disease_Yes",
          "heart_disease_Yes",
          "heart_disease_Yes",
          "heart_disease_Yes",
          "heart_disease_Yes",
          "heart_disease_Yes",
          "heart_disease_Yes",
          "heart_disease_Yes",
          "heart_disease_Yes",
          "heart_disease_Yes",
          "work_type_Self-employed",
          "work_type_Self-employed",
          "work_type_Self-employed",
          "work_type_Self-employed",
          "work_type_Self-employed",
          "work_type_Self-employed",
          "work_type_Self-employed",
          "work_type_Self-employed",
          "work_type_Self-employed",
          "work_type_Self-employed",
          "age",
          "age",
          "age",
          "age",
          "age",
          "age",
          "age",
          "age",
          "age",
          "age"
         ],
         "y0": " ",
         "yaxis": "y"
        }
       ],
       "layout": {
        "boxmode": "group",
        "legend": {
         "tracegroupgap": 0
        },
        "margin": {
         "t": 60
        },
        "template": {
         "data": {
          "bar": [
           {
            "error_x": {
             "color": "#2a3f5f"
            },
            "error_y": {
             "color": "#2a3f5f"
            },
            "marker": {
             "line": {
              "color": "#E5ECF6",
              "width": 0.5
             },
             "pattern": {
              "fillmode": "overlay",
              "size": 10,
              "solidity": 0.2
             }
            },
            "type": "bar"
           }
          ],
          "barpolar": [
           {
            "marker": {
             "line": {
              "color": "#E5ECF6",
              "width": 0.5
             },
             "pattern": {
              "fillmode": "overlay",
              "size": 10,
              "solidity": 0.2
             }
            },
            "type": "barpolar"
           }
          ],
          "carpet": [
           {
            "aaxis": {
             "endlinecolor": "#2a3f5f",
             "gridcolor": "white",
             "linecolor": "white",
             "minorgridcolor": "white",
             "startlinecolor": "#2a3f5f"
            },
            "baxis": {
             "endlinecolor": "#2a3f5f",
             "gridcolor": "white",
             "linecolor": "white",
             "minorgridcolor": "white",
             "startlinecolor": "#2a3f5f"
            },
            "type": "carpet"
           }
          ],
          "choropleth": [
           {
            "colorbar": {
             "outlinewidth": 0,
             "ticks": ""
            },
            "type": "choropleth"
           }
          ],
          "contour": [
           {
            "colorbar": {
             "outlinewidth": 0,
             "ticks": ""
            },
            "colorscale": [
             [
              0,
              "#0d0887"
             ],
             [
              0.1111111111111111,
              "#46039f"
             ],
             [
              0.2222222222222222,
              "#7201a8"
             ],
             [
              0.3333333333333333,
              "#9c179e"
             ],
             [
              0.4444444444444444,
              "#bd3786"
             ],
             [
              0.5555555555555556,
              "#d8576b"
             ],
             [
              0.6666666666666666,
              "#ed7953"
             ],
             [
              0.7777777777777778,
              "#fb9f3a"
             ],
             [
              0.8888888888888888,
              "#fdca26"
             ],
             [
              1,
              "#f0f921"
             ]
            ],
            "type": "contour"
           }
          ],
          "contourcarpet": [
           {
            "colorbar": {
             "outlinewidth": 0,
             "ticks": ""
            },
            "type": "contourcarpet"
           }
          ],
          "heatmap": [
           {
            "colorbar": {
             "outlinewidth": 0,
             "ticks": ""
            },
            "colorscale": [
             [
              0,
              "#0d0887"
             ],
             [
              0.1111111111111111,
              "#46039f"
             ],
             [
              0.2222222222222222,
              "#7201a8"
             ],
             [
              0.3333333333333333,
              "#9c179e"
             ],
             [
              0.4444444444444444,
              "#bd3786"
             ],
             [
              0.5555555555555556,
              "#d8576b"
             ],
             [
              0.6666666666666666,
              "#ed7953"
             ],
             [
              0.7777777777777778,
              "#fb9f3a"
             ],
             [
              0.8888888888888888,
              "#fdca26"
             ],
             [
              1,
              "#f0f921"
             ]
            ],
            "type": "heatmap"
           }
          ],
          "heatmapgl": [
           {
            "colorbar": {
             "outlinewidth": 0,
             "ticks": ""
            },
            "colorscale": [
             [
              0,
              "#0d0887"
             ],
             [
              0.1111111111111111,
              "#46039f"
             ],
             [
              0.2222222222222222,
              "#7201a8"
             ],
             [
              0.3333333333333333,
              "#9c179e"
             ],
             [
              0.4444444444444444,
              "#bd3786"
             ],
             [
              0.5555555555555556,
              "#d8576b"
             ],
             [
              0.6666666666666666,
              "#ed7953"
             ],
             [
              0.7777777777777778,
              "#fb9f3a"
             ],
             [
              0.8888888888888888,
              "#fdca26"
             ],
             [
              1,
              "#f0f921"
             ]
            ],
            "type": "heatmapgl"
           }
          ],
          "histogram": [
           {
            "marker": {
             "pattern": {
              "fillmode": "overlay",
              "size": 10,
              "solidity": 0.2
             }
            },
            "type": "histogram"
           }
          ],
          "histogram2d": [
           {
            "colorbar": {
             "outlinewidth": 0,
             "ticks": ""
            },
            "colorscale": [
             [
              0,
              "#0d0887"
             ],
             [
              0.1111111111111111,
              "#46039f"
             ],
             [
              0.2222222222222222,
              "#7201a8"
             ],
             [
              0.3333333333333333,
              "#9c179e"
             ],
             [
              0.4444444444444444,
              "#bd3786"
             ],
             [
              0.5555555555555556,
              "#d8576b"
             ],
             [
              0.6666666666666666,
              "#ed7953"
             ],
             [
              0.7777777777777778,
              "#fb9f3a"
             ],
             [
              0.8888888888888888,
              "#fdca26"
             ],
             [
              1,
              "#f0f921"
             ]
            ],
            "type": "histogram2d"
           }
          ],
          "histogram2dcontour": [
           {
            "colorbar": {
             "outlinewidth": 0,
             "ticks": ""
            },
            "colorscale": [
             [
              0,
              "#0d0887"
             ],
             [
              0.1111111111111111,
              "#46039f"
             ],
             [
              0.2222222222222222,
              "#7201a8"
             ],
             [
              0.3333333333333333,
              "#9c179e"
             ],
             [
              0.4444444444444444,
              "#bd3786"
             ],
             [
              0.5555555555555556,
              "#d8576b"
             ],
             [
              0.6666666666666666,
              "#ed7953"
             ],
             [
              0.7777777777777778,
              "#fb9f3a"
             ],
             [
              0.8888888888888888,
              "#fdca26"
             ],
             [
              1,
              "#f0f921"
             ]
            ],
            "type": "histogram2dcontour"
           }
          ],
          "mesh3d": [
           {
            "colorbar": {
             "outlinewidth": 0,
             "ticks": ""
            },
            "type": "mesh3d"
           }
          ],
          "parcoords": [
           {
            "line": {
             "colorbar": {
              "outlinewidth": 0,
              "ticks": ""
             }
            },
            "type": "parcoords"
           }
          ],
          "pie": [
           {
            "automargin": true,
            "type": "pie"
           }
          ],
          "scatter": [
           {
            "fillpattern": {
             "fillmode": "overlay",
             "size": 10,
             "solidity": 0.2
            },
            "type": "scatter"
           }
          ],
          "scatter3d": [
           {
            "line": {
             "colorbar": {
              "outlinewidth": 0,
              "ticks": ""
             }
            },
            "marker": {
             "colorbar": {
              "outlinewidth": 0,
              "ticks": ""
             }
            },
            "type": "scatter3d"
           }
          ],
          "scattercarpet": [
           {
            "marker": {
             "colorbar": {
              "outlinewidth": 0,
              "ticks": ""
             }
            },
            "type": "scattercarpet"
           }
          ],
          "scattergeo": [
           {
            "marker": {
             "colorbar": {
              "outlinewidth": 0,
              "ticks": ""
             }
            },
            "type": "scattergeo"
           }
          ],
          "scattergl": [
           {
            "marker": {
             "colorbar": {
              "outlinewidth": 0,
              "ticks": ""
             }
            },
            "type": "scattergl"
           }
          ],
          "scattermapbox": [
           {
            "marker": {
             "colorbar": {
              "outlinewidth": 0,
              "ticks": ""
             }
            },
            "type": "scattermapbox"
           }
          ],
          "scatterpolar": [
           {
            "marker": {
             "colorbar": {
              "outlinewidth": 0,
              "ticks": ""
             }
            },
            "type": "scatterpolar"
           }
          ],
          "scatterpolargl": [
           {
            "marker": {
             "colorbar": {
              "outlinewidth": 0,
              "ticks": ""
             }
            },
            "type": "scatterpolargl"
           }
          ],
          "scatterternary": [
           {
            "marker": {
             "colorbar": {
              "outlinewidth": 0,
              "ticks": ""
             }
            },
            "type": "scatterternary"
           }
          ],
          "surface": [
           {
            "colorbar": {
             "outlinewidth": 0,
             "ticks": ""
            },
            "colorscale": [
             [
              0,
              "#0d0887"
             ],
             [
              0.1111111111111111,
              "#46039f"
             ],
             [
              0.2222222222222222,
              "#7201a8"
             ],
             [
              0.3333333333333333,
              "#9c179e"
             ],
             [
              0.4444444444444444,
              "#bd3786"
             ],
             [
              0.5555555555555556,
              "#d8576b"
             ],
             [
              0.6666666666666666,
              "#ed7953"
             ],
             [
              0.7777777777777778,
              "#fb9f3a"
             ],
             [
              0.8888888888888888,
              "#fdca26"
             ],
             [
              1,
              "#f0f921"
             ]
            ],
            "type": "surface"
           }
          ],
          "table": [
           {
            "cells": {
             "fill": {
              "color": "#EBF0F8"
             },
             "line": {
              "color": "white"
             }
            },
            "header": {
             "fill": {
              "color": "#C8D4E3"
             },
             "line": {
              "color": "white"
             }
            },
            "type": "table"
           }
          ]
         },
         "layout": {
          "annotationdefaults": {
           "arrowcolor": "#2a3f5f",
           "arrowhead": 0,
           "arrowwidth": 1
          },
          "autotypenumbers": "strict",
          "coloraxis": {
           "colorbar": {
            "outlinewidth": 0,
            "ticks": ""
           }
          },
          "colorscale": {
           "diverging": [
            [
             0,
             "#8e0152"
            ],
            [
             0.1,
             "#c51b7d"
            ],
            [
             0.2,
             "#de77ae"
            ],
            [
             0.3,
             "#f1b6da"
            ],
            [
             0.4,
             "#fde0ef"
            ],
            [
             0.5,
             "#f7f7f7"
            ],
            [
             0.6,
             "#e6f5d0"
            ],
            [
             0.7,
             "#b8e186"
            ],
            [
             0.8,
             "#7fbc41"
            ],
            [
             0.9,
             "#4d9221"
            ],
            [
             1,
             "#276419"
            ]
           ],
           "sequential": [
            [
             0,
             "#0d0887"
            ],
            [
             0.1111111111111111,
             "#46039f"
            ],
            [
             0.2222222222222222,
             "#7201a8"
            ],
            [
             0.3333333333333333,
             "#9c179e"
            ],
            [
             0.4444444444444444,
             "#bd3786"
            ],
            [
             0.5555555555555556,
             "#d8576b"
            ],
            [
             0.6666666666666666,
             "#ed7953"
            ],
            [
             0.7777777777777778,
             "#fb9f3a"
            ],
            [
             0.8888888888888888,
             "#fdca26"
            ],
            [
             1,
             "#f0f921"
            ]
           ],
           "sequentialminus": [
            [
             0,
             "#0d0887"
            ],
            [
             0.1111111111111111,
             "#46039f"
            ],
            [
             0.2222222222222222,
             "#7201a8"
            ],
            [
             0.3333333333333333,
             "#9c179e"
            ],
            [
             0.4444444444444444,
             "#bd3786"
            ],
            [
             0.5555555555555556,
             "#d8576b"
            ],
            [
             0.6666666666666666,
             "#ed7953"
            ],
            [
             0.7777777777777778,
             "#fb9f3a"
            ],
            [
             0.8888888888888888,
             "#fdca26"
            ],
            [
             1,
             "#f0f921"
            ]
           ]
          },
          "colorway": [
           "#636efa",
           "#EF553B",
           "#00cc96",
           "#ab63fa",
           "#FFA15A",
           "#19d3f3",
           "#FF6692",
           "#B6E880",
           "#FF97FF",
           "#FECB52"
          ],
          "font": {
           "color": "#2a3f5f"
          },
          "geo": {
           "bgcolor": "white",
           "lakecolor": "white",
           "landcolor": "#E5ECF6",
           "showlakes": true,
           "showland": true,
           "subunitcolor": "white"
          },
          "hoverlabel": {
           "align": "left"
          },
          "hovermode": "closest",
          "mapbox": {
           "style": "light"
          },
          "paper_bgcolor": "white",
          "plot_bgcolor": "#E5ECF6",
          "polar": {
           "angularaxis": {
            "gridcolor": "white",
            "linecolor": "white",
            "ticks": ""
           },
           "bgcolor": "#E5ECF6",
           "radialaxis": {
            "gridcolor": "white",
            "linecolor": "white",
            "ticks": ""
           }
          },
          "scene": {
           "xaxis": {
            "backgroundcolor": "#E5ECF6",
            "gridcolor": "white",
            "gridwidth": 2,
            "linecolor": "white",
            "showbackground": true,
            "ticks": "",
            "zerolinecolor": "white"
           },
           "yaxis": {
            "backgroundcolor": "#E5ECF6",
            "gridcolor": "white",
            "gridwidth": 2,
            "linecolor": "white",
            "showbackground": true,
            "ticks": "",
            "zerolinecolor": "white"
           },
           "zaxis": {
            "backgroundcolor": "#E5ECF6",
            "gridcolor": "white",
            "gridwidth": 2,
            "linecolor": "white",
            "showbackground": true,
            "ticks": "",
            "zerolinecolor": "white"
           }
          },
          "shapedefaults": {
           "line": {
            "color": "#2a3f5f"
           }
          },
          "ternary": {
           "aaxis": {
            "gridcolor": "white",
            "linecolor": "white",
            "ticks": ""
           },
           "baxis": {
            "gridcolor": "white",
            "linecolor": "white",
            "ticks": ""
           },
           "bgcolor": "#E5ECF6",
           "caxis": {
            "gridcolor": "white",
            "linecolor": "white",
            "ticks": ""
           }
          },
          "title": {
           "x": 0.05
          },
          "xaxis": {
           "automargin": true,
           "gridcolor": "white",
           "linecolor": "white",
           "ticks": "",
           "title": {
            "standoff": 15
           },
           "zerolinecolor": "white",
           "zerolinewidth": 2
          },
          "yaxis": {
           "automargin": true,
           "gridcolor": "white",
           "linecolor": "white",
           "ticks": "",
           "title": {
            "standoff": 15
           },
           "zerolinecolor": "white",
           "zerolinewidth": 2
          }
         }
        },
        "xaxis": {
         "anchor": "y",
         "domain": [
          0,
          1
         ],
         "title": {
          "text": "value"
         }
        },
        "yaxis": {
         "anchor": "x",
         "domain": [
          0,
          1
         ],
         "title": {
          "text": "variable"
         }
        }
       }
      },
      "text/html": [
       "<div>                            <div id=\"2783e1b9-a8a4-450b-8b3b-eeb9c6bb9a38\" class=\"plotly-graph-div\" style=\"height:525px; width:100%;\"></div>            <script type=\"text/javascript\">                require([\"plotly\"], function(Plotly) {                    window.PLOTLYENV=window.PLOTLYENV || {};                                    if (document.getElementById(\"2783e1b9-a8a4-450b-8b3b-eeb9c6bb9a38\")) {                    Plotly.newPlot(                        \"2783e1b9-a8a4-450b-8b3b-eeb9c6bb9a38\",                        [{\"alignmentgroup\":\"True\",\"hovertemplate\":\"value=%{x}<br>variable=%{y}<extra></extra>\",\"legendgroup\":\"\",\"marker\":{\"color\":\"#636efa\"},\"name\":\"\",\"notched\":false,\"offsetgroup\":\"\",\"orientation\":\"h\",\"showlegend\":false,\"x\":[-0.01805416248746239,-0.01905717151454356,-0.02507522567703102,-0.02306920762286857,-0.02006018054162484,-0.014042126379137376,-0.013039117352056095,-0.02206619859578729,-0.02407221664994985,-0.02206619859578729,-0.005015045135406182,-0.010030090270812364,-0.009027081243731194,-0.007021063189568633,-0.008024072216649913,-0.010030090270812364,-0.010030090270812364,-0.007021063189568633,-0.008024072216649913,-0.007021063189568633,-0.004012036108324901,-0.0020060180541624506,-0.0030090270812437314,-0.0010030090270811698,0.0030090270812437314,-0.005015045135406182,-0.005015045135406182,-0.0010030090270811698,-0.0010030090270811698,-0.0020060180541624506,-0.0010030090270811698,0.0,-0.0010030090270811698,-0.0010030090270811698,0.0,-0.0010030090270811698,-0.0010030090270811698,0.0,-0.0010030090270811698,-0.0010030090270811698,-0.0020060180541624506,-0.004012036108324901,0.0010030090270812808,0.0010030090270812808,-0.007021063189568633,0.004012036108325012,-0.0030090270812437314,0.0010030090270812808,0.0,0.005015045135406293,0.0,-0.0010030090270811698,0.0020060180541625616,0.0,0.0010030090270812808,0.0020060180541625616,-0.0010030090270811698,0.0,-0.0010030090270811698,0.0,0.005015045135406293,-0.0010030090270811698,0.0010030090270812808,-0.0010030090270811698,0.0,0.0,0.0010030090270812808,0.0020060180541625616,0.0,-0.0020060180541624506,0.015045135406218657,0.016048144433299938,0.009027081243731194,0.008024072216650024,0.016048144433299938,0.01805416248746239,0.014042126379137487,0.02306920762286868,-0.0010030090270811698,0.010030090270812475],\"x0\":\" \",\"xaxis\":\"x\",\"y\":[\"ever_married_Yes\",\"ever_married_Yes\",\"ever_married_Yes\",\"ever_married_Yes\",\"ever_married_Yes\",\"ever_married_Yes\",\"ever_married_Yes\",\"ever_married_Yes\",\"ever_married_Yes\",\"ever_married_Yes\",\"hypertension_Yes\",\"hypertension_Yes\",\"hypertension_Yes\",\"hypertension_Yes\",\"hypertension_Yes\",\"hypertension_Yes\",\"hypertension_Yes\",\"hypertension_Yes\",\"hypertension_Yes\",\"hypertension_Yes\",\"bmi\",\"bmi\",\"bmi\",\"bmi\",\"bmi\",\"bmi\",\"bmi\",\"bmi\",\"bmi\",\"bmi\",\"smoking_status_formerly smoked\",\"smoking_status_formerly smoked\",\"smoking_status_formerly smoked\",\"smoking_status_formerly smoked\",\"smoking_status_formerly smoked\",\"smoking_status_formerly smoked\",\"smoking_status_formerly smoked\",\"smoking_status_formerly smoked\",\"smoking_status_formerly smoked\",\"smoking_status_formerly smoked\",\"avg_glucose_level\",\"avg_glucose_level\",\"avg_glucose_level\",\"avg_glucose_level\",\"avg_glucose_level\",\"avg_glucose_level\",\"avg_glucose_level\",\"avg_glucose_level\",\"avg_glucose_level\",\"avg_glucose_level\",\"heart_disease_Yes\",\"heart_disease_Yes\",\"heart_disease_Yes\",\"heart_disease_Yes\",\"heart_disease_Yes\",\"heart_disease_Yes\",\"heart_disease_Yes\",\"heart_disease_Yes\",\"heart_disease_Yes\",\"heart_disease_Yes\",\"work_type_Self-employed\",\"work_type_Self-employed\",\"work_type_Self-employed\",\"work_type_Self-employed\",\"work_type_Self-employed\",\"work_type_Self-employed\",\"work_type_Self-employed\",\"work_type_Self-employed\",\"work_type_Self-employed\",\"work_type_Self-employed\",\"age\",\"age\",\"age\",\"age\",\"age\",\"age\",\"age\",\"age\",\"age\",\"age\"],\"y0\":\" \",\"yaxis\":\"y\",\"type\":\"box\"}],                        {\"template\":{\"data\":{\"histogram2dcontour\":[{\"type\":\"histogram2dcontour\",\"colorbar\":{\"outlinewidth\":0,\"ticks\":\"\"},\"colorscale\":[[0.0,\"#0d0887\"],[0.1111111111111111,\"#46039f\"],[0.2222222222222222,\"#7201a8\"],[0.3333333333333333,\"#9c179e\"],[0.4444444444444444,\"#bd3786\"],[0.5555555555555556,\"#d8576b\"],[0.6666666666666666,\"#ed7953\"],[0.7777777777777778,\"#fb9f3a\"],[0.8888888888888888,\"#fdca26\"],[1.0,\"#f0f921\"]]}],\"choropleth\":[{\"type\":\"choropleth\",\"colorbar\":{\"outlinewidth\":0,\"ticks\":\"\"}}],\"histogram2d\":[{\"type\":\"histogram2d\",\"colorbar\":{\"outlinewidth\":0,\"ticks\":\"\"},\"colorscale\":[[0.0,\"#0d0887\"],[0.1111111111111111,\"#46039f\"],[0.2222222222222222,\"#7201a8\"],[0.3333333333333333,\"#9c179e\"],[0.4444444444444444,\"#bd3786\"],[0.5555555555555556,\"#d8576b\"],[0.6666666666666666,\"#ed7953\"],[0.7777777777777778,\"#fb9f3a\"],[0.8888888888888888,\"#fdca26\"],[1.0,\"#f0f921\"]]}],\"heatmap\":[{\"type\":\"heatmap\",\"colorbar\":{\"outlinewidth\":0,\"ticks\":\"\"},\"colorscale\":[[0.0,\"#0d0887\"],[0.1111111111111111,\"#46039f\"],[0.2222222222222222,\"#7201a8\"],[0.3333333333333333,\"#9c179e\"],[0.4444444444444444,\"#bd3786\"],[0.5555555555555556,\"#d8576b\"],[0.6666666666666666,\"#ed7953\"],[0.7777777777777778,\"#fb9f3a\"],[0.8888888888888888,\"#fdca26\"],[1.0,\"#f0f921\"]]}],\"heatmapgl\":[{\"type\":\"heatmapgl\",\"colorbar\":{\"outlinewidth\":0,\"ticks\":\"\"},\"colorscale\":[[0.0,\"#0d0887\"],[0.1111111111111111,\"#46039f\"],[0.2222222222222222,\"#7201a8\"],[0.3333333333333333,\"#9c179e\"],[0.4444444444444444,\"#bd3786\"],[0.5555555555555556,\"#d8576b\"],[0.6666666666666666,\"#ed7953\"],[0.7777777777777778,\"#fb9f3a\"],[0.8888888888888888,\"#fdca26\"],[1.0,\"#f0f921\"]]}],\"contourcarpet\":[{\"type\":\"contourcarpet\",\"colorbar\":{\"outlinewidth\":0,\"ticks\":\"\"}}],\"contour\":[{\"type\":\"contour\",\"colorbar\":{\"outlinewidth\":0,\"ticks\":\"\"},\"colorscale\":[[0.0,\"#0d0887\"],[0.1111111111111111,\"#46039f\"],[0.2222222222222222,\"#7201a8\"],[0.3333333333333333,\"#9c179e\"],[0.4444444444444444,\"#bd3786\"],[0.5555555555555556,\"#d8576b\"],[0.6666666666666666,\"#ed7953\"],[0.7777777777777778,\"#fb9f3a\"],[0.8888888888888888,\"#fdca26\"],[1.0,\"#f0f921\"]]}],\"surface\":[{\"type\":\"surface\",\"colorbar\":{\"outlinewidth\":0,\"ticks\":\"\"},\"colorscale\":[[0.0,\"#0d0887\"],[0.1111111111111111,\"#46039f\"],[0.2222222222222222,\"#7201a8\"],[0.3333333333333333,\"#9c179e\"],[0.4444444444444444,\"#bd3786\"],[0.5555555555555556,\"#d8576b\"],[0.6666666666666666,\"#ed7953\"],[0.7777777777777778,\"#fb9f3a\"],[0.8888888888888888,\"#fdca26\"],[1.0,\"#f0f921\"]]}],\"mesh3d\":[{\"type\":\"mesh3d\",\"colorbar\":{\"outlinewidth\":0,\"ticks\":\"\"}}],\"scatter\":[{\"fillpattern\":{\"fillmode\":\"overlay\",\"size\":10,\"solidity\":0.2},\"type\":\"scatter\"}],\"parcoords\":[{\"type\":\"parcoords\",\"line\":{\"colorbar\":{\"outlinewidth\":0,\"ticks\":\"\"}}}],\"scatterpolargl\":[{\"type\":\"scatterpolargl\",\"marker\":{\"colorbar\":{\"outlinewidth\":0,\"ticks\":\"\"}}}],\"bar\":[{\"error_x\":{\"color\":\"#2a3f5f\"},\"error_y\":{\"color\":\"#2a3f5f\"},\"marker\":{\"line\":{\"color\":\"#E5ECF6\",\"width\":0.5},\"pattern\":{\"fillmode\":\"overlay\",\"size\":10,\"solidity\":0.2}},\"type\":\"bar\"}],\"scattergeo\":[{\"type\":\"scattergeo\",\"marker\":{\"colorbar\":{\"outlinewidth\":0,\"ticks\":\"\"}}}],\"scatterpolar\":[{\"type\":\"scatterpolar\",\"marker\":{\"colorbar\":{\"outlinewidth\":0,\"ticks\":\"\"}}}],\"histogram\":[{\"marker\":{\"pattern\":{\"fillmode\":\"overlay\",\"size\":10,\"solidity\":0.2}},\"type\":\"histogram\"}],\"scattergl\":[{\"type\":\"scattergl\",\"marker\":{\"colorbar\":{\"outlinewidth\":0,\"ticks\":\"\"}}}],\"scatter3d\":[{\"type\":\"scatter3d\",\"line\":{\"colorbar\":{\"outlinewidth\":0,\"ticks\":\"\"}},\"marker\":{\"colorbar\":{\"outlinewidth\":0,\"ticks\":\"\"}}}],\"scattermapbox\":[{\"type\":\"scattermapbox\",\"marker\":{\"colorbar\":{\"outlinewidth\":0,\"ticks\":\"\"}}}],\"scatterternary\":[{\"type\":\"scatterternary\",\"marker\":{\"colorbar\":{\"outlinewidth\":0,\"ticks\":\"\"}}}],\"scattercarpet\":[{\"type\":\"scattercarpet\",\"marker\":{\"colorbar\":{\"outlinewidth\":0,\"ticks\":\"\"}}}],\"carpet\":[{\"aaxis\":{\"endlinecolor\":\"#2a3f5f\",\"gridcolor\":\"white\",\"linecolor\":\"white\",\"minorgridcolor\":\"white\",\"startlinecolor\":\"#2a3f5f\"},\"baxis\":{\"endlinecolor\":\"#2a3f5f\",\"gridcolor\":\"white\",\"linecolor\":\"white\",\"minorgridcolor\":\"white\",\"startlinecolor\":\"#2a3f5f\"},\"type\":\"carpet\"}],\"table\":[{\"cells\":{\"fill\":{\"color\":\"#EBF0F8\"},\"line\":{\"color\":\"white\"}},\"header\":{\"fill\":{\"color\":\"#C8D4E3\"},\"line\":{\"color\":\"white\"}},\"type\":\"table\"}],\"barpolar\":[{\"marker\":{\"line\":{\"color\":\"#E5ECF6\",\"width\":0.5},\"pattern\":{\"fillmode\":\"overlay\",\"size\":10,\"solidity\":0.2}},\"type\":\"barpolar\"}],\"pie\":[{\"automargin\":true,\"type\":\"pie\"}]},\"layout\":{\"autotypenumbers\":\"strict\",\"colorway\":[\"#636efa\",\"#EF553B\",\"#00cc96\",\"#ab63fa\",\"#FFA15A\",\"#19d3f3\",\"#FF6692\",\"#B6E880\",\"#FF97FF\",\"#FECB52\"],\"font\":{\"color\":\"#2a3f5f\"},\"hovermode\":\"closest\",\"hoverlabel\":{\"align\":\"left\"},\"paper_bgcolor\":\"white\",\"plot_bgcolor\":\"#E5ECF6\",\"polar\":{\"bgcolor\":\"#E5ECF6\",\"angularaxis\":{\"gridcolor\":\"white\",\"linecolor\":\"white\",\"ticks\":\"\"},\"radialaxis\":{\"gridcolor\":\"white\",\"linecolor\":\"white\",\"ticks\":\"\"}},\"ternary\":{\"bgcolor\":\"#E5ECF6\",\"aaxis\":{\"gridcolor\":\"white\",\"linecolor\":\"white\",\"ticks\":\"\"},\"baxis\":{\"gridcolor\":\"white\",\"linecolor\":\"white\",\"ticks\":\"\"},\"caxis\":{\"gridcolor\":\"white\",\"linecolor\":\"white\",\"ticks\":\"\"}},\"coloraxis\":{\"colorbar\":{\"outlinewidth\":0,\"ticks\":\"\"}},\"colorscale\":{\"sequential\":[[0.0,\"#0d0887\"],[0.1111111111111111,\"#46039f\"],[0.2222222222222222,\"#7201a8\"],[0.3333333333333333,\"#9c179e\"],[0.4444444444444444,\"#bd3786\"],[0.5555555555555556,\"#d8576b\"],[0.6666666666666666,\"#ed7953\"],[0.7777777777777778,\"#fb9f3a\"],[0.8888888888888888,\"#fdca26\"],[1.0,\"#f0f921\"]],\"sequentialminus\":[[0.0,\"#0d0887\"],[0.1111111111111111,\"#46039f\"],[0.2222222222222222,\"#7201a8\"],[0.3333333333333333,\"#9c179e\"],[0.4444444444444444,\"#bd3786\"],[0.5555555555555556,\"#d8576b\"],[0.6666666666666666,\"#ed7953\"],[0.7777777777777778,\"#fb9f3a\"],[0.8888888888888888,\"#fdca26\"],[1.0,\"#f0f921\"]],\"diverging\":[[0,\"#8e0152\"],[0.1,\"#c51b7d\"],[0.2,\"#de77ae\"],[0.3,\"#f1b6da\"],[0.4,\"#fde0ef\"],[0.5,\"#f7f7f7\"],[0.6,\"#e6f5d0\"],[0.7,\"#b8e186\"],[0.8,\"#7fbc41\"],[0.9,\"#4d9221\"],[1,\"#276419\"]]},\"xaxis\":{\"gridcolor\":\"white\",\"linecolor\":\"white\",\"ticks\":\"\",\"title\":{\"standoff\":15},\"zerolinecolor\":\"white\",\"automargin\":true,\"zerolinewidth\":2},\"yaxis\":{\"gridcolor\":\"white\",\"linecolor\":\"white\",\"ticks\":\"\",\"title\":{\"standoff\":15},\"zerolinecolor\":\"white\",\"automargin\":true,\"zerolinewidth\":2},\"scene\":{\"xaxis\":{\"backgroundcolor\":\"#E5ECF6\",\"gridcolor\":\"white\",\"linecolor\":\"white\",\"showbackground\":true,\"ticks\":\"\",\"zerolinecolor\":\"white\",\"gridwidth\":2},\"yaxis\":{\"backgroundcolor\":\"#E5ECF6\",\"gridcolor\":\"white\",\"linecolor\":\"white\",\"showbackground\":true,\"ticks\":\"\",\"zerolinecolor\":\"white\",\"gridwidth\":2},\"zaxis\":{\"backgroundcolor\":\"#E5ECF6\",\"gridcolor\":\"white\",\"linecolor\":\"white\",\"showbackground\":true,\"ticks\":\"\",\"zerolinecolor\":\"white\",\"gridwidth\":2}},\"shapedefaults\":{\"line\":{\"color\":\"#2a3f5f\"}},\"annotationdefaults\":{\"arrowcolor\":\"#2a3f5f\",\"arrowhead\":0,\"arrowwidth\":1},\"geo\":{\"bgcolor\":\"white\",\"landcolor\":\"#E5ECF6\",\"subunitcolor\":\"white\",\"showland\":true,\"showlakes\":true,\"lakecolor\":\"white\"},\"title\":{\"x\":0.05},\"mapbox\":{\"style\":\"light\"}}},\"xaxis\":{\"anchor\":\"y\",\"domain\":[0.0,1.0],\"title\":{\"text\":\"value\"}},\"yaxis\":{\"anchor\":\"x\",\"domain\":[0.0,1.0],\"title\":{\"text\":\"variable\"}},\"legend\":{\"tracegroupgap\":0},\"margin\":{\"t\":60},\"boxmode\":\"group\"},                        {\"responsive\": true}                    ).then(function(){\n",
       "                            \n",
       "var gd = document.getElementById('2783e1b9-a8a4-450b-8b3b-eeb9c6bb9a38');\n",
       "var x = new MutationObserver(function (mutations, observer) {{\n",
       "        var display = window.getComputedStyle(gd).display;\n",
       "        if (!display || display === 'none') {{\n",
       "            console.log([gd, 'removed!']);\n",
       "            Plotly.purge(gd);\n",
       "            observer.disconnect();\n",
       "        }}\n",
       "}});\n",
       "\n",
       "// Listen for the removal of the full notebook cells\n",
       "var notebookContainer = gd.closest('#notebook-container');\n",
       "if (notebookContainer) {{\n",
       "    x.observe(notebookContainer, {childList: true});\n",
       "}}\n",
       "\n",
       "// Listen for the clearing of the current output cell\n",
       "var outputEl = gd.closest('.output');\n",
       "if (outputEl) {{\n",
       "    x.observe(outputEl, {childList: true});\n",
       "}}\n",
       "\n",
       "                        })                };                });            </script>        </div>"
      ]
     },
     "metadata": {},
     "output_type": "display_data"
    }
   ],
   "source": [
    "pvi_for(xgb_model)"
   ]
  },
  {
   "cell_type": "code",
   "execution_count": 24,
   "metadata": {},
   "outputs": [
    {
     "data": {
      "application/vnd.plotly.v1+json": {
       "config": {
        "plotlyServerURL": "https://plot.ly"
       },
       "data": [
        {
         "alignmentgroup": "True",
         "hovertemplate": "value=%{x}<br>variable=%{y}<extra></extra>",
         "legendgroup": "",
         "marker": {
          "color": "#636efa"
         },
         "name": "",
         "notched": false,
         "offsetgroup": "",
         "orientation": "h",
         "showlegend": false,
         "type": "box",
         "x": [
          -0.006018054162487463,
          -0.009027081243731194,
          -0.006018054162487463,
          -0.005015045135406182,
          -0.0020060180541624506,
          -0.007021063189568744,
          -0.005015045135406182,
          0.0010030090270812808,
          -0.0030090270812437314,
          -0.0010030090270812808,
          -0.004012036108325012,
          -0.0020060180541624506,
          -0.0020060180541624506,
          -0.0030090270812437314,
          -0.004012036108325012,
          -0.004012036108325012,
          -0.004012036108325012,
          -0.004012036108325012,
          -0.0020060180541624506,
          -0.0030090270812437314,
          -0.0010030090270812808,
          -0.006018054162487463,
          0.0010030090270812808,
          0.0010030090270812808,
          -0.0010030090270812808,
          -0.0020060180541624506,
          -0.005015045135406182,
          0.0010030090270812808,
          -0.004012036108325012,
          -0.006018054162487463,
          0,
          0.0010030090270812808,
          -0.0010030090270812808,
          0.0010030090270812808,
          0.0010030090270812808,
          0,
          0,
          0,
          0,
          0,
          0.0020060180541624506,
          -0.0010030090270812808,
          0,
          0.0020060180541624506,
          0.005015045135406182,
          0,
          0.0030090270812437314,
          -0.0020060180541624506,
          0.005015045135406182,
          -0.004012036108325012,
          0,
          0.0010030090270812808,
          0.0020060180541624506,
          0.0020060180541624506,
          0.0010030090270812808,
          0.0010030090270812808,
          0.0030090270812437314,
          0.0010030090270812808,
          0.0010030090270812808,
          0.0010030090270812808,
          0.004012036108324901,
          0.0020060180541624506,
          0.0020060180541624506,
          0.0030090270812437314,
          0.0030090270812437314,
          0.005015045135406182,
          0.004012036108324901,
          0.004012036108324901,
          0.0030090270812437314,
          0.0030090270812437314,
          0.0030090270812437314,
          0.005015045135406182,
          0.005015045135406182,
          0.004012036108324901,
          0.0030090270812437314,
          0.004012036108324901,
          0.0010030090270812808,
          0.004012036108324901,
          0.004012036108324901,
          0.0020060180541624506,
          0.006018054162487463,
          0.0030090270812437314,
          0.006018054162487463,
          0.0030090270812437314,
          0.0020060180541624506,
          0.004012036108324901,
          0.005015045135406182,
          0.004012036108324901,
          0.005015045135406182,
          0.005015045135406182,
          0.010030090270812364,
          0.004012036108324901,
          0.006018054162487463,
          0.004012036108324901,
          0.005015045135406182,
          0.0030090270812437314,
          0.006018054162487463,
          0.005015045135406182,
          0.006018054162487463,
          0.004012036108324901,
          0.010030090270812364,
          0.010030090270812364,
          0.006018054162487463,
          -0.0010030090270812808,
          0.007021063189568633,
          0.006018054162487463,
          0.007021063189568633,
          -0.0020060180541624506,
          0.011033099297893645,
          0.012036108324974926,
          0.009027081243731194,
          0.004012036108324901,
          0.010030090270812364,
          -0.0020060180541624506,
          0.016048144433299827,
          0.011033099297893645,
          0.012036108324974926,
          0.010030090270812364,
          0.017051153460381108,
          0.006018054162487463,
          0.02106318956870612,
          0.016048144433299827,
          0.005015045135406182,
          0.01905717151454356,
          0.016048144433299827,
          0.02507522567703102,
          0.01905717151454356,
          0.010030090270812364,
          0.017051153460381108,
          0.02006018054162484,
          0.01905717151454356,
          0.027081243731193583,
          0.016048144433299827,
          0.01805416248746239,
          0.012036108324974926,
          0.016048144433299827,
          0.017051153460381108,
          0.02006018054162484,
          0.02006018054162484,
          0.02106318956870612,
          0.02106318956870612,
          0.017051153460381108,
          0.02507522567703102,
          0.016048144433299827,
          0.015045135406218657,
          0.02306920762286857,
          0.01905717151454356,
          0.02507522567703102,
          0.029087261785356033,
          0.029087261785356033,
          0.07321965897693072,
          0.08926780341023066,
          0.07923771313941819,
          0.07723169508525574,
          0.07522567703109329,
          0.09127382146439311,
          0.08826479438314938,
          0.0922768304914744,
          0.10130391173520559,
          0.07522567703109329
         ],
         "x0": " ",
         "xaxis": "x",
         "y": [
          "smoking_status_Unknown",
          "smoking_status_Unknown",
          "smoking_status_Unknown",
          "smoking_status_Unknown",
          "smoking_status_Unknown",
          "smoking_status_Unknown",
          "smoking_status_Unknown",
          "smoking_status_Unknown",
          "smoking_status_Unknown",
          "smoking_status_Unknown",
          "bmi",
          "bmi",
          "bmi",
          "bmi",
          "bmi",
          "bmi",
          "bmi",
          "bmi",
          "bmi",
          "bmi",
          "hypertension_Yes",
          "hypertension_Yes",
          "hypertension_Yes",
          "hypertension_Yes",
          "hypertension_Yes",
          "hypertension_Yes",
          "hypertension_Yes",
          "hypertension_Yes",
          "hypertension_Yes",
          "hypertension_Yes",
          "Residence_type_Urban",
          "Residence_type_Urban",
          "Residence_type_Urban",
          "Residence_type_Urban",
          "Residence_type_Urban",
          "Residence_type_Urban",
          "Residence_type_Urban",
          "Residence_type_Urban",
          "Residence_type_Urban",
          "Residence_type_Urban",
          "avg_glucose_level",
          "avg_glucose_level",
          "avg_glucose_level",
          "avg_glucose_level",
          "avg_glucose_level",
          "avg_glucose_level",
          "avg_glucose_level",
          "avg_glucose_level",
          "avg_glucose_level",
          "avg_glucose_level",
          "ever_married_Yes",
          "ever_married_Yes",
          "ever_married_Yes",
          "ever_married_Yes",
          "ever_married_Yes",
          "ever_married_Yes",
          "ever_married_Yes",
          "ever_married_Yes",
          "ever_married_Yes",
          "ever_married_Yes",
          "heart_disease_Yes",
          "heart_disease_Yes",
          "heart_disease_Yes",
          "heart_disease_Yes",
          "heart_disease_Yes",
          "heart_disease_Yes",
          "heart_disease_Yes",
          "heart_disease_Yes",
          "heart_disease_Yes",
          "heart_disease_Yes",
          "gender_Male",
          "gender_Male",
          "gender_Male",
          "gender_Male",
          "gender_Male",
          "gender_Male",
          "gender_Male",
          "gender_Male",
          "gender_Male",
          "gender_Male",
          "work_type_children",
          "work_type_children",
          "work_type_children",
          "work_type_children",
          "work_type_children",
          "work_type_children",
          "work_type_children",
          "work_type_children",
          "work_type_children",
          "work_type_children",
          "smoking_status_smokes",
          "smoking_status_smokes",
          "smoking_status_smokes",
          "smoking_status_smokes",
          "smoking_status_smokes",
          "smoking_status_smokes",
          "smoking_status_smokes",
          "smoking_status_smokes",
          "smoking_status_smokes",
          "smoking_status_smokes",
          "smoking_status_formerly smoked",
          "smoking_status_formerly smoked",
          "smoking_status_formerly smoked",
          "smoking_status_formerly smoked",
          "smoking_status_formerly smoked",
          "smoking_status_formerly smoked",
          "smoking_status_formerly smoked",
          "smoking_status_formerly smoked",
          "smoking_status_formerly smoked",
          "smoking_status_formerly smoked",
          "work_type_Self-employed",
          "work_type_Self-employed",
          "work_type_Self-employed",
          "work_type_Self-employed",
          "work_type_Self-employed",
          "work_type_Self-employed",
          "work_type_Self-employed",
          "work_type_Self-employed",
          "work_type_Self-employed",
          "work_type_Self-employed",
          "smoking_status_never smoked",
          "smoking_status_never smoked",
          "smoking_status_never smoked",
          "smoking_status_never smoked",
          "smoking_status_never smoked",
          "smoking_status_never smoked",
          "smoking_status_never smoked",
          "smoking_status_never smoked",
          "smoking_status_never smoked",
          "smoking_status_never smoked",
          "work_type_Private",
          "work_type_Private",
          "work_type_Private",
          "work_type_Private",
          "work_type_Private",
          "work_type_Private",
          "work_type_Private",
          "work_type_Private",
          "work_type_Private",
          "work_type_Private",
          "work_type_Govt_job",
          "work_type_Govt_job",
          "work_type_Govt_job",
          "work_type_Govt_job",
          "work_type_Govt_job",
          "work_type_Govt_job",
          "work_type_Govt_job",
          "work_type_Govt_job",
          "work_type_Govt_job",
          "work_type_Govt_job",
          "age",
          "age",
          "age",
          "age",
          "age",
          "age",
          "age",
          "age",
          "age",
          "age"
         ],
         "y0": " ",
         "yaxis": "y"
        }
       ],
       "layout": {
        "boxmode": "group",
        "legend": {
         "tracegroupgap": 0
        },
        "margin": {
         "t": 60
        },
        "template": {
         "data": {
          "bar": [
           {
            "error_x": {
             "color": "#2a3f5f"
            },
            "error_y": {
             "color": "#2a3f5f"
            },
            "marker": {
             "line": {
              "color": "#E5ECF6",
              "width": 0.5
             },
             "pattern": {
              "fillmode": "overlay",
              "size": 10,
              "solidity": 0.2
             }
            },
            "type": "bar"
           }
          ],
          "barpolar": [
           {
            "marker": {
             "line": {
              "color": "#E5ECF6",
              "width": 0.5
             },
             "pattern": {
              "fillmode": "overlay",
              "size": 10,
              "solidity": 0.2
             }
            },
            "type": "barpolar"
           }
          ],
          "carpet": [
           {
            "aaxis": {
             "endlinecolor": "#2a3f5f",
             "gridcolor": "white",
             "linecolor": "white",
             "minorgridcolor": "white",
             "startlinecolor": "#2a3f5f"
            },
            "baxis": {
             "endlinecolor": "#2a3f5f",
             "gridcolor": "white",
             "linecolor": "white",
             "minorgridcolor": "white",
             "startlinecolor": "#2a3f5f"
            },
            "type": "carpet"
           }
          ],
          "choropleth": [
           {
            "colorbar": {
             "outlinewidth": 0,
             "ticks": ""
            },
            "type": "choropleth"
           }
          ],
          "contour": [
           {
            "colorbar": {
             "outlinewidth": 0,
             "ticks": ""
            },
            "colorscale": [
             [
              0,
              "#0d0887"
             ],
             [
              0.1111111111111111,
              "#46039f"
             ],
             [
              0.2222222222222222,
              "#7201a8"
             ],
             [
              0.3333333333333333,
              "#9c179e"
             ],
             [
              0.4444444444444444,
              "#bd3786"
             ],
             [
              0.5555555555555556,
              "#d8576b"
             ],
             [
              0.6666666666666666,
              "#ed7953"
             ],
             [
              0.7777777777777778,
              "#fb9f3a"
             ],
             [
              0.8888888888888888,
              "#fdca26"
             ],
             [
              1,
              "#f0f921"
             ]
            ],
            "type": "contour"
           }
          ],
          "contourcarpet": [
           {
            "colorbar": {
             "outlinewidth": 0,
             "ticks": ""
            },
            "type": "contourcarpet"
           }
          ],
          "heatmap": [
           {
            "colorbar": {
             "outlinewidth": 0,
             "ticks": ""
            },
            "colorscale": [
             [
              0,
              "#0d0887"
             ],
             [
              0.1111111111111111,
              "#46039f"
             ],
             [
              0.2222222222222222,
              "#7201a8"
             ],
             [
              0.3333333333333333,
              "#9c179e"
             ],
             [
              0.4444444444444444,
              "#bd3786"
             ],
             [
              0.5555555555555556,
              "#d8576b"
             ],
             [
              0.6666666666666666,
              "#ed7953"
             ],
             [
              0.7777777777777778,
              "#fb9f3a"
             ],
             [
              0.8888888888888888,
              "#fdca26"
             ],
             [
              1,
              "#f0f921"
             ]
            ],
            "type": "heatmap"
           }
          ],
          "heatmapgl": [
           {
            "colorbar": {
             "outlinewidth": 0,
             "ticks": ""
            },
            "colorscale": [
             [
              0,
              "#0d0887"
             ],
             [
              0.1111111111111111,
              "#46039f"
             ],
             [
              0.2222222222222222,
              "#7201a8"
             ],
             [
              0.3333333333333333,
              "#9c179e"
             ],
             [
              0.4444444444444444,
              "#bd3786"
             ],
             [
              0.5555555555555556,
              "#d8576b"
             ],
             [
              0.6666666666666666,
              "#ed7953"
             ],
             [
              0.7777777777777778,
              "#fb9f3a"
             ],
             [
              0.8888888888888888,
              "#fdca26"
             ],
             [
              1,
              "#f0f921"
             ]
            ],
            "type": "heatmapgl"
           }
          ],
          "histogram": [
           {
            "marker": {
             "pattern": {
              "fillmode": "overlay",
              "size": 10,
              "solidity": 0.2
             }
            },
            "type": "histogram"
           }
          ],
          "histogram2d": [
           {
            "colorbar": {
             "outlinewidth": 0,
             "ticks": ""
            },
            "colorscale": [
             [
              0,
              "#0d0887"
             ],
             [
              0.1111111111111111,
              "#46039f"
             ],
             [
              0.2222222222222222,
              "#7201a8"
             ],
             [
              0.3333333333333333,
              "#9c179e"
             ],
             [
              0.4444444444444444,
              "#bd3786"
             ],
             [
              0.5555555555555556,
              "#d8576b"
             ],
             [
              0.6666666666666666,
              "#ed7953"
             ],
             [
              0.7777777777777778,
              "#fb9f3a"
             ],
             [
              0.8888888888888888,
              "#fdca26"
             ],
             [
              1,
              "#f0f921"
             ]
            ],
            "type": "histogram2d"
           }
          ],
          "histogram2dcontour": [
           {
            "colorbar": {
             "outlinewidth": 0,
             "ticks": ""
            },
            "colorscale": [
             [
              0,
              "#0d0887"
             ],
             [
              0.1111111111111111,
              "#46039f"
             ],
             [
              0.2222222222222222,
              "#7201a8"
             ],
             [
              0.3333333333333333,
              "#9c179e"
             ],
             [
              0.4444444444444444,
              "#bd3786"
             ],
             [
              0.5555555555555556,
              "#d8576b"
             ],
             [
              0.6666666666666666,
              "#ed7953"
             ],
             [
              0.7777777777777778,
              "#fb9f3a"
             ],
             [
              0.8888888888888888,
              "#fdca26"
             ],
             [
              1,
              "#f0f921"
             ]
            ],
            "type": "histogram2dcontour"
           }
          ],
          "mesh3d": [
           {
            "colorbar": {
             "outlinewidth": 0,
             "ticks": ""
            },
            "type": "mesh3d"
           }
          ],
          "parcoords": [
           {
            "line": {
             "colorbar": {
              "outlinewidth": 0,
              "ticks": ""
             }
            },
            "type": "parcoords"
           }
          ],
          "pie": [
           {
            "automargin": true,
            "type": "pie"
           }
          ],
          "scatter": [
           {
            "fillpattern": {
             "fillmode": "overlay",
             "size": 10,
             "solidity": 0.2
            },
            "type": "scatter"
           }
          ],
          "scatter3d": [
           {
            "line": {
             "colorbar": {
              "outlinewidth": 0,
              "ticks": ""
             }
            },
            "marker": {
             "colorbar": {
              "outlinewidth": 0,
              "ticks": ""
             }
            },
            "type": "scatter3d"
           }
          ],
          "scattercarpet": [
           {
            "marker": {
             "colorbar": {
              "outlinewidth": 0,
              "ticks": ""
             }
            },
            "type": "scattercarpet"
           }
          ],
          "scattergeo": [
           {
            "marker": {
             "colorbar": {
              "outlinewidth": 0,
              "ticks": ""
             }
            },
            "type": "scattergeo"
           }
          ],
          "scattergl": [
           {
            "marker": {
             "colorbar": {
              "outlinewidth": 0,
              "ticks": ""
             }
            },
            "type": "scattergl"
           }
          ],
          "scattermapbox": [
           {
            "marker": {
             "colorbar": {
              "outlinewidth": 0,
              "ticks": ""
             }
            },
            "type": "scattermapbox"
           }
          ],
          "scatterpolar": [
           {
            "marker": {
             "colorbar": {
              "outlinewidth": 0,
              "ticks": ""
             }
            },
            "type": "scatterpolar"
           }
          ],
          "scatterpolargl": [
           {
            "marker": {
             "colorbar": {
              "outlinewidth": 0,
              "ticks": ""
             }
            },
            "type": "scatterpolargl"
           }
          ],
          "scatterternary": [
           {
            "marker": {
             "colorbar": {
              "outlinewidth": 0,
              "ticks": ""
             }
            },
            "type": "scatterternary"
           }
          ],
          "surface": [
           {
            "colorbar": {
             "outlinewidth": 0,
             "ticks": ""
            },
            "colorscale": [
             [
              0,
              "#0d0887"
             ],
             [
              0.1111111111111111,
              "#46039f"
             ],
             [
              0.2222222222222222,
              "#7201a8"
             ],
             [
              0.3333333333333333,
              "#9c179e"
             ],
             [
              0.4444444444444444,
              "#bd3786"
             ],
             [
              0.5555555555555556,
              "#d8576b"
             ],
             [
              0.6666666666666666,
              "#ed7953"
             ],
             [
              0.7777777777777778,
              "#fb9f3a"
             ],
             [
              0.8888888888888888,
              "#fdca26"
             ],
             [
              1,
              "#f0f921"
             ]
            ],
            "type": "surface"
           }
          ],
          "table": [
           {
            "cells": {
             "fill": {
              "color": "#EBF0F8"
             },
             "line": {
              "color": "white"
             }
            },
            "header": {
             "fill": {
              "color": "#C8D4E3"
             },
             "line": {
              "color": "white"
             }
            },
            "type": "table"
           }
          ]
         },
         "layout": {
          "annotationdefaults": {
           "arrowcolor": "#2a3f5f",
           "arrowhead": 0,
           "arrowwidth": 1
          },
          "autotypenumbers": "strict",
          "coloraxis": {
           "colorbar": {
            "outlinewidth": 0,
            "ticks": ""
           }
          },
          "colorscale": {
           "diverging": [
            [
             0,
             "#8e0152"
            ],
            [
             0.1,
             "#c51b7d"
            ],
            [
             0.2,
             "#de77ae"
            ],
            [
             0.3,
             "#f1b6da"
            ],
            [
             0.4,
             "#fde0ef"
            ],
            [
             0.5,
             "#f7f7f7"
            ],
            [
             0.6,
             "#e6f5d0"
            ],
            [
             0.7,
             "#b8e186"
            ],
            [
             0.8,
             "#7fbc41"
            ],
            [
             0.9,
             "#4d9221"
            ],
            [
             1,
             "#276419"
            ]
           ],
           "sequential": [
            [
             0,
             "#0d0887"
            ],
            [
             0.1111111111111111,
             "#46039f"
            ],
            [
             0.2222222222222222,
             "#7201a8"
            ],
            [
             0.3333333333333333,
             "#9c179e"
            ],
            [
             0.4444444444444444,
             "#bd3786"
            ],
            [
             0.5555555555555556,
             "#d8576b"
            ],
            [
             0.6666666666666666,
             "#ed7953"
            ],
            [
             0.7777777777777778,
             "#fb9f3a"
            ],
            [
             0.8888888888888888,
             "#fdca26"
            ],
            [
             1,
             "#f0f921"
            ]
           ],
           "sequentialminus": [
            [
             0,
             "#0d0887"
            ],
            [
             0.1111111111111111,
             "#46039f"
            ],
            [
             0.2222222222222222,
             "#7201a8"
            ],
            [
             0.3333333333333333,
             "#9c179e"
            ],
            [
             0.4444444444444444,
             "#bd3786"
            ],
            [
             0.5555555555555556,
             "#d8576b"
            ],
            [
             0.6666666666666666,
             "#ed7953"
            ],
            [
             0.7777777777777778,
             "#fb9f3a"
            ],
            [
             0.8888888888888888,
             "#fdca26"
            ],
            [
             1,
             "#f0f921"
            ]
           ]
          },
          "colorway": [
           "#636efa",
           "#EF553B",
           "#00cc96",
           "#ab63fa",
           "#FFA15A",
           "#19d3f3",
           "#FF6692",
           "#B6E880",
           "#FF97FF",
           "#FECB52"
          ],
          "font": {
           "color": "#2a3f5f"
          },
          "geo": {
           "bgcolor": "white",
           "lakecolor": "white",
           "landcolor": "#E5ECF6",
           "showlakes": true,
           "showland": true,
           "subunitcolor": "white"
          },
          "hoverlabel": {
           "align": "left"
          },
          "hovermode": "closest",
          "mapbox": {
           "style": "light"
          },
          "paper_bgcolor": "white",
          "plot_bgcolor": "#E5ECF6",
          "polar": {
           "angularaxis": {
            "gridcolor": "white",
            "linecolor": "white",
            "ticks": ""
           },
           "bgcolor": "#E5ECF6",
           "radialaxis": {
            "gridcolor": "white",
            "linecolor": "white",
            "ticks": ""
           }
          },
          "scene": {
           "xaxis": {
            "backgroundcolor": "#E5ECF6",
            "gridcolor": "white",
            "gridwidth": 2,
            "linecolor": "white",
            "showbackground": true,
            "ticks": "",
            "zerolinecolor": "white"
           },
           "yaxis": {
            "backgroundcolor": "#E5ECF6",
            "gridcolor": "white",
            "gridwidth": 2,
            "linecolor": "white",
            "showbackground": true,
            "ticks": "",
            "zerolinecolor": "white"
           },
           "zaxis": {
            "backgroundcolor": "#E5ECF6",
            "gridcolor": "white",
            "gridwidth": 2,
            "linecolor": "white",
            "showbackground": true,
            "ticks": "",
            "zerolinecolor": "white"
           }
          },
          "shapedefaults": {
           "line": {
            "color": "#2a3f5f"
           }
          },
          "ternary": {
           "aaxis": {
            "gridcolor": "white",
            "linecolor": "white",
            "ticks": ""
           },
           "baxis": {
            "gridcolor": "white",
            "linecolor": "white",
            "ticks": ""
           },
           "bgcolor": "#E5ECF6",
           "caxis": {
            "gridcolor": "white",
            "linecolor": "white",
            "ticks": ""
           }
          },
          "title": {
           "x": 0.05
          },
          "xaxis": {
           "automargin": true,
           "gridcolor": "white",
           "linecolor": "white",
           "ticks": "",
           "title": {
            "standoff": 15
           },
           "zerolinecolor": "white",
           "zerolinewidth": 2
          },
          "yaxis": {
           "automargin": true,
           "gridcolor": "white",
           "linecolor": "white",
           "ticks": "",
           "title": {
            "standoff": 15
           },
           "zerolinecolor": "white",
           "zerolinewidth": 2
          }
         }
        },
        "xaxis": {
         "anchor": "y",
         "domain": [
          0,
          1
         ],
         "title": {
          "text": "value"
         }
        },
        "yaxis": {
         "anchor": "x",
         "domain": [
          0,
          1
         ],
         "title": {
          "text": "variable"
         }
        }
       }
      },
      "text/html": [
       "<div>                            <div id=\"65886579-4bdd-477d-b0b7-7883322f69c3\" class=\"plotly-graph-div\" style=\"height:525px; width:100%;\"></div>            <script type=\"text/javascript\">                require([\"plotly\"], function(Plotly) {                    window.PLOTLYENV=window.PLOTLYENV || {};                                    if (document.getElementById(\"65886579-4bdd-477d-b0b7-7883322f69c3\")) {                    Plotly.newPlot(                        \"65886579-4bdd-477d-b0b7-7883322f69c3\",                        [{\"alignmentgroup\":\"True\",\"hovertemplate\":\"value=%{x}<br>variable=%{y}<extra></extra>\",\"legendgroup\":\"\",\"marker\":{\"color\":\"#636efa\"},\"name\":\"\",\"notched\":false,\"offsetgroup\":\"\",\"orientation\":\"h\",\"showlegend\":false,\"x\":[-0.006018054162487463,-0.009027081243731194,-0.006018054162487463,-0.005015045135406182,-0.0020060180541624506,-0.007021063189568744,-0.005015045135406182,0.0010030090270812808,-0.0030090270812437314,-0.0010030090270812808,-0.004012036108325012,-0.0020060180541624506,-0.0020060180541624506,-0.0030090270812437314,-0.004012036108325012,-0.004012036108325012,-0.004012036108325012,-0.004012036108325012,-0.0020060180541624506,-0.0030090270812437314,-0.0010030090270812808,-0.006018054162487463,0.0010030090270812808,0.0010030090270812808,-0.0010030090270812808,-0.0020060180541624506,-0.005015045135406182,0.0010030090270812808,-0.004012036108325012,-0.006018054162487463,0.0,0.0010030090270812808,-0.0010030090270812808,0.0010030090270812808,0.0010030090270812808,0.0,0.0,0.0,0.0,0.0,0.0020060180541624506,-0.0010030090270812808,0.0,0.0020060180541624506,0.005015045135406182,0.0,0.0030090270812437314,-0.0020060180541624506,0.005015045135406182,-0.004012036108325012,0.0,0.0010030090270812808,0.0020060180541624506,0.0020060180541624506,0.0010030090270812808,0.0010030090270812808,0.0030090270812437314,0.0010030090270812808,0.0010030090270812808,0.0010030090270812808,0.004012036108324901,0.0020060180541624506,0.0020060180541624506,0.0030090270812437314,0.0030090270812437314,0.005015045135406182,0.004012036108324901,0.004012036108324901,0.0030090270812437314,0.0030090270812437314,0.0030090270812437314,0.005015045135406182,0.005015045135406182,0.004012036108324901,0.0030090270812437314,0.004012036108324901,0.0010030090270812808,0.004012036108324901,0.004012036108324901,0.0020060180541624506,0.006018054162487463,0.0030090270812437314,0.006018054162487463,0.0030090270812437314,0.0020060180541624506,0.004012036108324901,0.005015045135406182,0.004012036108324901,0.005015045135406182,0.005015045135406182,0.010030090270812364,0.004012036108324901,0.006018054162487463,0.004012036108324901,0.005015045135406182,0.0030090270812437314,0.006018054162487463,0.005015045135406182,0.006018054162487463,0.004012036108324901,0.010030090270812364,0.010030090270812364,0.006018054162487463,-0.0010030090270812808,0.007021063189568633,0.006018054162487463,0.007021063189568633,-0.0020060180541624506,0.011033099297893645,0.012036108324974926,0.009027081243731194,0.004012036108324901,0.010030090270812364,-0.0020060180541624506,0.016048144433299827,0.011033099297893645,0.012036108324974926,0.010030090270812364,0.017051153460381108,0.006018054162487463,0.02106318956870612,0.016048144433299827,0.005015045135406182,0.01905717151454356,0.016048144433299827,0.02507522567703102,0.01905717151454356,0.010030090270812364,0.017051153460381108,0.02006018054162484,0.01905717151454356,0.027081243731193583,0.016048144433299827,0.01805416248746239,0.012036108324974926,0.016048144433299827,0.017051153460381108,0.02006018054162484,0.02006018054162484,0.02106318956870612,0.02106318956870612,0.017051153460381108,0.02507522567703102,0.016048144433299827,0.015045135406218657,0.02306920762286857,0.01905717151454356,0.02507522567703102,0.029087261785356033,0.029087261785356033,0.07321965897693072,0.08926780341023066,0.07923771313941819,0.07723169508525574,0.07522567703109329,0.09127382146439311,0.08826479438314938,0.0922768304914744,0.10130391173520559,0.07522567703109329],\"x0\":\" \",\"xaxis\":\"x\",\"y\":[\"smoking_status_Unknown\",\"smoking_status_Unknown\",\"smoking_status_Unknown\",\"smoking_status_Unknown\",\"smoking_status_Unknown\",\"smoking_status_Unknown\",\"smoking_status_Unknown\",\"smoking_status_Unknown\",\"smoking_status_Unknown\",\"smoking_status_Unknown\",\"bmi\",\"bmi\",\"bmi\",\"bmi\",\"bmi\",\"bmi\",\"bmi\",\"bmi\",\"bmi\",\"bmi\",\"hypertension_Yes\",\"hypertension_Yes\",\"hypertension_Yes\",\"hypertension_Yes\",\"hypertension_Yes\",\"hypertension_Yes\",\"hypertension_Yes\",\"hypertension_Yes\",\"hypertension_Yes\",\"hypertension_Yes\",\"Residence_type_Urban\",\"Residence_type_Urban\",\"Residence_type_Urban\",\"Residence_type_Urban\",\"Residence_type_Urban\",\"Residence_type_Urban\",\"Residence_type_Urban\",\"Residence_type_Urban\",\"Residence_type_Urban\",\"Residence_type_Urban\",\"avg_glucose_level\",\"avg_glucose_level\",\"avg_glucose_level\",\"avg_glucose_level\",\"avg_glucose_level\",\"avg_glucose_level\",\"avg_glucose_level\",\"avg_glucose_level\",\"avg_glucose_level\",\"avg_glucose_level\",\"ever_married_Yes\",\"ever_married_Yes\",\"ever_married_Yes\",\"ever_married_Yes\",\"ever_married_Yes\",\"ever_married_Yes\",\"ever_married_Yes\",\"ever_married_Yes\",\"ever_married_Yes\",\"ever_married_Yes\",\"heart_disease_Yes\",\"heart_disease_Yes\",\"heart_disease_Yes\",\"heart_disease_Yes\",\"heart_disease_Yes\",\"heart_disease_Yes\",\"heart_disease_Yes\",\"heart_disease_Yes\",\"heart_disease_Yes\",\"heart_disease_Yes\",\"gender_Male\",\"gender_Male\",\"gender_Male\",\"gender_Male\",\"gender_Male\",\"gender_Male\",\"gender_Male\",\"gender_Male\",\"gender_Male\",\"gender_Male\",\"work_type_children\",\"work_type_children\",\"work_type_children\",\"work_type_children\",\"work_type_children\",\"work_type_children\",\"work_type_children\",\"work_type_children\",\"work_type_children\",\"work_type_children\",\"smoking_status_smokes\",\"smoking_status_smokes\",\"smoking_status_smokes\",\"smoking_status_smokes\",\"smoking_status_smokes\",\"smoking_status_smokes\",\"smoking_status_smokes\",\"smoking_status_smokes\",\"smoking_status_smokes\",\"smoking_status_smokes\",\"smoking_status_formerly smoked\",\"smoking_status_formerly smoked\",\"smoking_status_formerly smoked\",\"smoking_status_formerly smoked\",\"smoking_status_formerly smoked\",\"smoking_status_formerly smoked\",\"smoking_status_formerly smoked\",\"smoking_status_formerly smoked\",\"smoking_status_formerly smoked\",\"smoking_status_formerly smoked\",\"work_type_Self-employed\",\"work_type_Self-employed\",\"work_type_Self-employed\",\"work_type_Self-employed\",\"work_type_Self-employed\",\"work_type_Self-employed\",\"work_type_Self-employed\",\"work_type_Self-employed\",\"work_type_Self-employed\",\"work_type_Self-employed\",\"smoking_status_never smoked\",\"smoking_status_never smoked\",\"smoking_status_never smoked\",\"smoking_status_never smoked\",\"smoking_status_never smoked\",\"smoking_status_never smoked\",\"smoking_status_never smoked\",\"smoking_status_never smoked\",\"smoking_status_never smoked\",\"smoking_status_never smoked\",\"work_type_Private\",\"work_type_Private\",\"work_type_Private\",\"work_type_Private\",\"work_type_Private\",\"work_type_Private\",\"work_type_Private\",\"work_type_Private\",\"work_type_Private\",\"work_type_Private\",\"work_type_Govt_job\",\"work_type_Govt_job\",\"work_type_Govt_job\",\"work_type_Govt_job\",\"work_type_Govt_job\",\"work_type_Govt_job\",\"work_type_Govt_job\",\"work_type_Govt_job\",\"work_type_Govt_job\",\"work_type_Govt_job\",\"age\",\"age\",\"age\",\"age\",\"age\",\"age\",\"age\",\"age\",\"age\",\"age\"],\"y0\":\" \",\"yaxis\":\"y\",\"type\":\"box\"}],                        {\"template\":{\"data\":{\"histogram2dcontour\":[{\"type\":\"histogram2dcontour\",\"colorbar\":{\"outlinewidth\":0,\"ticks\":\"\"},\"colorscale\":[[0.0,\"#0d0887\"],[0.1111111111111111,\"#46039f\"],[0.2222222222222222,\"#7201a8\"],[0.3333333333333333,\"#9c179e\"],[0.4444444444444444,\"#bd3786\"],[0.5555555555555556,\"#d8576b\"],[0.6666666666666666,\"#ed7953\"],[0.7777777777777778,\"#fb9f3a\"],[0.8888888888888888,\"#fdca26\"],[1.0,\"#f0f921\"]]}],\"choropleth\":[{\"type\":\"choropleth\",\"colorbar\":{\"outlinewidth\":0,\"ticks\":\"\"}}],\"histogram2d\":[{\"type\":\"histogram2d\",\"colorbar\":{\"outlinewidth\":0,\"ticks\":\"\"},\"colorscale\":[[0.0,\"#0d0887\"],[0.1111111111111111,\"#46039f\"],[0.2222222222222222,\"#7201a8\"],[0.3333333333333333,\"#9c179e\"],[0.4444444444444444,\"#bd3786\"],[0.5555555555555556,\"#d8576b\"],[0.6666666666666666,\"#ed7953\"],[0.7777777777777778,\"#fb9f3a\"],[0.8888888888888888,\"#fdca26\"],[1.0,\"#f0f921\"]]}],\"heatmap\":[{\"type\":\"heatmap\",\"colorbar\":{\"outlinewidth\":0,\"ticks\":\"\"},\"colorscale\":[[0.0,\"#0d0887\"],[0.1111111111111111,\"#46039f\"],[0.2222222222222222,\"#7201a8\"],[0.3333333333333333,\"#9c179e\"],[0.4444444444444444,\"#bd3786\"],[0.5555555555555556,\"#d8576b\"],[0.6666666666666666,\"#ed7953\"],[0.7777777777777778,\"#fb9f3a\"],[0.8888888888888888,\"#fdca26\"],[1.0,\"#f0f921\"]]}],\"heatmapgl\":[{\"type\":\"heatmapgl\",\"colorbar\":{\"outlinewidth\":0,\"ticks\":\"\"},\"colorscale\":[[0.0,\"#0d0887\"],[0.1111111111111111,\"#46039f\"],[0.2222222222222222,\"#7201a8\"],[0.3333333333333333,\"#9c179e\"],[0.4444444444444444,\"#bd3786\"],[0.5555555555555556,\"#d8576b\"],[0.6666666666666666,\"#ed7953\"],[0.7777777777777778,\"#fb9f3a\"],[0.8888888888888888,\"#fdca26\"],[1.0,\"#f0f921\"]]}],\"contourcarpet\":[{\"type\":\"contourcarpet\",\"colorbar\":{\"outlinewidth\":0,\"ticks\":\"\"}}],\"contour\":[{\"type\":\"contour\",\"colorbar\":{\"outlinewidth\":0,\"ticks\":\"\"},\"colorscale\":[[0.0,\"#0d0887\"],[0.1111111111111111,\"#46039f\"],[0.2222222222222222,\"#7201a8\"],[0.3333333333333333,\"#9c179e\"],[0.4444444444444444,\"#bd3786\"],[0.5555555555555556,\"#d8576b\"],[0.6666666666666666,\"#ed7953\"],[0.7777777777777778,\"#fb9f3a\"],[0.8888888888888888,\"#fdca26\"],[1.0,\"#f0f921\"]]}],\"surface\":[{\"type\":\"surface\",\"colorbar\":{\"outlinewidth\":0,\"ticks\":\"\"},\"colorscale\":[[0.0,\"#0d0887\"],[0.1111111111111111,\"#46039f\"],[0.2222222222222222,\"#7201a8\"],[0.3333333333333333,\"#9c179e\"],[0.4444444444444444,\"#bd3786\"],[0.5555555555555556,\"#d8576b\"],[0.6666666666666666,\"#ed7953\"],[0.7777777777777778,\"#fb9f3a\"],[0.8888888888888888,\"#fdca26\"],[1.0,\"#f0f921\"]]}],\"mesh3d\":[{\"type\":\"mesh3d\",\"colorbar\":{\"outlinewidth\":0,\"ticks\":\"\"}}],\"scatter\":[{\"fillpattern\":{\"fillmode\":\"overlay\",\"size\":10,\"solidity\":0.2},\"type\":\"scatter\"}],\"parcoords\":[{\"type\":\"parcoords\",\"line\":{\"colorbar\":{\"outlinewidth\":0,\"ticks\":\"\"}}}],\"scatterpolargl\":[{\"type\":\"scatterpolargl\",\"marker\":{\"colorbar\":{\"outlinewidth\":0,\"ticks\":\"\"}}}],\"bar\":[{\"error_x\":{\"color\":\"#2a3f5f\"},\"error_y\":{\"color\":\"#2a3f5f\"},\"marker\":{\"line\":{\"color\":\"#E5ECF6\",\"width\":0.5},\"pattern\":{\"fillmode\":\"overlay\",\"size\":10,\"solidity\":0.2}},\"type\":\"bar\"}],\"scattergeo\":[{\"type\":\"scattergeo\",\"marker\":{\"colorbar\":{\"outlinewidth\":0,\"ticks\":\"\"}}}],\"scatterpolar\":[{\"type\":\"scatterpolar\",\"marker\":{\"colorbar\":{\"outlinewidth\":0,\"ticks\":\"\"}}}],\"histogram\":[{\"marker\":{\"pattern\":{\"fillmode\":\"overlay\",\"size\":10,\"solidity\":0.2}},\"type\":\"histogram\"}],\"scattergl\":[{\"type\":\"scattergl\",\"marker\":{\"colorbar\":{\"outlinewidth\":0,\"ticks\":\"\"}}}],\"scatter3d\":[{\"type\":\"scatter3d\",\"line\":{\"colorbar\":{\"outlinewidth\":0,\"ticks\":\"\"}},\"marker\":{\"colorbar\":{\"outlinewidth\":0,\"ticks\":\"\"}}}],\"scattermapbox\":[{\"type\":\"scattermapbox\",\"marker\":{\"colorbar\":{\"outlinewidth\":0,\"ticks\":\"\"}}}],\"scatterternary\":[{\"type\":\"scatterternary\",\"marker\":{\"colorbar\":{\"outlinewidth\":0,\"ticks\":\"\"}}}],\"scattercarpet\":[{\"type\":\"scattercarpet\",\"marker\":{\"colorbar\":{\"outlinewidth\":0,\"ticks\":\"\"}}}],\"carpet\":[{\"aaxis\":{\"endlinecolor\":\"#2a3f5f\",\"gridcolor\":\"white\",\"linecolor\":\"white\",\"minorgridcolor\":\"white\",\"startlinecolor\":\"#2a3f5f\"},\"baxis\":{\"endlinecolor\":\"#2a3f5f\",\"gridcolor\":\"white\",\"linecolor\":\"white\",\"minorgridcolor\":\"white\",\"startlinecolor\":\"#2a3f5f\"},\"type\":\"carpet\"}],\"table\":[{\"cells\":{\"fill\":{\"color\":\"#EBF0F8\"},\"line\":{\"color\":\"white\"}},\"header\":{\"fill\":{\"color\":\"#C8D4E3\"},\"line\":{\"color\":\"white\"}},\"type\":\"table\"}],\"barpolar\":[{\"marker\":{\"line\":{\"color\":\"#E5ECF6\",\"width\":0.5},\"pattern\":{\"fillmode\":\"overlay\",\"size\":10,\"solidity\":0.2}},\"type\":\"barpolar\"}],\"pie\":[{\"automargin\":true,\"type\":\"pie\"}]},\"layout\":{\"autotypenumbers\":\"strict\",\"colorway\":[\"#636efa\",\"#EF553B\",\"#00cc96\",\"#ab63fa\",\"#FFA15A\",\"#19d3f3\",\"#FF6692\",\"#B6E880\",\"#FF97FF\",\"#FECB52\"],\"font\":{\"color\":\"#2a3f5f\"},\"hovermode\":\"closest\",\"hoverlabel\":{\"align\":\"left\"},\"paper_bgcolor\":\"white\",\"plot_bgcolor\":\"#E5ECF6\",\"polar\":{\"bgcolor\":\"#E5ECF6\",\"angularaxis\":{\"gridcolor\":\"white\",\"linecolor\":\"white\",\"ticks\":\"\"},\"radialaxis\":{\"gridcolor\":\"white\",\"linecolor\":\"white\",\"ticks\":\"\"}},\"ternary\":{\"bgcolor\":\"#E5ECF6\",\"aaxis\":{\"gridcolor\":\"white\",\"linecolor\":\"white\",\"ticks\":\"\"},\"baxis\":{\"gridcolor\":\"white\",\"linecolor\":\"white\",\"ticks\":\"\"},\"caxis\":{\"gridcolor\":\"white\",\"linecolor\":\"white\",\"ticks\":\"\"}},\"coloraxis\":{\"colorbar\":{\"outlinewidth\":0,\"ticks\":\"\"}},\"colorscale\":{\"sequential\":[[0.0,\"#0d0887\"],[0.1111111111111111,\"#46039f\"],[0.2222222222222222,\"#7201a8\"],[0.3333333333333333,\"#9c179e\"],[0.4444444444444444,\"#bd3786\"],[0.5555555555555556,\"#d8576b\"],[0.6666666666666666,\"#ed7953\"],[0.7777777777777778,\"#fb9f3a\"],[0.8888888888888888,\"#fdca26\"],[1.0,\"#f0f921\"]],\"sequentialminus\":[[0.0,\"#0d0887\"],[0.1111111111111111,\"#46039f\"],[0.2222222222222222,\"#7201a8\"],[0.3333333333333333,\"#9c179e\"],[0.4444444444444444,\"#bd3786\"],[0.5555555555555556,\"#d8576b\"],[0.6666666666666666,\"#ed7953\"],[0.7777777777777778,\"#fb9f3a\"],[0.8888888888888888,\"#fdca26\"],[1.0,\"#f0f921\"]],\"diverging\":[[0,\"#8e0152\"],[0.1,\"#c51b7d\"],[0.2,\"#de77ae\"],[0.3,\"#f1b6da\"],[0.4,\"#fde0ef\"],[0.5,\"#f7f7f7\"],[0.6,\"#e6f5d0\"],[0.7,\"#b8e186\"],[0.8,\"#7fbc41\"],[0.9,\"#4d9221\"],[1,\"#276419\"]]},\"xaxis\":{\"gridcolor\":\"white\",\"linecolor\":\"white\",\"ticks\":\"\",\"title\":{\"standoff\":15},\"zerolinecolor\":\"white\",\"automargin\":true,\"zerolinewidth\":2},\"yaxis\":{\"gridcolor\":\"white\",\"linecolor\":\"white\",\"ticks\":\"\",\"title\":{\"standoff\":15},\"zerolinecolor\":\"white\",\"automargin\":true,\"zerolinewidth\":2},\"scene\":{\"xaxis\":{\"backgroundcolor\":\"#E5ECF6\",\"gridcolor\":\"white\",\"linecolor\":\"white\",\"showbackground\":true,\"ticks\":\"\",\"zerolinecolor\":\"white\",\"gridwidth\":2},\"yaxis\":{\"backgroundcolor\":\"#E5ECF6\",\"gridcolor\":\"white\",\"linecolor\":\"white\",\"showbackground\":true,\"ticks\":\"\",\"zerolinecolor\":\"white\",\"gridwidth\":2},\"zaxis\":{\"backgroundcolor\":\"#E5ECF6\",\"gridcolor\":\"white\",\"linecolor\":\"white\",\"showbackground\":true,\"ticks\":\"\",\"zerolinecolor\":\"white\",\"gridwidth\":2}},\"shapedefaults\":{\"line\":{\"color\":\"#2a3f5f\"}},\"annotationdefaults\":{\"arrowcolor\":\"#2a3f5f\",\"arrowhead\":0,\"arrowwidth\":1},\"geo\":{\"bgcolor\":\"white\",\"landcolor\":\"#E5ECF6\",\"subunitcolor\":\"white\",\"showland\":true,\"showlakes\":true,\"lakecolor\":\"white\"},\"title\":{\"x\":0.05},\"mapbox\":{\"style\":\"light\"}}},\"xaxis\":{\"anchor\":\"y\",\"domain\":[0.0,1.0],\"title\":{\"text\":\"value\"}},\"yaxis\":{\"anchor\":\"x\",\"domain\":[0.0,1.0],\"title\":{\"text\":\"variable\"}},\"legend\":{\"tracegroupgap\":0},\"margin\":{\"t\":60},\"boxmode\":\"group\"},                        {\"responsive\": true}                    ).then(function(){\n",
       "                            \n",
       "var gd = document.getElementById('65886579-4bdd-477d-b0b7-7883322f69c3');\n",
       "var x = new MutationObserver(function (mutations, observer) {{\n",
       "        var display = window.getComputedStyle(gd).display;\n",
       "        if (!display || display === 'none') {{\n",
       "            console.log([gd, 'removed!']);\n",
       "            Plotly.purge(gd);\n",
       "            observer.disconnect();\n",
       "        }}\n",
       "}});\n",
       "\n",
       "// Listen for the removal of the full notebook cells\n",
       "var notebookContainer = gd.closest('#notebook-container');\n",
       "if (notebookContainer) {{\n",
       "    x.observe(notebookContainer, {childList: true});\n",
       "}}\n",
       "\n",
       "// Listen for the clearing of the current output cell\n",
       "var outputEl = gd.closest('.output');\n",
       "if (outputEl) {{\n",
       "    x.observe(outputEl, {childList: true});\n",
       "}}\n",
       "\n",
       "                        })                };                });            </script>        </div>"
      ]
     },
     "metadata": {},
     "output_type": "display_data"
    }
   ],
   "source": [
    "pvi_for(lr_model)"
   ]
  },
  {
   "cell_type": "code",
   "execution_count": 25,
   "metadata": {},
   "outputs": [
    {
     "data": {
      "application/vnd.plotly.v1+json": {
       "config": {
        "plotlyServerURL": "https://plot.ly"
       },
       "data": [
        {
         "alignmentgroup": "True",
         "hovertemplate": "value=%{x}<br>variable=%{y}<extra></extra>",
         "legendgroup": "",
         "marker": {
          "color": "#636efa"
         },
         "name": "",
         "notched": false,
         "offsetgroup": "",
         "orientation": "h",
         "showlegend": false,
         "type": "box",
         "x": [
          -0.014042126379137376,
          0.0010030090270812808,
          -0.006018054162487352,
          -0.006018054162487352,
          -0.008024072216649913,
          -0.012036108324974815,
          -0.011033099297893645,
          -0.008024072216649913,
          -0.007021063189568633,
          -0.008024072216649913,
          -0.0020060180541624506,
          -0.005015045135406182,
          -0.007021063189568633,
          -0.0030090270812436204,
          -0.008024072216649913,
          -0.005015045135406182,
          -0.004012036108324901,
          -0.0030090270812436204,
          -0.006018054162487352,
          -0.0020060180541624506,
          -0.0010030090270811698,
          -0.0020060180541624506,
          -0.0030090270812436204,
          0.0020060180541625616,
          -0.0020060180541624506,
          -0.0020060180541624506,
          -0.0030090270812436204,
          -0.0010030090270811698,
          -0.0020060180541624506,
          -0.0020060180541624506,
          0.0010030090270812808,
          0,
          -0.0010030090270811698,
          0,
          -0.0010030090270811698,
          0.0010030090270812808,
          0,
          -0.0010030090270811698,
          0.0010030090270812808,
          0,
          -0.0020060180541624506,
          0.0020060180541625616,
          0.0010030090270812808,
          -0.0030090270812436204,
          0.005015045135406293,
          -0.0010030090270811698,
          0.005015045135406293,
          0.0010030090270812808,
          -0.0030090270812436204,
          0.0010030090270812808,
          0,
          0.0030090270812437314,
          0.0010030090270812808,
          0.0030090270812437314,
          -0.0010030090270811698,
          0.0020060180541625616,
          0.0020060180541625616,
          0.0010030090270812808,
          0.0030090270812437314,
          0.0010030090270812808,
          0.0020060180541625616,
          0,
          0,
          0.0020060180541625616,
          0.0020060180541625616,
          0.0030090270812437314,
          0.0010030090270812808,
          0.004012036108325012,
          0.0020060180541625616,
          0.0020060180541625616,
          0.0020060180541625616,
          0.0020060180541625616,
          0.007021063189568744,
          0.0030090270812437314,
          0.0020060180541625616,
          0.008024072216650024,
          0.007021063189568744,
          0.011033099297893756,
          0,
          0.005015045135406293,
          0.005015045135406293,
          0.0020060180541625616,
          0.007021063189568744,
          0.005015045135406293,
          0.0030090270812437314,
          0.007021063189568744,
          0.004012036108325012,
          0.007021063189568744,
          0.004012036108325012,
          0.004012036108325012,
          0.008024072216650024,
          0.0020060180541625616,
          0.007021063189568744,
          0.0020060180541625616,
          0.009027081243731194,
          0.0010030090270812808,
          0,
          0.010030090270812475,
          0.006018054162487463,
          0.005015045135406293,
          0.008024072216650024,
          0.014042126379137487,
          0.010030090270812475,
          0.007021063189568744,
          0.008024072216650024,
          0.011033099297893756,
          0.011033099297893756,
          0.011033099297893756,
          0.007021063189568744,
          0.011033099297893756,
          0.014042126379137487,
          0.009027081243731194,
          0.014042126379137487,
          0.014042126379137487,
          0.01905717151454367,
          0.014042126379137487,
          0.004012036108325012,
          0.015045135406218657,
          0.015045135406218657,
          0.010030090270812475,
          0.02407221664994985,
          0.02407221664994985,
          0.015045135406218657,
          0.0220661985957874,
          0.026078234704112413,
          0.031093279839518595,
          0.01805416248746239,
          0.0220661985957874,
          0.02106318956870612,
          0.02306920762286868,
          0.025075225677031132,
          0.02407221664994985,
          0.030090270812437314,
          0.0220661985957874,
          0.02106318956870612,
          0.031093279839518595,
          0.029087261785356144,
          0.010030090270812475,
          0.01905717151454367,
          0.01805416248746239,
          0.031093279839518595,
          0.02306920762286868,
          0.027081243731193583,
          0.028084252758274864,
          0.02106318956870612,
          0.025075225677031132,
          0.01705115346038122,
          0.026078234704112413,
          0.02006018054162495,
          0.02407221664994985,
          0.09528585757271824,
          0.10832497492477433,
          0.09829488465396197,
          0.09528585757271824,
          0.09428284854563695,
          0.10431293881644943,
          0.08625877632898704,
          0.0922768304914745,
          0.08625877632898704,
          0.1013039117352057
         ],
         "x0": " ",
         "xaxis": "x",
         "y": [
          "smoking_status_Unknown",
          "smoking_status_Unknown",
          "smoking_status_Unknown",
          "smoking_status_Unknown",
          "smoking_status_Unknown",
          "smoking_status_Unknown",
          "smoking_status_Unknown",
          "smoking_status_Unknown",
          "smoking_status_Unknown",
          "smoking_status_Unknown",
          "hypertension_Yes",
          "hypertension_Yes",
          "hypertension_Yes",
          "hypertension_Yes",
          "hypertension_Yes",
          "hypertension_Yes",
          "hypertension_Yes",
          "hypertension_Yes",
          "hypertension_Yes",
          "hypertension_Yes",
          "bmi",
          "bmi",
          "bmi",
          "bmi",
          "bmi",
          "bmi",
          "bmi",
          "bmi",
          "bmi",
          "bmi",
          "Residence_type_Urban",
          "Residence_type_Urban",
          "Residence_type_Urban",
          "Residence_type_Urban",
          "Residence_type_Urban",
          "Residence_type_Urban",
          "Residence_type_Urban",
          "Residence_type_Urban",
          "Residence_type_Urban",
          "Residence_type_Urban",
          "avg_glucose_level",
          "avg_glucose_level",
          "avg_glucose_level",
          "avg_glucose_level",
          "avg_glucose_level",
          "avg_glucose_level",
          "avg_glucose_level",
          "avg_glucose_level",
          "avg_glucose_level",
          "avg_glucose_level",
          "gender_Male",
          "gender_Male",
          "gender_Male",
          "gender_Male",
          "gender_Male",
          "gender_Male",
          "gender_Male",
          "gender_Male",
          "gender_Male",
          "gender_Male",
          "heart_disease_Yes",
          "heart_disease_Yes",
          "heart_disease_Yes",
          "heart_disease_Yes",
          "heart_disease_Yes",
          "heart_disease_Yes",
          "heart_disease_Yes",
          "heart_disease_Yes",
          "heart_disease_Yes",
          "heart_disease_Yes",
          "smoking_status_formerly smoked",
          "smoking_status_formerly smoked",
          "smoking_status_formerly smoked",
          "smoking_status_formerly smoked",
          "smoking_status_formerly smoked",
          "smoking_status_formerly smoked",
          "smoking_status_formerly smoked",
          "smoking_status_formerly smoked",
          "smoking_status_formerly smoked",
          "smoking_status_formerly smoked",
          "ever_married_Yes",
          "ever_married_Yes",
          "ever_married_Yes",
          "ever_married_Yes",
          "ever_married_Yes",
          "ever_married_Yes",
          "ever_married_Yes",
          "ever_married_Yes",
          "ever_married_Yes",
          "ever_married_Yes",
          "smoking_status_smokes",
          "smoking_status_smokes",
          "smoking_status_smokes",
          "smoking_status_smokes",
          "smoking_status_smokes",
          "smoking_status_smokes",
          "smoking_status_smokes",
          "smoking_status_smokes",
          "smoking_status_smokes",
          "smoking_status_smokes",
          "work_type_children",
          "work_type_children",
          "work_type_children",
          "work_type_children",
          "work_type_children",
          "work_type_children",
          "work_type_children",
          "work_type_children",
          "work_type_children",
          "work_type_children",
          "work_type_Self-employed",
          "work_type_Self-employed",
          "work_type_Self-employed",
          "work_type_Self-employed",
          "work_type_Self-employed",
          "work_type_Self-employed",
          "work_type_Self-employed",
          "work_type_Self-employed",
          "work_type_Self-employed",
          "work_type_Self-employed",
          "smoking_status_never smoked",
          "smoking_status_never smoked",
          "smoking_status_never smoked",
          "smoking_status_never smoked",
          "smoking_status_never smoked",
          "smoking_status_never smoked",
          "smoking_status_never smoked",
          "smoking_status_never smoked",
          "smoking_status_never smoked",
          "smoking_status_never smoked",
          "work_type_Private",
          "work_type_Private",
          "work_type_Private",
          "work_type_Private",
          "work_type_Private",
          "work_type_Private",
          "work_type_Private",
          "work_type_Private",
          "work_type_Private",
          "work_type_Private",
          "work_type_Govt_job",
          "work_type_Govt_job",
          "work_type_Govt_job",
          "work_type_Govt_job",
          "work_type_Govt_job",
          "work_type_Govt_job",
          "work_type_Govt_job",
          "work_type_Govt_job",
          "work_type_Govt_job",
          "work_type_Govt_job",
          "age",
          "age",
          "age",
          "age",
          "age",
          "age",
          "age",
          "age",
          "age",
          "age"
         ],
         "y0": " ",
         "yaxis": "y"
        }
       ],
       "layout": {
        "boxmode": "group",
        "legend": {
         "tracegroupgap": 0
        },
        "margin": {
         "t": 60
        },
        "template": {
         "data": {
          "bar": [
           {
            "error_x": {
             "color": "#2a3f5f"
            },
            "error_y": {
             "color": "#2a3f5f"
            },
            "marker": {
             "line": {
              "color": "#E5ECF6",
              "width": 0.5
             },
             "pattern": {
              "fillmode": "overlay",
              "size": 10,
              "solidity": 0.2
             }
            },
            "type": "bar"
           }
          ],
          "barpolar": [
           {
            "marker": {
             "line": {
              "color": "#E5ECF6",
              "width": 0.5
             },
             "pattern": {
              "fillmode": "overlay",
              "size": 10,
              "solidity": 0.2
             }
            },
            "type": "barpolar"
           }
          ],
          "carpet": [
           {
            "aaxis": {
             "endlinecolor": "#2a3f5f",
             "gridcolor": "white",
             "linecolor": "white",
             "minorgridcolor": "white",
             "startlinecolor": "#2a3f5f"
            },
            "baxis": {
             "endlinecolor": "#2a3f5f",
             "gridcolor": "white",
             "linecolor": "white",
             "minorgridcolor": "white",
             "startlinecolor": "#2a3f5f"
            },
            "type": "carpet"
           }
          ],
          "choropleth": [
           {
            "colorbar": {
             "outlinewidth": 0,
             "ticks": ""
            },
            "type": "choropleth"
           }
          ],
          "contour": [
           {
            "colorbar": {
             "outlinewidth": 0,
             "ticks": ""
            },
            "colorscale": [
             [
              0,
              "#0d0887"
             ],
             [
              0.1111111111111111,
              "#46039f"
             ],
             [
              0.2222222222222222,
              "#7201a8"
             ],
             [
              0.3333333333333333,
              "#9c179e"
             ],
             [
              0.4444444444444444,
              "#bd3786"
             ],
             [
              0.5555555555555556,
              "#d8576b"
             ],
             [
              0.6666666666666666,
              "#ed7953"
             ],
             [
              0.7777777777777778,
              "#fb9f3a"
             ],
             [
              0.8888888888888888,
              "#fdca26"
             ],
             [
              1,
              "#f0f921"
             ]
            ],
            "type": "contour"
           }
          ],
          "contourcarpet": [
           {
            "colorbar": {
             "outlinewidth": 0,
             "ticks": ""
            },
            "type": "contourcarpet"
           }
          ],
          "heatmap": [
           {
            "colorbar": {
             "outlinewidth": 0,
             "ticks": ""
            },
            "colorscale": [
             [
              0,
              "#0d0887"
             ],
             [
              0.1111111111111111,
              "#46039f"
             ],
             [
              0.2222222222222222,
              "#7201a8"
             ],
             [
              0.3333333333333333,
              "#9c179e"
             ],
             [
              0.4444444444444444,
              "#bd3786"
             ],
             [
              0.5555555555555556,
              "#d8576b"
             ],
             [
              0.6666666666666666,
              "#ed7953"
             ],
             [
              0.7777777777777778,
              "#fb9f3a"
             ],
             [
              0.8888888888888888,
              "#fdca26"
             ],
             [
              1,
              "#f0f921"
             ]
            ],
            "type": "heatmap"
           }
          ],
          "heatmapgl": [
           {
            "colorbar": {
             "outlinewidth": 0,
             "ticks": ""
            },
            "colorscale": [
             [
              0,
              "#0d0887"
             ],
             [
              0.1111111111111111,
              "#46039f"
             ],
             [
              0.2222222222222222,
              "#7201a8"
             ],
             [
              0.3333333333333333,
              "#9c179e"
             ],
             [
              0.4444444444444444,
              "#bd3786"
             ],
             [
              0.5555555555555556,
              "#d8576b"
             ],
             [
              0.6666666666666666,
              "#ed7953"
             ],
             [
              0.7777777777777778,
              "#fb9f3a"
             ],
             [
              0.8888888888888888,
              "#fdca26"
             ],
             [
              1,
              "#f0f921"
             ]
            ],
            "type": "heatmapgl"
           }
          ],
          "histogram": [
           {
            "marker": {
             "pattern": {
              "fillmode": "overlay",
              "size": 10,
              "solidity": 0.2
             }
            },
            "type": "histogram"
           }
          ],
          "histogram2d": [
           {
            "colorbar": {
             "outlinewidth": 0,
             "ticks": ""
            },
            "colorscale": [
             [
              0,
              "#0d0887"
             ],
             [
              0.1111111111111111,
              "#46039f"
             ],
             [
              0.2222222222222222,
              "#7201a8"
             ],
             [
              0.3333333333333333,
              "#9c179e"
             ],
             [
              0.4444444444444444,
              "#bd3786"
             ],
             [
              0.5555555555555556,
              "#d8576b"
             ],
             [
              0.6666666666666666,
              "#ed7953"
             ],
             [
              0.7777777777777778,
              "#fb9f3a"
             ],
             [
              0.8888888888888888,
              "#fdca26"
             ],
             [
              1,
              "#f0f921"
             ]
            ],
            "type": "histogram2d"
           }
          ],
          "histogram2dcontour": [
           {
            "colorbar": {
             "outlinewidth": 0,
             "ticks": ""
            },
            "colorscale": [
             [
              0,
              "#0d0887"
             ],
             [
              0.1111111111111111,
              "#46039f"
             ],
             [
              0.2222222222222222,
              "#7201a8"
             ],
             [
              0.3333333333333333,
              "#9c179e"
             ],
             [
              0.4444444444444444,
              "#bd3786"
             ],
             [
              0.5555555555555556,
              "#d8576b"
             ],
             [
              0.6666666666666666,
              "#ed7953"
             ],
             [
              0.7777777777777778,
              "#fb9f3a"
             ],
             [
              0.8888888888888888,
              "#fdca26"
             ],
             [
              1,
              "#f0f921"
             ]
            ],
            "type": "histogram2dcontour"
           }
          ],
          "mesh3d": [
           {
            "colorbar": {
             "outlinewidth": 0,
             "ticks": ""
            },
            "type": "mesh3d"
           }
          ],
          "parcoords": [
           {
            "line": {
             "colorbar": {
              "outlinewidth": 0,
              "ticks": ""
             }
            },
            "type": "parcoords"
           }
          ],
          "pie": [
           {
            "automargin": true,
            "type": "pie"
           }
          ],
          "scatter": [
           {
            "fillpattern": {
             "fillmode": "overlay",
             "size": 10,
             "solidity": 0.2
            },
            "type": "scatter"
           }
          ],
          "scatter3d": [
           {
            "line": {
             "colorbar": {
              "outlinewidth": 0,
              "ticks": ""
             }
            },
            "marker": {
             "colorbar": {
              "outlinewidth": 0,
              "ticks": ""
             }
            },
            "type": "scatter3d"
           }
          ],
          "scattercarpet": [
           {
            "marker": {
             "colorbar": {
              "outlinewidth": 0,
              "ticks": ""
             }
            },
            "type": "scattercarpet"
           }
          ],
          "scattergeo": [
           {
            "marker": {
             "colorbar": {
              "outlinewidth": 0,
              "ticks": ""
             }
            },
            "type": "scattergeo"
           }
          ],
          "scattergl": [
           {
            "marker": {
             "colorbar": {
              "outlinewidth": 0,
              "ticks": ""
             }
            },
            "type": "scattergl"
           }
          ],
          "scattermapbox": [
           {
            "marker": {
             "colorbar": {
              "outlinewidth": 0,
              "ticks": ""
             }
            },
            "type": "scattermapbox"
           }
          ],
          "scatterpolar": [
           {
            "marker": {
             "colorbar": {
              "outlinewidth": 0,
              "ticks": ""
             }
            },
            "type": "scatterpolar"
           }
          ],
          "scatterpolargl": [
           {
            "marker": {
             "colorbar": {
              "outlinewidth": 0,
              "ticks": ""
             }
            },
            "type": "scatterpolargl"
           }
          ],
          "scatterternary": [
           {
            "marker": {
             "colorbar": {
              "outlinewidth": 0,
              "ticks": ""
             }
            },
            "type": "scatterternary"
           }
          ],
          "surface": [
           {
            "colorbar": {
             "outlinewidth": 0,
             "ticks": ""
            },
            "colorscale": [
             [
              0,
              "#0d0887"
             ],
             [
              0.1111111111111111,
              "#46039f"
             ],
             [
              0.2222222222222222,
              "#7201a8"
             ],
             [
              0.3333333333333333,
              "#9c179e"
             ],
             [
              0.4444444444444444,
              "#bd3786"
             ],
             [
              0.5555555555555556,
              "#d8576b"
             ],
             [
              0.6666666666666666,
              "#ed7953"
             ],
             [
              0.7777777777777778,
              "#fb9f3a"
             ],
             [
              0.8888888888888888,
              "#fdca26"
             ],
             [
              1,
              "#f0f921"
             ]
            ],
            "type": "surface"
           }
          ],
          "table": [
           {
            "cells": {
             "fill": {
              "color": "#EBF0F8"
             },
             "line": {
              "color": "white"
             }
            },
            "header": {
             "fill": {
              "color": "#C8D4E3"
             },
             "line": {
              "color": "white"
             }
            },
            "type": "table"
           }
          ]
         },
         "layout": {
          "annotationdefaults": {
           "arrowcolor": "#2a3f5f",
           "arrowhead": 0,
           "arrowwidth": 1
          },
          "autotypenumbers": "strict",
          "coloraxis": {
           "colorbar": {
            "outlinewidth": 0,
            "ticks": ""
           }
          },
          "colorscale": {
           "diverging": [
            [
             0,
             "#8e0152"
            ],
            [
             0.1,
             "#c51b7d"
            ],
            [
             0.2,
             "#de77ae"
            ],
            [
             0.3,
             "#f1b6da"
            ],
            [
             0.4,
             "#fde0ef"
            ],
            [
             0.5,
             "#f7f7f7"
            ],
            [
             0.6,
             "#e6f5d0"
            ],
            [
             0.7,
             "#b8e186"
            ],
            [
             0.8,
             "#7fbc41"
            ],
            [
             0.9,
             "#4d9221"
            ],
            [
             1,
             "#276419"
            ]
           ],
           "sequential": [
            [
             0,
             "#0d0887"
            ],
            [
             0.1111111111111111,
             "#46039f"
            ],
            [
             0.2222222222222222,
             "#7201a8"
            ],
            [
             0.3333333333333333,
             "#9c179e"
            ],
            [
             0.4444444444444444,
             "#bd3786"
            ],
            [
             0.5555555555555556,
             "#d8576b"
            ],
            [
             0.6666666666666666,
             "#ed7953"
            ],
            [
             0.7777777777777778,
             "#fb9f3a"
            ],
            [
             0.8888888888888888,
             "#fdca26"
            ],
            [
             1,
             "#f0f921"
            ]
           ],
           "sequentialminus": [
            [
             0,
             "#0d0887"
            ],
            [
             0.1111111111111111,
             "#46039f"
            ],
            [
             0.2222222222222222,
             "#7201a8"
            ],
            [
             0.3333333333333333,
             "#9c179e"
            ],
            [
             0.4444444444444444,
             "#bd3786"
            ],
            [
             0.5555555555555556,
             "#d8576b"
            ],
            [
             0.6666666666666666,
             "#ed7953"
            ],
            [
             0.7777777777777778,
             "#fb9f3a"
            ],
            [
             0.8888888888888888,
             "#fdca26"
            ],
            [
             1,
             "#f0f921"
            ]
           ]
          },
          "colorway": [
           "#636efa",
           "#EF553B",
           "#00cc96",
           "#ab63fa",
           "#FFA15A",
           "#19d3f3",
           "#FF6692",
           "#B6E880",
           "#FF97FF",
           "#FECB52"
          ],
          "font": {
           "color": "#2a3f5f"
          },
          "geo": {
           "bgcolor": "white",
           "lakecolor": "white",
           "landcolor": "#E5ECF6",
           "showlakes": true,
           "showland": true,
           "subunitcolor": "white"
          },
          "hoverlabel": {
           "align": "left"
          },
          "hovermode": "closest",
          "mapbox": {
           "style": "light"
          },
          "paper_bgcolor": "white",
          "plot_bgcolor": "#E5ECF6",
          "polar": {
           "angularaxis": {
            "gridcolor": "white",
            "linecolor": "white",
            "ticks": ""
           },
           "bgcolor": "#E5ECF6",
           "radialaxis": {
            "gridcolor": "white",
            "linecolor": "white",
            "ticks": ""
           }
          },
          "scene": {
           "xaxis": {
            "backgroundcolor": "#E5ECF6",
            "gridcolor": "white",
            "gridwidth": 2,
            "linecolor": "white",
            "showbackground": true,
            "ticks": "",
            "zerolinecolor": "white"
           },
           "yaxis": {
            "backgroundcolor": "#E5ECF6",
            "gridcolor": "white",
            "gridwidth": 2,
            "linecolor": "white",
            "showbackground": true,
            "ticks": "",
            "zerolinecolor": "white"
           },
           "zaxis": {
            "backgroundcolor": "#E5ECF6",
            "gridcolor": "white",
            "gridwidth": 2,
            "linecolor": "white",
            "showbackground": true,
            "ticks": "",
            "zerolinecolor": "white"
           }
          },
          "shapedefaults": {
           "line": {
            "color": "#2a3f5f"
           }
          },
          "ternary": {
           "aaxis": {
            "gridcolor": "white",
            "linecolor": "white",
            "ticks": ""
           },
           "baxis": {
            "gridcolor": "white",
            "linecolor": "white",
            "ticks": ""
           },
           "bgcolor": "#E5ECF6",
           "caxis": {
            "gridcolor": "white",
            "linecolor": "white",
            "ticks": ""
           }
          },
          "title": {
           "x": 0.05
          },
          "xaxis": {
           "automargin": true,
           "gridcolor": "white",
           "linecolor": "white",
           "ticks": "",
           "title": {
            "standoff": 15
           },
           "zerolinecolor": "white",
           "zerolinewidth": 2
          },
          "yaxis": {
           "automargin": true,
           "gridcolor": "white",
           "linecolor": "white",
           "ticks": "",
           "title": {
            "standoff": 15
           },
           "zerolinecolor": "white",
           "zerolinewidth": 2
          }
         }
        },
        "xaxis": {
         "anchor": "y",
         "domain": [
          0,
          1
         ],
         "title": {
          "text": "value"
         }
        },
        "yaxis": {
         "anchor": "x",
         "domain": [
          0,
          1
         ],
         "title": {
          "text": "variable"
         }
        }
       }
      },
      "text/html": [
       "<div>                            <div id=\"b92efd60-3efc-414c-bdba-3f07e7ce8a63\" class=\"plotly-graph-div\" style=\"height:525px; width:100%;\"></div>            <script type=\"text/javascript\">                require([\"plotly\"], function(Plotly) {                    window.PLOTLYENV=window.PLOTLYENV || {};                                    if (document.getElementById(\"b92efd60-3efc-414c-bdba-3f07e7ce8a63\")) {                    Plotly.newPlot(                        \"b92efd60-3efc-414c-bdba-3f07e7ce8a63\",                        [{\"alignmentgroup\":\"True\",\"hovertemplate\":\"value=%{x}<br>variable=%{y}<extra></extra>\",\"legendgroup\":\"\",\"marker\":{\"color\":\"#636efa\"},\"name\":\"\",\"notched\":false,\"offsetgroup\":\"\",\"orientation\":\"h\",\"showlegend\":false,\"x\":[-0.014042126379137376,0.0010030090270812808,-0.006018054162487352,-0.006018054162487352,-0.008024072216649913,-0.012036108324974815,-0.011033099297893645,-0.008024072216649913,-0.007021063189568633,-0.008024072216649913,-0.0020060180541624506,-0.005015045135406182,-0.007021063189568633,-0.0030090270812436204,-0.008024072216649913,-0.005015045135406182,-0.004012036108324901,-0.0030090270812436204,-0.006018054162487352,-0.0020060180541624506,-0.0010030090270811698,-0.0020060180541624506,-0.0030090270812436204,0.0020060180541625616,-0.0020060180541624506,-0.0020060180541624506,-0.0030090270812436204,-0.0010030090270811698,-0.0020060180541624506,-0.0020060180541624506,0.0010030090270812808,0.0,-0.0010030090270811698,0.0,-0.0010030090270811698,0.0010030090270812808,0.0,-0.0010030090270811698,0.0010030090270812808,0.0,-0.0020060180541624506,0.0020060180541625616,0.0010030090270812808,-0.0030090270812436204,0.005015045135406293,-0.0010030090270811698,0.005015045135406293,0.0010030090270812808,-0.0030090270812436204,0.0010030090270812808,0.0,0.0030090270812437314,0.0010030090270812808,0.0030090270812437314,-0.0010030090270811698,0.0020060180541625616,0.0020060180541625616,0.0010030090270812808,0.0030090270812437314,0.0010030090270812808,0.0020060180541625616,0.0,0.0,0.0020060180541625616,0.0020060180541625616,0.0030090270812437314,0.0010030090270812808,0.004012036108325012,0.0020060180541625616,0.0020060180541625616,0.0020060180541625616,0.0020060180541625616,0.007021063189568744,0.0030090270812437314,0.0020060180541625616,0.008024072216650024,0.007021063189568744,0.011033099297893756,0.0,0.005015045135406293,0.005015045135406293,0.0020060180541625616,0.007021063189568744,0.005015045135406293,0.0030090270812437314,0.007021063189568744,0.004012036108325012,0.007021063189568744,0.004012036108325012,0.004012036108325012,0.008024072216650024,0.0020060180541625616,0.007021063189568744,0.0020060180541625616,0.009027081243731194,0.0010030090270812808,0.0,0.010030090270812475,0.006018054162487463,0.005015045135406293,0.008024072216650024,0.014042126379137487,0.010030090270812475,0.007021063189568744,0.008024072216650024,0.011033099297893756,0.011033099297893756,0.011033099297893756,0.007021063189568744,0.011033099297893756,0.014042126379137487,0.009027081243731194,0.014042126379137487,0.014042126379137487,0.01905717151454367,0.014042126379137487,0.004012036108325012,0.015045135406218657,0.015045135406218657,0.010030090270812475,0.02407221664994985,0.02407221664994985,0.015045135406218657,0.0220661985957874,0.026078234704112413,0.031093279839518595,0.01805416248746239,0.0220661985957874,0.02106318956870612,0.02306920762286868,0.025075225677031132,0.02407221664994985,0.030090270812437314,0.0220661985957874,0.02106318956870612,0.031093279839518595,0.029087261785356144,0.010030090270812475,0.01905717151454367,0.01805416248746239,0.031093279839518595,0.02306920762286868,0.027081243731193583,0.028084252758274864,0.02106318956870612,0.025075225677031132,0.01705115346038122,0.026078234704112413,0.02006018054162495,0.02407221664994985,0.09528585757271824,0.10832497492477433,0.09829488465396197,0.09528585757271824,0.09428284854563695,0.10431293881644943,0.08625877632898704,0.0922768304914745,0.08625877632898704,0.1013039117352057],\"x0\":\" \",\"xaxis\":\"x\",\"y\":[\"smoking_status_Unknown\",\"smoking_status_Unknown\",\"smoking_status_Unknown\",\"smoking_status_Unknown\",\"smoking_status_Unknown\",\"smoking_status_Unknown\",\"smoking_status_Unknown\",\"smoking_status_Unknown\",\"smoking_status_Unknown\",\"smoking_status_Unknown\",\"hypertension_Yes\",\"hypertension_Yes\",\"hypertension_Yes\",\"hypertension_Yes\",\"hypertension_Yes\",\"hypertension_Yes\",\"hypertension_Yes\",\"hypertension_Yes\",\"hypertension_Yes\",\"hypertension_Yes\",\"bmi\",\"bmi\",\"bmi\",\"bmi\",\"bmi\",\"bmi\",\"bmi\",\"bmi\",\"bmi\",\"bmi\",\"Residence_type_Urban\",\"Residence_type_Urban\",\"Residence_type_Urban\",\"Residence_type_Urban\",\"Residence_type_Urban\",\"Residence_type_Urban\",\"Residence_type_Urban\",\"Residence_type_Urban\",\"Residence_type_Urban\",\"Residence_type_Urban\",\"avg_glucose_level\",\"avg_glucose_level\",\"avg_glucose_level\",\"avg_glucose_level\",\"avg_glucose_level\",\"avg_glucose_level\",\"avg_glucose_level\",\"avg_glucose_level\",\"avg_glucose_level\",\"avg_glucose_level\",\"gender_Male\",\"gender_Male\",\"gender_Male\",\"gender_Male\",\"gender_Male\",\"gender_Male\",\"gender_Male\",\"gender_Male\",\"gender_Male\",\"gender_Male\",\"heart_disease_Yes\",\"heart_disease_Yes\",\"heart_disease_Yes\",\"heart_disease_Yes\",\"heart_disease_Yes\",\"heart_disease_Yes\",\"heart_disease_Yes\",\"heart_disease_Yes\",\"heart_disease_Yes\",\"heart_disease_Yes\",\"smoking_status_formerly smoked\",\"smoking_status_formerly smoked\",\"smoking_status_formerly smoked\",\"smoking_status_formerly smoked\",\"smoking_status_formerly smoked\",\"smoking_status_formerly smoked\",\"smoking_status_formerly smoked\",\"smoking_status_formerly smoked\",\"smoking_status_formerly smoked\",\"smoking_status_formerly smoked\",\"ever_married_Yes\",\"ever_married_Yes\",\"ever_married_Yes\",\"ever_married_Yes\",\"ever_married_Yes\",\"ever_married_Yes\",\"ever_married_Yes\",\"ever_married_Yes\",\"ever_married_Yes\",\"ever_married_Yes\",\"smoking_status_smokes\",\"smoking_status_smokes\",\"smoking_status_smokes\",\"smoking_status_smokes\",\"smoking_status_smokes\",\"smoking_status_smokes\",\"smoking_status_smokes\",\"smoking_status_smokes\",\"smoking_status_smokes\",\"smoking_status_smokes\",\"work_type_children\",\"work_type_children\",\"work_type_children\",\"work_type_children\",\"work_type_children\",\"work_type_children\",\"work_type_children\",\"work_type_children\",\"work_type_children\",\"work_type_children\",\"work_type_Self-employed\",\"work_type_Self-employed\",\"work_type_Self-employed\",\"work_type_Self-employed\",\"work_type_Self-employed\",\"work_type_Self-employed\",\"work_type_Self-employed\",\"work_type_Self-employed\",\"work_type_Self-employed\",\"work_type_Self-employed\",\"smoking_status_never smoked\",\"smoking_status_never smoked\",\"smoking_status_never smoked\",\"smoking_status_never smoked\",\"smoking_status_never smoked\",\"smoking_status_never smoked\",\"smoking_status_never smoked\",\"smoking_status_never smoked\",\"smoking_status_never smoked\",\"smoking_status_never smoked\",\"work_type_Private\",\"work_type_Private\",\"work_type_Private\",\"work_type_Private\",\"work_type_Private\",\"work_type_Private\",\"work_type_Private\",\"work_type_Private\",\"work_type_Private\",\"work_type_Private\",\"work_type_Govt_job\",\"work_type_Govt_job\",\"work_type_Govt_job\",\"work_type_Govt_job\",\"work_type_Govt_job\",\"work_type_Govt_job\",\"work_type_Govt_job\",\"work_type_Govt_job\",\"work_type_Govt_job\",\"work_type_Govt_job\",\"age\",\"age\",\"age\",\"age\",\"age\",\"age\",\"age\",\"age\",\"age\",\"age\"],\"y0\":\" \",\"yaxis\":\"y\",\"type\":\"box\"}],                        {\"template\":{\"data\":{\"histogram2dcontour\":[{\"type\":\"histogram2dcontour\",\"colorbar\":{\"outlinewidth\":0,\"ticks\":\"\"},\"colorscale\":[[0.0,\"#0d0887\"],[0.1111111111111111,\"#46039f\"],[0.2222222222222222,\"#7201a8\"],[0.3333333333333333,\"#9c179e\"],[0.4444444444444444,\"#bd3786\"],[0.5555555555555556,\"#d8576b\"],[0.6666666666666666,\"#ed7953\"],[0.7777777777777778,\"#fb9f3a\"],[0.8888888888888888,\"#fdca26\"],[1.0,\"#f0f921\"]]}],\"choropleth\":[{\"type\":\"choropleth\",\"colorbar\":{\"outlinewidth\":0,\"ticks\":\"\"}}],\"histogram2d\":[{\"type\":\"histogram2d\",\"colorbar\":{\"outlinewidth\":0,\"ticks\":\"\"},\"colorscale\":[[0.0,\"#0d0887\"],[0.1111111111111111,\"#46039f\"],[0.2222222222222222,\"#7201a8\"],[0.3333333333333333,\"#9c179e\"],[0.4444444444444444,\"#bd3786\"],[0.5555555555555556,\"#d8576b\"],[0.6666666666666666,\"#ed7953\"],[0.7777777777777778,\"#fb9f3a\"],[0.8888888888888888,\"#fdca26\"],[1.0,\"#f0f921\"]]}],\"heatmap\":[{\"type\":\"heatmap\",\"colorbar\":{\"outlinewidth\":0,\"ticks\":\"\"},\"colorscale\":[[0.0,\"#0d0887\"],[0.1111111111111111,\"#46039f\"],[0.2222222222222222,\"#7201a8\"],[0.3333333333333333,\"#9c179e\"],[0.4444444444444444,\"#bd3786\"],[0.5555555555555556,\"#d8576b\"],[0.6666666666666666,\"#ed7953\"],[0.7777777777777778,\"#fb9f3a\"],[0.8888888888888888,\"#fdca26\"],[1.0,\"#f0f921\"]]}],\"heatmapgl\":[{\"type\":\"heatmapgl\",\"colorbar\":{\"outlinewidth\":0,\"ticks\":\"\"},\"colorscale\":[[0.0,\"#0d0887\"],[0.1111111111111111,\"#46039f\"],[0.2222222222222222,\"#7201a8\"],[0.3333333333333333,\"#9c179e\"],[0.4444444444444444,\"#bd3786\"],[0.5555555555555556,\"#d8576b\"],[0.6666666666666666,\"#ed7953\"],[0.7777777777777778,\"#fb9f3a\"],[0.8888888888888888,\"#fdca26\"],[1.0,\"#f0f921\"]]}],\"contourcarpet\":[{\"type\":\"contourcarpet\",\"colorbar\":{\"outlinewidth\":0,\"ticks\":\"\"}}],\"contour\":[{\"type\":\"contour\",\"colorbar\":{\"outlinewidth\":0,\"ticks\":\"\"},\"colorscale\":[[0.0,\"#0d0887\"],[0.1111111111111111,\"#46039f\"],[0.2222222222222222,\"#7201a8\"],[0.3333333333333333,\"#9c179e\"],[0.4444444444444444,\"#bd3786\"],[0.5555555555555556,\"#d8576b\"],[0.6666666666666666,\"#ed7953\"],[0.7777777777777778,\"#fb9f3a\"],[0.8888888888888888,\"#fdca26\"],[1.0,\"#f0f921\"]]}],\"surface\":[{\"type\":\"surface\",\"colorbar\":{\"outlinewidth\":0,\"ticks\":\"\"},\"colorscale\":[[0.0,\"#0d0887\"],[0.1111111111111111,\"#46039f\"],[0.2222222222222222,\"#7201a8\"],[0.3333333333333333,\"#9c179e\"],[0.4444444444444444,\"#bd3786\"],[0.5555555555555556,\"#d8576b\"],[0.6666666666666666,\"#ed7953\"],[0.7777777777777778,\"#fb9f3a\"],[0.8888888888888888,\"#fdca26\"],[1.0,\"#f0f921\"]]}],\"mesh3d\":[{\"type\":\"mesh3d\",\"colorbar\":{\"outlinewidth\":0,\"ticks\":\"\"}}],\"scatter\":[{\"fillpattern\":{\"fillmode\":\"overlay\",\"size\":10,\"solidity\":0.2},\"type\":\"scatter\"}],\"parcoords\":[{\"type\":\"parcoords\",\"line\":{\"colorbar\":{\"outlinewidth\":0,\"ticks\":\"\"}}}],\"scatterpolargl\":[{\"type\":\"scatterpolargl\",\"marker\":{\"colorbar\":{\"outlinewidth\":0,\"ticks\":\"\"}}}],\"bar\":[{\"error_x\":{\"color\":\"#2a3f5f\"},\"error_y\":{\"color\":\"#2a3f5f\"},\"marker\":{\"line\":{\"color\":\"#E5ECF6\",\"width\":0.5},\"pattern\":{\"fillmode\":\"overlay\",\"size\":10,\"solidity\":0.2}},\"type\":\"bar\"}],\"scattergeo\":[{\"type\":\"scattergeo\",\"marker\":{\"colorbar\":{\"outlinewidth\":0,\"ticks\":\"\"}}}],\"scatterpolar\":[{\"type\":\"scatterpolar\",\"marker\":{\"colorbar\":{\"outlinewidth\":0,\"ticks\":\"\"}}}],\"histogram\":[{\"marker\":{\"pattern\":{\"fillmode\":\"overlay\",\"size\":10,\"solidity\":0.2}},\"type\":\"histogram\"}],\"scattergl\":[{\"type\":\"scattergl\",\"marker\":{\"colorbar\":{\"outlinewidth\":0,\"ticks\":\"\"}}}],\"scatter3d\":[{\"type\":\"scatter3d\",\"line\":{\"colorbar\":{\"outlinewidth\":0,\"ticks\":\"\"}},\"marker\":{\"colorbar\":{\"outlinewidth\":0,\"ticks\":\"\"}}}],\"scattermapbox\":[{\"type\":\"scattermapbox\",\"marker\":{\"colorbar\":{\"outlinewidth\":0,\"ticks\":\"\"}}}],\"scatterternary\":[{\"type\":\"scatterternary\",\"marker\":{\"colorbar\":{\"outlinewidth\":0,\"ticks\":\"\"}}}],\"scattercarpet\":[{\"type\":\"scattercarpet\",\"marker\":{\"colorbar\":{\"outlinewidth\":0,\"ticks\":\"\"}}}],\"carpet\":[{\"aaxis\":{\"endlinecolor\":\"#2a3f5f\",\"gridcolor\":\"white\",\"linecolor\":\"white\",\"minorgridcolor\":\"white\",\"startlinecolor\":\"#2a3f5f\"},\"baxis\":{\"endlinecolor\":\"#2a3f5f\",\"gridcolor\":\"white\",\"linecolor\":\"white\",\"minorgridcolor\":\"white\",\"startlinecolor\":\"#2a3f5f\"},\"type\":\"carpet\"}],\"table\":[{\"cells\":{\"fill\":{\"color\":\"#EBF0F8\"},\"line\":{\"color\":\"white\"}},\"header\":{\"fill\":{\"color\":\"#C8D4E3\"},\"line\":{\"color\":\"white\"}},\"type\":\"table\"}],\"barpolar\":[{\"marker\":{\"line\":{\"color\":\"#E5ECF6\",\"width\":0.5},\"pattern\":{\"fillmode\":\"overlay\",\"size\":10,\"solidity\":0.2}},\"type\":\"barpolar\"}],\"pie\":[{\"automargin\":true,\"type\":\"pie\"}]},\"layout\":{\"autotypenumbers\":\"strict\",\"colorway\":[\"#636efa\",\"#EF553B\",\"#00cc96\",\"#ab63fa\",\"#FFA15A\",\"#19d3f3\",\"#FF6692\",\"#B6E880\",\"#FF97FF\",\"#FECB52\"],\"font\":{\"color\":\"#2a3f5f\"},\"hovermode\":\"closest\",\"hoverlabel\":{\"align\":\"left\"},\"paper_bgcolor\":\"white\",\"plot_bgcolor\":\"#E5ECF6\",\"polar\":{\"bgcolor\":\"#E5ECF6\",\"angularaxis\":{\"gridcolor\":\"white\",\"linecolor\":\"white\",\"ticks\":\"\"},\"radialaxis\":{\"gridcolor\":\"white\",\"linecolor\":\"white\",\"ticks\":\"\"}},\"ternary\":{\"bgcolor\":\"#E5ECF6\",\"aaxis\":{\"gridcolor\":\"white\",\"linecolor\":\"white\",\"ticks\":\"\"},\"baxis\":{\"gridcolor\":\"white\",\"linecolor\":\"white\",\"ticks\":\"\"},\"caxis\":{\"gridcolor\":\"white\",\"linecolor\":\"white\",\"ticks\":\"\"}},\"coloraxis\":{\"colorbar\":{\"outlinewidth\":0,\"ticks\":\"\"}},\"colorscale\":{\"sequential\":[[0.0,\"#0d0887\"],[0.1111111111111111,\"#46039f\"],[0.2222222222222222,\"#7201a8\"],[0.3333333333333333,\"#9c179e\"],[0.4444444444444444,\"#bd3786\"],[0.5555555555555556,\"#d8576b\"],[0.6666666666666666,\"#ed7953\"],[0.7777777777777778,\"#fb9f3a\"],[0.8888888888888888,\"#fdca26\"],[1.0,\"#f0f921\"]],\"sequentialminus\":[[0.0,\"#0d0887\"],[0.1111111111111111,\"#46039f\"],[0.2222222222222222,\"#7201a8\"],[0.3333333333333333,\"#9c179e\"],[0.4444444444444444,\"#bd3786\"],[0.5555555555555556,\"#d8576b\"],[0.6666666666666666,\"#ed7953\"],[0.7777777777777778,\"#fb9f3a\"],[0.8888888888888888,\"#fdca26\"],[1.0,\"#f0f921\"]],\"diverging\":[[0,\"#8e0152\"],[0.1,\"#c51b7d\"],[0.2,\"#de77ae\"],[0.3,\"#f1b6da\"],[0.4,\"#fde0ef\"],[0.5,\"#f7f7f7\"],[0.6,\"#e6f5d0\"],[0.7,\"#b8e186\"],[0.8,\"#7fbc41\"],[0.9,\"#4d9221\"],[1,\"#276419\"]]},\"xaxis\":{\"gridcolor\":\"white\",\"linecolor\":\"white\",\"ticks\":\"\",\"title\":{\"standoff\":15},\"zerolinecolor\":\"white\",\"automargin\":true,\"zerolinewidth\":2},\"yaxis\":{\"gridcolor\":\"white\",\"linecolor\":\"white\",\"ticks\":\"\",\"title\":{\"standoff\":15},\"zerolinecolor\":\"white\",\"automargin\":true,\"zerolinewidth\":2},\"scene\":{\"xaxis\":{\"backgroundcolor\":\"#E5ECF6\",\"gridcolor\":\"white\",\"linecolor\":\"white\",\"showbackground\":true,\"ticks\":\"\",\"zerolinecolor\":\"white\",\"gridwidth\":2},\"yaxis\":{\"backgroundcolor\":\"#E5ECF6\",\"gridcolor\":\"white\",\"linecolor\":\"white\",\"showbackground\":true,\"ticks\":\"\",\"zerolinecolor\":\"white\",\"gridwidth\":2},\"zaxis\":{\"backgroundcolor\":\"#E5ECF6\",\"gridcolor\":\"white\",\"linecolor\":\"white\",\"showbackground\":true,\"ticks\":\"\",\"zerolinecolor\":\"white\",\"gridwidth\":2}},\"shapedefaults\":{\"line\":{\"color\":\"#2a3f5f\"}},\"annotationdefaults\":{\"arrowcolor\":\"#2a3f5f\",\"arrowhead\":0,\"arrowwidth\":1},\"geo\":{\"bgcolor\":\"white\",\"landcolor\":\"#E5ECF6\",\"subunitcolor\":\"white\",\"showland\":true,\"showlakes\":true,\"lakecolor\":\"white\"},\"title\":{\"x\":0.05},\"mapbox\":{\"style\":\"light\"}}},\"xaxis\":{\"anchor\":\"y\",\"domain\":[0.0,1.0],\"title\":{\"text\":\"value\"}},\"yaxis\":{\"anchor\":\"x\",\"domain\":[0.0,1.0],\"title\":{\"text\":\"variable\"}},\"legend\":{\"tracegroupgap\":0},\"margin\":{\"t\":60},\"boxmode\":\"group\"},                        {\"responsive\": true}                    ).then(function(){\n",
       "                            \n",
       "var gd = document.getElementById('b92efd60-3efc-414c-bdba-3f07e7ce8a63');\n",
       "var x = new MutationObserver(function (mutations, observer) {{\n",
       "        var display = window.getComputedStyle(gd).display;\n",
       "        if (!display || display === 'none') {{\n",
       "            console.log([gd, 'removed!']);\n",
       "            Plotly.purge(gd);\n",
       "            observer.disconnect();\n",
       "        }}\n",
       "}});\n",
       "\n",
       "// Listen for the removal of the full notebook cells\n",
       "var notebookContainer = gd.closest('#notebook-container');\n",
       "if (notebookContainer) {{\n",
       "    x.observe(notebookContainer, {childList: true});\n",
       "}}\n",
       "\n",
       "// Listen for the clearing of the current output cell\n",
       "var outputEl = gd.closest('.output');\n",
       "if (outputEl) {{\n",
       "    x.observe(outputEl, {childList: true});\n",
       "}}\n",
       "\n",
       "                        })                };                });            </script>        </div>"
      ]
     },
     "metadata": {},
     "output_type": "display_data"
    }
   ],
   "source": [
    "pvi_for(svc_model)"
   ]
  }
 ],
 "metadata": {
  "kernelspec": {
   "display_name": "Python 3.10.8 64-bit",
   "language": "python",
   "name": "python3"
  },
  "language_info": {
   "codemirror_mode": {
    "name": "ipython",
    "version": 3
   },
   "file_extension": ".py",
   "mimetype": "text/x-python",
   "name": "python",
   "nbconvert_exporter": "python",
   "pygments_lexer": "ipython3",
   "version": "3.10.8"
  },
  "orig_nbformat": 4,
  "vscode": {
   "interpreter": {
    "hash": "e7370f93d1d0cde622a1f8e1c04877d8463912d04d973331ad4851f04de6915a"
   }
  }
 },
 "nbformat": 4,
 "nbformat_minor": 2
}
