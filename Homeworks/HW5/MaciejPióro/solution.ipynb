{
 "cells": [
  {
   "cell_type": "markdown",
   "metadata": {},
   "source": [
    "# Explaining feature importance with Permutation-based Variable Importance (PVI) - Hear Attack Prediction"
   ]
  },
  {
   "cell_type": "markdown",
   "metadata": {},
   "source": [
    "## Report\n"
   ]
  },
  {
   "cell_type": "markdown",
   "metadata": {},
   "source": [
    "### 0. Model training\n",
    "First a model (Random Forest) was trained on the preprocessed dataset."
   ]
  },
  {
   "cell_type": "markdown",
   "metadata": {},
   "source": [
    "### 1. PVI computation\n",
    "Secondly, PVI for the Random Forest was computed. The following plot shows the six most important features:"
   ]
  },
  {
   "cell_type": "markdown",
   "metadata": {},
   "source": [
    "![alt text](plots/1.png \"PVI for Random Forest\")"
   ]
  },
  {
   "cell_type": "markdown",
   "metadata": {},
   "source": [
    "### 2. PVI for different models"
   ]
  },
  {
   "cell_type": "markdown",
   "metadata": {},
   "source": [
    "#### Random Forest (max depth = 2)"
   ]
  },
  {
   "cell_type": "markdown",
   "metadata": {},
   "source": [
    "![alt text](plots/2.png \"PVI for Random Forest (shallow)\")"
   ]
  },
  {
   "cell_type": "markdown",
   "metadata": {},
   "source": [
    "#### Logistic Regression"
   ]
  },
  {
   "cell_type": "markdown",
   "metadata": {},
   "source": [
    "![alt text](plots/3.png \"PVI for Random Forest (shallow)\")"
   ]
  },
  {
   "cell_type": "markdown",
   "metadata": {},
   "source": [
    "### 3. PVI comparison with Gini importance and TreeSHAP for Random Forest"
   ]
  },
  {
   "cell_type": "markdown",
   "metadata": {},
   "source": [
    "#### A) Gini importance (`.feature_importances_`)"
   ]
  },
  {
   "cell_type": "markdown",
   "metadata": {},
   "source": [
    "![alt text](plots/5.png \"Gini importance\")"
   ]
  },
  {
   "cell_type": "markdown",
   "metadata": {},
   "source": [
    "#### B) TreeSHAP"
   ]
  },
  {
   "cell_type": "markdown",
   "metadata": {},
   "source": [
    "![alt text](plots/6.png \"TreeSHAP\")"
   ]
  },
  {
   "cell_type": "markdown",
   "metadata": {},
   "source": [
    "### 6. Final Remarks\n",
    "All the plots above are commented. Appendix contains the code used to produce the results."
   ]
  },
  {
   "cell_type": "markdown",
   "metadata": {},
   "source": [
    "## Appendix"
   ]
  },
  {
   "cell_type": "markdown",
   "metadata": {},
   "source": [
    "### Install dependencies"
   ]
  },
  {
   "cell_type": "code",
   "execution_count": 1,
   "metadata": {},
   "outputs": [
    {
     "name": "stdout",
     "output_type": "stream",
     "text": [
      "Looking in indexes: https://pypi.org/simple, https://pypi.ngc.nvidia.com\n",
      "Requirement already satisfied: pip in ./venv/lib/python3.8/site-packages (22.3.1)\n",
      "Requirement already satisfied: dalex==1.5.0 in ./venv/lib/python3.8/site-packages (1.5.0)\n",
      "Requirement already satisfied: shap==0.41.0 in ./venv/lib/python3.8/site-packages (0.41.0)\n",
      "Requirement already satisfied: nbformat>=4.2.0 in ./venv/lib/python3.8/site-packages (5.7.0)\n",
      "Requirement already satisfied: scikit-learn==1.0.2 in ./venv/lib/python3.8/site-packages (1.0.2)\n",
      "Requirement already satisfied: pandas==1.3.5 in ./venv/lib/python3.8/site-packages (1.3.5)\n",
      "Requirement already satisfied: numpy==1.22.4 in ./venv/lib/python3.8/site-packages (1.22.4)\n",
      "Requirement already satisfied: lime==0.2.0.1 in ./venv/lib/python3.8/site-packages (0.2.0.1)\n",
      "Requirement already satisfied: alibi==0.8.0 in ./venv/lib/python3.8/site-packages (0.8.0)\n",
      "Requirement already satisfied: gdown in ./venv/lib/python3.8/site-packages (4.5.3)\n",
      "Requirement already satisfied: seaborn in ./venv/lib/python3.8/site-packages (0.12.1)\n",
      "Requirement already satisfied: plotly>=5.1.0 in ./venv/lib/python3.8/site-packages (from dalex==1.5.0) (5.11.0)\n",
      "Requirement already satisfied: scipy>=1.6.3 in ./venv/lib/python3.8/site-packages (from dalex==1.5.0) (1.9.3)\n",
      "Requirement already satisfied: setuptools in ./venv/lib/python3.8/site-packages (from dalex==1.5.0) (44.0.0)\n",
      "Requirement already satisfied: tqdm>=4.61.2 in ./venv/lib/python3.8/site-packages (from dalex==1.5.0) (4.64.1)\n",
      "Requirement already satisfied: numba in ./venv/lib/python3.8/site-packages (from shap==0.41.0) (0.56.4)\n",
      "Requirement already satisfied: slicer==0.0.7 in ./venv/lib/python3.8/site-packages (from shap==0.41.0) (0.0.7)\n",
      "Requirement already satisfied: cloudpickle in ./venv/lib/python3.8/site-packages (from shap==0.41.0) (2.2.0)\n",
      "Requirement already satisfied: packaging>20.9 in ./venv/lib/python3.8/site-packages (from shap==0.41.0) (21.3)\n",
      "Requirement already satisfied: joblib>=0.11 in ./venv/lib/python3.8/site-packages (from scikit-learn==1.0.2) (1.2.0)\n",
      "Requirement already satisfied: threadpoolctl>=2.0.0 in ./venv/lib/python3.8/site-packages (from scikit-learn==1.0.2) (3.1.0)\n",
      "Requirement already satisfied: python-dateutil>=2.7.3 in ./venv/lib/python3.8/site-packages (from pandas==1.3.5) (2.8.2)\n",
      "Requirement already satisfied: pytz>=2017.3 in ./venv/lib/python3.8/site-packages (from pandas==1.3.5) (2022.6)\n",
      "Requirement already satisfied: matplotlib in ./venv/lib/python3.8/site-packages (from lime==0.2.0.1) (3.6.2)\n",
      "Requirement already satisfied: scikit-image>=0.12 in ./venv/lib/python3.8/site-packages (from lime==0.2.0.1) (0.19.3)\n",
      "Requirement already satisfied: transformers<5.0.0,>=4.7.0 in ./venv/lib/python3.8/site-packages (from alibi==0.8.0) (4.24.0)\n",
      "Requirement already satisfied: Pillow<10.0,>=5.4.1 in ./venv/lib/python3.8/site-packages (from alibi==0.8.0) (9.3.0)\n",
      "Requirement already satisfied: spacy[lookups]<4.0.0,>=2.0.0 in ./venv/lib/python3.8/site-packages (from alibi==0.8.0) (3.4.3)\n",
      "Requirement already satisfied: attrs<23.0.0,>=19.2.0 in ./venv/lib/python3.8/site-packages (from alibi==0.8.0) (22.1.0)\n",
      "Requirement already satisfied: blis<0.8.0 in ./venv/lib/python3.8/site-packages (from alibi==0.8.0) (0.7.9)\n",
      "Requirement already satisfied: dill<0.4.0,>=0.3.0 in ./venv/lib/python3.8/site-packages (from alibi==0.8.0) (0.3.6)\n",
      "Requirement already satisfied: typing-extensions>=3.7.4.3 in ./venv/lib/python3.8/site-packages (from alibi==0.8.0) (4.4.0)\n",
      "Requirement already satisfied: requests<3.0.0,>=2.21.0 in ./venv/lib/python3.8/site-packages (from alibi==0.8.0) (2.28.1)\n",
      "Requirement already satisfied: traitlets>=5.1 in ./venv/lib/python3.8/site-packages (from nbformat>=4.2.0) (5.5.0)\n",
      "Requirement already satisfied: jsonschema>=2.6 in ./venv/lib/python3.8/site-packages (from nbformat>=4.2.0) (4.17.1)\n",
      "Requirement already satisfied: fastjsonschema in ./venv/lib/python3.8/site-packages (from nbformat>=4.2.0) (2.16.2)\n",
      "Requirement already satisfied: jupyter-core in ./venv/lib/python3.8/site-packages (from nbformat>=4.2.0) (5.0.0)\n",
      "Requirement already satisfied: six in ./venv/lib/python3.8/site-packages (from gdown) (1.16.0)\n",
      "Requirement already satisfied: beautifulsoup4 in ./venv/lib/python3.8/site-packages (from gdown) (4.11.1)\n",
      "Requirement already satisfied: filelock in ./venv/lib/python3.8/site-packages (from gdown) (3.8.0)\n",
      "Requirement already satisfied: importlib-resources>=1.4.0 in ./venv/lib/python3.8/site-packages (from jsonschema>=2.6->nbformat>=4.2.0) (5.10.0)\n",
      "Requirement already satisfied: pkgutil-resolve-name>=1.3.10 in ./venv/lib/python3.8/site-packages (from jsonschema>=2.6->nbformat>=4.2.0) (1.3.10)\n",
      "Requirement already satisfied: pyrsistent!=0.17.0,!=0.17.1,!=0.17.2,>=0.14.0 in ./venv/lib/python3.8/site-packages (from jsonschema>=2.6->nbformat>=4.2.0) (0.19.2)\n",
      "Requirement already satisfied: kiwisolver>=1.0.1 in ./venv/lib/python3.8/site-packages (from matplotlib->lime==0.2.0.1) (1.4.4)\n",
      "Requirement already satisfied: cycler>=0.10 in ./venv/lib/python3.8/site-packages (from matplotlib->lime==0.2.0.1) (0.11.0)\n",
      "Requirement already satisfied: pyparsing>=2.2.1 in ./venv/lib/python3.8/site-packages (from matplotlib->lime==0.2.0.1) (3.0.9)\n",
      "Requirement already satisfied: contourpy>=1.0.1 in ./venv/lib/python3.8/site-packages (from matplotlib->lime==0.2.0.1) (1.0.6)\n",
      "Requirement already satisfied: fonttools>=4.22.0 in ./venv/lib/python3.8/site-packages (from matplotlib->lime==0.2.0.1) (4.38.0)\n",
      "Requirement already satisfied: tenacity>=6.2.0 in ./venv/lib/python3.8/site-packages (from plotly>=5.1.0->dalex==1.5.0) (8.1.0)\n",
      "Requirement already satisfied: urllib3<1.27,>=1.21.1 in ./venv/lib/python3.8/site-packages (from requests<3.0.0,>=2.21.0->alibi==0.8.0) (1.26.12)\n",
      "Requirement already satisfied: charset-normalizer<3,>=2 in ./venv/lib/python3.8/site-packages (from requests<3.0.0,>=2.21.0->alibi==0.8.0) (2.1.1)\n",
      "Requirement already satisfied: certifi>=2017.4.17 in ./venv/lib/python3.8/site-packages (from requests<3.0.0,>=2.21.0->alibi==0.8.0) (2022.9.24)\n",
      "Requirement already satisfied: idna<4,>=2.5 in ./venv/lib/python3.8/site-packages (from requests<3.0.0,>=2.21.0->alibi==0.8.0) (3.4)\n",
      "Requirement already satisfied: tifffile>=2019.7.26 in ./venv/lib/python3.8/site-packages (from scikit-image>=0.12->lime==0.2.0.1) (2022.10.10)\n",
      "Requirement already satisfied: imageio>=2.4.1 in ./venv/lib/python3.8/site-packages (from scikit-image>=0.12->lime==0.2.0.1) (2.22.4)\n",
      "Requirement already satisfied: networkx>=2.2 in ./venv/lib/python3.8/site-packages (from scikit-image>=0.12->lime==0.2.0.1) (2.8.8)\n",
      "Requirement already satisfied: PyWavelets>=1.1.1 in ./venv/lib/python3.8/site-packages (from scikit-image>=0.12->lime==0.2.0.1) (1.4.1)\n",
      "Requirement already satisfied: preshed<3.1.0,>=3.0.2 in ./venv/lib/python3.8/site-packages (from spacy[lookups]<4.0.0,>=2.0.0->alibi==0.8.0) (3.0.8)\n",
      "Requirement already satisfied: catalogue<2.1.0,>=2.0.6 in ./venv/lib/python3.8/site-packages (from spacy[lookups]<4.0.0,>=2.0.0->alibi==0.8.0) (2.0.8)\n",
      "Requirement already satisfied: pathy>=0.3.5 in ./venv/lib/python3.8/site-packages (from spacy[lookups]<4.0.0,>=2.0.0->alibi==0.8.0) (0.9.0)\n",
      "Requirement already satisfied: typer<0.8.0,>=0.3.0 in ./venv/lib/python3.8/site-packages (from spacy[lookups]<4.0.0,>=2.0.0->alibi==0.8.0) (0.7.0)\n",
      "Requirement already satisfied: wasabi<1.1.0,>=0.9.1 in ./venv/lib/python3.8/site-packages (from spacy[lookups]<4.0.0,>=2.0.0->alibi==0.8.0) (0.10.1)\n",
      "Requirement already satisfied: murmurhash<1.1.0,>=0.28.0 in ./venv/lib/python3.8/site-packages (from spacy[lookups]<4.0.0,>=2.0.0->alibi==0.8.0) (1.0.9)\n",
      "Requirement already satisfied: spacy-loggers<2.0.0,>=1.0.0 in ./venv/lib/python3.8/site-packages (from spacy[lookups]<4.0.0,>=2.0.0->alibi==0.8.0) (1.0.3)\n",
      "Requirement already satisfied: pydantic!=1.8,!=1.8.1,<1.11.0,>=1.7.4 in ./venv/lib/python3.8/site-packages (from spacy[lookups]<4.0.0,>=2.0.0->alibi==0.8.0) (1.10.2)\n",
      "Requirement already satisfied: spacy-legacy<3.1.0,>=3.0.10 in ./venv/lib/python3.8/site-packages (from spacy[lookups]<4.0.0,>=2.0.0->alibi==0.8.0) (3.0.10)\n",
      "Requirement already satisfied: jinja2 in ./venv/lib/python3.8/site-packages (from spacy[lookups]<4.0.0,>=2.0.0->alibi==0.8.0) (3.1.2)\n",
      "Requirement already satisfied: srsly<3.0.0,>=2.4.3 in ./venv/lib/python3.8/site-packages (from spacy[lookups]<4.0.0,>=2.0.0->alibi==0.8.0) (2.4.5)\n",
      "Requirement already satisfied: thinc<8.2.0,>=8.1.0 in ./venv/lib/python3.8/site-packages (from spacy[lookups]<4.0.0,>=2.0.0->alibi==0.8.0) (8.1.5)\n",
      "Requirement already satisfied: langcodes<4.0.0,>=3.2.0 in ./venv/lib/python3.8/site-packages (from spacy[lookups]<4.0.0,>=2.0.0->alibi==0.8.0) (3.3.0)\n",
      "Requirement already satisfied: cymem<2.1.0,>=2.0.2 in ./venv/lib/python3.8/site-packages (from spacy[lookups]<4.0.0,>=2.0.0->alibi==0.8.0) (2.0.7)\n",
      "Requirement already satisfied: spacy-lookups-data<1.1.0,>=1.0.3 in ./venv/lib/python3.8/site-packages (from spacy[lookups]<4.0.0,>=2.0.0->alibi==0.8.0) (1.0.3)\n",
      "Requirement already satisfied: tokenizers!=0.11.3,<0.14,>=0.11.1 in ./venv/lib/python3.8/site-packages (from transformers<5.0.0,>=4.7.0->alibi==0.8.0) (0.13.2)\n",
      "Requirement already satisfied: huggingface-hub<1.0,>=0.10.0 in ./venv/lib/python3.8/site-packages (from transformers<5.0.0,>=4.7.0->alibi==0.8.0) (0.11.0)\n",
      "Requirement already satisfied: regex!=2019.12.17 in ./venv/lib/python3.8/site-packages (from transformers<5.0.0,>=4.7.0->alibi==0.8.0) (2022.10.31)\n",
      "Requirement already satisfied: pyyaml>=5.1 in ./venv/lib/python3.8/site-packages (from transformers<5.0.0,>=4.7.0->alibi==0.8.0) (6.0)\n",
      "Requirement already satisfied: soupsieve>1.2 in ./venv/lib/python3.8/site-packages (from beautifulsoup4->gdown) (2.3.2.post1)\n",
      "Requirement already satisfied: platformdirs in ./venv/lib/python3.8/site-packages (from jupyter-core->nbformat>=4.2.0) (2.5.4)\n",
      "Requirement already satisfied: llvmlite<0.40,>=0.39.0dev0 in ./venv/lib/python3.8/site-packages (from numba->shap==0.41.0) (0.39.1)\n",
      "Requirement already satisfied: importlib-metadata in ./venv/lib/python3.8/site-packages (from numba->shap==0.41.0) (5.0.0)\n",
      "Requirement already satisfied: PySocks!=1.5.7,>=1.5.6 in ./venv/lib/python3.8/site-packages (from requests<3.0.0,>=2.21.0->alibi==0.8.0) (1.7.1)\n",
      "Requirement already satisfied: zipp>=3.1.0 in ./venv/lib/python3.8/site-packages (from importlib-resources>=1.4.0->jsonschema>=2.6->nbformat>=4.2.0) (3.10.0)\n",
      "Requirement already satisfied: smart-open<6.0.0,>=5.2.1 in ./venv/lib/python3.8/site-packages (from pathy>=0.3.5->spacy[lookups]<4.0.0,>=2.0.0->alibi==0.8.0) (5.2.1)\n",
      "Requirement already satisfied: confection<1.0.0,>=0.0.1 in ./venv/lib/python3.8/site-packages (from thinc<8.2.0,>=8.1.0->spacy[lookups]<4.0.0,>=2.0.0->alibi==0.8.0) (0.0.3)\n",
      "Requirement already satisfied: click<9.0.0,>=7.1.1 in ./venv/lib/python3.8/site-packages (from typer<0.8.0,>=0.3.0->spacy[lookups]<4.0.0,>=2.0.0->alibi==0.8.0) (8.1.3)\n",
      "Requirement already satisfied: MarkupSafe>=2.0 in ./venv/lib/python3.8/site-packages (from jinja2->spacy[lookups]<4.0.0,>=2.0.0->alibi==0.8.0) (2.1.1)\n"
     ]
    }
   ],
   "source": [
    "!pip install -U pip 'dalex==1.5.0' \\\n",
    "    'shap==0.41.0' 'nbformat>=4.2.0' 'scikit-learn==1.0.2' \\\n",
    "    'pandas==1.3.5' 'numpy==1.22.4' 'lime==0.2.0.1' \\\n",
    "    'alibi==0.8.0' gdown seaborn"
   ]
  },
  {
   "cell_type": "markdown",
   "metadata": {},
   "source": [
    "### Download data"
   ]
  },
  {
   "cell_type": "code",
   "execution_count": 2,
   "metadata": {},
   "outputs": [
    {
     "name": "stderr",
     "output_type": "stream",
     "text": [
      "Downloading...\n",
      "From: https://drive.google.com/uc?id=1yBNUVzUAwb5LeQ9eGD55YVPGq-5HoX4c\n",
      "To: /home/maciej/Documents/Studia/Zima 2022/XAI/MyRepo/eXplainableMachineLearning-2023/Homeworks/HW5/MaciejPióro/heart.csv\n",
      "100%|██████████| 11.3k/11.3k [00:00<00:00, 17.6MB/s]\n"
     ]
    },
    {
     "data": {
      "text/plain": [
       "'heart.csv'"
      ]
     },
     "execution_count": 2,
     "metadata": {},
     "output_type": "execute_result"
    }
   ],
   "source": [
    "import gdown\n",
    "gdown.download(id='1yBNUVzUAwb5LeQ9eGD55YVPGq-5HoX4c', output='heart.csv', quiet=False)"
   ]
  },
  {
   "cell_type": "markdown",
   "metadata": {},
   "source": [
    "### Load & Preprocess data\n",
    "First the data is loaded and some test set size is selected. To make the analysis reproducible, the seed is set.\n"
   ]
  },
  {
   "cell_type": "code",
   "execution_count": 1,
   "metadata": {},
   "outputs": [],
   "source": [
    "import pandas as pd\n",
    "import seaborn as sns\n",
    "import matplotlib.pyplot as plt\n",
    "import dalex as dx\n",
    "import random\n",
    "import numpy as np\n",
    "from sklearn.utils import shuffle\n",
    "\n",
    "SEED = 997\n",
    "TEST_SIZE = 0.1\n",
    "\n",
    "data = shuffle(pd.read_csv('heart.csv'), random_state=SEED)"
   ]
  },
  {
   "cell_type": "markdown",
   "metadata": {},
   "source": [
    "Dataset contains two categorical variable: `cp` and `restecg`. Those are one-hot encoded in preprocessing. Generally models can benefit from one-hot encoding the categorical variables. What's more, we translate and scale the input features to follow the N(0, 1) normal distribution. The data is also split into test and train sets."
   ]
  },
  {
   "cell_type": "code",
   "execution_count": 2,
   "metadata": {},
   "outputs": [],
   "source": [
    "from typing import Tuple, Optional\n",
    "from sklearn.preprocessing import StandardScaler\n",
    "from sklearn.model_selection import train_test_split\n",
    "\n",
    "def to_one_hot(data, column):\n",
    "    dummies = pd.get_dummies(data[column])\n",
    "    for dummy_value in dummies.columns:\n",
    "        data = pd.concat([data, dummies[dummy_value].rename(f'{column}_{dummy_value}')], axis=1)\n",
    "    return data.drop(column, axis=1)\n",
    "\n",
    "def scale_dataframe(df: pd.DataFrame, scaler: Optional[StandardScaler] = None) -> Tuple[pd.DataFrame, StandardScaler]:\n",
    "    res_df = df.copy()\n",
    "    if scaler is None:\n",
    "        scaler = StandardScaler()\n",
    "        scaler = scaler.fit(res_df[res_df.columns])\n",
    "    res_df[res_df.columns] = scaler.transform(res_df[res_df.columns])\n",
    "    return res_df, scaler\n",
    "\n",
    "data = to_one_hot(data, 'cp')\n",
    "data = to_one_hot(data, 'restecg')\n",
    "\n",
    "train, test = train_test_split(data, test_size=TEST_SIZE, random_state=SEED)\n",
    "\n",
    "X_train, train_scaler = scale_dataframe(train.drop(columns=['output']))\n",
    "y_train = train['output']\n",
    "\n",
    "X_test, _ = scale_dataframe(test.drop(columns=['output']), train_scaler)\n",
    "y_test = test['output']"
   ]
  },
  {
   "cell_type": "markdown",
   "metadata": {},
   "source": [
    "### Train a model\n",
    "The basic model that we use is Random Forest Classifier"
   ]
  },
  {
   "cell_type": "code",
   "execution_count": 10,
   "metadata": {},
   "outputs": [],
   "source": [
    "import dalex as dx\n",
    "from sklearn.ensemble import RandomForestClassifier\n",
    "\n",
    "model = RandomForestClassifier(random_state=SEED)\n",
    "\n",
    "model.fit(X_train, y_train)\n",
    "\n",
    "tree_model = model"
   ]
  },
  {
   "cell_type": "markdown",
   "metadata": {},
   "source": [
    "### 1. Calculate PVI for the model"
   ]
  },
  {
   "cell_type": "code",
   "execution_count": 11,
   "metadata": {},
   "outputs": [
    {
     "name": "stdout",
     "output_type": "stream",
     "text": [
      "Preparation of a new explainer is initiated\n",
      "\n",
      "  -> data              : 31 rows 18 cols\n",
      "  -> target variable   : Parameter 'y' was a pandas.Series. Converted to a numpy.ndarray.\n",
      "  -> target variable   : 31 values\n",
      "  -> model_class       : sklearn.ensemble._forest.RandomForestClassifier (default)\n",
      "  -> label             : Random Forest\n",
      "  -> predict function  : <function pf at 0x7ff681756ca0> will be used\n",
      "  -> predict function  : Accepts pandas.DataFrame and numpy.ndarray.\n",
      "  -> predicted values  : min = 0.02, mean = 0.462, max = 0.95\n",
      "  -> model type        : classification will be used (default)\n",
      "  -> residual function : difference between y and yhat (default)\n",
      "  -> residuals         : min = -0.79, mean = -0.0429, max = 0.78\n",
      "  -> model_info        : package sklearn\n",
      "\n",
      "A new explainer has been created!\n"
     ]
    },
    {
     "name": "stderr",
     "output_type": "stream",
     "text": [
      "/home/maciej/Documents/Studia/Zima 2022/XAI/MyRepo/eXplainableMachineLearning-2023/Homeworks/HW5/MaciejPióro/venv/lib/python3.8/site-packages/sklearn/base.py:450: UserWarning:\n",
      "\n",
      "X does not have valid feature names, but RandomForestClassifier was fitted with feature names\n",
      "\n"
     ]
    }
   ],
   "source": [
    "def pf(model, df):\n",
    "    return model.predict_proba(df)[:, 1]\n",
    "\n",
    "explainer = dx.Explainer(model, X_test, y_test, predict_function=pf, label='Random Forest')"
   ]
  },
  {
   "cell_type": "code",
   "execution_count": 12,
   "metadata": {},
   "outputs": [
    {
     "data": {
      "application/vnd.plotly.v1+json": {
       "config": {
        "plotlyServerURL": "https://plot.ly"
       },
       "data": [
        {
         "base": 0.06623931623931623,
         "hoverinfo": "text",
         "hoverlabel": {
          "bgcolor": "rgba(0,0,0,0.8)"
         },
         "hovertext": [
          "Model: Random Forest loss after<br>variable: caa is permuted: 0.119<br>Drop-out loss change: +0.053",
          "Model: Random Forest loss after<br>variable: thall is permuted: 0.109<br>Drop-out loss change: +0.043",
          "Model: Random Forest loss after<br>variable: oldpeak is permuted: 0.09<br>Drop-out loss change: +0.024",
          "Model: Random Forest loss after<br>variable: cp_0 is permuted: 0.082<br>Drop-out loss change: +0.016",
          "Model: Random Forest loss after<br>variable: age is permuted: 0.076<br>Drop-out loss change: +0.01",
          "Model: Random Forest loss after<br>variable: cp_2 is permuted: 0.075<br>Drop-out loss change: +0.008"
         ],
         "marker": {
          "color": "#46bac2"
         },
         "orientation": "h",
         "showlegend": false,
         "text": [
          "+0.053",
          "+0.043",
          "+0.024",
          "+0.016",
          "+0.01",
          "+0.008"
         ],
         "textposition": "outside",
         "type": "bar",
         "x": [
          0.053205128205128197,
          0.04273504273504272,
          0.02371794871794866,
          0.015811965811965784,
          0.010042735042735035,
          0.008333333333333318
         ],
         "xaxis": "x",
         "y": [
          "caa",
          "thall",
          "oldpeak",
          "cp_0",
          "age",
          "cp_2"
         ],
         "yaxis": "y"
        }
       ],
       "layout": {
        "annotations": [
         {
          "font": {
           "size": 16
          },
          "showarrow": false,
          "text": "Random Forest",
          "x": 0.5,
          "xanchor": "center",
          "xref": "paper",
          "y": 1,
          "yanchor": "bottom",
          "yref": "paper"
         },
         {
          "font": {
           "size": 16
          },
          "showarrow": false,
          "text": "drop-out loss",
          "x": 0.5,
          "xanchor": "center",
          "xref": "paper",
          "y": 0,
          "yanchor": "top",
          "yref": "paper",
          "yshift": -30
         }
        ],
        "font": {
         "color": "#371ea3"
        },
        "height": 303,
        "margin": {
         "b": 71,
         "r": 30,
         "t": 78
        },
        "shapes": [
         {
          "line": {
           "color": "#371ea3",
           "dash": "dot",
           "width": 1.5
          },
          "type": "line",
          "x0": 0.06623931623931623,
          "x1": 0.06623931623931623,
          "xref": "x",
          "y0": -1,
          "y1": 6,
          "yref": "y"
         }
        ],
        "template": {
         "data": {
          "scatter": [
           {
            "type": "scatter"
           }
          ]
         }
        },
        "title": {
         "x": 0.15
        },
        "xaxis": {
         "anchor": "y",
         "automargin": true,
         "domain": [
          0,
          1
         ],
         "fixedrange": true,
         "gridwidth": 2,
         "range": [
          0.035651709401709385,
          0.1303739316239316
         ],
         "tickcolor": "white",
         "ticklen": 3,
         "ticks": "outside",
         "type": "linear",
         "zeroline": false
        },
        "yaxis": {
         "anchor": "x",
         "automargin": true,
         "autorange": "reversed",
         "domain": [
          0,
          1
         ],
         "fixedrange": true,
         "gridwidth": 2,
         "tickcolor": "white",
         "ticklen": 10,
         "ticks": "outside",
         "type": "category"
        }
       }
      }
     },
     "metadata": {},
     "output_type": "display_data"
    }
   ],
   "source": [
    "pvi = explainer.model_parts(random_state=SEED)\n",
    "pvi.plot(\n",
    "    max_vars=6, \n",
    "    title=None, \n",
    "    show=False\n",
    ")"
   ]
  },
  {
   "cell_type": "markdown",
   "metadata": {},
   "source": [
    "### 2. Train further models"
   ]
  },
  {
   "cell_type": "markdown",
   "metadata": {},
   "source": [
    "#### Shallow Random Forest Classifier"
   ]
  },
  {
   "cell_type": "code",
   "execution_count": 13,
   "metadata": {},
   "outputs": [
    {
     "name": "stdout",
     "output_type": "stream",
     "text": [
      "Preparation of a new explainer is initiated\n",
      "\n",
      "  -> data              : 31 rows 18 cols\n",
      "  -> target variable   : Parameter 'y' was a pandas.Series. Converted to a numpy.ndarray.\n",
      "  -> target variable   : 31 values\n",
      "  -> model_class       : sklearn.ensemble._forest.RandomForestClassifier (default)\n",
      "  -> label             : Random Forest (shallow)\n",
      "  -> predict function  : <function pf at 0x7ff68176bf70> will be used\n",
      "  -> predict function  : Accepts pandas.DataFrame and numpy.ndarray.\n",
      "  -> predicted values  : min = 0.162, mean = 0.488, max = 0.843\n",
      "  -> model type        : classification will be used (default)\n",
      "  -> residual function : difference between y and yhat (default)\n",
      "  -> residuals         : min = -0.706, mean = -0.0687, max = 0.615\n",
      "  -> model_info        : package sklearn\n",
      "\n",
      "A new explainer has been created!\n"
     ]
    },
    {
     "name": "stderr",
     "output_type": "stream",
     "text": [
      "/home/maciej/Documents/Studia/Zima 2022/XAI/MyRepo/eXplainableMachineLearning-2023/Homeworks/HW5/MaciejPióro/venv/lib/python3.8/site-packages/sklearn/base.py:450: UserWarning:\n",
      "\n",
      "X does not have valid feature names, but RandomForestClassifier was fitted with feature names\n",
      "\n"
     ]
    },
    {
     "data": {
      "application/vnd.plotly.v1+json": {
       "config": {
        "displaylogo": false,
        "modeBarButtonsToRemove": [
         "sendDataToCloud",
         "lasso2d",
         "autoScale2d",
         "select2d",
         "zoom2d",
         "pan2d",
         "zoomIn2d",
         "zoomOut2d",
         "resetScale2d",
         "toggleSpikelines",
         "hoverCompareCartesian",
         "hoverClosestCartesian"
        ],
        "plotlyServerURL": "https://plot.ly",
        "staticPlot": false,
        "toImageButtonOptions": {
         "height": null,
         "width": null
        }
       },
       "data": [
        {
         "base": 0.05555555555555558,
         "hoverinfo": "text",
         "hoverlabel": {
          "bgcolor": "rgba(0,0,0,0.8)"
         },
         "hovertext": [
          "Model: Random Forest (shallow) loss after<br>variable: cp_0 is permuted: 0.092<br>Drop-out loss change: +0.037",
          "Model: Random Forest (shallow) loss after<br>variable: caa is permuted: 0.087<br>Drop-out loss change: +0.031",
          "Model: Random Forest (shallow) loss after<br>variable: thall is permuted: 0.073<br>Drop-out loss change: +0.018",
          "Model: Random Forest (shallow) loss after<br>variable: oldpeak is permuted: 0.068<br>Drop-out loss change: +0.012",
          "Model: Random Forest (shallow) loss after<br>variable: slp is permuted: 0.064<br>Drop-out loss change: +0.009",
          "Model: Random Forest (shallow) loss after<br>variable: cp_2 is permuted: 0.062<br>Drop-out loss change: +0.007"
         ],
         "marker": {
          "color": "#46bac2"
         },
         "orientation": "h",
         "showlegend": false,
         "text": [
          "+0.037",
          "+0.031",
          "+0.018",
          "+0.012",
          "+0.009",
          "+0.007"
         ],
         "textposition": "outside",
         "type": "bar",
         "x": [
          0.03675213675213672,
          0.031196581196581155,
          0.0175213675213675,
          0.011965811965811937,
          0.008547008547008503,
          0.006837606837606813
         ],
         "xaxis": "x",
         "y": [
          "cp_0",
          "caa",
          "thall",
          "oldpeak",
          "slp",
          "cp_2"
         ],
         "yaxis": "y"
        }
       ],
       "layout": {
        "annotations": [
         {
          "font": {
           "size": 16
          },
          "showarrow": false,
          "text": "Random Forest (shallow)",
          "x": 0.5,
          "xanchor": "center",
          "xref": "paper",
          "y": 1,
          "yanchor": "bottom",
          "yref": "paper"
         },
         {
          "font": {
           "size": 16
          },
          "showarrow": false,
          "text": "drop-out loss",
          "x": 0.5,
          "xanchor": "center",
          "xref": "paper",
          "y": 0,
          "yanchor": "top",
          "yref": "paper",
          "yshift": -30
         }
        ],
        "font": {
         "color": "#371ea3"
        },
        "height": 303,
        "margin": {
         "b": 71,
         "r": 30,
         "t": 78
        },
        "shapes": [
         {
          "line": {
           "color": "#371ea3",
           "dash": "dot",
           "width": 1.5
          },
          "type": "line",
          "x0": 0.05555555555555558,
          "x1": 0.05555555555555558,
          "xref": "x",
          "y0": -1,
          "y1": 6,
          "yref": "y"
         }
        ],
        "template": {
         "data": {
          "scatter": [
           {
            "type": "scatter"
           }
          ]
         }
        },
        "title": {
         "x": 0.15
        },
        "xaxis": {
         "anchor": "y",
         "automargin": true,
         "domain": [
          0,
          1
         ],
         "fixedrange": true,
         "gridwidth": 2,
         "range": [
          0.04217948717948724,
          0.09884615384615383
         ],
         "tickcolor": "white",
         "ticklen": 3,
         "ticks": "outside",
         "type": "linear",
         "zeroline": false
        },
        "yaxis": {
         "anchor": "x",
         "automargin": true,
         "autorange": "reversed",
         "domain": [
          0,
          1
         ],
         "fixedrange": true,
         "gridwidth": 2,
         "tickcolor": "white",
         "ticklen": 10,
         "ticks": "outside",
         "type": "category"
        }
       }
      }
     },
     "metadata": {},
     "output_type": "display_data"
    }
   ],
   "source": [
    "def pf(model, df):\n",
    "    return model.predict_proba(df)[:, 1]\n",
    "\n",
    "model = RandomForestClassifier(random_state=SEED, max_depth=2)\n",
    "\n",
    "model.fit(X_train, y_train)\n",
    "\n",
    "explainer = dx.Explainer(model, X_test, y_test, predict_function=pf, label='Random Forest (shallow)')\n",
    "pvi = explainer.model_parts(random_state=SEED)\n",
    "pvi.plot(\n",
    "    max_vars=6, \n",
    "    title=None, \n",
    "    show=True\n",
    ")"
   ]
  },
  {
   "cell_type": "markdown",
   "metadata": {},
   "source": [
    "#### Logistic Regression"
   ]
  },
  {
   "cell_type": "code",
   "execution_count": 15,
   "metadata": {},
   "outputs": [
    {
     "name": "stdout",
     "output_type": "stream",
     "text": [
      "Preparation of a new explainer is initiated\n",
      "\n",
      "  -> data              : 31 rows 18 cols\n",
      "  -> target variable   : Parameter 'y' was a pandas.Series. Converted to a numpy.ndarray.\n",
      "  -> target variable   : 31 values\n",
      "  -> model_class       : sklearn.linear_model._logistic.LogisticRegression (default)\n",
      "  -> label             : Logistic Regression\n",
      "  -> predict function  : <function pf at 0x7ff68176b5e0> will be used\n",
      "  -> predict function  : Accepts pandas.DataFrame and numpy.ndarray.\n",
      "  -> predicted values  : min = 0.00155, mean = 0.459, max = 0.994\n",
      "  -> model type        : classification will be used (default)\n",
      "  -> residual function : difference between y and yhat (default)\n",
      "  -> residuals         : min = -0.882, mean = -0.0395, max = 0.92\n",
      "  -> model_info        : package sklearn\n",
      "\n",
      "A new explainer has been created!\n"
     ]
    },
    {
     "name": "stderr",
     "output_type": "stream",
     "text": [
      "/home/maciej/Documents/Studia/Zima 2022/XAI/MyRepo/eXplainableMachineLearning-2023/Homeworks/HW5/MaciejPióro/venv/lib/python3.8/site-packages/sklearn/base.py:450: UserWarning:\n",
      "\n",
      "X does not have valid feature names, but LogisticRegression was fitted with feature names\n",
      "\n"
     ]
    },
    {
     "data": {
      "application/vnd.plotly.v1+json": {
       "config": {
        "displaylogo": false,
        "modeBarButtonsToRemove": [
         "sendDataToCloud",
         "lasso2d",
         "autoScale2d",
         "select2d",
         "zoom2d",
         "pan2d",
         "zoomIn2d",
         "zoomOut2d",
         "resetScale2d",
         "toggleSpikelines",
         "hoverCompareCartesian",
         "hoverClosestCartesian"
        ],
        "plotlyServerURL": "https://plot.ly",
        "staticPlot": false,
        "toImageButtonOptions": {
         "height": null,
         "width": null
        }
       },
       "data": [
        {
         "base": 0.07692307692307687,
         "hoverinfo": "text",
         "hoverlabel": {
          "bgcolor": "rgba(0,0,0,0.8)"
         },
         "hovertext": [
          "Model: Logistic Regression loss after<br>variable: caa is permuted: 0.112<br>Drop-out loss change: +0.035",
          "Model: Logistic Regression loss after<br>variable: oldpeak is permuted: 0.094<br>Drop-out loss change: +0.017",
          "Model: Logistic Regression loss after<br>variable: cp_0 is permuted: 0.094<br>Drop-out loss change: +0.017",
          "Model: Logistic Regression loss after<br>variable: cp_2 is permuted: 0.091<br>Drop-out loss change: +0.015",
          "Model: Logistic Regression loss after<br>variable: thall is permuted: 0.089<br>Drop-out loss change: +0.012",
          "Model: Logistic Regression loss after<br>variable: sex is permuted: 0.087<br>Drop-out loss change: +0.01"
         ],
         "marker": {
          "color": "#46bac2"
         },
         "orientation": "h",
         "showlegend": false,
         "text": [
          "+0.035",
          "+0.017",
          "+0.017",
          "+0.015",
          "+0.012",
          "+0.01"
         ],
         "textposition": "outside",
         "type": "bar",
         "x": [
          0.035470085470085524,
          0.017094017094017117,
          0.017094017094017117,
          0.014529914529914562,
          0.012393162393162419,
          0.01025641025641029
         ],
         "xaxis": "x",
         "y": [
          "caa",
          "oldpeak",
          "cp_0",
          "cp_2",
          "thall",
          "sex"
         ],
         "yaxis": "y"
        }
       ],
       "layout": {
        "annotations": [
         {
          "font": {
           "size": 16
          },
          "showarrow": false,
          "text": "Logistic Regression",
          "x": 0.5,
          "xanchor": "center",
          "xref": "paper",
          "y": 1,
          "yanchor": "bottom",
          "yref": "paper"
         },
         {
          "font": {
           "size": 16
          },
          "showarrow": false,
          "text": "drop-out loss",
          "x": 0.5,
          "xanchor": "center",
          "xref": "paper",
          "y": 0,
          "yanchor": "top",
          "yref": "paper",
          "yshift": -30
         }
        ],
        "font": {
         "color": "#371ea3"
        },
        "height": 303,
        "margin": {
         "b": 71,
         "r": 30,
         "t": 78
        },
        "shapes": [
         {
          "line": {
           "color": "#371ea3",
           "dash": "dot",
           "width": 1.5
          },
          "type": "line",
          "x0": 0.07692307692307687,
          "x1": 0.07692307692307687,
          "xref": "x",
          "y0": -1,
          "y1": 6,
          "yref": "y"
         }
        ],
        "template": {
         "data": {
          "scatter": [
           {
            "type": "scatter"
           }
          ]
         }
        },
        "title": {
         "x": 0.15
        },
        "xaxis": {
         "anchor": "y",
         "automargin": true,
         "domain": [
          0,
          1
         ],
         "fixedrange": true,
         "gridwidth": 2,
         "range": [
          0.06570512820512817,
          0.11848290598290599
         ],
         "tickcolor": "white",
         "ticklen": 3,
         "ticks": "outside",
         "type": "linear",
         "zeroline": false
        },
        "yaxis": {
         "anchor": "x",
         "automargin": true,
         "autorange": "reversed",
         "domain": [
          0,
          1
         ],
         "fixedrange": true,
         "gridwidth": 2,
         "tickcolor": "white",
         "ticklen": 10,
         "ticks": "outside",
         "type": "category"
        }
       }
      }
     },
     "metadata": {},
     "output_type": "display_data"
    }
   ],
   "source": [
    "from sklearn.linear_model import LogisticRegression\n",
    "\n",
    "def pf(model, df):\n",
    "    return model.predict_proba(df)[:, 1]\n",
    "\n",
    "model = LogisticRegression(random_state=SEED)\n",
    "\n",
    "model.fit(X_train, y_train)\n",
    "\n",
    "explainer = dx.Explainer(model, X_test, y_test, predict_function=pf, label='Logistic Regression')\n",
    "pvi = explainer.model_parts(random_state=SEED)\n",
    "pvi.plot(\n",
    "    max_vars=6, \n",
    "    title=None, \n",
    "    show=True\n",
    ")"
   ]
  },
  {
   "cell_type": "markdown",
   "metadata": {},
   "source": [
    "#### KNN"
   ]
  },
  {
   "cell_type": "code",
   "execution_count": 17,
   "metadata": {},
   "outputs": [
    {
     "name": "stdout",
     "output_type": "stream",
     "text": [
      "Preparation of a new explainer is initiated\n",
      "\n",
      "  -> data              : 31 rows 18 cols\n",
      "  -> target variable   : Parameter 'y' was a pandas.Series. Converted to a numpy.ndarray.\n",
      "  -> target variable   : 31 values\n",
      "  -> model_class       : sklearn.neighbors._classification.KNeighborsClassifier (default)\n",
      "  -> label             : KNN\n",
      "  -> predict function  : <function pf at 0x7ff681754b80> will be used\n",
      "  -> predict function  : Accepts pandas.DataFrame and numpy.ndarray.\n",
      "  -> predicted values  : min = 0.0, mean = 0.477, max = 1.0\n",
      "  -> model type        : classification will be used (default)\n",
      "  -> residual function : difference between y and yhat (default)\n",
      "  -> residuals         : min = -0.8, mean = -0.0581, max = 1.0\n",
      "  -> model_info        : package sklearn\n",
      "\n",
      "A new explainer has been created!\n"
     ]
    },
    {
     "name": "stderr",
     "output_type": "stream",
     "text": [
      "/home/maciej/Documents/Studia/Zima 2022/XAI/MyRepo/eXplainableMachineLearning-2023/Homeworks/HW5/MaciejPióro/venv/lib/python3.8/site-packages/sklearn/base.py:450: UserWarning:\n",
      "\n",
      "X does not have valid feature names, but KNeighborsClassifier was fitted with feature names\n",
      "\n"
     ]
    },
    {
     "data": {
      "application/vnd.plotly.v1+json": {
       "config": {
        "displaylogo": false,
        "modeBarButtonsToRemove": [
         "sendDataToCloud",
         "lasso2d",
         "autoScale2d",
         "select2d",
         "zoom2d",
         "pan2d",
         "zoomIn2d",
         "zoomOut2d",
         "resetScale2d",
         "toggleSpikelines",
         "hoverCompareCartesian",
         "hoverClosestCartesian"
        ],
        "plotlyServerURL": "https://plot.ly",
        "staticPlot": false,
        "toImageButtonOptions": {
         "height": null,
         "width": null
        }
       },
       "data": [
        {
         "base": 0.11111111111111116,
         "hoverinfo": "text",
         "hoverlabel": {
          "bgcolor": "rgba(0,0,0,0.8)"
         },
         "hovertext": [
          "Model: KNN loss after<br>variable: cp_1 is permuted: 0.153<br>Drop-out loss change: +0.042",
          "Model: KNN loss after<br>variable: exng is permuted: 0.147<br>Drop-out loss change: +0.036",
          "Model: KNN loss after<br>variable: caa is permuted: 0.141<br>Drop-out loss change: +0.03",
          "Model: KNN loss after<br>variable: thall is permuted: 0.137<br>Drop-out loss change: +0.026",
          "Model: KNN loss after<br>variable: sex is permuted: 0.136<br>Drop-out loss change: +0.025",
          "Model: KNN loss after<br>variable: oldpeak is permuted: 0.133<br>Drop-out loss change: +0.022"
         ],
         "marker": {
          "color": "#46bac2"
         },
         "orientation": "h",
         "showlegend": false,
         "text": [
          "+0.042",
          "+0.036",
          "+0.03",
          "+0.026",
          "+0.025",
          "+0.022"
         ],
         "textposition": "outside",
         "type": "bar",
         "x": [
          0.04230769230769224,
          0.03568376068376061,
          0.029914529914529836,
          0.026282051282051244,
          0.025213675213675124,
          0.022008547008546958
         ],
         "xaxis": "x",
         "y": [
          "cp_1",
          "exng",
          "caa",
          "thall",
          "sex",
          "oldpeak"
         ],
         "yaxis": "y"
        }
       ],
       "layout": {
        "annotations": [
         {
          "font": {
           "size": 16
          },
          "showarrow": false,
          "text": "KNN",
          "x": 0.5,
          "xanchor": "center",
          "xref": "paper",
          "y": 1,
          "yanchor": "bottom",
          "yref": "paper"
         },
         {
          "font": {
           "size": 16
          },
          "showarrow": false,
          "text": "drop-out loss",
          "x": 0.5,
          "xanchor": "center",
          "xref": "paper",
          "y": 0,
          "yanchor": "top",
          "yref": "paper",
          "yshift": -30
         }
        ],
        "font": {
         "color": "#371ea3"
        },
        "height": 303,
        "margin": {
         "b": 71,
         "r": 30,
         "t": 78
        },
        "shapes": [
         {
          "line": {
           "color": "#371ea3",
           "dash": "dot",
           "width": 1.5
          },
          "type": "line",
          "x0": 0.11111111111111116,
          "x1": 0.11111111111111116,
          "xref": "x",
          "y0": -1,
          "y1": 6,
          "yref": "y"
         }
        ],
        "template": {
         "data": {
          "scatter": [
           {
            "type": "scatter"
           }
          ]
         }
        },
        "title": {
         "x": 0.15
        },
        "xaxis": {
         "anchor": "y",
         "automargin": true,
         "domain": [
          0,
          1
         ],
         "fixedrange": true,
         "gridwidth": 2,
         "range": [
          0.08338675213675213,
          0.16255341880341878
         ],
         "tickcolor": "white",
         "ticklen": 3,
         "ticks": "outside",
         "type": "linear",
         "zeroline": false
        },
        "yaxis": {
         "anchor": "x",
         "automargin": true,
         "autorange": "reversed",
         "domain": [
          0,
          1
         ],
         "fixedrange": true,
         "gridwidth": 2,
         "tickcolor": "white",
         "ticklen": 10,
         "ticks": "outside",
         "type": "category"
        }
       }
      }
     },
     "metadata": {},
     "output_type": "display_data"
    }
   ],
   "source": [
    "from sklearn.neighbors import KNeighborsClassifier\n",
    "\n",
    "def pf(model, df):\n",
    "    return model.predict_proba(df)[:, 1]\n",
    "\n",
    "model = KNeighborsClassifier(n_neighbors=5)\n",
    "\n",
    "model.fit(X_train, y_train)\n",
    "\n",
    "explainer = dx.Explainer(model, X_test, y_test, predict_function=pf, label='KNN')\n",
    "pvi = explainer.model_parts(random_state=SEED)\n",
    "pvi.plot(\n",
    "    max_vars=6, \n",
    "    title=None,\n",
    "    show=True\n",
    ")"
   ]
  },
  {
   "cell_type": "markdown",
   "metadata": {},
   "source": [
    "### 3. PVI comparison with other feature importance metrics"
   ]
  },
  {
   "cell_type": "markdown",
   "metadata": {},
   "source": [
    "#### `.feature_importances_` from sklearn"
   ]
  },
  {
   "cell_type": "code",
   "execution_count": 21,
   "metadata": {},
   "outputs": [
    {
     "data": {
      "text/plain": [
       "[Text(0.5, 1.0, 'Feature importance (sklearn .feature_importances_)')]"
      ]
     },
     "execution_count": 21,
     "metadata": {},
     "output_type": "execute_result"
    },
    {
     "data": {
      "image/png": "[encoded data removed]",
      "text/plain": [
       "<Figure size 640x480 with 1 Axes>"
      ]
     },
     "metadata": {},
     "output_type": "display_data"
    }
   ],
   "source": [
    "def topk_index(array: np.array, k: int):\n",
    "    return (-tree_model.feature_importances_).argsort()[:6]\n",
    "\n",
    "idx = topk_index(tree_model.feature_importances_, 6)\n",
    "sns.barplot(\n",
    "    x=tree_model.feature_importances_[idx],\n",
    "    y=tree_model.feature_names_in_[idx]\n",
    ").set(title='Feature importance (sklearn .feature_importances_)')"
   ]
  },
  {
   "cell_type": "markdown",
   "metadata": {},
   "source": [
    "#### TreeSHAP"
   ]
  },
  {
   "cell_type": "code",
   "execution_count": 19,
   "metadata": {},
   "outputs": [
    {
     "name": "stderr",
     "output_type": "stream",
     "text": [
      "/home/maciej/Documents/Studia/Zima 2022/XAI/MyRepo/eXplainableMachineLearning-2023/Homeworks/HW5/MaciejPióro/venv/lib/python3.8/site-packages/tqdm/auto.py:22: TqdmWarning:\n",
      "\n",
      "IProgress not found. Please update jupyter and ipywidgets. See https://ipywidgets.readthedocs.io/en/stable/user_install.html\n",
      "\n"
     ]
    },
    {
     "data": {
      "image/png": "[encoded data removed]",
      "text/plain": [
       "<Figure size 800x650 with 1 Axes>"
      ]
     },
     "metadata": {},
     "output_type": "display_data"
    }
   ],
   "source": [
    "import shap\n",
    "shap_explainer = shap.explainers.Tree(tree_model, data=X_train, model_output='probability', random_state=SEED)\n",
    "shap_values = shap_explainer(X_test)\n",
    "shap.plots.bar(shap_values.abs.mean(0)[:, 1])"
   ]
  }
 ],
 "metadata": {
  "kernelspec": {
   "display_name": "Python 3.8.10 ('venv': venv)",
   "language": "python",
   "name": "python3"
  },
  "language_info": {
   "codemirror_mode": {
    "name": "ipython",
    "version": 3
   },
   "file_extension": ".py",
   "mimetype": "text/x-python",
   "name": "python",
   "nbconvert_exporter": "python",
   "pygments_lexer": "ipython3",
   "version": "3.8.10"
  },
  "orig_nbformat": 4,
  "vscode": {
   "interpreter": {
    "hash": "a0805f67516b26fcaaf7fe1bca6cf16280756d22a79e8eb51d6e6fee390ecdf7"
   }
  }
 },
 "nbformat": 4,
 "nbformat_minor": 2
}
