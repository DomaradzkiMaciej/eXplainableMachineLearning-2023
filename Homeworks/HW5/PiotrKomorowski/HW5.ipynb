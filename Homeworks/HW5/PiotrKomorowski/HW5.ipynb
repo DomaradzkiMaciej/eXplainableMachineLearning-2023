{
  "nbformat": 4,
  "nbformat_minor": 0,
  "metadata": {
    "colab": {
      "provenance": [],
      "collapsed_sections": [
        "sELylDYr8KOf",
        "-ltHGd9j8N6i",
        "QOZ0ehnGGY8w",
        "1Ky3NplECaSj"
      ]
    },
    "kernelspec": {
      "name": "python3",
      "display_name": "Python 3"
    },
    "language_info": {
      "name": "python"
    }
  },
  "cells": [
    {
      "cell_type": "markdown",
      "source": [
        "# Raport"
      ],
      "metadata": {
        "id": "DUdJjOu4tdn7"
      }
    },
    {
      "cell_type": "markdown",
      "source": [
        "I'm working on the Heart Attack dataset.\n",
        "Short description of variables:\n",
        "* `age`: The person's age in years\n",
        "* `sex`: The person's sex\n",
        "  * 1: male\n",
        "  * 0: female\n",
        "* `cp`: chest pain type\n",
        "  * 0: asymptomatic\n",
        "  * 1: atypical angina\n",
        "  * 2: non-anginal pain\n",
        "  * 3: typical angina\n",
        "* `trtbps`: The person's resting blood pressure (mm Hg on admission to the hospital)\n",
        "* `chol`: The person's cholesterol measurement in mg/dl\n",
        "* `fbs`: The person's fasting blood sugar (> 120 mg/dl)\n",
        "  * 1: true\n",
        "  * 0: false\n",
        "* `restecg`: Resting electrocardiographic measurement\n",
        "  * 0: showing probable or definite left ventricular hypertrophy by Estes' criteria\n",
        "  * 1: normal\n",
        "  * 2: having ST-T wave abnormality (T wave inversions and/or ST elevation or depression of > 0.05 mV)\n",
        "* `thalachh`: The person's maximum heart rate achieved\n",
        "* `exng`: Exercise induced angina\n",
        "  * 1: true\n",
        "  * 0: false\n",
        "* `oldpeak`: ST depression induced by exercise relative to rest ('ST' relates to positions on the ECG plot.)\n",
        "* `slp`: the slope of the peak exercise ST segment\n",
        "  * 0: downsloping\n",
        "  * 1: flat\n",
        "  * 2: upsloping\n",
        "* `caa`: The number of major vessels (0-3) colored by fluoroscopy\n",
        "* `thall`: Results of the blood flow observed via the radioactive dye\n",
        "  * 0: NULL (dropped from the dataset previously)\n",
        "  * 1: fixed defect (no blood flow in some part of the heart)\n",
        "  * 2: normal blood flow\n",
        "  * 3: reversible defect (a blood flow is observed but it is not normal)\n",
        "* `output`: Heart disease (target)\n",
        "  * 0: disease\n",
        "  * 1: no disease"
      ],
      "metadata": {
        "id": "4XhPn2yg7BSA"
      }
    },
    {
      "cell_type": "markdown",
      "source": [
        " ## 1."
      ],
      "metadata": {
        "id": "BCfMU6c8KbFb"
      }
    },
    {
      "cell_type": "markdown",
      "source": [
        "The variables of the highest importance are `caa`, `oldpeak`, and `cp_0`.\n",
        "![](https://drive.google.com/uc?export=view&id=1TKfbs0ZuTC0kgDPDehNxbgl_qwfmC6rE)"
      ],
      "metadata": {
        "id": "GciYX9E_ID1c"
      }
    },
    {
      "cell_type": "markdown",
      "source": [
        "## 2."
      ],
      "metadata": {
        "id": "3wUJ6XM_CkN4"
      }
    },
    {
      "cell_type": "markdown",
      "source": [
        "I created 3 more models - logistic regression and 2 xgb models with larger `max_depth` parameter which is equal to `5` and `10`, respectively. This parameter in the baseline model was set to `2`."
      ],
      "metadata": {
        "id": "iSTB-PQ6Ln4u"
      }
    },
    {
      "cell_type": "markdown",
      "source": [
        "![](https://drive.google.com/uc?export=view&id=17SzLh435P_lsHAsqQeKlb-vIjiN-jTzY)\n",
        "![](https://drive.google.com/uc?export=view&id=1QHO5Pr1yBC2PfxmlffMUp32Y98ZXWwFo)\n",
        "![](https://drive.google.com/uc?export=view&id=1q4dei2BRl81hocIP4A-SQFm-EWNeM4RU)"
      ],
      "metadata": {
        "id": "74kDayhNXOl0"
      }
    },
    {
      "cell_type": "markdown",
      "source": [
        "In all 4 models the most important variable is `caa` (The number of major vessels colored by fluoroscopy). However, order and importance of next variables vary significantly. The choice of model and hyperparameters affects variables' importance in a substantial manner. In the case of the XGB models one can see that the deeper model gets the more sparse variables' importance is. In other words, it tends to assign significant importance to fewer variables."
      ],
      "metadata": {
        "id": "W28HYLbwZZM7"
      }
    },
    {
      "cell_type": "markdown",
      "source": [
        "## 3."
      ],
      "metadata": {
        "id": "hbzxWGSxtibl"
      }
    },
    {
      "cell_type": "markdown",
      "source": [
        "### a)"
      ],
      "metadata": {
        "id": "3I0sIfo0RcjN"
      }
    },
    {
      "cell_type": "markdown",
      "source": [
        "![](https://drive.google.com/uc?export=view&id=1Sw44xZ5dwkvW1M1-_rN6tffrPn-rIdNt)"
      ],
      "metadata": {
        "id": "MBL9mqV0bP7O"
      }
    },
    {
      "cell_type": "markdown",
      "source": [
        "Gini impurity in this case seems highly inconsistent with the PVI from task 1. "
      ],
      "metadata": {
        "id": "41Uy-7kgW7ep"
      }
    },
    {
      "cell_type": "markdown",
      "source": [
        "### b)\n",
        "I tried different ways and can't get the results **HELP APPRECIATED** \n",
        "\n",
        "`'predict_function' not compatible with the 'shap' package`"
      ],
      "metadata": {
        "id": "7B8BphjbiCAy"
      }
    },
    {
      "cell_type": "markdown",
      "source": [
        "# Appendix"
      ],
      "metadata": {
        "id": "3EjJh-8z49rV"
      }
    },
    {
      "cell_type": "markdown",
      "source": [
        "## Import packages"
      ],
      "metadata": {
        "id": "7FxzovcTToHV"
      }
    },
    {
      "cell_type": "code",
      "source": [
        "!pip install dalex &>/dev/null\n",
        "!pip install lime &>/dev/null\n",
        "!pip install shap &>/dev/null"
      ],
      "metadata": {
        "id": "nhohQcSynJAl"
      },
      "execution_count": 1,
      "outputs": []
    },
    {
      "cell_type": "code",
      "execution_count": 2,
      "metadata": {
        "id": "pzkhgOP_ebYd"
      },
      "outputs": [],
      "source": [
        "import numpy as np\n",
        "import pandas as pd\n",
        "\n",
        "from sklearn.linear_model import LogisticRegression\n",
        "from sklearn.ensemble import RandomForestClassifier\n",
        "from sklearn.model_selection import train_test_split\n",
        "from sklearn.metrics import roc_auc_score, accuracy_score, confusion_matrix,\\\n",
        "  ConfusionMatrixDisplay, f1_score, recall_score, precision_score\n",
        "from sklearn.preprocessing import StandardScaler\n",
        "\n",
        "import xgboost as xgb\n",
        "import dalex as dx\n",
        "import lime\n",
        "import shap\n",
        "\n",
        "SEED = 42"
      ]
    },
    {
      "cell_type": "markdown",
      "source": [
        "## Load data"
      ],
      "metadata": {
        "id": "sELylDYr8KOf"
      }
    },
    {
      "cell_type": "code",
      "source": [
        "!gdown 14RnHkHVRmZHdXF7_THt7arQzlzplKbF1"
      ],
      "metadata": {
        "colab": {
          "base_uri": "https://localhost:8080/"
        },
        "id": "aHTBW9etOcNW",
        "outputId": "d0402e71-9d5a-438b-bdf8-86baadbda4dd"
      },
      "execution_count": 3,
      "outputs": [
        {
          "output_type": "stream",
          "name": "stdout",
          "text": [
            "Downloading...\n",
            "From: https://drive.google.com/uc?id=14RnHkHVRmZHdXF7_THt7arQzlzplKbF1\n",
            "To: /content/heart.csv\n",
            "\r  0% 0.00/11.3k [00:00<?, ?B/s]\r100% 11.3k/11.3k [00:00<00:00, 12.1MB/s]\n"
          ]
        }
      ]
    },
    {
      "cell_type": "code",
      "source": [
        "df_raw = pd.read_csv('heart.csv')\n",
        "df_raw.head()"
      ],
      "metadata": {
        "id": "buyPTC7GAmJe",
        "colab": {
          "base_uri": "https://localhost:8080/",
          "height": 0
        },
        "outputId": "b41cae63-76c6-4d9b-cf1e-de68371a88c5"
      },
      "execution_count": 4,
      "outputs": [
        {
          "output_type": "execute_result",
          "data": {
            "text/plain": [
              "   age  sex  cp  trtbps  chol  fbs  restecg  thalachh  exng  oldpeak  slp  \\\n",
              "0   63    1   3     145   233    1        0       150     0      2.3    0   \n",
              "1   37    1   2     130   250    0        1       187     0      3.5    0   \n",
              "2   41    0   1     130   204    0        0       172     0      1.4    2   \n",
              "3   56    1   1     120   236    0        1       178     0      0.8    2   \n",
              "4   57    0   0     120   354    0        1       163     1      0.6    2   \n",
              "\n",
              "   caa  thall  output  \n",
              "0    0      1       1  \n",
              "1    0      2       1  \n",
              "2    0      2       1  \n",
              "3    0      2       1  \n",
              "4    0      2       1  "
            ],
            "text/html": [
              "\n",
              "  <div id=\"df-d0398640-b915-481f-89ea-b39926ced3f4\">\n",
              "    <div class=\"colab-df-container\">\n",
              "      <div>\n",
              "<style scoped>\n",
              "    .dataframe tbody tr th:only-of-type {\n",
              "        vertical-align: middle;\n",
              "    }\n",
              "\n",
              "    .dataframe tbody tr th {\n",
              "        vertical-align: top;\n",
              "    }\n",
              "\n",
              "    .dataframe thead th {\n",
              "        text-align: right;\n",
              "    }\n",
              "</style>\n",
              "<table border=\"1\" class=\"dataframe\">\n",
              "  <thead>\n",
              "    <tr style=\"text-align: right;\">\n",
              "      <th></th>\n",
              "      <th>age</th>\n",
              "      <th>sex</th>\n",
              "      <th>cp</th>\n",
              "      <th>trtbps</th>\n",
              "      <th>chol</th>\n",
              "      <th>fbs</th>\n",
              "      <th>restecg</th>\n",
              "      <th>thalachh</th>\n",
              "      <th>exng</th>\n",
              "      <th>oldpeak</th>\n",
              "      <th>slp</th>\n",
              "      <th>caa</th>\n",
              "      <th>thall</th>\n",
              "      <th>output</th>\n",
              "    </tr>\n",
              "  </thead>\n",
              "  <tbody>\n",
              "    <tr>\n",
              "      <th>0</th>\n",
              "      <td>63</td>\n",
              "      <td>1</td>\n",
              "      <td>3</td>\n",
              "      <td>145</td>\n",
              "      <td>233</td>\n",
              "      <td>1</td>\n",
              "      <td>0</td>\n",
              "      <td>150</td>\n",
              "      <td>0</td>\n",
              "      <td>2.3</td>\n",
              "      <td>0</td>\n",
              "      <td>0</td>\n",
              "      <td>1</td>\n",
              "      <td>1</td>\n",
              "    </tr>\n",
              "    <tr>\n",
              "      <th>1</th>\n",
              "      <td>37</td>\n",
              "      <td>1</td>\n",
              "      <td>2</td>\n",
              "      <td>130</td>\n",
              "      <td>250</td>\n",
              "      <td>0</td>\n",
              "      <td>1</td>\n",
              "      <td>187</td>\n",
              "      <td>0</td>\n",
              "      <td>3.5</td>\n",
              "      <td>0</td>\n",
              "      <td>0</td>\n",
              "      <td>2</td>\n",
              "      <td>1</td>\n",
              "    </tr>\n",
              "    <tr>\n",
              "      <th>2</th>\n",
              "      <td>41</td>\n",
              "      <td>0</td>\n",
              "      <td>1</td>\n",
              "      <td>130</td>\n",
              "      <td>204</td>\n",
              "      <td>0</td>\n",
              "      <td>0</td>\n",
              "      <td>172</td>\n",
              "      <td>0</td>\n",
              "      <td>1.4</td>\n",
              "      <td>2</td>\n",
              "      <td>0</td>\n",
              "      <td>2</td>\n",
              "      <td>1</td>\n",
              "    </tr>\n",
              "    <tr>\n",
              "      <th>3</th>\n",
              "      <td>56</td>\n",
              "      <td>1</td>\n",
              "      <td>1</td>\n",
              "      <td>120</td>\n",
              "      <td>236</td>\n",
              "      <td>0</td>\n",
              "      <td>1</td>\n",
              "      <td>178</td>\n",
              "      <td>0</td>\n",
              "      <td>0.8</td>\n",
              "      <td>2</td>\n",
              "      <td>0</td>\n",
              "      <td>2</td>\n",
              "      <td>1</td>\n",
              "    </tr>\n",
              "    <tr>\n",
              "      <th>4</th>\n",
              "      <td>57</td>\n",
              "      <td>0</td>\n",
              "      <td>0</td>\n",
              "      <td>120</td>\n",
              "      <td>354</td>\n",
              "      <td>0</td>\n",
              "      <td>1</td>\n",
              "      <td>163</td>\n",
              "      <td>1</td>\n",
              "      <td>0.6</td>\n",
              "      <td>2</td>\n",
              "      <td>0</td>\n",
              "      <td>2</td>\n",
              "      <td>1</td>\n",
              "    </tr>\n",
              "  </tbody>\n",
              "</table>\n",
              "</div>\n",
              "      <button class=\"colab-df-convert\" onclick=\"convertToInteractive('df-d0398640-b915-481f-89ea-b39926ced3f4')\"\n",
              "              title=\"Convert this dataframe to an interactive table.\"\n",
              "              style=\"display:none;\">\n",
              "        \n",
              "  <svg xmlns=\"http://www.w3.org/2000/svg\" height=\"24px\"viewBox=\"0 0 24 24\"\n",
              "       width=\"24px\">\n",
              "    <path d=\"M0 0h24v24H0V0z\" fill=\"none\"/>\n",
              "    <path d=\"M18.56 5.44l.94 2.06.94-2.06 2.06-.94-2.06-.94-.94-2.06-.94 2.06-2.06.94zm-11 1L8.5 8.5l.94-2.06 2.06-.94-2.06-.94L8.5 2.5l-.94 2.06-2.06.94zm10 10l.94 2.06.94-2.06 2.06-.94-2.06-.94-.94-2.06-.94 2.06-2.06.94z\"/><path d=\"M17.41 7.96l-1.37-1.37c-.4-.4-.92-.59-1.43-.59-.52 0-1.04.2-1.43.59L10.3 9.45l-7.72 7.72c-.78.78-.78 2.05 0 2.83L4 21.41c.39.39.9.59 1.41.59.51 0 1.02-.2 1.41-.59l7.78-7.78 2.81-2.81c.8-.78.8-2.07 0-2.86zM5.41 20L4 18.59l7.72-7.72 1.47 1.35L5.41 20z\"/>\n",
              "  </svg>\n",
              "      </button>\n",
              "      \n",
              "  <style>\n",
              "    .colab-df-container {\n",
              "      display:flex;\n",
              "      flex-wrap:wrap;\n",
              "      gap: 12px;\n",
              "    }\n",
              "\n",
              "    .colab-df-convert {\n",
              "      background-color: #E8F0FE;\n",
              "      border: none;\n",
              "      border-radius: 50%;\n",
              "      cursor: pointer;\n",
              "      display: none;\n",
              "      fill: #1967D2;\n",
              "      height: 32px;\n",
              "      padding: 0 0 0 0;\n",
              "      width: 32px;\n",
              "    }\n",
              "\n",
              "    .colab-df-convert:hover {\n",
              "      background-color: #E2EBFA;\n",
              "      box-shadow: 0px 1px 2px rgba(60, 64, 67, 0.3), 0px 1px 3px 1px rgba(60, 64, 67, 0.15);\n",
              "      fill: #174EA6;\n",
              "    }\n",
              "\n",
              "    [theme=dark] .colab-df-convert {\n",
              "      background-color: #3B4455;\n",
              "      fill: #D2E3FC;\n",
              "    }\n",
              "\n",
              "    [theme=dark] .colab-df-convert:hover {\n",
              "      background-color: #434B5C;\n",
              "      box-shadow: 0px 1px 3px 1px rgba(0, 0, 0, 0.15);\n",
              "      filter: drop-shadow(0px 1px 2px rgba(0, 0, 0, 0.3));\n",
              "      fill: #FFFFFF;\n",
              "    }\n",
              "  </style>\n",
              "\n",
              "      <script>\n",
              "        const buttonEl =\n",
              "          document.querySelector('#df-d0398640-b915-481f-89ea-b39926ced3f4 button.colab-df-convert');\n",
              "        buttonEl.style.display =\n",
              "          google.colab.kernel.accessAllowed ? 'block' : 'none';\n",
              "\n",
              "        async function convertToInteractive(key) {\n",
              "          const element = document.querySelector('#df-d0398640-b915-481f-89ea-b39926ced3f4');\n",
              "          const dataTable =\n",
              "            await google.colab.kernel.invokeFunction('convertToInteractive',\n",
              "                                                     [key], {});\n",
              "          if (!dataTable) return;\n",
              "\n",
              "          const docLinkHtml = 'Like what you see? Visit the ' +\n",
              "            '<a target=\"_blank\" href=https://colab.research.google.com/notebooks/data_table.ipynb>data table notebook</a>'\n",
              "            + ' to learn more about interactive tables.';\n",
              "          element.innerHTML = '';\n",
              "          dataTable['output_type'] = 'display_data';\n",
              "          await google.colab.output.renderOutput(dataTable, element);\n",
              "          const docLink = document.createElement('div');\n",
              "          docLink.innerHTML = docLinkHtml;\n",
              "          element.appendChild(docLink);\n",
              "        }\n",
              "      </script>\n",
              "    </div>\n",
              "  </div>\n",
              "  "
            ]
          },
          "metadata": {},
          "execution_count": 4
        }
      ]
    },
    {
      "cell_type": "markdown",
      "source": [
        "## Data preprocessing"
      ],
      "metadata": {
        "id": "-ltHGd9j8N6i"
      }
    },
    {
      "cell_type": "code",
      "source": [
        "df_raw.info() # only int and float"
      ],
      "metadata": {
        "colab": {
          "base_uri": "https://localhost:8080/"
        },
        "id": "I5VpWVeaOTSP",
        "outputId": "9fb3debc-0783-4630-a763-f67338d69fa9"
      },
      "execution_count": 5,
      "outputs": [
        {
          "output_type": "stream",
          "name": "stdout",
          "text": [
            "<class 'pandas.core.frame.DataFrame'>\n",
            "RangeIndex: 303 entries, 0 to 302\n",
            "Data columns (total 14 columns):\n",
            " #   Column    Non-Null Count  Dtype  \n",
            "---  ------    --------------  -----  \n",
            " 0   age       303 non-null    int64  \n",
            " 1   sex       303 non-null    int64  \n",
            " 2   cp        303 non-null    int64  \n",
            " 3   trtbps    303 non-null    int64  \n",
            " 4   chol      303 non-null    int64  \n",
            " 5   fbs       303 non-null    int64  \n",
            " 6   restecg   303 non-null    int64  \n",
            " 7   thalachh  303 non-null    int64  \n",
            " 8   exng      303 non-null    int64  \n",
            " 9   oldpeak   303 non-null    float64\n",
            " 10  slp       303 non-null    int64  \n",
            " 11  caa       303 non-null    int64  \n",
            " 12  thall     303 non-null    int64  \n",
            " 13  output    303 non-null    int64  \n",
            "dtypes: float64(1), int64(13)\n",
            "memory usage: 33.3 KB\n"
          ]
        }
      ]
    },
    {
      "cell_type": "code",
      "source": [
        "print(df_raw.shape) # 303 observations, 14 variables (including one output class)\n",
        "df_raw.describe()"
      ],
      "metadata": {
        "colab": {
          "base_uri": "https://localhost:8080/",
          "height": 0
        },
        "id": "PIT-PDjpJ4kZ",
        "outputId": "0bdea25b-bdd1-4a2d-ae12-050649af2956"
      },
      "execution_count": 6,
      "outputs": [
        {
          "output_type": "stream",
          "name": "stdout",
          "text": [
            "(303, 14)\n"
          ]
        },
        {
          "output_type": "execute_result",
          "data": {
            "text/plain": [
              "              age         sex          cp      trtbps        chol         fbs  \\\n",
              "count  303.000000  303.000000  303.000000  303.000000  303.000000  303.000000   \n",
              "mean    54.366337    0.683168    0.966997  131.623762  246.264026    0.148515   \n",
              "std      9.082101    0.466011    1.032052   17.538143   51.830751    0.356198   \n",
              "min     29.000000    0.000000    0.000000   94.000000  126.000000    0.000000   \n",
              "25%     47.500000    0.000000    0.000000  120.000000  211.000000    0.000000   \n",
              "50%     55.000000    1.000000    1.000000  130.000000  240.000000    0.000000   \n",
              "75%     61.000000    1.000000    2.000000  140.000000  274.500000    0.000000   \n",
              "max     77.000000    1.000000    3.000000  200.000000  564.000000    1.000000   \n",
              "\n",
              "          restecg    thalachh        exng     oldpeak         slp         caa  \\\n",
              "count  303.000000  303.000000  303.000000  303.000000  303.000000  303.000000   \n",
              "mean     0.528053  149.646865    0.326733    1.039604    1.399340    0.729373   \n",
              "std      0.525860   22.905161    0.469794    1.161075    0.616226    1.022606   \n",
              "min      0.000000   71.000000    0.000000    0.000000    0.000000    0.000000   \n",
              "25%      0.000000  133.500000    0.000000    0.000000    1.000000    0.000000   \n",
              "50%      1.000000  153.000000    0.000000    0.800000    1.000000    0.000000   \n",
              "75%      1.000000  166.000000    1.000000    1.600000    2.000000    1.000000   \n",
              "max      2.000000  202.000000    1.000000    6.200000    2.000000    4.000000   \n",
              "\n",
              "            thall      output  \n",
              "count  303.000000  303.000000  \n",
              "mean     2.313531    0.544554  \n",
              "std      0.612277    0.498835  \n",
              "min      0.000000    0.000000  \n",
              "25%      2.000000    0.000000  \n",
              "50%      2.000000    1.000000  \n",
              "75%      3.000000    1.000000  \n",
              "max      3.000000    1.000000  "
            ],
            "text/html": [
              "\n",
              "  <div id=\"df-4d69e417-ef32-42a1-aafa-3a914ff94c79\">\n",
              "    <div class=\"colab-df-container\">\n",
              "      <div>\n",
              "<style scoped>\n",
              "    .dataframe tbody tr th:only-of-type {\n",
              "        vertical-align: middle;\n",
              "    }\n",
              "\n",
              "    .dataframe tbody tr th {\n",
              "        vertical-align: top;\n",
              "    }\n",
              "\n",
              "    .dataframe thead th {\n",
              "        text-align: right;\n",
              "    }\n",
              "</style>\n",
              "<table border=\"1\" class=\"dataframe\">\n",
              "  <thead>\n",
              "    <tr style=\"text-align: right;\">\n",
              "      <th></th>\n",
              "      <th>age</th>\n",
              "      <th>sex</th>\n",
              "      <th>cp</th>\n",
              "      <th>trtbps</th>\n",
              "      <th>chol</th>\n",
              "      <th>fbs</th>\n",
              "      <th>restecg</th>\n",
              "      <th>thalachh</th>\n",
              "      <th>exng</th>\n",
              "      <th>oldpeak</th>\n",
              "      <th>slp</th>\n",
              "      <th>caa</th>\n",
              "      <th>thall</th>\n",
              "      <th>output</th>\n",
              "    </tr>\n",
              "  </thead>\n",
              "  <tbody>\n",
              "    <tr>\n",
              "      <th>count</th>\n",
              "      <td>303.000000</td>\n",
              "      <td>303.000000</td>\n",
              "      <td>303.000000</td>\n",
              "      <td>303.000000</td>\n",
              "      <td>303.000000</td>\n",
              "      <td>303.000000</td>\n",
              "      <td>303.000000</td>\n",
              "      <td>303.000000</td>\n",
              "      <td>303.000000</td>\n",
              "      <td>303.000000</td>\n",
              "      <td>303.000000</td>\n",
              "      <td>303.000000</td>\n",
              "      <td>303.000000</td>\n",
              "      <td>303.000000</td>\n",
              "    </tr>\n",
              "    <tr>\n",
              "      <th>mean</th>\n",
              "      <td>54.366337</td>\n",
              "      <td>0.683168</td>\n",
              "      <td>0.966997</td>\n",
              "      <td>131.623762</td>\n",
              "      <td>246.264026</td>\n",
              "      <td>0.148515</td>\n",
              "      <td>0.528053</td>\n",
              "      <td>149.646865</td>\n",
              "      <td>0.326733</td>\n",
              "      <td>1.039604</td>\n",
              "      <td>1.399340</td>\n",
              "      <td>0.729373</td>\n",
              "      <td>2.313531</td>\n",
              "      <td>0.544554</td>\n",
              "    </tr>\n",
              "    <tr>\n",
              "      <th>std</th>\n",
              "      <td>9.082101</td>\n",
              "      <td>0.466011</td>\n",
              "      <td>1.032052</td>\n",
              "      <td>17.538143</td>\n",
              "      <td>51.830751</td>\n",
              "      <td>0.356198</td>\n",
              "      <td>0.525860</td>\n",
              "      <td>22.905161</td>\n",
              "      <td>0.469794</td>\n",
              "      <td>1.161075</td>\n",
              "      <td>0.616226</td>\n",
              "      <td>1.022606</td>\n",
              "      <td>0.612277</td>\n",
              "      <td>0.498835</td>\n",
              "    </tr>\n",
              "    <tr>\n",
              "      <th>min</th>\n",
              "      <td>29.000000</td>\n",
              "      <td>0.000000</td>\n",
              "      <td>0.000000</td>\n",
              "      <td>94.000000</td>\n",
              "      <td>126.000000</td>\n",
              "      <td>0.000000</td>\n",
              "      <td>0.000000</td>\n",
              "      <td>71.000000</td>\n",
              "      <td>0.000000</td>\n",
              "      <td>0.000000</td>\n",
              "      <td>0.000000</td>\n",
              "      <td>0.000000</td>\n",
              "      <td>0.000000</td>\n",
              "      <td>0.000000</td>\n",
              "    </tr>\n",
              "    <tr>\n",
              "      <th>25%</th>\n",
              "      <td>47.500000</td>\n",
              "      <td>0.000000</td>\n",
              "      <td>0.000000</td>\n",
              "      <td>120.000000</td>\n",
              "      <td>211.000000</td>\n",
              "      <td>0.000000</td>\n",
              "      <td>0.000000</td>\n",
              "      <td>133.500000</td>\n",
              "      <td>0.000000</td>\n",
              "      <td>0.000000</td>\n",
              "      <td>1.000000</td>\n",
              "      <td>0.000000</td>\n",
              "      <td>2.000000</td>\n",
              "      <td>0.000000</td>\n",
              "    </tr>\n",
              "    <tr>\n",
              "      <th>50%</th>\n",
              "      <td>55.000000</td>\n",
              "      <td>1.000000</td>\n",
              "      <td>1.000000</td>\n",
              "      <td>130.000000</td>\n",
              "      <td>240.000000</td>\n",
              "      <td>0.000000</td>\n",
              "      <td>1.000000</td>\n",
              "      <td>153.000000</td>\n",
              "      <td>0.000000</td>\n",
              "      <td>0.800000</td>\n",
              "      <td>1.000000</td>\n",
              "      <td>0.000000</td>\n",
              "      <td>2.000000</td>\n",
              "      <td>1.000000</td>\n",
              "    </tr>\n",
              "    <tr>\n",
              "      <th>75%</th>\n",
              "      <td>61.000000</td>\n",
              "      <td>1.000000</td>\n",
              "      <td>2.000000</td>\n",
              "      <td>140.000000</td>\n",
              "      <td>274.500000</td>\n",
              "      <td>0.000000</td>\n",
              "      <td>1.000000</td>\n",
              "      <td>166.000000</td>\n",
              "      <td>1.000000</td>\n",
              "      <td>1.600000</td>\n",
              "      <td>2.000000</td>\n",
              "      <td>1.000000</td>\n",
              "      <td>3.000000</td>\n",
              "      <td>1.000000</td>\n",
              "    </tr>\n",
              "    <tr>\n",
              "      <th>max</th>\n",
              "      <td>77.000000</td>\n",
              "      <td>1.000000</td>\n",
              "      <td>3.000000</td>\n",
              "      <td>200.000000</td>\n",
              "      <td>564.000000</td>\n",
              "      <td>1.000000</td>\n",
              "      <td>2.000000</td>\n",
              "      <td>202.000000</td>\n",
              "      <td>1.000000</td>\n",
              "      <td>6.200000</td>\n",
              "      <td>2.000000</td>\n",
              "      <td>4.000000</td>\n",
              "      <td>3.000000</td>\n",
              "      <td>1.000000</td>\n",
              "    </tr>\n",
              "  </tbody>\n",
              "</table>\n",
              "</div>\n",
              "      <button class=\"colab-df-convert\" onclick=\"convertToInteractive('df-4d69e417-ef32-42a1-aafa-3a914ff94c79')\"\n",
              "              title=\"Convert this dataframe to an interactive table.\"\n",
              "              style=\"display:none;\">\n",
              "        \n",
              "  <svg xmlns=\"http://www.w3.org/2000/svg\" height=\"24px\"viewBox=\"0 0 24 24\"\n",
              "       width=\"24px\">\n",
              "    <path d=\"M0 0h24v24H0V0z\" fill=\"none\"/>\n",
              "    <path d=\"M18.56 5.44l.94 2.06.94-2.06 2.06-.94-2.06-.94-.94-2.06-.94 2.06-2.06.94zm-11 1L8.5 8.5l.94-2.06 2.06-.94-2.06-.94L8.5 2.5l-.94 2.06-2.06.94zm10 10l.94 2.06.94-2.06 2.06-.94-2.06-.94-.94-2.06-.94 2.06-2.06.94z\"/><path d=\"M17.41 7.96l-1.37-1.37c-.4-.4-.92-.59-1.43-.59-.52 0-1.04.2-1.43.59L10.3 9.45l-7.72 7.72c-.78.78-.78 2.05 0 2.83L4 21.41c.39.39.9.59 1.41.59.51 0 1.02-.2 1.41-.59l7.78-7.78 2.81-2.81c.8-.78.8-2.07 0-2.86zM5.41 20L4 18.59l7.72-7.72 1.47 1.35L5.41 20z\"/>\n",
              "  </svg>\n",
              "      </button>\n",
              "      \n",
              "  <style>\n",
              "    .colab-df-container {\n",
              "      display:flex;\n",
              "      flex-wrap:wrap;\n",
              "      gap: 12px;\n",
              "    }\n",
              "\n",
              "    .colab-df-convert {\n",
              "      background-color: #E8F0FE;\n",
              "      border: none;\n",
              "      border-radius: 50%;\n",
              "      cursor: pointer;\n",
              "      display: none;\n",
              "      fill: #1967D2;\n",
              "      height: 32px;\n",
              "      padding: 0 0 0 0;\n",
              "      width: 32px;\n",
              "    }\n",
              "\n",
              "    .colab-df-convert:hover {\n",
              "      background-color: #E2EBFA;\n",
              "      box-shadow: 0px 1px 2px rgba(60, 64, 67, 0.3), 0px 1px 3px 1px rgba(60, 64, 67, 0.15);\n",
              "      fill: #174EA6;\n",
              "    }\n",
              "\n",
              "    [theme=dark] .colab-df-convert {\n",
              "      background-color: #3B4455;\n",
              "      fill: #D2E3FC;\n",
              "    }\n",
              "\n",
              "    [theme=dark] .colab-df-convert:hover {\n",
              "      background-color: #434B5C;\n",
              "      box-shadow: 0px 1px 3px 1px rgba(0, 0, 0, 0.15);\n",
              "      filter: drop-shadow(0px 1px 2px rgba(0, 0, 0, 0.3));\n",
              "      fill: #FFFFFF;\n",
              "    }\n",
              "  </style>\n",
              "\n",
              "      <script>\n",
              "        const buttonEl =\n",
              "          document.querySelector('#df-4d69e417-ef32-42a1-aafa-3a914ff94c79 button.colab-df-convert');\n",
              "        buttonEl.style.display =\n",
              "          google.colab.kernel.accessAllowed ? 'block' : 'none';\n",
              "\n",
              "        async function convertToInteractive(key) {\n",
              "          const element = document.querySelector('#df-4d69e417-ef32-42a1-aafa-3a914ff94c79');\n",
              "          const dataTable =\n",
              "            await google.colab.kernel.invokeFunction('convertToInteractive',\n",
              "                                                     [key], {});\n",
              "          if (!dataTable) return;\n",
              "\n",
              "          const docLinkHtml = 'Like what you see? Visit the ' +\n",
              "            '<a target=\"_blank\" href=https://colab.research.google.com/notebooks/data_table.ipynb>data table notebook</a>'\n",
              "            + ' to learn more about interactive tables.';\n",
              "          element.innerHTML = '';\n",
              "          dataTable['output_type'] = 'display_data';\n",
              "          await google.colab.output.renderOutput(dataTable, element);\n",
              "          const docLink = document.createElement('div');\n",
              "          docLink.innerHTML = docLinkHtml;\n",
              "          element.appendChild(docLink);\n",
              "        }\n",
              "      </script>\n",
              "    </div>\n",
              "  </div>\n",
              "  "
            ]
          },
          "metadata": {},
          "execution_count": 6
        }
      ]
    },
    {
      "cell_type": "markdown",
      "source": [
        "Based on the data and documentation from kaggle we should apply one-hot encoding transformation to the following variables: `cp`, `restecg`, `slp` and `thall`."
      ],
      "metadata": {
        "id": "jxBjGQR3Nk5w"
      }
    },
    {
      "cell_type": "code",
      "source": [
        "df = pd.get_dummies(df_raw, columns=['cp', 'restecg', 'slp', 'thall'])\n",
        "df.head()"
      ],
      "metadata": {
        "colab": {
          "base_uri": "https://localhost:8080/",
          "height": 0
        },
        "id": "uagIcLurODBW",
        "outputId": "0cbb7c40-4d64-4dc9-e7a3-25bdcad3e393"
      },
      "execution_count": 7,
      "outputs": [
        {
          "output_type": "execute_result",
          "data": {
            "text/plain": [
              "   age  sex  trtbps  chol  fbs  thalachh  exng  oldpeak  caa  output  ...  \\\n",
              "0   63    1     145   233    1       150     0      2.3    0       1  ...   \n",
              "1   37    1     130   250    0       187     0      3.5    0       1  ...   \n",
              "2   41    0     130   204    0       172     0      1.4    0       1  ...   \n",
              "3   56    1     120   236    0       178     0      0.8    0       1  ...   \n",
              "4   57    0     120   354    0       163     1      0.6    0       1  ...   \n",
              "\n",
              "   restecg_0  restecg_1  restecg_2  slp_0  slp_1  slp_2  thall_0  thall_1  \\\n",
              "0          1          0          0      1      0      0        0        1   \n",
              "1          0          1          0      1      0      0        0        0   \n",
              "2          1          0          0      0      0      1        0        0   \n",
              "3          0          1          0      0      0      1        0        0   \n",
              "4          0          1          0      0      0      1        0        0   \n",
              "\n",
              "   thall_2  thall_3  \n",
              "0        0        0  \n",
              "1        1        0  \n",
              "2        1        0  \n",
              "3        1        0  \n",
              "4        1        0  \n",
              "\n",
              "[5 rows x 24 columns]"
            ],
            "text/html": [
              "\n",
              "  <div id=\"df-48dc297a-bc3c-4ac5-bde1-fc8ca49546e2\">\n",
              "    <div class=\"colab-df-container\">\n",
              "      <div>\n",
              "<style scoped>\n",
              "    .dataframe tbody tr th:only-of-type {\n",
              "        vertical-align: middle;\n",
              "    }\n",
              "\n",
              "    .dataframe tbody tr th {\n",
              "        vertical-align: top;\n",
              "    }\n",
              "\n",
              "    .dataframe thead th {\n",
              "        text-align: right;\n",
              "    }\n",
              "</style>\n",
              "<table border=\"1\" class=\"dataframe\">\n",
              "  <thead>\n",
              "    <tr style=\"text-align: right;\">\n",
              "      <th></th>\n",
              "      <th>age</th>\n",
              "      <th>sex</th>\n",
              "      <th>trtbps</th>\n",
              "      <th>chol</th>\n",
              "      <th>fbs</th>\n",
              "      <th>thalachh</th>\n",
              "      <th>exng</th>\n",
              "      <th>oldpeak</th>\n",
              "      <th>caa</th>\n",
              "      <th>output</th>\n",
              "      <th>...</th>\n",
              "      <th>restecg_0</th>\n",
              "      <th>restecg_1</th>\n",
              "      <th>restecg_2</th>\n",
              "      <th>slp_0</th>\n",
              "      <th>slp_1</th>\n",
              "      <th>slp_2</th>\n",
              "      <th>thall_0</th>\n",
              "      <th>thall_1</th>\n",
              "      <th>thall_2</th>\n",
              "      <th>thall_3</th>\n",
              "    </tr>\n",
              "  </thead>\n",
              "  <tbody>\n",
              "    <tr>\n",
              "      <th>0</th>\n",
              "      <td>63</td>\n",
              "      <td>1</td>\n",
              "      <td>145</td>\n",
              "      <td>233</td>\n",
              "      <td>1</td>\n",
              "      <td>150</td>\n",
              "      <td>0</td>\n",
              "      <td>2.3</td>\n",
              "      <td>0</td>\n",
              "      <td>1</td>\n",
              "      <td>...</td>\n",
              "      <td>1</td>\n",
              "      <td>0</td>\n",
              "      <td>0</td>\n",
              "      <td>1</td>\n",
              "      <td>0</td>\n",
              "      <td>0</td>\n",
              "      <td>0</td>\n",
              "      <td>1</td>\n",
              "      <td>0</td>\n",
              "      <td>0</td>\n",
              "    </tr>\n",
              "    <tr>\n",
              "      <th>1</th>\n",
              "      <td>37</td>\n",
              "      <td>1</td>\n",
              "      <td>130</td>\n",
              "      <td>250</td>\n",
              "      <td>0</td>\n",
              "      <td>187</td>\n",
              "      <td>0</td>\n",
              "      <td>3.5</td>\n",
              "      <td>0</td>\n",
              "      <td>1</td>\n",
              "      <td>...</td>\n",
              "      <td>0</td>\n",
              "      <td>1</td>\n",
              "      <td>0</td>\n",
              "      <td>1</td>\n",
              "      <td>0</td>\n",
              "      <td>0</td>\n",
              "      <td>0</td>\n",
              "      <td>0</td>\n",
              "      <td>1</td>\n",
              "      <td>0</td>\n",
              "    </tr>\n",
              "    <tr>\n",
              "      <th>2</th>\n",
              "      <td>41</td>\n",
              "      <td>0</td>\n",
              "      <td>130</td>\n",
              "      <td>204</td>\n",
              "      <td>0</td>\n",
              "      <td>172</td>\n",
              "      <td>0</td>\n",
              "      <td>1.4</td>\n",
              "      <td>0</td>\n",
              "      <td>1</td>\n",
              "      <td>...</td>\n",
              "      <td>1</td>\n",
              "      <td>0</td>\n",
              "      <td>0</td>\n",
              "      <td>0</td>\n",
              "      <td>0</td>\n",
              "      <td>1</td>\n",
              "      <td>0</td>\n",
              "      <td>0</td>\n",
              "      <td>1</td>\n",
              "      <td>0</td>\n",
              "    </tr>\n",
              "    <tr>\n",
              "      <th>3</th>\n",
              "      <td>56</td>\n",
              "      <td>1</td>\n",
              "      <td>120</td>\n",
              "      <td>236</td>\n",
              "      <td>0</td>\n",
              "      <td>178</td>\n",
              "      <td>0</td>\n",
              "      <td>0.8</td>\n",
              "      <td>0</td>\n",
              "      <td>1</td>\n",
              "      <td>...</td>\n",
              "      <td>0</td>\n",
              "      <td>1</td>\n",
              "      <td>0</td>\n",
              "      <td>0</td>\n",
              "      <td>0</td>\n",
              "      <td>1</td>\n",
              "      <td>0</td>\n",
              "      <td>0</td>\n",
              "      <td>1</td>\n",
              "      <td>0</td>\n",
              "    </tr>\n",
              "    <tr>\n",
              "      <th>4</th>\n",
              "      <td>57</td>\n",
              "      <td>0</td>\n",
              "      <td>120</td>\n",
              "      <td>354</td>\n",
              "      <td>0</td>\n",
              "      <td>163</td>\n",
              "      <td>1</td>\n",
              "      <td>0.6</td>\n",
              "      <td>0</td>\n",
              "      <td>1</td>\n",
              "      <td>...</td>\n",
              "      <td>0</td>\n",
              "      <td>1</td>\n",
              "      <td>0</td>\n",
              "      <td>0</td>\n",
              "      <td>0</td>\n",
              "      <td>1</td>\n",
              "      <td>0</td>\n",
              "      <td>0</td>\n",
              "      <td>1</td>\n",
              "      <td>0</td>\n",
              "    </tr>\n",
              "  </tbody>\n",
              "</table>\n",
              "<p>5 rows × 24 columns</p>\n",
              "</div>\n",
              "      <button class=\"colab-df-convert\" onclick=\"convertToInteractive('df-48dc297a-bc3c-4ac5-bde1-fc8ca49546e2')\"\n",
              "              title=\"Convert this dataframe to an interactive table.\"\n",
              "              style=\"display:none;\">\n",
              "        \n",
              "  <svg xmlns=\"http://www.w3.org/2000/svg\" height=\"24px\"viewBox=\"0 0 24 24\"\n",
              "       width=\"24px\">\n",
              "    <path d=\"M0 0h24v24H0V0z\" fill=\"none\"/>\n",
              "    <path d=\"M18.56 5.44l.94 2.06.94-2.06 2.06-.94-2.06-.94-.94-2.06-.94 2.06-2.06.94zm-11 1L8.5 8.5l.94-2.06 2.06-.94-2.06-.94L8.5 2.5l-.94 2.06-2.06.94zm10 10l.94 2.06.94-2.06 2.06-.94-2.06-.94-.94-2.06-.94 2.06-2.06.94z\"/><path d=\"M17.41 7.96l-1.37-1.37c-.4-.4-.92-.59-1.43-.59-.52 0-1.04.2-1.43.59L10.3 9.45l-7.72 7.72c-.78.78-.78 2.05 0 2.83L4 21.41c.39.39.9.59 1.41.59.51 0 1.02-.2 1.41-.59l7.78-7.78 2.81-2.81c.8-.78.8-2.07 0-2.86zM5.41 20L4 18.59l7.72-7.72 1.47 1.35L5.41 20z\"/>\n",
              "  </svg>\n",
              "      </button>\n",
              "      \n",
              "  <style>\n",
              "    .colab-df-container {\n",
              "      display:flex;\n",
              "      flex-wrap:wrap;\n",
              "      gap: 12px;\n",
              "    }\n",
              "\n",
              "    .colab-df-convert {\n",
              "      background-color: #E8F0FE;\n",
              "      border: none;\n",
              "      border-radius: 50%;\n",
              "      cursor: pointer;\n",
              "      display: none;\n",
              "      fill: #1967D2;\n",
              "      height: 32px;\n",
              "      padding: 0 0 0 0;\n",
              "      width: 32px;\n",
              "    }\n",
              "\n",
              "    .colab-df-convert:hover {\n",
              "      background-color: #E2EBFA;\n",
              "      box-shadow: 0px 1px 2px rgba(60, 64, 67, 0.3), 0px 1px 3px 1px rgba(60, 64, 67, 0.15);\n",
              "      fill: #174EA6;\n",
              "    }\n",
              "\n",
              "    [theme=dark] .colab-df-convert {\n",
              "      background-color: #3B4455;\n",
              "      fill: #D2E3FC;\n",
              "    }\n",
              "\n",
              "    [theme=dark] .colab-df-convert:hover {\n",
              "      background-color: #434B5C;\n",
              "      box-shadow: 0px 1px 3px 1px rgba(0, 0, 0, 0.15);\n",
              "      filter: drop-shadow(0px 1px 2px rgba(0, 0, 0, 0.3));\n",
              "      fill: #FFFFFF;\n",
              "    }\n",
              "  </style>\n",
              "\n",
              "      <script>\n",
              "        const buttonEl =\n",
              "          document.querySelector('#df-48dc297a-bc3c-4ac5-bde1-fc8ca49546e2 button.colab-df-convert');\n",
              "        buttonEl.style.display =\n",
              "          google.colab.kernel.accessAllowed ? 'block' : 'none';\n",
              "\n",
              "        async function convertToInteractive(key) {\n",
              "          const element = document.querySelector('#df-48dc297a-bc3c-4ac5-bde1-fc8ca49546e2');\n",
              "          const dataTable =\n",
              "            await google.colab.kernel.invokeFunction('convertToInteractive',\n",
              "                                                     [key], {});\n",
              "          if (!dataTable) return;\n",
              "\n",
              "          const docLinkHtml = 'Like what you see? Visit the ' +\n",
              "            '<a target=\"_blank\" href=https://colab.research.google.com/notebooks/data_table.ipynb>data table notebook</a>'\n",
              "            + ' to learn more about interactive tables.';\n",
              "          element.innerHTML = '';\n",
              "          dataTable['output_type'] = 'display_data';\n",
              "          await google.colab.output.renderOutput(dataTable, element);\n",
              "          const docLink = document.createElement('div');\n",
              "          docLink.innerHTML = docLinkHtml;\n",
              "          element.appendChild(docLink);\n",
              "        }\n",
              "      </script>\n",
              "    </div>\n",
              "  </div>\n",
              "  "
            ]
          },
          "metadata": {},
          "execution_count": 7
        }
      ]
    },
    {
      "cell_type": "code",
      "source": [
        "X = df.drop('output', axis=1)\n",
        "y = df.output"
      ],
      "metadata": {
        "id": "ToBa78cF2hxQ"
      },
      "execution_count": 8,
      "outputs": []
    },
    {
      "cell_type": "code",
      "source": [
        "X_train, X_test, y_train, y_test = train_test_split(X, y, test_size=0.2, random_state=SEED, stratify=y)\n",
        "scaler = StandardScaler()\n",
        "X_train = scaler.fit_transform(X_train)\n",
        "X_test = scaler.transform(X_test)"
      ],
      "metadata": {
        "id": "CLr_G0O32Gle"
      },
      "execution_count": 9,
      "outputs": []
    },
    {
      "cell_type": "markdown",
      "source": [
        "With stratify argument we can assure than the proportion of values in the sample produced will be the same as the proportion of values in `y`.\n",
        "\n",
        "Also, I decided to standardize features by removing the mean and scaling to unit variance. We don't want a feature that has a variance that is orders of magnitude larger than others.\n",
        "\n",
        "For now I will use just train/test split, in the future I can extend it with train/val/test split if needed."
      ],
      "metadata": {
        "id": "HB4pU8iI3WVC"
      }
    },
    {
      "cell_type": "markdown",
      "source": [
        "## Train a XGBoost model"
      ],
      "metadata": {
        "id": "QOZ0ehnGGY8w"
      }
    },
    {
      "cell_type": "code",
      "source": [
        "BST_model = xgb.XGBClassifier(random_state=SEED, max_depth=2).fit(X, y)"
      ],
      "metadata": {
        "id": "cjfFZNE4HYd0"
      },
      "execution_count": 10,
      "outputs": []
    },
    {
      "cell_type": "markdown",
      "source": [
        "## Evaluate model on some examples"
      ],
      "metadata": {
        "id": "ma_a4AH-pYQL"
      }
    },
    {
      "cell_type": "code",
      "source": [
        "pf_xgboost_classifier_default = lambda m, d: m.predict_proba(d)[:, 1]\n",
        "BST_explainer = dx.Explainer(BST_model, X, y, predict_function=pf_xgboost_classifier_default, label=\"GBM\")"
      ],
      "metadata": {
        "colab": {
          "base_uri": "https://localhost:8080/"
        },
        "id": "aiWwvrEtc9Ri",
        "outputId": "cd75f55f-f022-460b-bb75-960d1844ee37"
      },
      "execution_count": 11,
      "outputs": [
        {
          "output_type": "stream",
          "name": "stdout",
          "text": [
            "Preparation of a new explainer is initiated\n",
            "\n",
            "  -> data              : 303 rows 23 cols\n",
            "  -> target variable   : Parameter 'y' was a pandas.Series. Converted to a numpy.ndarray.\n",
            "  -> target variable   : 303 values\n",
            "  -> model_class       : xgboost.sklearn.XGBClassifier (default)\n",
            "  -> label             : GBM\n",
            "  -> predict function  : <function <lambda> at 0x7f5a5a7f43b0> will be used\n",
            "  -> predict function  : Accepts only pandas.DataFrame, numpy.ndarray causes problems.\n",
            "  -> predicted values  : min = 0.00365, mean = 0.544, max = 0.995\n",
            "  -> model type        : classification will be used (default)\n",
            "  -> residual function : difference between y and yhat (default)\n",
            "  -> residuals         : min = -0.929, mean = 0.000168, max = 0.836\n",
            "  -> model_info        : package xgboost\n",
            "\n",
            "A new explainer has been created!\n"
          ]
        }
      ]
    },
    {
      "cell_type": "markdown",
      "source": [
        "Check performance"
      ],
      "metadata": {
        "id": "wFy-rq3wfVep"
      }
    },
    {
      "cell_type": "code",
      "source": [
        "BST_explainer.model_performance()"
      ],
      "metadata": {
        "colab": {
          "base_uri": "https://localhost:8080/",
          "height": 81
        },
        "id": "hziDM-j-fYzk",
        "outputId": "147a6665-49e5-4285-da9a-8e642fbf2dc7"
      },
      "execution_count": 12,
      "outputs": [
        {
          "output_type": "execute_result",
          "data": {
            "text/plain": [
              "<dalex.model_explanations._model_performance.object.ModelPerformance at 0x7f5a5a89f550>"
            ],
            "text/html": [
              "<div>\n",
              "<style scoped>\n",
              "    .dataframe tbody tr th:only-of-type {\n",
              "        vertical-align: middle;\n",
              "    }\n",
              "\n",
              "    .dataframe tbody tr th {\n",
              "        vertical-align: top;\n",
              "    }\n",
              "\n",
              "    .dataframe thead th {\n",
              "        text-align: right;\n",
              "    }\n",
              "</style>\n",
              "<table border=\"1\" class=\"dataframe\">\n",
              "  <thead>\n",
              "    <tr style=\"text-align: right;\">\n",
              "      <th></th>\n",
              "      <th>recall</th>\n",
              "      <th>precision</th>\n",
              "      <th>f1</th>\n",
              "      <th>accuracy</th>\n",
              "      <th>auc</th>\n",
              "    </tr>\n",
              "  </thead>\n",
              "  <tbody>\n",
              "    <tr>\n",
              "      <th>GBM</th>\n",
              "      <td>0.933333</td>\n",
              "      <td>0.905882</td>\n",
              "      <td>0.919403</td>\n",
              "      <td>0.910891</td>\n",
              "      <td>0.978788</td>\n",
              "    </tr>\n",
              "  </tbody>\n",
              "</table>\n",
              "</div>"
            ]
          },
          "metadata": {},
          "execution_count": 12
        }
      ]
    },
    {
      "cell_type": "code",
      "source": [
        "pvi_BST = BST_explainer.model_parts(random_state=SEED)\n",
        "pvi_BST.result"
      ],
      "metadata": {
        "colab": {
          "base_uri": "https://localhost:8080/",
          "height": 833
        },
        "id": "UbEWi6-eLq37",
        "outputId": "ebe8d4de-a045-4ae3-a2fd-3bd91f87cf1e"
      },
      "execution_count": 13,
      "outputs": [
        {
          "output_type": "execute_result",
          "data": {
            "text/plain": [
              "        variable  dropout_loss label\n",
              "0      restecg_0      0.021012   GBM\n",
              "1   _full_model_      0.021212   GBM\n",
              "2        thall_0      0.021212   GBM\n",
              "3           cp_1      0.021212   GBM\n",
              "4           cp_3      0.021212   GBM\n",
              "5      restecg_2      0.021212   GBM\n",
              "6           cp_2      0.021230   GBM\n",
              "7        thall_1      0.021313   GBM\n",
              "8            fbs      0.021515   GBM\n",
              "9          slp_0      0.021941   GBM\n",
              "10         slp_2      0.022156   GBM\n",
              "11         slp_1      0.022960   GBM\n",
              "12     restecg_1      0.023992   GBM\n",
              "13        trtbps      0.024976   GBM\n",
              "14          exng      0.025428   GBM\n",
              "15       thall_3      0.026645   GBM\n",
              "16       thall_2      0.028968   GBM\n",
              "17      thalachh      0.030264   GBM\n",
              "18          chol      0.031436   GBM\n",
              "19           sex      0.035793   GBM\n",
              "20           age      0.037716   GBM\n",
              "21          cp_0      0.044848   GBM\n",
              "22       oldpeak      0.044980   GBM\n",
              "23           caa      0.078191   GBM\n",
              "24    _baseline_      0.497413   GBM"
            ],
            "text/html": [
              "\n",
              "  <div id=\"df-fd102f54-7e6c-46a7-8823-63233d500814\">\n",
              "    <div class=\"colab-df-container\">\n",
              "      <div>\n",
              "<style scoped>\n",
              "    .dataframe tbody tr th:only-of-type {\n",
              "        vertical-align: middle;\n",
              "    }\n",
              "\n",
              "    .dataframe tbody tr th {\n",
              "        vertical-align: top;\n",
              "    }\n",
              "\n",
              "    .dataframe thead th {\n",
              "        text-align: right;\n",
              "    }\n",
              "</style>\n",
              "<table border=\"1\" class=\"dataframe\">\n",
              "  <thead>\n",
              "    <tr style=\"text-align: right;\">\n",
              "      <th></th>\n",
              "      <th>variable</th>\n",
              "      <th>dropout_loss</th>\n",
              "      <th>label</th>\n",
              "    </tr>\n",
              "  </thead>\n",
              "  <tbody>\n",
              "    <tr>\n",
              "      <th>0</th>\n",
              "      <td>restecg_0</td>\n",
              "      <td>0.021012</td>\n",
              "      <td>GBM</td>\n",
              "    </tr>\n",
              "    <tr>\n",
              "      <th>1</th>\n",
              "      <td>_full_model_</td>\n",
              "      <td>0.021212</td>\n",
              "      <td>GBM</td>\n",
              "    </tr>\n",
              "    <tr>\n",
              "      <th>2</th>\n",
              "      <td>thall_0</td>\n",
              "      <td>0.021212</td>\n",
              "      <td>GBM</td>\n",
              "    </tr>\n",
              "    <tr>\n",
              "      <th>3</th>\n",
              "      <td>cp_1</td>\n",
              "      <td>0.021212</td>\n",
              "      <td>GBM</td>\n",
              "    </tr>\n",
              "    <tr>\n",
              "      <th>4</th>\n",
              "      <td>cp_3</td>\n",
              "      <td>0.021212</td>\n",
              "      <td>GBM</td>\n",
              "    </tr>\n",
              "    <tr>\n",
              "      <th>5</th>\n",
              "      <td>restecg_2</td>\n",
              "      <td>0.021212</td>\n",
              "      <td>GBM</td>\n",
              "    </tr>\n",
              "    <tr>\n",
              "      <th>6</th>\n",
              "      <td>cp_2</td>\n",
              "      <td>0.021230</td>\n",
              "      <td>GBM</td>\n",
              "    </tr>\n",
              "    <tr>\n",
              "      <th>7</th>\n",
              "      <td>thall_1</td>\n",
              "      <td>0.021313</td>\n",
              "      <td>GBM</td>\n",
              "    </tr>\n",
              "    <tr>\n",
              "      <th>8</th>\n",
              "      <td>fbs</td>\n",
              "      <td>0.021515</td>\n",
              "      <td>GBM</td>\n",
              "    </tr>\n",
              "    <tr>\n",
              "      <th>9</th>\n",
              "      <td>slp_0</td>\n",
              "      <td>0.021941</td>\n",
              "      <td>GBM</td>\n",
              "    </tr>\n",
              "    <tr>\n",
              "      <th>10</th>\n",
              "      <td>slp_2</td>\n",
              "      <td>0.022156</td>\n",
              "      <td>GBM</td>\n",
              "    </tr>\n",
              "    <tr>\n",
              "      <th>11</th>\n",
              "      <td>slp_1</td>\n",
              "      <td>0.022960</td>\n",
              "      <td>GBM</td>\n",
              "    </tr>\n",
              "    <tr>\n",
              "      <th>12</th>\n",
              "      <td>restecg_1</td>\n",
              "      <td>0.023992</td>\n",
              "      <td>GBM</td>\n",
              "    </tr>\n",
              "    <tr>\n",
              "      <th>13</th>\n",
              "      <td>trtbps</td>\n",
              "      <td>0.024976</td>\n",
              "      <td>GBM</td>\n",
              "    </tr>\n",
              "    <tr>\n",
              "      <th>14</th>\n",
              "      <td>exng</td>\n",
              "      <td>0.025428</td>\n",
              "      <td>GBM</td>\n",
              "    </tr>\n",
              "    <tr>\n",
              "      <th>15</th>\n",
              "      <td>thall_3</td>\n",
              "      <td>0.026645</td>\n",
              "      <td>GBM</td>\n",
              "    </tr>\n",
              "    <tr>\n",
              "      <th>16</th>\n",
              "      <td>thall_2</td>\n",
              "      <td>0.028968</td>\n",
              "      <td>GBM</td>\n",
              "    </tr>\n",
              "    <tr>\n",
              "      <th>17</th>\n",
              "      <td>thalachh</td>\n",
              "      <td>0.030264</td>\n",
              "      <td>GBM</td>\n",
              "    </tr>\n",
              "    <tr>\n",
              "      <th>18</th>\n",
              "      <td>chol</td>\n",
              "      <td>0.031436</td>\n",
              "      <td>GBM</td>\n",
              "    </tr>\n",
              "    <tr>\n",
              "      <th>19</th>\n",
              "      <td>sex</td>\n",
              "      <td>0.035793</td>\n",
              "      <td>GBM</td>\n",
              "    </tr>\n",
              "    <tr>\n",
              "      <th>20</th>\n",
              "      <td>age</td>\n",
              "      <td>0.037716</td>\n",
              "      <td>GBM</td>\n",
              "    </tr>\n",
              "    <tr>\n",
              "      <th>21</th>\n",
              "      <td>cp_0</td>\n",
              "      <td>0.044848</td>\n",
              "      <td>GBM</td>\n",
              "    </tr>\n",
              "    <tr>\n",
              "      <th>22</th>\n",
              "      <td>oldpeak</td>\n",
              "      <td>0.044980</td>\n",
              "      <td>GBM</td>\n",
              "    </tr>\n",
              "    <tr>\n",
              "      <th>23</th>\n",
              "      <td>caa</td>\n",
              "      <td>0.078191</td>\n",
              "      <td>GBM</td>\n",
              "    </tr>\n",
              "    <tr>\n",
              "      <th>24</th>\n",
              "      <td>_baseline_</td>\n",
              "      <td>0.497413</td>\n",
              "      <td>GBM</td>\n",
              "    </tr>\n",
              "  </tbody>\n",
              "</table>\n",
              "</div>\n",
              "      <button class=\"colab-df-convert\" onclick=\"convertToInteractive('df-fd102f54-7e6c-46a7-8823-63233d500814')\"\n",
              "              title=\"Convert this dataframe to an interactive table.\"\n",
              "              style=\"display:none;\">\n",
              "        \n",
              "  <svg xmlns=\"http://www.w3.org/2000/svg\" height=\"24px\"viewBox=\"0 0 24 24\"\n",
              "       width=\"24px\">\n",
              "    <path d=\"M0 0h24v24H0V0z\" fill=\"none\"/>\n",
              "    <path d=\"M18.56 5.44l.94 2.06.94-2.06 2.06-.94-2.06-.94-.94-2.06-.94 2.06-2.06.94zm-11 1L8.5 8.5l.94-2.06 2.06-.94-2.06-.94L8.5 2.5l-.94 2.06-2.06.94zm10 10l.94 2.06.94-2.06 2.06-.94-2.06-.94-.94-2.06-.94 2.06-2.06.94z\"/><path d=\"M17.41 7.96l-1.37-1.37c-.4-.4-.92-.59-1.43-.59-.52 0-1.04.2-1.43.59L10.3 9.45l-7.72 7.72c-.78.78-.78 2.05 0 2.83L4 21.41c.39.39.9.59 1.41.59.51 0 1.02-.2 1.41-.59l7.78-7.78 2.81-2.81c.8-.78.8-2.07 0-2.86zM5.41 20L4 18.59l7.72-7.72 1.47 1.35L5.41 20z\"/>\n",
              "  </svg>\n",
              "      </button>\n",
              "      \n",
              "  <style>\n",
              "    .colab-df-container {\n",
              "      display:flex;\n",
              "      flex-wrap:wrap;\n",
              "      gap: 12px;\n",
              "    }\n",
              "\n",
              "    .colab-df-convert {\n",
              "      background-color: #E8F0FE;\n",
              "      border: none;\n",
              "      border-radius: 50%;\n",
              "      cursor: pointer;\n",
              "      display: none;\n",
              "      fill: #1967D2;\n",
              "      height: 32px;\n",
              "      padding: 0 0 0 0;\n",
              "      width: 32px;\n",
              "    }\n",
              "\n",
              "    .colab-df-convert:hover {\n",
              "      background-color: #E2EBFA;\n",
              "      box-shadow: 0px 1px 2px rgba(60, 64, 67, 0.3), 0px 1px 3px 1px rgba(60, 64, 67, 0.15);\n",
              "      fill: #174EA6;\n",
              "    }\n",
              "\n",
              "    [theme=dark] .colab-df-convert {\n",
              "      background-color: #3B4455;\n",
              "      fill: #D2E3FC;\n",
              "    }\n",
              "\n",
              "    [theme=dark] .colab-df-convert:hover {\n",
              "      background-color: #434B5C;\n",
              "      box-shadow: 0px 1px 3px 1px rgba(0, 0, 0, 0.15);\n",
              "      filter: drop-shadow(0px 1px 2px rgba(0, 0, 0, 0.3));\n",
              "      fill: #FFFFFF;\n",
              "    }\n",
              "  </style>\n",
              "\n",
              "      <script>\n",
              "        const buttonEl =\n",
              "          document.querySelector('#df-fd102f54-7e6c-46a7-8823-63233d500814 button.colab-df-convert');\n",
              "        buttonEl.style.display =\n",
              "          google.colab.kernel.accessAllowed ? 'block' : 'none';\n",
              "\n",
              "        async function convertToInteractive(key) {\n",
              "          const element = document.querySelector('#df-fd102f54-7e6c-46a7-8823-63233d500814');\n",
              "          const dataTable =\n",
              "            await google.colab.kernel.invokeFunction('convertToInteractive',\n",
              "                                                     [key], {});\n",
              "          if (!dataTable) return;\n",
              "\n",
              "          const docLinkHtml = 'Like what you see? Visit the ' +\n",
              "            '<a target=\"_blank\" href=https://colab.research.google.com/notebooks/data_table.ipynb>data table notebook</a>'\n",
              "            + ' to learn more about interactive tables.';\n",
              "          element.innerHTML = '';\n",
              "          dataTable['output_type'] = 'display_data';\n",
              "          await google.colab.output.renderOutput(dataTable, element);\n",
              "          const docLink = document.createElement('div');\n",
              "          docLink.innerHTML = docLinkHtml;\n",
              "          element.appendChild(docLink);\n",
              "        }\n",
              "      </script>\n",
              "    </div>\n",
              "  </div>\n",
              "  "
            ]
          },
          "metadata": {},
          "execution_count": 13
        }
      ]
    },
    {
      "cell_type": "code",
      "source": [
        "pvi_BST.plot(show=False).update_layout(autosize=False, width=600, height=450)"
      ],
      "metadata": {
        "colab": {
          "base_uri": "https://localhost:8080/",
          "height": 467
        },
        "id": "w8dHCTzNL6Bb",
        "outputId": "da11df96-30e1-46f7-a37f-df8841c395c7"
      },
      "execution_count": 14,
      "outputs": [
        {
          "output_type": "display_data",
          "data": {
            "text/html": [
              "<html>\n",
              "<head><meta charset=\"utf-8\" /></head>\n",
              "<body>\n",
              "    <div>            <script src=\"https://cdnjs.cloudflare.com/ajax/libs/mathjax/2.7.5/MathJax.js?config=TeX-AMS-MML_SVG\"></script><script type=\"text/javascript\">if (window.MathJax) {MathJax.Hub.Config({SVG: {font: \"STIX-Web\"}});}</script>                <script type=\"text/javascript\">window.PlotlyConfig = {MathJaxConfig: 'local'};</script>\n",
              "        <script src=\"https://cdn.plot.ly/plotly-2.8.3.min.js\"></script>                <div id=\"fc12e4ff-d46b-46aa-b87a-9b9024e9528b\" class=\"plotly-graph-div\" style=\"height:450px; width:600px;\"></div>            <script type=\"text/javascript\">                                    window.PLOTLYENV=window.PLOTLYENV || {};                                    if (document.getElementById(\"fc12e4ff-d46b-46aa-b87a-9b9024e9528b\")) {                    Plotly.newPlot(                        \"fc12e4ff-d46b-46aa-b87a-9b9024e9528b\",                        [{\"base\":0.021212121212121238,\"hoverinfo\":\"text\",\"hoverlabel\":{\"bgcolor\":\"rgba(0,0,0,0.8)\"},\"hovertext\":[\"Model: GBM loss after<br>variable: caa is permuted: 0.078<br>Drop-out loss change: +0.057\",\"Model: GBM loss after<br>variable: oldpeak is permuted: 0.045<br>Drop-out loss change: +0.024\",\"Model: GBM loss after<br>variable: cp_0 is permuted: 0.045<br>Drop-out loss change: +0.024\",\"Model: GBM loss after<br>variable: age is permuted: 0.038<br>Drop-out loss change: +0.017\",\"Model: GBM loss after<br>variable: sex is permuted: 0.036<br>Drop-out loss change: +0.015\",\"Model: GBM loss after<br>variable: chol is permuted: 0.031<br>Drop-out loss change: +0.01\",\"Model: GBM loss after<br>variable: thalachh is permuted: 0.03<br>Drop-out loss change: +0.009\",\"Model: GBM loss after<br>variable: thall_2 is permuted: 0.029<br>Drop-out loss change: +0.008\",\"Model: GBM loss after<br>variable: thall_3 is permuted: 0.027<br>Drop-out loss change: +0.005\",\"Model: GBM loss after<br>variable: exng is permuted: 0.025<br>Drop-out loss change: +0.004\"],\"marker\":{\"color\":\"#46bac2\"},\"orientation\":\"h\",\"showlegend\":false,\"text\":[\"+0.057\",\"+0.024\",\"+0.024\",\"+0.017\",\"+0.015\",\"+0.01\",\"+0.009\",\"+0.008\",\"+0.005\",\"+0.004\"],\"textposition\":\"outside\",\"x\":[0.05697848045674127,0.023768115942028968,0.023636363636363643,0.01650417215634599,0.01458058849363196,0.01022397891963104,0.009051383399209401,0.007755819060166858,0.00543258673693451,0.004216073781291196],\"y\":[\"caa\",\"oldpeak\",\"cp_0\",\"age\",\"sex\",\"chol\",\"thalachh\",\"thall_2\",\"thall_3\",\"exng\"],\"type\":\"bar\",\"xaxis\":\"x\",\"yaxis\":\"y\"}],                        {\"template\":{\"data\":{\"scatter\":[{\"type\":\"scatter\"}]}},\"xaxis\":{\"anchor\":\"y\",\"domain\":[0.0,1.0],\"type\":\"linear\",\"gridwidth\":2,\"zeroline\":false,\"automargin\":true,\"ticks\":\"outside\",\"tickcolor\":\"white\",\"ticklen\":3,\"fixedrange\":true,\"range\":[0.012435551163812043,0.08676734738691257]},\"yaxis\":{\"anchor\":\"x\",\"domain\":[0.0,1.0],\"type\":\"category\",\"autorange\":\"reversed\",\"gridwidth\":2,\"automargin\":true,\"ticks\":\"outside\",\"tickcolor\":\"white\",\"ticklen\":10,\"fixedrange\":true},\"annotations\":[{\"font\":{\"size\":16},\"showarrow\":false,\"text\":\"GBM\",\"x\":0.5,\"xanchor\":\"center\",\"xref\":\"paper\",\"y\":1.0,\"yanchor\":\"bottom\",\"yref\":\"paper\"},{\"font\":{\"size\":16},\"showarrow\":false,\"text\":\"drop-out loss\",\"x\":0.5,\"xanchor\":\"center\",\"xref\":\"paper\",\"y\":0,\"yanchor\":\"top\",\"yref\":\"paper\",\"yshift\":-30}],\"shapes\":[{\"line\":{\"color\":\"#371ea3\",\"dash\":\"dot\",\"width\":1.5},\"type\":\"line\",\"x0\":0.021212121212121238,\"x1\":0.021212121212121238,\"xref\":\"x\",\"y0\":-1,\"y1\":10,\"yref\":\"y\"}],\"title\":{\"text\":\"Variable Importance\",\"x\":0.15},\"font\":{\"color\":\"#371ea3\"},\"margin\":{\"t\":78,\"b\":71,\"r\":30},\"height\":450,\"autosize\":false,\"width\":600},                        {\"responsive\": true}                    ).then(function(){\n",
              "                            \n",
              "var gd = document.getElementById('fc12e4ff-d46b-46aa-b87a-9b9024e9528b');\n",
              "var x = new MutationObserver(function (mutations, observer) {{\n",
              "        var display = window.getComputedStyle(gd).display;\n",
              "        if (!display || display === 'none') {{\n",
              "            console.log([gd, 'removed!']);\n",
              "            Plotly.purge(gd);\n",
              "            observer.disconnect();\n",
              "        }}\n",
              "}});\n",
              "\n",
              "// Listen for the removal of the full notebook cells\n",
              "var notebookContainer = gd.closest('#notebook-container');\n",
              "if (notebookContainer) {{\n",
              "    x.observe(notebookContainer, {childList: true});\n",
              "}}\n",
              "\n",
              "// Listen for the clearing of the current output cell\n",
              "var outputEl = gd.closest('.output');\n",
              "if (outputEl) {{\n",
              "    x.observe(outputEl, {childList: true});\n",
              "}}\n",
              "\n",
              "                        })                };                            </script>        </div>\n",
              "</body>\n",
              "</html>"
            ]
          },
          "metadata": {}
        }
      ]
    },
    {
      "cell_type": "code",
      "source": [
        "pvi_BST.plot(\n",
        "    max_vars=3, \n",
        "    digits=4, \n",
        "    bar_width=40, \n",
        "    title=\"Permutation-based Variable Importance (Top 3)\", \n",
        "    show=False\n",
        ").update_layout(width=600)"
      ],
      "metadata": {
        "colab": {
          "base_uri": "https://localhost:8080/",
          "height": 356
        },
        "id": "r04BWkMjMLeK",
        "outputId": "9400857f-4117-4190-8380-0346d1984bb4"
      },
      "execution_count": 15,
      "outputs": [
        {
          "output_type": "display_data",
          "data": {
            "text/html": [
              "<html>\n",
              "<head><meta charset=\"utf-8\" /></head>\n",
              "<body>\n",
              "    <div>            <script src=\"https://cdnjs.cloudflare.com/ajax/libs/mathjax/2.7.5/MathJax.js?config=TeX-AMS-MML_SVG\"></script><script type=\"text/javascript\">if (window.MathJax) {MathJax.Hub.Config({SVG: {font: \"STIX-Web\"}});}</script>                <script type=\"text/javascript\">window.PlotlyConfig = {MathJaxConfig: 'local'};</script>\n",
              "        <script src=\"https://cdn.plot.ly/plotly-2.8.3.min.js\"></script>                <div id=\"56fe367d-3bdb-4c83-ac8d-015a50b15bb1\" class=\"plotly-graph-div\" style=\"height:339.0px; width:600px;\"></div>            <script type=\"text/javascript\">                                    window.PLOTLYENV=window.PLOTLYENV || {};                                    if (document.getElementById(\"56fe367d-3bdb-4c83-ac8d-015a50b15bb1\")) {                    Plotly.newPlot(                        \"56fe367d-3bdb-4c83-ac8d-015a50b15bb1\",                        [{\"base\":0.021212121212121238,\"hoverinfo\":\"text\",\"hoverlabel\":{\"bgcolor\":\"rgba(0,0,0,0.8)\"},\"hovertext\":[\"Model: GBM loss after<br>variable: caa is permuted: 0.0782<br>Drop-out loss change: +0.057\",\"Model: GBM loss after<br>variable: oldpeak is permuted: 0.045<br>Drop-out loss change: +0.0238\",\"Model: GBM loss after<br>variable: cp_0 is permuted: 0.0448<br>Drop-out loss change: +0.0236\"],\"marker\":{\"color\":\"#46bac2\"},\"orientation\":\"h\",\"showlegend\":false,\"text\":[\"+0.057\",\"+0.0238\",\"+0.0236\"],\"textposition\":\"outside\",\"x\":[0.05697848045674127,0.023768115942028968,0.023636363636363643],\"y\":[\"caa\",\"oldpeak\",\"cp_0\"],\"type\":\"bar\",\"xaxis\":\"x\",\"yaxis\":\"y\"}],                        {\"template\":{\"data\":{\"scatter\":[{\"type\":\"scatter\"}]}},\"xaxis\":{\"anchor\":\"y\",\"domain\":[0.0,1.0],\"type\":\"linear\",\"gridwidth\":2,\"zeroline\":false,\"automargin\":true,\"ticks\":\"outside\",\"tickcolor\":\"white\",\"ticklen\":3,\"fixedrange\":true,\"range\":[0.012435551163812043,0.08676734738691257]},\"yaxis\":{\"anchor\":\"x\",\"domain\":[0.0,1.0],\"type\":\"category\",\"autorange\":\"reversed\",\"gridwidth\":2,\"automargin\":true,\"ticks\":\"outside\",\"tickcolor\":\"white\",\"ticklen\":10,\"fixedrange\":true},\"annotations\":[{\"font\":{\"size\":16},\"showarrow\":false,\"text\":\"GBM\",\"x\":0.5,\"xanchor\":\"center\",\"xref\":\"paper\",\"y\":1.0,\"yanchor\":\"bottom\",\"yref\":\"paper\"},{\"font\":{\"size\":16},\"showarrow\":false,\"text\":\"drop-out loss\",\"x\":0.5,\"xanchor\":\"center\",\"xref\":\"paper\",\"y\":0,\"yanchor\":\"top\",\"yref\":\"paper\",\"yshift\":-30}],\"shapes\":[{\"line\":{\"color\":\"#371ea3\",\"dash\":\"dot\",\"width\":1.5},\"type\":\"line\",\"x0\":0.021212121212121238,\"x1\":0.021212121212121238,\"xref\":\"x\",\"y0\":-1,\"y1\":3,\"yref\":\"y\"}],\"title\":{\"text\":\"Permutation-based Variable Importance (Top 3)\",\"x\":0.15},\"font\":{\"color\":\"#371ea3\"},\"margin\":{\"t\":78,\"b\":71,\"r\":30},\"height\":339.0,\"width\":600},                        {\"responsive\": true}                    ).then(function(){\n",
              "                            \n",
              "var gd = document.getElementById('56fe367d-3bdb-4c83-ac8d-015a50b15bb1');\n",
              "var x = new MutationObserver(function (mutations, observer) {{\n",
              "        var display = window.getComputedStyle(gd).display;\n",
              "        if (!display || display === 'none') {{\n",
              "            console.log([gd, 'removed!']);\n",
              "            Plotly.purge(gd);\n",
              "            observer.disconnect();\n",
              "        }}\n",
              "}});\n",
              "\n",
              "// Listen for the removal of the full notebook cells\n",
              "var notebookContainer = gd.closest('#notebook-container');\n",
              "if (notebookContainer) {{\n",
              "    x.observe(notebookContainer, {childList: true});\n",
              "}}\n",
              "\n",
              "// Listen for the clearing of the current output cell\n",
              "var outputEl = gd.closest('.output');\n",
              "if (outputEl) {{\n",
              "    x.observe(outputEl, {childList: true});\n",
              "}}\n",
              "\n",
              "                        })                };                            </script>        </div>\n",
              "</body>\n",
              "</html>"
            ]
          },
          "metadata": {}
        }
      ]
    },
    {
      "cell_type": "markdown",
      "source": [
        "## Train three more candidate models"
      ],
      "metadata": {
        "id": "KsPaVw7dP1Bk"
      }
    },
    {
      "cell_type": "markdown",
      "source": [
        "Let's train 3 more models - logistic regression and 2 XGB models with larger `max_depth` parameter."
      ],
      "metadata": {
        "id": "3EmK8-f9Q5s3"
      }
    },
    {
      "cell_type": "code",
      "source": [
        "LR_model = LogisticRegression(random_state=SEED).fit(X, y)\n",
        "BST_model_deep = xgb.XGBClassifier(random_state=SEED, max_depth=5, min_split_loss=2).fit(X, y)\n",
        "BST_model_deeper = xgb.XGBClassifier(random_state=SEED, max_depth=10, min_split_loss=0).fit(X, y)"
      ],
      "metadata": {
        "colab": {
          "base_uri": "https://localhost:8080/"
        },
        "id": "J8irSHCwPtu3",
        "outputId": "7a199178-0849-4b27-8c4e-74ab879e652d"
      },
      "execution_count": 16,
      "outputs": [
        {
          "output_type": "stream",
          "name": "stderr",
          "text": [
            "/usr/local/lib/python3.7/dist-packages/sklearn/linear_model/_logistic.py:818: ConvergenceWarning:\n",
            "\n",
            "lbfgs failed to converge (status=1):\n",
            "STOP: TOTAL NO. of ITERATIONS REACHED LIMIT.\n",
            "\n",
            "Increase the number of iterations (max_iter) or scale the data as shown in:\n",
            "    https://scikit-learn.org/stable/modules/preprocessing.html\n",
            "Please also refer to the documentation for alternative solver options:\n",
            "    https://scikit-learn.org/stable/modules/linear_model.html#logistic-regression\n",
            "\n"
          ]
        }
      ]
    },
    {
      "cell_type": "code",
      "source": [
        "LR_explainer = dx.Explainer(LR_model, X, y, predict_function=pf_xgboost_classifier_default, label=\"LR\")\n",
        "BST_deep_explainer = dx.Explainer(BST_model_deep, X, y, predict_function=pf_xgboost_classifier_default, label=\"GBM_deep\")\n",
        "BST_deeper_explainer = dx.Explainer(BST_model_deeper, X, y, predict_function=pf_xgboost_classifier_default, label=\"GBM_deeper\")"
      ],
      "metadata": {
        "colab": {
          "base_uri": "https://localhost:8080/"
        },
        "id": "31sTPujiR-bO",
        "outputId": "3864ab03-214e-4f29-ae0a-d31900c16b5d"
      },
      "execution_count": 17,
      "outputs": [
        {
          "output_type": "stream",
          "name": "stdout",
          "text": [
            "Preparation of a new explainer is initiated\n",
            "\n",
            "  -> data              : 303 rows 23 cols\n",
            "  -> target variable   : Parameter 'y' was a pandas.Series. Converted to a numpy.ndarray.\n",
            "  -> target variable   : 303 values\n",
            "  -> model_class       : sklearn.linear_model._logistic.LogisticRegression (default)\n",
            "  -> label             : LR\n",
            "  -> predict function  : <function <lambda> at 0x7f5a5a7f43b0> will be used\n",
            "  -> predict function  : Accepts pandas.DataFrame and numpy.ndarray.\n",
            "  -> predicted values  : min = 0.00145, mean = 0.543, max = 0.995\n",
            "  -> model type        : classification will be used (default)\n",
            "  -> residual function : difference between y and yhat (default)\n",
            "  -> residuals         : min = -0.967, mean = 0.00121, max = 0.96\n",
            "  -> model_info        : package sklearn\n",
            "\n",
            "A new explainer has been created!\n",
            "Preparation of a new explainer is initiated\n",
            "\n",
            "  -> data              : 303 rows 23 cols\n",
            "  -> target variable   : Parameter 'y' was a pandas.Series. Converted to a numpy.ndarray.\n",
            "  -> target variable   : 303 values\n",
            "  -> model_class       : xgboost.sklearn.XGBClassifier (default)\n",
            "  -> label             : GBM_deep\n",
            "  -> predict function  : <function <lambda> at 0x7f5a5a7f43b0> will be used\n",
            "  -> predict function  : Accepts only pandas.DataFrame, numpy.ndarray causes problems.\n",
            "  -> predicted values  : min = 0.0498, mean = 0.545, max = 0.955\n",
            "  -> model type        : classification will be used (default)\n",
            "  -> residual function : difference between y and yhat (default)\n",
            "  -> residuals         : min = -0.821, mean = 2.19e-06, max = 0.72\n",
            "  -> model_info        : package xgboost\n",
            "\n",
            "A new explainer has been created!\n",
            "Preparation of a new explainer is initiated\n",
            "\n",
            "  -> data              : 303 rows 23 cols\n",
            "  -> target variable   : Parameter 'y' was a pandas.Series. Converted to a numpy.ndarray.\n",
            "  -> target variable   : 303 values\n",
            "  -> model_class       : xgboost.sklearn.XGBClassifier (default)\n",
            "  -> label             : GBM_deeper\n",
            "  -> predict function  : <function <lambda> at 0x7f5a5a7f43b0> will be used\n",
            "  -> predict function  : Accepts only pandas.DataFrame, numpy.ndarray causes problems.\n",
            "  -> predicted values  : min = 0.00172, mean = 0.544, max = 0.998\n",
            "  -> model type        : classification will be used (default)\n",
            "  -> residual function : difference between y and yhat (default)\n",
            "  -> residuals         : min = -0.375, mean = 0.000127, max = 0.288\n",
            "  -> model_info        : package xgboost\n",
            "\n",
            "A new explainer has been created!\n"
          ]
        },
        {
          "output_type": "stream",
          "name": "stderr",
          "text": [
            "/usr/local/lib/python3.7/dist-packages/sklearn/base.py:451: UserWarning:\n",
            "\n",
            "X does not have valid feature names, but LogisticRegression was fitted with feature names\n",
            "\n"
          ]
        }
      ]
    },
    {
      "cell_type": "markdown",
      "source": [
        "Check performance"
      ],
      "metadata": {
        "id": "49xyFDCYTjas"
      }
    },
    {
      "cell_type": "code",
      "source": [
        "explainers_list = [BST_explainer, LR_explainer, BST_deep_explainer, BST_deeper_explainer]\n",
        "for explainer in explainers_list:\n",
        "    display(explainer.model_performance())"
      ],
      "metadata": {
        "colab": {
          "base_uri": "https://localhost:8080/",
          "height": 272
        },
        "id": "9o0fe7iRTPnN",
        "outputId": "f849575d-2add-4d52-c691-d9a242d801c9"
      },
      "execution_count": 18,
      "outputs": [
        {
          "output_type": "display_data",
          "data": {
            "text/plain": [
              "<dalex.model_explanations._model_performance.object.ModelPerformance at 0x7f5a5a31c890>"
            ],
            "text/html": [
              "<div>\n",
              "<style scoped>\n",
              "    .dataframe tbody tr th:only-of-type {\n",
              "        vertical-align: middle;\n",
              "    }\n",
              "\n",
              "    .dataframe tbody tr th {\n",
              "        vertical-align: top;\n",
              "    }\n",
              "\n",
              "    .dataframe thead th {\n",
              "        text-align: right;\n",
              "    }\n",
              "</style>\n",
              "<table border=\"1\" class=\"dataframe\">\n",
              "  <thead>\n",
              "    <tr style=\"text-align: right;\">\n",
              "      <th></th>\n",
              "      <th>recall</th>\n",
              "      <th>precision</th>\n",
              "      <th>f1</th>\n",
              "      <th>accuracy</th>\n",
              "      <th>auc</th>\n",
              "    </tr>\n",
              "  </thead>\n",
              "  <tbody>\n",
              "    <tr>\n",
              "      <th>GBM</th>\n",
              "      <td>0.933333</td>\n",
              "      <td>0.905882</td>\n",
              "      <td>0.919403</td>\n",
              "      <td>0.910891</td>\n",
              "      <td>0.978788</td>\n",
              "    </tr>\n",
              "  </tbody>\n",
              "</table>\n",
              "</div>"
            ]
          },
          "metadata": {}
        },
        {
          "output_type": "display_data",
          "data": {
            "text/plain": [
              "<dalex.model_explanations._model_performance.object.ModelPerformance at 0x7f5a5a2b7e90>"
            ],
            "text/html": [
              "<div>\n",
              "<style scoped>\n",
              "    .dataframe tbody tr th:only-of-type {\n",
              "        vertical-align: middle;\n",
              "    }\n",
              "\n",
              "    .dataframe tbody tr th {\n",
              "        vertical-align: top;\n",
              "    }\n",
              "\n",
              "    .dataframe thead th {\n",
              "        text-align: right;\n",
              "    }\n",
              "</style>\n",
              "<table border=\"1\" class=\"dataframe\">\n",
              "  <thead>\n",
              "    <tr style=\"text-align: right;\">\n",
              "      <th></th>\n",
              "      <th>recall</th>\n",
              "      <th>precision</th>\n",
              "      <th>f1</th>\n",
              "      <th>accuracy</th>\n",
              "      <th>auc</th>\n",
              "    </tr>\n",
              "  </thead>\n",
              "  <tbody>\n",
              "    <tr>\n",
              "      <th>LR</th>\n",
              "      <td>0.915152</td>\n",
              "      <td>0.857955</td>\n",
              "      <td>0.88563</td>\n",
              "      <td>0.871287</td>\n",
              "      <td>0.928722</td>\n",
              "    </tr>\n",
              "  </tbody>\n",
              "</table>\n",
              "</div>"
            ]
          },
          "metadata": {}
        },
        {
          "output_type": "display_data",
          "data": {
            "text/plain": [
              "<dalex.model_explanations._model_performance.object.ModelPerformance at 0x7f5a5a30fa90>"
            ],
            "text/html": [
              "<div>\n",
              "<style scoped>\n",
              "    .dataframe tbody tr th:only-of-type {\n",
              "        vertical-align: middle;\n",
              "    }\n",
              "\n",
              "    .dataframe tbody tr th {\n",
              "        vertical-align: top;\n",
              "    }\n",
              "\n",
              "    .dataframe thead th {\n",
              "        text-align: right;\n",
              "    }\n",
              "</style>\n",
              "<table border=\"1\" class=\"dataframe\">\n",
              "  <thead>\n",
              "    <tr style=\"text-align: right;\">\n",
              "      <th></th>\n",
              "      <th>recall</th>\n",
              "      <th>precision</th>\n",
              "      <th>f1</th>\n",
              "      <th>accuracy</th>\n",
              "      <th>auc</th>\n",
              "    </tr>\n",
              "  </thead>\n",
              "  <tbody>\n",
              "    <tr>\n",
              "      <th>GBM_deep</th>\n",
              "      <td>0.963636</td>\n",
              "      <td>0.929825</td>\n",
              "      <td>0.946429</td>\n",
              "      <td>0.940594</td>\n",
              "      <td>0.989284</td>\n",
              "    </tr>\n",
              "  </tbody>\n",
              "</table>\n",
              "</div>"
            ]
          },
          "metadata": {}
        },
        {
          "output_type": "display_data",
          "data": {
            "text/plain": [
              "<dalex.model_explanations._model_performance.object.ModelPerformance at 0x7f5a5a30fa90>"
            ],
            "text/html": [
              "<div>\n",
              "<style scoped>\n",
              "    .dataframe tbody tr th:only-of-type {\n",
              "        vertical-align: middle;\n",
              "    }\n",
              "\n",
              "    .dataframe tbody tr th {\n",
              "        vertical-align: top;\n",
              "    }\n",
              "\n",
              "    .dataframe thead th {\n",
              "        text-align: right;\n",
              "    }\n",
              "</style>\n",
              "<table border=\"1\" class=\"dataframe\">\n",
              "  <thead>\n",
              "    <tr style=\"text-align: right;\">\n",
              "      <th></th>\n",
              "      <th>recall</th>\n",
              "      <th>precision</th>\n",
              "      <th>f1</th>\n",
              "      <th>accuracy</th>\n",
              "      <th>auc</th>\n",
              "    </tr>\n",
              "  </thead>\n",
              "  <tbody>\n",
              "    <tr>\n",
              "      <th>GBM_deeper</th>\n",
              "      <td>1.0</td>\n",
              "      <td>1.0</td>\n",
              "      <td>1.0</td>\n",
              "      <td>1.0</td>\n",
              "      <td>1.0</td>\n",
              "    </tr>\n",
              "  </tbody>\n",
              "</table>\n",
              "</div>"
            ]
          },
          "metadata": {}
        }
      ]
    },
    {
      "cell_type": "code",
      "source": [
        "for i, explainer in enumerate(explainers_list):\n",
        "    pvi = explainer.model_parts(random_state=SEED)\n",
        "    pvi.plot(show=False).update_layout(autosize=False, width=600, height=450, title=f'pvi{i}').show()"
      ],
      "metadata": {
        "colab": {
          "base_uri": "https://localhost:8080/",
          "height": 1000
        },
        "id": "vWl2NRJGUhNY",
        "outputId": "0077dcf4-9668-48e9-f270-32d1c9caa096"
      },
      "execution_count": 19,
      "outputs": [
        {
          "output_type": "display_data",
          "data": {
            "text/html": [
              "<html>\n",
              "<head><meta charset=\"utf-8\" /></head>\n",
              "<body>\n",
              "    <div>            <script src=\"https://cdnjs.cloudflare.com/ajax/libs/mathjax/2.7.5/MathJax.js?config=TeX-AMS-MML_SVG\"></script><script type=\"text/javascript\">if (window.MathJax) {MathJax.Hub.Config({SVG: {font: \"STIX-Web\"}});}</script>                <script type=\"text/javascript\">window.PlotlyConfig = {MathJaxConfig: 'local'};</script>\n",
              "        <script src=\"https://cdn.plot.ly/plotly-2.8.3.min.js\"></script>                <div id=\"7d1cb159-6938-448d-a3d9-7d8af3911669\" class=\"plotly-graph-div\" style=\"height:450px; width:600px;\"></div>            <script type=\"text/javascript\">                                    window.PLOTLYENV=window.PLOTLYENV || {};                                    if (document.getElementById(\"7d1cb159-6938-448d-a3d9-7d8af3911669\")) {                    Plotly.newPlot(                        \"7d1cb159-6938-448d-a3d9-7d8af3911669\",                        [{\"base\":0.021212121212121238,\"hoverinfo\":\"text\",\"hoverlabel\":{\"bgcolor\":\"rgba(0,0,0,0.8)\"},\"hovertext\":[\"Model: GBM loss after<br>variable: caa is permuted: 0.078<br>Drop-out loss change: +0.057\",\"Model: GBM loss after<br>variable: oldpeak is permuted: 0.045<br>Drop-out loss change: +0.024\",\"Model: GBM loss after<br>variable: cp_0 is permuted: 0.045<br>Drop-out loss change: +0.024\",\"Model: GBM loss after<br>variable: age is permuted: 0.038<br>Drop-out loss change: +0.017\",\"Model: GBM loss after<br>variable: sex is permuted: 0.036<br>Drop-out loss change: +0.015\",\"Model: GBM loss after<br>variable: chol is permuted: 0.031<br>Drop-out loss change: +0.01\",\"Model: GBM loss after<br>variable: thalachh is permuted: 0.03<br>Drop-out loss change: +0.009\",\"Model: GBM loss after<br>variable: thall_2 is permuted: 0.029<br>Drop-out loss change: +0.008\",\"Model: GBM loss after<br>variable: thall_3 is permuted: 0.027<br>Drop-out loss change: +0.005\",\"Model: GBM loss after<br>variable: exng is permuted: 0.025<br>Drop-out loss change: +0.004\"],\"marker\":{\"color\":\"#46bac2\"},\"orientation\":\"h\",\"showlegend\":false,\"text\":[\"+0.057\",\"+0.024\",\"+0.024\",\"+0.017\",\"+0.015\",\"+0.01\",\"+0.009\",\"+0.008\",\"+0.005\",\"+0.004\"],\"textposition\":\"outside\",\"x\":[0.05697848045674127,0.023768115942028968,0.023636363636363643,0.01650417215634599,0.01458058849363196,0.01022397891963104,0.009051383399209401,0.007755819060166858,0.00543258673693451,0.004216073781291196],\"y\":[\"caa\",\"oldpeak\",\"cp_0\",\"age\",\"sex\",\"chol\",\"thalachh\",\"thall_2\",\"thall_3\",\"exng\"],\"type\":\"bar\",\"xaxis\":\"x\",\"yaxis\":\"y\"}],                        {\"template\":{\"data\":{\"scatter\":[{\"type\":\"scatter\"}]}},\"xaxis\":{\"anchor\":\"y\",\"domain\":[0.0,1.0],\"type\":\"linear\",\"gridwidth\":2,\"zeroline\":false,\"automargin\":true,\"ticks\":\"outside\",\"tickcolor\":\"white\",\"ticklen\":3,\"fixedrange\":true,\"range\":[0.012435551163812043,0.08676734738691257]},\"yaxis\":{\"anchor\":\"x\",\"domain\":[0.0,1.0],\"type\":\"category\",\"autorange\":\"reversed\",\"gridwidth\":2,\"automargin\":true,\"ticks\":\"outside\",\"tickcolor\":\"white\",\"ticklen\":10,\"fixedrange\":true},\"annotations\":[{\"font\":{\"size\":16},\"showarrow\":false,\"text\":\"GBM\",\"x\":0.5,\"xanchor\":\"center\",\"xref\":\"paper\",\"y\":1.0,\"yanchor\":\"bottom\",\"yref\":\"paper\"},{\"font\":{\"size\":16},\"showarrow\":false,\"text\":\"drop-out loss\",\"x\":0.5,\"xanchor\":\"center\",\"xref\":\"paper\",\"y\":0,\"yanchor\":\"top\",\"yref\":\"paper\",\"yshift\":-30}],\"shapes\":[{\"line\":{\"color\":\"#371ea3\",\"dash\":\"dot\",\"width\":1.5},\"type\":\"line\",\"x0\":0.021212121212121238,\"x1\":0.021212121212121238,\"xref\":\"x\",\"y0\":-1,\"y1\":10,\"yref\":\"y\"}],\"title\":{\"text\":\"pvi0\"},\"font\":{\"color\":\"#371ea3\"},\"margin\":{\"t\":78,\"b\":71,\"r\":30},\"height\":450,\"autosize\":false,\"width\":600},                        {\"responsive\": true}                    ).then(function(){\n",
              "                            \n",
              "var gd = document.getElementById('7d1cb159-6938-448d-a3d9-7d8af3911669');\n",
              "var x = new MutationObserver(function (mutations, observer) {{\n",
              "        var display = window.getComputedStyle(gd).display;\n",
              "        if (!display || display === 'none') {{\n",
              "            console.log([gd, 'removed!']);\n",
              "            Plotly.purge(gd);\n",
              "            observer.disconnect();\n",
              "        }}\n",
              "}});\n",
              "\n",
              "// Listen for the removal of the full notebook cells\n",
              "var notebookContainer = gd.closest('#notebook-container');\n",
              "if (notebookContainer) {{\n",
              "    x.observe(notebookContainer, {childList: true});\n",
              "}}\n",
              "\n",
              "// Listen for the clearing of the current output cell\n",
              "var outputEl = gd.closest('.output');\n",
              "if (outputEl) {{\n",
              "    x.observe(outputEl, {childList: true});\n",
              "}}\n",
              "\n",
              "                        })                };                            </script>        </div>\n",
              "</body>\n",
              "</html>"
            ]
          },
          "metadata": {}
        },
        {
          "output_type": "display_data",
          "data": {
            "text/html": [
              "<html>\n",
              "<head><meta charset=\"utf-8\" /></head>\n",
              "<body>\n",
              "    <div>            <script src=\"https://cdnjs.cloudflare.com/ajax/libs/mathjax/2.7.5/MathJax.js?config=TeX-AMS-MML_SVG\"></script><script type=\"text/javascript\">if (window.MathJax) {MathJax.Hub.Config({SVG: {font: \"STIX-Web\"}});}</script>                <script type=\"text/javascript\">window.PlotlyConfig = {MathJaxConfig: 'local'};</script>\n",
              "        <script src=\"https://cdn.plot.ly/plotly-2.8.3.min.js\"></script>                <div id=\"24535021-b656-46d4-b38a-0eba435f5ce9\" class=\"plotly-graph-div\" style=\"height:450px; width:600px;\"></div>            <script type=\"text/javascript\">                                    window.PLOTLYENV=window.PLOTLYENV || {};                                    if (document.getElementById(\"24535021-b656-46d4-b38a-0eba435f5ce9\")) {                    Plotly.newPlot(                        \"24535021-b656-46d4-b38a-0eba435f5ce9\",                        [{\"base\":0.07127799736495388,\"hoverinfo\":\"text\",\"hoverlabel\":{\"bgcolor\":\"rgba(0,0,0,0.8)\"},\"hovertext\":[\"Model: LR loss after<br>variable: caa is permuted: 0.105<br>Drop-out loss change: +0.033\",\"Model: LR loss after<br>variable: thalachh is permuted: 0.09<br>Drop-out loss change: +0.018\",\"Model: LR loss after<br>variable: cp_0 is permuted: 0.087<br>Drop-out loss change: +0.015\",\"Model: LR loss after<br>variable: oldpeak is permuted: 0.084<br>Drop-out loss change: +0.012\",\"Model: LR loss after<br>variable: sex is permuted: 0.084<br>Drop-out loss change: +0.012\",\"Model: LR loss after<br>variable: cp_2 is permuted: 0.078<br>Drop-out loss change: +0.007\",\"Model: LR loss after<br>variable: exng is permuted: 0.078<br>Drop-out loss change: +0.006\",\"Model: LR loss after<br>variable: thall_2 is permuted: 0.078<br>Drop-out loss change: +0.006\",\"Model: LR loss after<br>variable: thall_3 is permuted: 0.077<br>Drop-out loss change: +0.006\",\"Model: LR loss after<br>variable: trtbps is permuted: 0.075<br>Drop-out loss change: +0.004\"],\"marker\":{\"color\":\"#46bac2\"},\"orientation\":\"h\",\"showlegend\":false,\"text\":[\"+0.033\",\"+0.018\",\"+0.015\",\"+0.012\",\"+0.012\",\"+0.007\",\"+0.006\",\"+0.006\",\"+0.006\",\"+0.004\"],\"textposition\":\"outside\",\"x\":[0.03346947738252082,0.018392621870882725,0.015292050944224825,0.012283706631532706,0.012248572683355247,0.0066359244620114305,0.006324110671936722,0.0062626262626262336,0.0060693895476504195,0.003996486605182273],\"y\":[\"caa\",\"thalachh\",\"cp_0\",\"oldpeak\",\"sex\",\"cp_2\",\"exng\",\"thall_2\",\"thall_3\",\"trtbps\"],\"type\":\"bar\",\"xaxis\":\"x\",\"yaxis\":\"y\"}],                        {\"template\":{\"data\":{\"scatter\":[{\"type\":\"scatter\"}]}},\"xaxis\":{\"anchor\":\"y\",\"domain\":[0.0,1.0],\"type\":\"linear\",\"gridwidth\":2,\"zeroline\":false,\"automargin\":true,\"ticks\":\"outside\",\"tickcolor\":\"white\",\"ticklen\":3,\"fixedrange\":true,\"range\":[0.065479797979798,0.10986934563021514]},\"yaxis\":{\"anchor\":\"x\",\"domain\":[0.0,1.0],\"type\":\"category\",\"autorange\":\"reversed\",\"gridwidth\":2,\"automargin\":true,\"ticks\":\"outside\",\"tickcolor\":\"white\",\"ticklen\":10,\"fixedrange\":true},\"annotations\":[{\"font\":{\"size\":16},\"showarrow\":false,\"text\":\"LR\",\"x\":0.5,\"xanchor\":\"center\",\"xref\":\"paper\",\"y\":1.0,\"yanchor\":\"bottom\",\"yref\":\"paper\"},{\"font\":{\"size\":16},\"showarrow\":false,\"text\":\"drop-out loss\",\"x\":0.5,\"xanchor\":\"center\",\"xref\":\"paper\",\"y\":0,\"yanchor\":\"top\",\"yref\":\"paper\",\"yshift\":-30}],\"shapes\":[{\"line\":{\"color\":\"#371ea3\",\"dash\":\"dot\",\"width\":1.5},\"type\":\"line\",\"x0\":0.07127799736495388,\"x1\":0.07127799736495388,\"xref\":\"x\",\"y0\":-1,\"y1\":10,\"yref\":\"y\"}],\"title\":{\"text\":\"pvi1\"},\"font\":{\"color\":\"#371ea3\"},\"margin\":{\"t\":78,\"b\":71,\"r\":30},\"height\":450,\"autosize\":false,\"width\":600},                        {\"responsive\": true}                    ).then(function(){\n",
              "                            \n",
              "var gd = document.getElementById('24535021-b656-46d4-b38a-0eba435f5ce9');\n",
              "var x = new MutationObserver(function (mutations, observer) {{\n",
              "        var display = window.getComputedStyle(gd).display;\n",
              "        if (!display || display === 'none') {{\n",
              "            console.log([gd, 'removed!']);\n",
              "            Plotly.purge(gd);\n",
              "            observer.disconnect();\n",
              "        }}\n",
              "}});\n",
              "\n",
              "// Listen for the removal of the full notebook cells\n",
              "var notebookContainer = gd.closest('#notebook-container');\n",
              "if (notebookContainer) {{\n",
              "    x.observe(notebookContainer, {childList: true});\n",
              "}}\n",
              "\n",
              "// Listen for the clearing of the current output cell\n",
              "var outputEl = gd.closest('.output');\n",
              "if (outputEl) {{\n",
              "    x.observe(outputEl, {childList: true});\n",
              "}}\n",
              "\n",
              "                        })                };                            </script>        </div>\n",
              "</body>\n",
              "</html>"
            ]
          },
          "metadata": {}
        },
        {
          "output_type": "display_data",
          "data": {
            "text/html": [
              "<html>\n",
              "<head><meta charset=\"utf-8\" /></head>\n",
              "<body>\n",
              "    <div>            <script src=\"https://cdnjs.cloudflare.com/ajax/libs/mathjax/2.7.5/MathJax.js?config=TeX-AMS-MML_SVG\"></script><script type=\"text/javascript\">if (window.MathJax) {MathJax.Hub.Config({SVG: {font: \"STIX-Web\"}});}</script>                <script type=\"text/javascript\">window.PlotlyConfig = {MathJaxConfig: 'local'};</script>\n",
              "        <script src=\"https://cdn.plot.ly/plotly-2.8.3.min.js\"></script>                <div id=\"ca1b7419-29e4-444d-961f-ccea57f190ed\" class=\"plotly-graph-div\" style=\"height:450px; width:600px;\"></div>            <script type=\"text/javascript\">                                    window.PLOTLYENV=window.PLOTLYENV || {};                                    if (document.getElementById(\"ca1b7419-29e4-444d-961f-ccea57f190ed\")) {                    Plotly.newPlot(                        \"ca1b7419-29e4-444d-961f-ccea57f190ed\",                        [{\"base\":0.010715854194115138,\"hoverinfo\":\"text\",\"hoverlabel\":{\"bgcolor\":\"rgba(0,0,0,0.8)\"},\"hovertext\":[\"Model: GBM_deep loss after<br>variable: caa is permuted: 0.074<br>Drop-out loss change: +0.063\",\"Model: GBM_deep loss after<br>variable: cp_0 is permuted: 0.053<br>Drop-out loss change: +0.043\",\"Model: GBM_deep loss after<br>variable: thall_2 is permuted: 0.034<br>Drop-out loss change: +0.024\",\"Model: GBM_deep loss after<br>variable: oldpeak is permuted: 0.033<br>Drop-out loss change: +0.023\",\"Model: GBM_deep loss after<br>variable: age is permuted: 0.031<br>Drop-out loss change: +0.02\",\"Model: GBM_deep loss after<br>variable: chol is permuted: 0.024<br>Drop-out loss change: +0.013\",\"Model: GBM_deep loss after<br>variable: sex is permuted: 0.022<br>Drop-out loss change: +0.012\",\"Model: GBM_deep loss after<br>variable: thalachh is permuted: 0.018<br>Drop-out loss change: +0.008\",\"Model: GBM_deep loss after<br>variable: thall_3 is permuted: 0.015<br>Drop-out loss change: +0.005\",\"Model: GBM_deep loss after<br>variable: slp_1 is permuted: 0.014<br>Drop-out loss change: +0.004\"],\"marker\":{\"color\":\"#46bac2\"},\"orientation\":\"h\",\"showlegend\":false,\"text\":[\"+0.063\",\"+0.043\",\"+0.024\",\"+0.023\",\"+0.02\",\"+0.013\",\"+0.012\",\"+0.008\",\"+0.005\",\"+0.004\"],\"textposition\":\"outside\",\"x\":[0.06325428194993407,0.04257136583223534,0.02366271409749663,0.022580149319279694,0.019978041282389013,0.012817303469477258,0.011756697408871242,0.0077624066754500495,0.004606938954764972,0.0036627140974966003],\"y\":[\"caa\",\"cp_0\",\"thall_2\",\"oldpeak\",\"age\",\"chol\",\"sex\",\"thalachh\",\"thall_3\",\"slp_1\"],\"type\":\"bar\",\"xaxis\":\"x\",\"yaxis\":\"y\"}],                        {\"template\":{\"data\":{\"scatter\":[{\"type\":\"scatter\"}]}},\"xaxis\":{\"anchor\":\"y\",\"domain\":[0.0,1.0],\"type\":\"linear\",\"gridwidth\":2,\"zeroline\":false,\"automargin\":true,\"ticks\":\"outside\",\"tickcolor\":\"white\",\"ticklen\":3,\"fixedrange\":true,\"range\":[0.0012277119016250275,0.08345827843653932]},\"yaxis\":{\"anchor\":\"x\",\"domain\":[0.0,1.0],\"type\":\"category\",\"autorange\":\"reversed\",\"gridwidth\":2,\"automargin\":true,\"ticks\":\"outside\",\"tickcolor\":\"white\",\"ticklen\":10,\"fixedrange\":true},\"annotations\":[{\"font\":{\"size\":16},\"showarrow\":false,\"text\":\"GBM_deep\",\"x\":0.5,\"xanchor\":\"center\",\"xref\":\"paper\",\"y\":1.0,\"yanchor\":\"bottom\",\"yref\":\"paper\"},{\"font\":{\"size\":16},\"showarrow\":false,\"text\":\"drop-out loss\",\"x\":0.5,\"xanchor\":\"center\",\"xref\":\"paper\",\"y\":0,\"yanchor\":\"top\",\"yref\":\"paper\",\"yshift\":-30}],\"shapes\":[{\"line\":{\"color\":\"#371ea3\",\"dash\":\"dot\",\"width\":1.5},\"type\":\"line\",\"x0\":0.010715854194115138,\"x1\":0.010715854194115138,\"xref\":\"x\",\"y0\":-1,\"y1\":10,\"yref\":\"y\"}],\"title\":{\"text\":\"pvi2\"},\"font\":{\"color\":\"#371ea3\"},\"margin\":{\"t\":78,\"b\":71,\"r\":30},\"height\":450,\"autosize\":false,\"width\":600},                        {\"responsive\": true}                    ).then(function(){\n",
              "                            \n",
              "var gd = document.getElementById('ca1b7419-29e4-444d-961f-ccea57f190ed');\n",
              "var x = new MutationObserver(function (mutations, observer) {{\n",
              "        var display = window.getComputedStyle(gd).display;\n",
              "        if (!display || display === 'none') {{\n",
              "            console.log([gd, 'removed!']);\n",
              "            Plotly.purge(gd);\n",
              "            observer.disconnect();\n",
              "        }}\n",
              "}});\n",
              "\n",
              "// Listen for the removal of the full notebook cells\n",
              "var notebookContainer = gd.closest('#notebook-container');\n",
              "if (notebookContainer) {{\n",
              "    x.observe(notebookContainer, {childList: true});\n",
              "}}\n",
              "\n",
              "// Listen for the clearing of the current output cell\n",
              "var outputEl = gd.closest('.output');\n",
              "if (outputEl) {{\n",
              "    x.observe(outputEl, {childList: true});\n",
              "}}\n",
              "\n",
              "                        })                };                            </script>        </div>\n",
              "</body>\n",
              "</html>"
            ]
          },
          "metadata": {}
        },
        {
          "output_type": "display_data",
          "data": {
            "text/html": [
              "<html>\n",
              "<head><meta charset=\"utf-8\" /></head>\n",
              "<body>\n",
              "    <div>            <script src=\"https://cdnjs.cloudflare.com/ajax/libs/mathjax/2.7.5/MathJax.js?config=TeX-AMS-MML_SVG\"></script><script type=\"text/javascript\">if (window.MathJax) {MathJax.Hub.Config({SVG: {font: \"STIX-Web\"}});}</script>                <script type=\"text/javascript\">window.PlotlyConfig = {MathJaxConfig: 'local'};</script>\n",
              "        <script src=\"https://cdn.plot.ly/plotly-2.8.3.min.js\"></script>                <div id=\"f9e1cf3e-fc4d-45ff-b0af-280d4aae4b71\" class=\"plotly-graph-div\" style=\"height:450px; width:600px;\"></div>            <script type=\"text/javascript\">                                    window.PLOTLYENV=window.PLOTLYENV || {};                                    if (document.getElementById(\"f9e1cf3e-fc4d-45ff-b0af-280d4aae4b71\")) {                    Plotly.newPlot(                        \"f9e1cf3e-fc4d-45ff-b0af-280d4aae4b71\",                        [{\"base\":0.0,\"hoverinfo\":\"text\",\"hoverlabel\":{\"bgcolor\":\"rgba(0,0,0,0.8)\"},\"hovertext\":[\"Model: GBM_deeper loss after<br>variable: caa is permuted: 0.05<br>Drop-out loss change: +0.05\",\"Model: GBM_deeper loss after<br>variable: cp_0 is permuted: 0.02<br>Drop-out loss change: +0.02\",\"Model: GBM_deeper loss after<br>variable: age is permuted: 0.011<br>Drop-out loss change: +0.011\",\"Model: GBM_deeper loss after<br>variable: oldpeak is permuted: 0.007<br>Drop-out loss change: +0.007\",\"Model: GBM_deeper loss after<br>variable: thall_2 is permuted: 0.006<br>Drop-out loss change: +0.006\",\"Model: GBM_deeper loss after<br>variable: chol is permuted: 0.006<br>Drop-out loss change: +0.006\",\"Model: GBM_deeper loss after<br>variable: sex is permuted: 0.005<br>Drop-out loss change: +0.005\",\"Model: GBM_deeper loss after<br>variable: thalachh is permuted: 0.002<br>Drop-out loss change: +0.002\",\"Model: GBM_deeper loss after<br>variable: slp_1 is permuted: 0.001<br>Drop-out loss change: +0.001\",\"Model: GBM_deeper loss after<br>variable: trtbps is permuted: 0.0<br>Drop-out loss change: +0.0\"],\"marker\":{\"color\":\"#46bac2\"},\"orientation\":\"h\",\"showlegend\":false,\"text\":[\"+0.05\",\"+0.02\",\"+0.011\",\"+0.007\",\"+0.006\",\"+0.006\",\"+0.005\",\"+0.002\",\"+0.001\",\"+0.0\"],\"textposition\":\"outside\",\"x\":[0.05030742204655251,0.0199560825647782,0.011229688186209941,0.007277119016249445,0.006407553798858134,0.005546772068511186,0.004707949055775174,0.002406675450153728,0.0006280193236714915,0.00047870004391744605],\"y\":[\"caa\",\"cp_0\",\"age\",\"oldpeak\",\"thall_2\",\"chol\",\"sex\",\"thalachh\",\"slp_1\",\"trtbps\"],\"type\":\"bar\",\"xaxis\":\"x\",\"yaxis\":\"y\"}],                        {\"template\":{\"data\":{\"scatter\":[{\"type\":\"scatter\"}]}},\"xaxis\":{\"anchor\":\"y\",\"domain\":[0.0,1.0],\"type\":\"linear\",\"gridwidth\":2,\"zeroline\":false,\"automargin\":true,\"ticks\":\"outside\",\"tickcolor\":\"white\",\"ticklen\":3,\"fixedrange\":true,\"range\":[-0.007546113306982876,0.057853535353535386]},\"yaxis\":{\"anchor\":\"x\",\"domain\":[0.0,1.0],\"type\":\"category\",\"autorange\":\"reversed\",\"gridwidth\":2,\"automargin\":true,\"ticks\":\"outside\",\"tickcolor\":\"white\",\"ticklen\":10,\"fixedrange\":true},\"annotations\":[{\"font\":{\"size\":16},\"showarrow\":false,\"text\":\"GBM_deeper\",\"x\":0.5,\"xanchor\":\"center\",\"xref\":\"paper\",\"y\":1.0,\"yanchor\":\"bottom\",\"yref\":\"paper\"},{\"font\":{\"size\":16},\"showarrow\":false,\"text\":\"drop-out loss\",\"x\":0.5,\"xanchor\":\"center\",\"xref\":\"paper\",\"y\":0,\"yanchor\":\"top\",\"yref\":\"paper\",\"yshift\":-30}],\"shapes\":[{\"line\":{\"color\":\"#371ea3\",\"dash\":\"dot\",\"width\":1.5},\"type\":\"line\",\"x0\":0.0,\"x1\":0.0,\"xref\":\"x\",\"y0\":-1,\"y1\":10,\"yref\":\"y\"}],\"title\":{\"text\":\"pvi3\"},\"font\":{\"color\":\"#371ea3\"},\"margin\":{\"t\":78,\"b\":71,\"r\":30},\"height\":450,\"autosize\":false,\"width\":600},                        {\"responsive\": true}                    ).then(function(){\n",
              "                            \n",
              "var gd = document.getElementById('f9e1cf3e-fc4d-45ff-b0af-280d4aae4b71');\n",
              "var x = new MutationObserver(function (mutations, observer) {{\n",
              "        var display = window.getComputedStyle(gd).display;\n",
              "        if (!display || display === 'none') {{\n",
              "            console.log([gd, 'removed!']);\n",
              "            Plotly.purge(gd);\n",
              "            observer.disconnect();\n",
              "        }}\n",
              "}});\n",
              "\n",
              "// Listen for the removal of the full notebook cells\n",
              "var notebookContainer = gd.closest('#notebook-container');\n",
              "if (notebookContainer) {{\n",
              "    x.observe(notebookContainer, {childList: true});\n",
              "}}\n",
              "\n",
              "// Listen for the clearing of the current output cell\n",
              "var outputEl = gd.closest('.output');\n",
              "if (outputEl) {{\n",
              "    x.observe(outputEl, {childList: true});\n",
              "}}\n",
              "\n",
              "                        })                };                            </script>        </div>\n",
              "</body>\n",
              "</html>"
            ]
          },
          "metadata": {}
        }
      ]
    },
    {
      "cell_type": "markdown",
      "source": [
        "## Gini impurity"
      ],
      "metadata": {
        "id": "oUOkt37eDgXu"
      }
    },
    {
      "cell_type": "code",
      "source": [
        "BST_model.feature_importances_"
      ],
      "metadata": {
        "colab": {
          "base_uri": "https://localhost:8080/"
        },
        "id": "L5EBj5nSaRx-",
        "outputId": "8c97fe59-2894-4a1e-df5e-8799b38a768a"
      },
      "execution_count": 20,
      "outputs": [
        {
          "output_type": "execute_result",
          "data": {
            "text/plain": [
              "array([0.02491782, 0.02366763, 0.01549127, 0.02339969, 0.01152322,\n",
              "       0.01995402, 0.0617747 , 0.03930507, 0.06111274, 0.1469555 ,\n",
              "       0.        , 0.01667771, 0.        , 0.03268454, 0.02739064,\n",
              "       0.        , 0.00513185, 0.04189407, 0.06097987, 0.        ,\n",
              "       0.01269084, 0.34154585, 0.03290296], dtype=float32)"
            ]
          },
          "metadata": {},
          "execution_count": 20
        }
      ]
    },
    {
      "cell_type": "code",
      "source": [
        "pd.DataFrame({'variable': X.columns, 'importance': BST_model.feature_importances_})"
      ],
      "metadata": {
        "colab": {
          "base_uri": "https://localhost:8080/",
          "height": 771
        },
        "id": "6fGtebTCaYrX",
        "outputId": "091f7fa9-3673-4a02-8166-fc599523c70b"
      },
      "execution_count": 21,
      "outputs": [
        {
          "output_type": "execute_result",
          "data": {
            "text/plain": [
              "     variable  importance\n",
              "0         age    0.024918\n",
              "1         sex    0.023668\n",
              "2      trtbps    0.015491\n",
              "3        chol    0.023400\n",
              "4         fbs    0.011523\n",
              "5    thalachh    0.019954\n",
              "6        exng    0.061775\n",
              "7     oldpeak    0.039305\n",
              "8         caa    0.061113\n",
              "9        cp_0    0.146956\n",
              "10       cp_1    0.000000\n",
              "11       cp_2    0.016678\n",
              "12       cp_3    0.000000\n",
              "13  restecg_0    0.032685\n",
              "14  restecg_1    0.027391\n",
              "15  restecg_2    0.000000\n",
              "16      slp_0    0.005132\n",
              "17      slp_1    0.041894\n",
              "18      slp_2    0.060980\n",
              "19    thall_0    0.000000\n",
              "20    thall_1    0.012691\n",
              "21    thall_2    0.341546\n",
              "22    thall_3    0.032903"
            ],
            "text/html": [
              "\n",
              "  <div id=\"df-b4bf8190-d525-4a2c-998a-b5054d274777\">\n",
              "    <div class=\"colab-df-container\">\n",
              "      <div>\n",
              "<style scoped>\n",
              "    .dataframe tbody tr th:only-of-type {\n",
              "        vertical-align: middle;\n",
              "    }\n",
              "\n",
              "    .dataframe tbody tr th {\n",
              "        vertical-align: top;\n",
              "    }\n",
              "\n",
              "    .dataframe thead th {\n",
              "        text-align: right;\n",
              "    }\n",
              "</style>\n",
              "<table border=\"1\" class=\"dataframe\">\n",
              "  <thead>\n",
              "    <tr style=\"text-align: right;\">\n",
              "      <th></th>\n",
              "      <th>variable</th>\n",
              "      <th>importance</th>\n",
              "    </tr>\n",
              "  </thead>\n",
              "  <tbody>\n",
              "    <tr>\n",
              "      <th>0</th>\n",
              "      <td>age</td>\n",
              "      <td>0.024918</td>\n",
              "    </tr>\n",
              "    <tr>\n",
              "      <th>1</th>\n",
              "      <td>sex</td>\n",
              "      <td>0.023668</td>\n",
              "    </tr>\n",
              "    <tr>\n",
              "      <th>2</th>\n",
              "      <td>trtbps</td>\n",
              "      <td>0.015491</td>\n",
              "    </tr>\n",
              "    <tr>\n",
              "      <th>3</th>\n",
              "      <td>chol</td>\n",
              "      <td>0.023400</td>\n",
              "    </tr>\n",
              "    <tr>\n",
              "      <th>4</th>\n",
              "      <td>fbs</td>\n",
              "      <td>0.011523</td>\n",
              "    </tr>\n",
              "    <tr>\n",
              "      <th>5</th>\n",
              "      <td>thalachh</td>\n",
              "      <td>0.019954</td>\n",
              "    </tr>\n",
              "    <tr>\n",
              "      <th>6</th>\n",
              "      <td>exng</td>\n",
              "      <td>0.061775</td>\n",
              "    </tr>\n",
              "    <tr>\n",
              "      <th>7</th>\n",
              "      <td>oldpeak</td>\n",
              "      <td>0.039305</td>\n",
              "    </tr>\n",
              "    <tr>\n",
              "      <th>8</th>\n",
              "      <td>caa</td>\n",
              "      <td>0.061113</td>\n",
              "    </tr>\n",
              "    <tr>\n",
              "      <th>9</th>\n",
              "      <td>cp_0</td>\n",
              "      <td>0.146956</td>\n",
              "    </tr>\n",
              "    <tr>\n",
              "      <th>10</th>\n",
              "      <td>cp_1</td>\n",
              "      <td>0.000000</td>\n",
              "    </tr>\n",
              "    <tr>\n",
              "      <th>11</th>\n",
              "      <td>cp_2</td>\n",
              "      <td>0.016678</td>\n",
              "    </tr>\n",
              "    <tr>\n",
              "      <th>12</th>\n",
              "      <td>cp_3</td>\n",
              "      <td>0.000000</td>\n",
              "    </tr>\n",
              "    <tr>\n",
              "      <th>13</th>\n",
              "      <td>restecg_0</td>\n",
              "      <td>0.032685</td>\n",
              "    </tr>\n",
              "    <tr>\n",
              "      <th>14</th>\n",
              "      <td>restecg_1</td>\n",
              "      <td>0.027391</td>\n",
              "    </tr>\n",
              "    <tr>\n",
              "      <th>15</th>\n",
              "      <td>restecg_2</td>\n",
              "      <td>0.000000</td>\n",
              "    </tr>\n",
              "    <tr>\n",
              "      <th>16</th>\n",
              "      <td>slp_0</td>\n",
              "      <td>0.005132</td>\n",
              "    </tr>\n",
              "    <tr>\n",
              "      <th>17</th>\n",
              "      <td>slp_1</td>\n",
              "      <td>0.041894</td>\n",
              "    </tr>\n",
              "    <tr>\n",
              "      <th>18</th>\n",
              "      <td>slp_2</td>\n",
              "      <td>0.060980</td>\n",
              "    </tr>\n",
              "    <tr>\n",
              "      <th>19</th>\n",
              "      <td>thall_0</td>\n",
              "      <td>0.000000</td>\n",
              "    </tr>\n",
              "    <tr>\n",
              "      <th>20</th>\n",
              "      <td>thall_1</td>\n",
              "      <td>0.012691</td>\n",
              "    </tr>\n",
              "    <tr>\n",
              "      <th>21</th>\n",
              "      <td>thall_2</td>\n",
              "      <td>0.341546</td>\n",
              "    </tr>\n",
              "    <tr>\n",
              "      <th>22</th>\n",
              "      <td>thall_3</td>\n",
              "      <td>0.032903</td>\n",
              "    </tr>\n",
              "  </tbody>\n",
              "</table>\n",
              "</div>\n",
              "      <button class=\"colab-df-convert\" onclick=\"convertToInteractive('df-b4bf8190-d525-4a2c-998a-b5054d274777')\"\n",
              "              title=\"Convert this dataframe to an interactive table.\"\n",
              "              style=\"display:none;\">\n",
              "        \n",
              "  <svg xmlns=\"http://www.w3.org/2000/svg\" height=\"24px\"viewBox=\"0 0 24 24\"\n",
              "       width=\"24px\">\n",
              "    <path d=\"M0 0h24v24H0V0z\" fill=\"none\"/>\n",
              "    <path d=\"M18.56 5.44l.94 2.06.94-2.06 2.06-.94-2.06-.94-.94-2.06-.94 2.06-2.06.94zm-11 1L8.5 8.5l.94-2.06 2.06-.94-2.06-.94L8.5 2.5l-.94 2.06-2.06.94zm10 10l.94 2.06.94-2.06 2.06-.94-2.06-.94-.94-2.06-.94 2.06-2.06.94z\"/><path d=\"M17.41 7.96l-1.37-1.37c-.4-.4-.92-.59-1.43-.59-.52 0-1.04.2-1.43.59L10.3 9.45l-7.72 7.72c-.78.78-.78 2.05 0 2.83L4 21.41c.39.39.9.59 1.41.59.51 0 1.02-.2 1.41-.59l7.78-7.78 2.81-2.81c.8-.78.8-2.07 0-2.86zM5.41 20L4 18.59l7.72-7.72 1.47 1.35L5.41 20z\"/>\n",
              "  </svg>\n",
              "      </button>\n",
              "      \n",
              "  <style>\n",
              "    .colab-df-container {\n",
              "      display:flex;\n",
              "      flex-wrap:wrap;\n",
              "      gap: 12px;\n",
              "    }\n",
              "\n",
              "    .colab-df-convert {\n",
              "      background-color: #E8F0FE;\n",
              "      border: none;\n",
              "      border-radius: 50%;\n",
              "      cursor: pointer;\n",
              "      display: none;\n",
              "      fill: #1967D2;\n",
              "      height: 32px;\n",
              "      padding: 0 0 0 0;\n",
              "      width: 32px;\n",
              "    }\n",
              "\n",
              "    .colab-df-convert:hover {\n",
              "      background-color: #E2EBFA;\n",
              "      box-shadow: 0px 1px 2px rgba(60, 64, 67, 0.3), 0px 1px 3px 1px rgba(60, 64, 67, 0.15);\n",
              "      fill: #174EA6;\n",
              "    }\n",
              "\n",
              "    [theme=dark] .colab-df-convert {\n",
              "      background-color: #3B4455;\n",
              "      fill: #D2E3FC;\n",
              "    }\n",
              "\n",
              "    [theme=dark] .colab-df-convert:hover {\n",
              "      background-color: #434B5C;\n",
              "      box-shadow: 0px 1px 3px 1px rgba(0, 0, 0, 0.15);\n",
              "      filter: drop-shadow(0px 1px 2px rgba(0, 0, 0, 0.3));\n",
              "      fill: #FFFFFF;\n",
              "    }\n",
              "  </style>\n",
              "\n",
              "      <script>\n",
              "        const buttonEl =\n",
              "          document.querySelector('#df-b4bf8190-d525-4a2c-998a-b5054d274777 button.colab-df-convert');\n",
              "        buttonEl.style.display =\n",
              "          google.colab.kernel.accessAllowed ? 'block' : 'none';\n",
              "\n",
              "        async function convertToInteractive(key) {\n",
              "          const element = document.querySelector('#df-b4bf8190-d525-4a2c-998a-b5054d274777');\n",
              "          const dataTable =\n",
              "            await google.colab.kernel.invokeFunction('convertToInteractive',\n",
              "                                                     [key], {});\n",
              "          if (!dataTable) return;\n",
              "\n",
              "          const docLinkHtml = 'Like what you see? Visit the ' +\n",
              "            '<a target=\"_blank\" href=https://colab.research.google.com/notebooks/data_table.ipynb>data table notebook</a>'\n",
              "            + ' to learn more about interactive tables.';\n",
              "          element.innerHTML = '';\n",
              "          dataTable['output_type'] = 'display_data';\n",
              "          await google.colab.output.renderOutput(dataTable, element);\n",
              "          const docLink = document.createElement('div');\n",
              "          docLink.innerHTML = docLinkHtml;\n",
              "          element.appendChild(docLink);\n",
              "        }\n",
              "      </script>\n",
              "    </div>\n",
              "  </div>\n",
              "  "
            ]
          },
          "metadata": {},
          "execution_count": 21
        }
      ]
    },
    {
      "cell_type": "code",
      "source": [
        "import matplotlib.pyplot as plt\n",
        "plt.figure(figsize=(22, 5), dpi=150)\n",
        "plt.bar(X.columns, BST_model.feature_importances_)\n",
        "plt.title(\"Gini-based Variable Importance\")\n",
        "plt.show()"
      ],
      "metadata": {
        "colab": {
          "base_uri": "https://localhost:8080/",
          "height": 281
        },
        "id": "naAzoZp7S5fG",
        "outputId": "209096ff-6859-4add-a192-60c86f5a24b4"
      },
      "execution_count": 22,
      "outputs": [
        {
          "output_type": "display_data",
          "data": {
            "text/plain": [
              "<Figure size 3300x750 with 1 Axes>"
            ],
            "image/png": "[encoded data removed]"
          },
          "metadata": {
            "needs_background": "light"
          }
        }
      ]
    },
    {
      "cell_type": "markdown",
      "source": [
        "## ThreeSHAP"
      ],
      "metadata": {
        "id": "LRr18z89Fosn"
      }
    },
    {
      "cell_type": "code",
      "source": [
        "BST_explainer = dx.Explainer(BST_model, X, y, predict_function=pf_xgboost_classifier_default, label=\"GBM\")\n",
        "shap_vi = BST_explainer.model_parts(type=\"shap_wrapper\", shap_explainer_type=\"TreeExplainer\", random_state=SEED)\n",
        "shap_vi.plot()"
      ],
      "metadata": {
        "colab": {
          "base_uri": "https://localhost:8080/",
          "height": 623
        },
        "id": "LKNdCSA7Zb5j",
        "outputId": "f718cf68-45e1-4be1-9e57-d02e93e99d75"
      },
      "execution_count": 27,
      "outputs": [
        {
          "output_type": "stream",
          "name": "stdout",
          "text": [
            "Preparation of a new explainer is initiated\n",
            "\n",
            "  -> data              : 303 rows 23 cols\n",
            "  -> target variable   : Parameter 'y' was a pandas.Series. Converted to a numpy.ndarray.\n",
            "  -> target variable   : 303 values\n",
            "  -> model_class       : xgboost.sklearn.XGBClassifier (default)\n",
            "  -> label             : GBM\n",
            "  -> predict function  : <function <lambda> at 0x7f5a5a7f43b0> will be used\n",
            "  -> predict function  : Accepts only pandas.DataFrame, numpy.ndarray causes problems.\n",
            "  -> predicted values  : min = 0.00365, mean = 0.544, max = 0.995\n",
            "  -> model type        : classification will be used (default)\n",
            "  -> residual function : difference between y and yhat (default)\n",
            "  -> residuals         : min = -0.929, mean = 0.000168, max = 0.836\n",
            "  -> model_info        : package xgboost\n",
            "\n",
            "A new explainer has been created!\n"
          ]
        },
        {
          "output_type": "error",
          "ename": "TypeError",
          "evalue": "ignored",
          "traceback": [
            "\u001b[0;31m---------------------------------------------------------------------------\u001b[0m",
            "\u001b[0;31mTypeError\u001b[0m                                 Traceback (most recent call last)",
            "\u001b[0;32m<ipython-input-27-6dea2254fb74>\u001b[0m in \u001b[0;36m<module>\u001b[0;34m\u001b[0m\n\u001b[1;32m      1\u001b[0m \u001b[0mBST_explainer\u001b[0m \u001b[0;34m=\u001b[0m \u001b[0mdx\u001b[0m\u001b[0;34m.\u001b[0m\u001b[0mExplainer\u001b[0m\u001b[0;34m(\u001b[0m\u001b[0mBST_model\u001b[0m\u001b[0;34m,\u001b[0m \u001b[0mX\u001b[0m\u001b[0;34m,\u001b[0m \u001b[0my\u001b[0m\u001b[0;34m,\u001b[0m \u001b[0mpredict_function\u001b[0m\u001b[0;34m=\u001b[0m\u001b[0mpf_xgboost_classifier_default\u001b[0m\u001b[0;34m,\u001b[0m \u001b[0mlabel\u001b[0m\u001b[0;34m=\u001b[0m\u001b[0;34m\"GBM\"\u001b[0m\u001b[0;34m)\u001b[0m\u001b[0;34m\u001b[0m\u001b[0;34m\u001b[0m\u001b[0m\n\u001b[0;32m----> 2\u001b[0;31m \u001b[0mshap_vi\u001b[0m \u001b[0;34m=\u001b[0m \u001b[0mBST_explainer\u001b[0m\u001b[0;34m.\u001b[0m\u001b[0mmodel_parts\u001b[0m\u001b[0;34m(\u001b[0m\u001b[0mtype\u001b[0m\u001b[0;34m=\u001b[0m\u001b[0;34m\"shap_wrapper\"\u001b[0m\u001b[0;34m,\u001b[0m \u001b[0mshap_explainer_type\u001b[0m\u001b[0;34m=\u001b[0m\u001b[0;34m\"TreeExplainer\"\u001b[0m\u001b[0;34m,\u001b[0m \u001b[0mrandom_state\u001b[0m\u001b[0;34m=\u001b[0m\u001b[0mSEED\u001b[0m\u001b[0;34m)\u001b[0m\u001b[0;34m\u001b[0m\u001b[0;34m\u001b[0m\u001b[0m\n\u001b[0m\u001b[1;32m      3\u001b[0m \u001b[0mshap_vi\u001b[0m\u001b[0;34m.\u001b[0m\u001b[0mplot\u001b[0m\u001b[0;34m(\u001b[0m\u001b[0;34m)\u001b[0m\u001b[0;34m\u001b[0m\u001b[0;34m\u001b[0m\u001b[0m\n",
            "\u001b[0;32m/usr/local/lib/python3.7/dist-packages/dalex/_explainer/object.py\u001b[0m in \u001b[0;36mmodel_parts\u001b[0;34m(self, loss_function, type, N, B, variables, variable_groups, keep_raw_permutations, label, processes, random_state, **kwargs)\u001b[0m\n\u001b[1;32m    602\u001b[0m                 \u001b[0m_new_observation\u001b[0m \u001b[0;34m=\u001b[0m \u001b[0mself\u001b[0m\u001b[0;34m.\u001b[0m\u001b[0mdata\u001b[0m\u001b[0;34m\u001b[0m\u001b[0;34m\u001b[0m\u001b[0m\n\u001b[1;32m    603\u001b[0m \u001b[0;34m\u001b[0m\u001b[0m\n\u001b[0;32m--> 604\u001b[0;31m             \u001b[0m_model_parts\u001b[0m\u001b[0;34m.\u001b[0m\u001b[0mfit\u001b[0m\u001b[0;34m(\u001b[0m\u001b[0mself\u001b[0m\u001b[0;34m,\u001b[0m \u001b[0m_new_observation\u001b[0m\u001b[0;34m,\u001b[0m \u001b[0;34m**\u001b[0m\u001b[0mkwargs\u001b[0m\u001b[0;34m)\u001b[0m\u001b[0;34m\u001b[0m\u001b[0;34m\u001b[0m\u001b[0m\n\u001b[0m\u001b[1;32m    605\u001b[0m         \u001b[0;32melse\u001b[0m\u001b[0;34m:\u001b[0m\u001b[0;34m\u001b[0m\u001b[0;34m\u001b[0m\u001b[0m\n\u001b[1;32m    606\u001b[0m             \u001b[0;32mraise\u001b[0m \u001b[0mTypeError\u001b[0m\u001b[0;34m(\u001b[0m\u001b[0;34m\"Wrong type parameter\"\u001b[0m\u001b[0;34m)\u001b[0m\u001b[0;34m;\u001b[0m\u001b[0;34m\u001b[0m\u001b[0;34m\u001b[0m\u001b[0m\n",
            "\u001b[0;32m/usr/local/lib/python3.7/dist-packages/dalex/wrappers/_shap/object.py\u001b[0m in \u001b[0;36mfit\u001b[0;34m(self, explainer, new_observation, shap_explainer_type, **kwargs)\u001b[0m\n\u001b[1;32m     69\u001b[0m         \u001b[0;32mfrom\u001b[0m \u001b[0mshap\u001b[0m \u001b[0;32mimport\u001b[0m \u001b[0mTreeExplainer\u001b[0m\u001b[0;34m,\u001b[0m \u001b[0mDeepExplainer\u001b[0m\u001b[0;34m,\u001b[0m \u001b[0mGradientExplainer\u001b[0m\u001b[0;34m,\u001b[0m \u001b[0mLinearExplainer\u001b[0m\u001b[0;34m,\u001b[0m \u001b[0mKernelExplainer\u001b[0m\u001b[0;34m\u001b[0m\u001b[0;34m\u001b[0m\u001b[0m\n\u001b[1;32m     70\u001b[0m \u001b[0;34m\u001b[0m\u001b[0m\n\u001b[0;32m---> 71\u001b[0;31m         \u001b[0mchecks\u001b[0m\u001b[0;34m.\u001b[0m\u001b[0mcheck_compatibility\u001b[0m\u001b[0;34m(\u001b[0m\u001b[0mexplainer\u001b[0m\u001b[0;34m)\u001b[0m\u001b[0;34m\u001b[0m\u001b[0;34m\u001b[0m\u001b[0m\n\u001b[0m\u001b[1;32m     72\u001b[0m         \u001b[0mshap_explainer_type\u001b[0m \u001b[0;34m=\u001b[0m \u001b[0mchecks\u001b[0m\u001b[0;34m.\u001b[0m\u001b[0mcheck_shap_explainer_type\u001b[0m\u001b[0;34m(\u001b[0m\u001b[0mshap_explainer_type\u001b[0m\u001b[0;34m,\u001b[0m \u001b[0mexplainer\u001b[0m\u001b[0;34m.\u001b[0m\u001b[0mmodel\u001b[0m\u001b[0;34m)\u001b[0m\u001b[0;34m\u001b[0m\u001b[0;34m\u001b[0m\u001b[0m\n\u001b[1;32m     73\u001b[0m \u001b[0;34m\u001b[0m\u001b[0m\n",
            "\u001b[0;32m/usr/local/lib/python3.7/dist-packages/dalex/wrappers/_shap/checks.py\u001b[0m in \u001b[0;36mcheck_compatibility\u001b[0;34m(explainer)\u001b[0m\n\u001b[1;32m     46\u001b[0m     \u001b[0;32mif\u001b[0m \u001b[0;34m'arrays_accepted'\u001b[0m \u001b[0;32min\u001b[0m \u001b[0mexplainer\u001b[0m\u001b[0;34m.\u001b[0m\u001b[0mmodel_info\u001b[0m\u001b[0;34m:\u001b[0m\u001b[0;34m\u001b[0m\u001b[0;34m\u001b[0m\u001b[0m\n\u001b[1;32m     47\u001b[0m         \u001b[0;32mif\u001b[0m \u001b[0;32mnot\u001b[0m \u001b[0mexplainer\u001b[0m\u001b[0;34m.\u001b[0m\u001b[0mmodel_info\u001b[0m\u001b[0;34m[\u001b[0m\u001b[0;34m'arrays_accepted'\u001b[0m\u001b[0;34m]\u001b[0m\u001b[0;34m:\u001b[0m\u001b[0;34m\u001b[0m\u001b[0;34m\u001b[0m\u001b[0m\n\u001b[0;32m---> 48\u001b[0;31m             \u001b[0;32mraise\u001b[0m \u001b[0mTypeError\u001b[0m\u001b[0;34m(\u001b[0m\u001b[0;34m\"'predict_function' not compatible with the 'shap' package\"\u001b[0m\u001b[0;34m)\u001b[0m\u001b[0;34m\u001b[0m\u001b[0;34m\u001b[0m\u001b[0m\n\u001b[0m\u001b[1;32m     49\u001b[0m     \u001b[0;32melse\u001b[0m\u001b[0;34m:\u001b[0m\u001b[0;34m\u001b[0m\u001b[0;34m\u001b[0m\u001b[0m\n\u001b[1;32m     50\u001b[0m         \u001b[0;31m# data was None but now is available\u001b[0m\u001b[0;34m\u001b[0m\u001b[0;34m\u001b[0m\u001b[0;34m\u001b[0m\u001b[0m\n",
            "\u001b[0;31mTypeError\u001b[0m: 'predict_function' not compatible with the 'shap' package"
          ]
        }
      ]
    },
    {
      "cell_type": "markdown",
      "source": [
        "---\n",
        "---"
      ],
      "metadata": {
        "id": "zbdgXaW2LUYH"
      }
    }
  ]
}