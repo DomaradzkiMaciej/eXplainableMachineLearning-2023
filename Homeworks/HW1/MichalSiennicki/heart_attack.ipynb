{
 "cells": [
  {
   "cell_type": "code",
   "execution_count": 1,
   "metadata": {
    "collapsed": true,
    "pycharm": {
     "name": "#%%\n"
    }
   },
   "outputs": [],
   "source": [
    "import pandas as pd\n",
    "from sklearn.ensemble import RandomForestClassifier\n",
    "from sklearn.gaussian_process import GaussianProcessClassifier\n",
    "from sklearn.linear_model import LogisticRegression\n",
    "from sklearn.model_selection import train_test_split\n",
    "from sklearn.neighbors import KNeighborsClassifier\n",
    "from sklearn.svm import SVC"
   ]
  },
  {
   "cell_type": "code",
   "execution_count": 2,
   "outputs": [
    {
     "data": {
      "text/plain": "              age         sex          cp      trtbps        chol         fbs  \\\ncount  303.000000  303.000000  303.000000  303.000000  303.000000  303.000000   \nmean    54.366337    0.683168    0.966997  131.623762  246.264026    0.148515   \nstd      9.082101    0.466011    1.032052   17.538143   51.830751    0.356198   \nmin     29.000000    0.000000    0.000000   94.000000  126.000000    0.000000   \n25%     47.500000    0.000000    0.000000  120.000000  211.000000    0.000000   \n50%     55.000000    1.000000    1.000000  130.000000  240.000000    0.000000   \n75%     61.000000    1.000000    2.000000  140.000000  274.500000    0.000000   \nmax     77.000000    1.000000    3.000000  200.000000  564.000000    1.000000   \n\n          restecg    thalachh        exng     oldpeak         slp         caa  \\\ncount  303.000000  303.000000  303.000000  303.000000  303.000000  303.000000   \nmean     0.528053  149.646865    0.326733    1.039604    1.399340    0.729373   \nstd      0.525860   22.905161    0.469794    1.161075    0.616226    1.022606   \nmin      0.000000   71.000000    0.000000    0.000000    0.000000    0.000000   \n25%      0.000000  133.500000    0.000000    0.000000    1.000000    0.000000   \n50%      1.000000  153.000000    0.000000    0.800000    1.000000    0.000000   \n75%      1.000000  166.000000    1.000000    1.600000    2.000000    1.000000   \nmax      2.000000  202.000000    1.000000    6.200000    2.000000    4.000000   \n\n            thall      output  \ncount  303.000000  303.000000  \nmean     2.313531    0.544554  \nstd      0.612277    0.498835  \nmin      0.000000    0.000000  \n25%      2.000000    0.000000  \n50%      2.000000    1.000000  \n75%      3.000000    1.000000  \nmax      3.000000    1.000000  ",
      "text/html": "<div>\n<style scoped>\n    .dataframe tbody tr th:only-of-type {\n        vertical-align: middle;\n    }\n\n    .dataframe tbody tr th {\n        vertical-align: top;\n    }\n\n    .dataframe thead th {\n        text-align: right;\n    }\n</style>\n<table border=\"1\" class=\"dataframe\">\n  <thead>\n    <tr style=\"text-align: right;\">\n      <th></th>\n      <th>age</th>\n      <th>sex</th>\n      <th>cp</th>\n      <th>trtbps</th>\n      <th>chol</th>\n      <th>fbs</th>\n      <th>restecg</th>\n      <th>thalachh</th>\n      <th>exng</th>\n      <th>oldpeak</th>\n      <th>slp</th>\n      <th>caa</th>\n      <th>thall</th>\n      <th>output</th>\n    </tr>\n  </thead>\n  <tbody>\n    <tr>\n      <th>count</th>\n      <td>303.000000</td>\n      <td>303.000000</td>\n      <td>303.000000</td>\n      <td>303.000000</td>\n      <td>303.000000</td>\n      <td>303.000000</td>\n      <td>303.000000</td>\n      <td>303.000000</td>\n      <td>303.000000</td>\n      <td>303.000000</td>\n      <td>303.000000</td>\n      <td>303.000000</td>\n      <td>303.000000</td>\n      <td>303.000000</td>\n    </tr>\n    <tr>\n      <th>mean</th>\n      <td>54.366337</td>\n      <td>0.683168</td>\n      <td>0.966997</td>\n      <td>131.623762</td>\n      <td>246.264026</td>\n      <td>0.148515</td>\n      <td>0.528053</td>\n      <td>149.646865</td>\n      <td>0.326733</td>\n      <td>1.039604</td>\n      <td>1.399340</td>\n      <td>0.729373</td>\n      <td>2.313531</td>\n      <td>0.544554</td>\n    </tr>\n    <tr>\n      <th>std</th>\n      <td>9.082101</td>\n      <td>0.466011</td>\n      <td>1.032052</td>\n      <td>17.538143</td>\n      <td>51.830751</td>\n      <td>0.356198</td>\n      <td>0.525860</td>\n      <td>22.905161</td>\n      <td>0.469794</td>\n      <td>1.161075</td>\n      <td>0.616226</td>\n      <td>1.022606</td>\n      <td>0.612277</td>\n      <td>0.498835</td>\n    </tr>\n    <tr>\n      <th>min</th>\n      <td>29.000000</td>\n      <td>0.000000</td>\n      <td>0.000000</td>\n      <td>94.000000</td>\n      <td>126.000000</td>\n      <td>0.000000</td>\n      <td>0.000000</td>\n      <td>71.000000</td>\n      <td>0.000000</td>\n      <td>0.000000</td>\n      <td>0.000000</td>\n      <td>0.000000</td>\n      <td>0.000000</td>\n      <td>0.000000</td>\n    </tr>\n    <tr>\n      <th>25%</th>\n      <td>47.500000</td>\n      <td>0.000000</td>\n      <td>0.000000</td>\n      <td>120.000000</td>\n      <td>211.000000</td>\n      <td>0.000000</td>\n      <td>0.000000</td>\n      <td>133.500000</td>\n      <td>0.000000</td>\n      <td>0.000000</td>\n      <td>1.000000</td>\n      <td>0.000000</td>\n      <td>2.000000</td>\n      <td>0.000000</td>\n    </tr>\n    <tr>\n      <th>50%</th>\n      <td>55.000000</td>\n      <td>1.000000</td>\n      <td>1.000000</td>\n      <td>130.000000</td>\n      <td>240.000000</td>\n      <td>0.000000</td>\n      <td>1.000000</td>\n      <td>153.000000</td>\n      <td>0.000000</td>\n      <td>0.800000</td>\n      <td>1.000000</td>\n      <td>0.000000</td>\n      <td>2.000000</td>\n      <td>1.000000</td>\n    </tr>\n    <tr>\n      <th>75%</th>\n      <td>61.000000</td>\n      <td>1.000000</td>\n      <td>2.000000</td>\n      <td>140.000000</td>\n      <td>274.500000</td>\n      <td>0.000000</td>\n      <td>1.000000</td>\n      <td>166.000000</td>\n      <td>1.000000</td>\n      <td>1.600000</td>\n      <td>2.000000</td>\n      <td>1.000000</td>\n      <td>3.000000</td>\n      <td>1.000000</td>\n    </tr>\n    <tr>\n      <th>max</th>\n      <td>77.000000</td>\n      <td>1.000000</td>\n      <td>3.000000</td>\n      <td>200.000000</td>\n      <td>564.000000</td>\n      <td>1.000000</td>\n      <td>2.000000</td>\n      <td>202.000000</td>\n      <td>1.000000</td>\n      <td>6.200000</td>\n      <td>2.000000</td>\n      <td>4.000000</td>\n      <td>3.000000</td>\n      <td>1.000000</td>\n    </tr>\n  </tbody>\n</table>\n</div>"
     },
     "execution_count": 2,
     "metadata": {},
     "output_type": "execute_result"
    }
   ],
   "source": [
    "# Load data from https://www.kaggle.com/datasets/rashikrahmanpritom/heart-attack-analysis-prediction-dataset?resource=download&select=heart.csv\n",
    "df = pd.read_csv('heart.csv')\n",
    "df.describe()"
   ],
   "metadata": {
    "collapsed": false,
    "pycharm": {
     "name": "#%%\n"
    }
   }
  },
  {
   "cell_type": "code",
   "execution_count": 3,
   "outputs": [
    {
     "data": {
      "text/plain": "                age           sex        trtbps          chol           fbs  \\\ncount  3.030000e+02  3.030000e+02  3.030000e+02  3.030000e+02  3.030000e+02   \nmean   7.035077e-17 -4.690051e-17 -6.683323e-16 -8.207589e-17  8.207589e-17   \nstd    1.000000e+00  1.000000e+00  1.000000e+00  1.000000e+00  1.000000e+00   \nmin   -2.793003e+00 -1.465992e+00 -2.145254e+00 -2.320322e+00 -4.169448e-01   \n25%   -7.560295e-01 -1.465992e+00 -6.627704e-01 -6.803688e-01 -4.169448e-01   \n50%    6.977057e-02  6.798805e-01 -9.258463e-02 -1.208554e-01 -4.169448e-01   \n75%    7.304107e-01  6.798805e-01  4.776012e-01  5.447726e-01 -4.169448e-01   \nmax    2.492118e+00  6.798805e-01  3.898716e+00  6.130260e+00  2.390484e+00   \n\n           thalachh          exng       oldpeak           slp         thall  \\\ncount  3.030000e+02  3.030000e+02  3.030000e+02  3.030000e+02  3.030000e+02   \nmean  -5.862564e-16 -2.345026e-17 -4.690051e-17 -7.035077e-17 -1.876020e-16   \nstd    1.000000e+00  1.000000e+00  1.000000e+00  1.000000e+00  1.000000e+00   \nmin   -3.433587e+00 -6.954800e-01 -8.953805e-01 -2.270822e+00 -3.778573e+00   \n25%   -7.049444e-01 -6.954800e-01 -8.953805e-01 -6.480412e-01 -5.120748e-01   \n50%    1.463921e-01 -6.954800e-01 -2.063639e-01 -6.480412e-01 -5.120748e-01   \n75%    7.139498e-01  1.433110e+00  4.826527e-01  9.747397e-01  1.121174e+00   \nmax    2.285648e+00  1.433110e+00  4.444498e+00  9.747397e-01  1.121174e+00   \n\n       ...       caa_2         caa_3         caa_4          cp_0  \\\ncount  ...  303.000000  3.030000e+02  3.030000e+02  3.030000e+02   \nmean   ...    0.000000  9.380102e-17  7.035077e-17 -7.035077e-17   \nstd    ...    1.000000  1.000000e+00  1.000000e+00  1.000000e+00   \nmin    ...   -0.378052 -2.654018e-01 -1.293180e-01 -9.438222e-01   \n25%    ...   -0.378052 -2.654018e-01 -1.293180e-01 -9.438222e-01   \n50%    ...   -0.378052 -2.654018e-01 -1.293180e-01 -9.438222e-01   \n75%    ...   -0.378052 -2.654018e-01 -1.293180e-01  1.056025e+00   \nmax    ...    2.636412  3.755436e+00  7.707354e+00  1.056025e+00   \n\n               cp_1          cp_2          cp_3     restecg_0     restecg_1  \\\ncount  3.030000e+02  3.030000e+02  3.030000e+02  3.030000e+02  3.030000e+02   \nmean  -5.862564e-17 -2.345026e-17 -5.276307e-17  4.690051e-17  1.055261e-16   \nstd    1.000000e+00  1.000000e+00  1.000000e+00  1.000000e+00  1.000000e+00   \nmin   -4.438200e-01 -6.335996e-01 -2.861324e-01 -9.691222e-01 -1.001649e+00   \n25%   -4.438200e-01 -6.335996e-01 -2.861324e-01 -9.691222e-01 -1.001649e+00   \n50%   -4.438200e-01 -6.335996e-01 -2.861324e-01 -9.691222e-01  9.950590e-01   \n75%   -4.438200e-01  1.573075e+00 -2.861324e-01  1.028456e+00  9.950590e-01   \nmax    2.245729e+00  1.573075e+00  3.483351e+00  1.028456e+00  9.950590e-01   \n\n          restecg_2  \ncount  3.030000e+02  \nmean  -2.345026e-17  \nstd    1.000000e+00  \nmin   -1.154720e-01  \n25%   -1.154720e-01  \n50%   -1.154720e-01  \n75%   -1.154720e-01  \nmax    8.631529e+00  \n\n[8 rows x 23 columns]",
      "text/html": "<div>\n<style scoped>\n    .dataframe tbody tr th:only-of-type {\n        vertical-align: middle;\n    }\n\n    .dataframe tbody tr th {\n        vertical-align: top;\n    }\n\n    .dataframe thead th {\n        text-align: right;\n    }\n</style>\n<table border=\"1\" class=\"dataframe\">\n  <thead>\n    <tr style=\"text-align: right;\">\n      <th></th>\n      <th>age</th>\n      <th>sex</th>\n      <th>trtbps</th>\n      <th>chol</th>\n      <th>fbs</th>\n      <th>thalachh</th>\n      <th>exng</th>\n      <th>oldpeak</th>\n      <th>slp</th>\n      <th>thall</th>\n      <th>...</th>\n      <th>caa_2</th>\n      <th>caa_3</th>\n      <th>caa_4</th>\n      <th>cp_0</th>\n      <th>cp_1</th>\n      <th>cp_2</th>\n      <th>cp_3</th>\n      <th>restecg_0</th>\n      <th>restecg_1</th>\n      <th>restecg_2</th>\n    </tr>\n  </thead>\n  <tbody>\n    <tr>\n      <th>count</th>\n      <td>3.030000e+02</td>\n      <td>3.030000e+02</td>\n      <td>3.030000e+02</td>\n      <td>3.030000e+02</td>\n      <td>3.030000e+02</td>\n      <td>3.030000e+02</td>\n      <td>3.030000e+02</td>\n      <td>3.030000e+02</td>\n      <td>3.030000e+02</td>\n      <td>3.030000e+02</td>\n      <td>...</td>\n      <td>303.000000</td>\n      <td>3.030000e+02</td>\n      <td>3.030000e+02</td>\n      <td>3.030000e+02</td>\n      <td>3.030000e+02</td>\n      <td>3.030000e+02</td>\n      <td>3.030000e+02</td>\n      <td>3.030000e+02</td>\n      <td>3.030000e+02</td>\n      <td>3.030000e+02</td>\n    </tr>\n    <tr>\n      <th>mean</th>\n      <td>7.035077e-17</td>\n      <td>-4.690051e-17</td>\n      <td>-6.683323e-16</td>\n      <td>-8.207589e-17</td>\n      <td>8.207589e-17</td>\n      <td>-5.862564e-16</td>\n      <td>-2.345026e-17</td>\n      <td>-4.690051e-17</td>\n      <td>-7.035077e-17</td>\n      <td>-1.876020e-16</td>\n      <td>...</td>\n      <td>0.000000</td>\n      <td>9.380102e-17</td>\n      <td>7.035077e-17</td>\n      <td>-7.035077e-17</td>\n      <td>-5.862564e-17</td>\n      <td>-2.345026e-17</td>\n      <td>-5.276307e-17</td>\n      <td>4.690051e-17</td>\n      <td>1.055261e-16</td>\n      <td>-2.345026e-17</td>\n    </tr>\n    <tr>\n      <th>std</th>\n      <td>1.000000e+00</td>\n      <td>1.000000e+00</td>\n      <td>1.000000e+00</td>\n      <td>1.000000e+00</td>\n      <td>1.000000e+00</td>\n      <td>1.000000e+00</td>\n      <td>1.000000e+00</td>\n      <td>1.000000e+00</td>\n      <td>1.000000e+00</td>\n      <td>1.000000e+00</td>\n      <td>...</td>\n      <td>1.000000</td>\n      <td>1.000000e+00</td>\n      <td>1.000000e+00</td>\n      <td>1.000000e+00</td>\n      <td>1.000000e+00</td>\n      <td>1.000000e+00</td>\n      <td>1.000000e+00</td>\n      <td>1.000000e+00</td>\n      <td>1.000000e+00</td>\n      <td>1.000000e+00</td>\n    </tr>\n    <tr>\n      <th>min</th>\n      <td>-2.793003e+00</td>\n      <td>-1.465992e+00</td>\n      <td>-2.145254e+00</td>\n      <td>-2.320322e+00</td>\n      <td>-4.169448e-01</td>\n      <td>-3.433587e+00</td>\n      <td>-6.954800e-01</td>\n      <td>-8.953805e-01</td>\n      <td>-2.270822e+00</td>\n      <td>-3.778573e+00</td>\n      <td>...</td>\n      <td>-0.378052</td>\n      <td>-2.654018e-01</td>\n      <td>-1.293180e-01</td>\n      <td>-9.438222e-01</td>\n      <td>-4.438200e-01</td>\n      <td>-6.335996e-01</td>\n      <td>-2.861324e-01</td>\n      <td>-9.691222e-01</td>\n      <td>-1.001649e+00</td>\n      <td>-1.154720e-01</td>\n    </tr>\n    <tr>\n      <th>25%</th>\n      <td>-7.560295e-01</td>\n      <td>-1.465992e+00</td>\n      <td>-6.627704e-01</td>\n      <td>-6.803688e-01</td>\n      <td>-4.169448e-01</td>\n      <td>-7.049444e-01</td>\n      <td>-6.954800e-01</td>\n      <td>-8.953805e-01</td>\n      <td>-6.480412e-01</td>\n      <td>-5.120748e-01</td>\n      <td>...</td>\n      <td>-0.378052</td>\n      <td>-2.654018e-01</td>\n      <td>-1.293180e-01</td>\n      <td>-9.438222e-01</td>\n      <td>-4.438200e-01</td>\n      <td>-6.335996e-01</td>\n      <td>-2.861324e-01</td>\n      <td>-9.691222e-01</td>\n      <td>-1.001649e+00</td>\n      <td>-1.154720e-01</td>\n    </tr>\n    <tr>\n      <th>50%</th>\n      <td>6.977057e-02</td>\n      <td>6.798805e-01</td>\n      <td>-9.258463e-02</td>\n      <td>-1.208554e-01</td>\n      <td>-4.169448e-01</td>\n      <td>1.463921e-01</td>\n      <td>-6.954800e-01</td>\n      <td>-2.063639e-01</td>\n      <td>-6.480412e-01</td>\n      <td>-5.120748e-01</td>\n      <td>...</td>\n      <td>-0.378052</td>\n      <td>-2.654018e-01</td>\n      <td>-1.293180e-01</td>\n      <td>-9.438222e-01</td>\n      <td>-4.438200e-01</td>\n      <td>-6.335996e-01</td>\n      <td>-2.861324e-01</td>\n      <td>-9.691222e-01</td>\n      <td>9.950590e-01</td>\n      <td>-1.154720e-01</td>\n    </tr>\n    <tr>\n      <th>75%</th>\n      <td>7.304107e-01</td>\n      <td>6.798805e-01</td>\n      <td>4.776012e-01</td>\n      <td>5.447726e-01</td>\n      <td>-4.169448e-01</td>\n      <td>7.139498e-01</td>\n      <td>1.433110e+00</td>\n      <td>4.826527e-01</td>\n      <td>9.747397e-01</td>\n      <td>1.121174e+00</td>\n      <td>...</td>\n      <td>-0.378052</td>\n      <td>-2.654018e-01</td>\n      <td>-1.293180e-01</td>\n      <td>1.056025e+00</td>\n      <td>-4.438200e-01</td>\n      <td>1.573075e+00</td>\n      <td>-2.861324e-01</td>\n      <td>1.028456e+00</td>\n      <td>9.950590e-01</td>\n      <td>-1.154720e-01</td>\n    </tr>\n    <tr>\n      <th>max</th>\n      <td>2.492118e+00</td>\n      <td>6.798805e-01</td>\n      <td>3.898716e+00</td>\n      <td>6.130260e+00</td>\n      <td>2.390484e+00</td>\n      <td>2.285648e+00</td>\n      <td>1.433110e+00</td>\n      <td>4.444498e+00</td>\n      <td>9.747397e-01</td>\n      <td>1.121174e+00</td>\n      <td>...</td>\n      <td>2.636412</td>\n      <td>3.755436e+00</td>\n      <td>7.707354e+00</td>\n      <td>1.056025e+00</td>\n      <td>2.245729e+00</td>\n      <td>1.573075e+00</td>\n      <td>3.483351e+00</td>\n      <td>1.028456e+00</td>\n      <td>9.950590e-01</td>\n      <td>8.631529e+00</td>\n    </tr>\n  </tbody>\n</table>\n<p>8 rows × 23 columns</p>\n</div>"
     },
     "execution_count": 3,
     "metadata": {},
     "output_type": "execute_result"
    }
   ],
   "source": [
    "# One hot encoding (for linear classifier)\n",
    "df = pd.get_dummies(df, columns=['caa', 'cp', 'restecg'])\n",
    "\n",
    "# Get targets\n",
    "y_all = df['output'].to_numpy()\n",
    "\n",
    "# Standardize the rest\n",
    "df = (df - df.mean()) / df.std()\n",
    "\n",
    "df.describe()"
   ],
   "metadata": {
    "collapsed": false,
    "pycharm": {
     "name": "#%%\n"
    }
   }
  },
  {
   "cell_type": "code",
   "execution_count": 4,
   "outputs": [],
   "source": [
    "x_all = df.drop(columns=['output']).to_numpy()\n",
    "\n",
    "# Split data to train and test\n",
    "x_train, x_test, y_train, y_test = train_test_split(x_all, y_all, test_size=0.2, random_state=42)"
   ],
   "metadata": {
    "collapsed": false,
    "pycharm": {
     "name": "#%%\n"
    }
   }
  },
  {
   "cell_type": "code",
   "execution_count": 5,
   "outputs": [
    {
     "name": "stdout",
     "output_type": "stream",
     "text": [
      "LogisticRegression 0.8524590163934426\n",
      "RandomForestClassifier 0.8688524590163934\n",
      "SVC 0.819672131147541\n",
      "GaussianProcessClassifier 0.819672131147541\n",
      "KNeighborsClassifier 0.8360655737704918\n"
     ]
    }
   ],
   "source": [
    "# Train basic models with default parameters\n",
    "models = [LogisticRegression(max_iter=5000), RandomForestClassifier(), SVC(), GaussianProcessClassifier(), KNeighborsClassifier()]\n",
    "\n",
    "for model in models:\n",
    "    model.fit(x_train, y_train)\n",
    "    print(model.__class__.__name__, model.score(x_test, y_test))"
   ],
   "metadata": {
    "collapsed": false,
    "pycharm": {
     "name": "#%%\n"
    }
   }
  },
  {
   "cell_type": "code",
   "execution_count": 5,
   "outputs": [],
   "source": [],
   "metadata": {
    "collapsed": false,
    "pycharm": {
     "name": "#%%\n"
    }
   }
  }
 ],
 "metadata": {
  "kernelspec": {
   "display_name": "Python 3",
   "language": "python",
   "name": "python3"
  },
  "language_info": {
   "codemirror_mode": {
    "name": "ipython",
    "version": 2
   },
   "file_extension": ".py",
   "mimetype": "text/x-python",
   "name": "python",
   "nbconvert_exporter": "python",
   "pygments_lexer": "ipython2",
   "version": "2.7.6"
  }
 },
 "nbformat": 4,
 "nbformat_minor": 0
}