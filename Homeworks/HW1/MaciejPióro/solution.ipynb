{
 "cells": [
  {
   "cell_type": "markdown",
   "metadata": {},
   "source": [
    "# Heart attack prediction"
   ]
  },
  {
   "cell_type": "markdown",
   "metadata": {},
   "source": [
    "## Install dependencies"
   ]
  },
  {
   "cell_type": "code",
   "execution_count": 1,
   "metadata": {},
   "outputs": [
    {
     "name": "stdout",
     "output_type": "stream",
     "text": [
      "Looking in indexes: https://pypi.org/simple, https://pypi.ngc.nvidia.com\n",
      "/usr/share/python-wheels/urllib3-1.25.9-py2.py3-none-any.whl/urllib3/connectionpool.py:981: InsecureRequestWarning: Unverified HTTPS request is being made to host 'pypi.ngc.nvidia.com'. Adding certificate verification is strongly advised. See: https://urllib3.readthedocs.io/en/latest/advanced-usage.html#ssl-warnings\n",
      "Requirement already up-to-date: gdown in /home/maciej/Documents/Studia/Zima 2022/XAI/TrustworthyMachineLearning-2023/Homeworks/venv/lib/python3.8/site-packages (4.5.1)\n",
      "/usr/share/python-wheels/urllib3-1.25.9-py2.py3-none-any.whl/urllib3/connectionpool.py:981: InsecureRequestWarning: Unverified HTTPS request is being made to host 'pypi.ngc.nvidia.com'. Adding certificate verification is strongly advised. See: https://urllib3.readthedocs.io/en/latest/advanced-usage.html#ssl-warnings\n",
      "Requirement already up-to-date: numpy in /home/maciej/Documents/Studia/Zima 2022/XAI/TrustworthyMachineLearning-2023/Homeworks/venv/lib/python3.8/site-packages (1.23.4)\n",
      "/usr/share/python-wheels/urllib3-1.25.9-py2.py3-none-any.whl/urllib3/connectionpool.py:981: InsecureRequestWarning: Unverified HTTPS request is being made to host 'pypi.ngc.nvidia.com'. Adding certificate verification is strongly advised. See: https://urllib3.readthedocs.io/en/latest/advanced-usage.html#ssl-warnings\n",
      "Requirement already up-to-date: pandas in /home/maciej/Documents/Studia/Zima 2022/XAI/TrustworthyMachineLearning-2023/Homeworks/venv/lib/python3.8/site-packages (1.5.0)\n",
      "/usr/share/python-wheels/urllib3-1.25.9-py2.py3-none-any.whl/urllib3/connectionpool.py:981: InsecureRequestWarning: Unverified HTTPS request is being made to host 'pypi.ngc.nvidia.com'. Adding certificate verification is strongly advised. See: https://urllib3.readthedocs.io/en/latest/advanced-usage.html#ssl-warnings\n",
      "Requirement already up-to-date: scikit-learn in /home/maciej/Documents/Studia/Zima 2022/XAI/TrustworthyMachineLearning-2023/Homeworks/venv/lib/python3.8/site-packages (1.1.2)\n",
      "/usr/share/python-wheels/urllib3-1.25.9-py2.py3-none-any.whl/urllib3/connectionpool.py:981: InsecureRequestWarning: Unverified HTTPS request is being made to host 'pypi.ngc.nvidia.com'. Adding certificate verification is strongly advised. See: https://urllib3.readthedocs.io/en/latest/advanced-usage.html#ssl-warnings\n",
      "Requirement already up-to-date: seaborn in /home/maciej/Documents/Studia/Zima 2022/XAI/TrustworthyMachineLearning-2023/Homeworks/venv/lib/python3.8/site-packages (0.12.0)\n",
      "Requirement already satisfied, skipping upgrade: tqdm in /home/maciej/Documents/Studia/Zima 2022/XAI/TrustworthyMachineLearning-2023/Homeworks/venv/lib/python3.8/site-packages (from gdown) (4.64.1)\n",
      "Requirement already satisfied, skipping upgrade: six in /home/maciej/Documents/Studia/Zima 2022/XAI/TrustworthyMachineLearning-2023/Homeworks/venv/lib/python3.8/site-packages (from gdown) (1.16.0)\n",
      "Requirement already satisfied, skipping upgrade: beautifulsoup4 in /home/maciej/Documents/Studia/Zima 2022/XAI/TrustworthyMachineLearning-2023/Homeworks/venv/lib/python3.8/site-packages (from gdown) (4.11.1)\n",
      "Requirement already satisfied, skipping upgrade: requests[socks] in /home/maciej/Documents/Studia/Zima 2022/XAI/TrustworthyMachineLearning-2023/Homeworks/venv/lib/python3.8/site-packages (from gdown) (2.28.1)\n",
      "Requirement already satisfied, skipping upgrade: filelock in /home/maciej/Documents/Studia/Zima 2022/XAI/TrustworthyMachineLearning-2023/Homeworks/venv/lib/python3.8/site-packages (from gdown) (3.8.0)\n",
      "Requirement already satisfied, skipping upgrade: pytz>=2020.1 in /home/maciej/Documents/Studia/Zima 2022/XAI/TrustworthyMachineLearning-2023/Homeworks/venv/lib/python3.8/site-packages (from pandas) (2022.4)\n",
      "Requirement already satisfied, skipping upgrade: python-dateutil>=2.8.1 in /home/maciej/Documents/Studia/Zima 2022/XAI/TrustworthyMachineLearning-2023/Homeworks/venv/lib/python3.8/site-packages (from pandas) (2.8.2)\n",
      "Requirement already satisfied, skipping upgrade: scipy>=1.3.2 in /home/maciej/Documents/Studia/Zima 2022/XAI/TrustworthyMachineLearning-2023/Homeworks/venv/lib/python3.8/site-packages (from scikit-learn) (1.9.2)\n",
      "Requirement already satisfied, skipping upgrade: threadpoolctl>=2.0.0 in /home/maciej/Documents/Studia/Zima 2022/XAI/TrustworthyMachineLearning-2023/Homeworks/venv/lib/python3.8/site-packages (from scikit-learn) (3.1.0)\n",
      "Requirement already satisfied, skipping upgrade: joblib>=1.0.0 in /home/maciej/Documents/Studia/Zima 2022/XAI/TrustworthyMachineLearning-2023/Homeworks/venv/lib/python3.8/site-packages (from scikit-learn) (1.2.0)\n",
      "Requirement already satisfied, skipping upgrade: matplotlib>=3.1 in /home/maciej/Documents/Studia/Zima 2022/XAI/TrustworthyMachineLearning-2023/Homeworks/venv/lib/python3.8/site-packages (from seaborn) (3.6.1)\n",
      "Requirement already satisfied, skipping upgrade: soupsieve>1.2 in /home/maciej/Documents/Studia/Zima 2022/XAI/TrustworthyMachineLearning-2023/Homeworks/venv/lib/python3.8/site-packages (from beautifulsoup4->gdown) (2.3.2.post1)\n",
      "Requirement already satisfied, skipping upgrade: urllib3<1.27,>=1.21.1 in /home/maciej/Documents/Studia/Zima 2022/XAI/TrustworthyMachineLearning-2023/Homeworks/venv/lib/python3.8/site-packages (from requests[socks]->gdown) (1.26.12)\n",
      "Requirement already satisfied, skipping upgrade: certifi>=2017.4.17 in /home/maciej/Documents/Studia/Zima 2022/XAI/TrustworthyMachineLearning-2023/Homeworks/venv/lib/python3.8/site-packages (from requests[socks]->gdown) (2022.9.24)\n",
      "Requirement already satisfied, skipping upgrade: idna<4,>=2.5 in /home/maciej/Documents/Studia/Zima 2022/XAI/TrustworthyMachineLearning-2023/Homeworks/venv/lib/python3.8/site-packages (from requests[socks]->gdown) (3.4)\n",
      "Requirement already satisfied, skipping upgrade: charset-normalizer<3,>=2 in /home/maciej/Documents/Studia/Zima 2022/XAI/TrustworthyMachineLearning-2023/Homeworks/venv/lib/python3.8/site-packages (from requests[socks]->gdown) (2.1.1)\n",
      "Requirement already satisfied, skipping upgrade: PySocks!=1.5.7,>=1.5.6; extra == \"socks\" in /home/maciej/Documents/Studia/Zima 2022/XAI/TrustworthyMachineLearning-2023/Homeworks/venv/lib/python3.8/site-packages (from requests[socks]->gdown) (1.7.1)\n",
      "Requirement already satisfied, skipping upgrade: kiwisolver>=1.0.1 in /home/maciej/Documents/Studia/Zima 2022/XAI/TrustworthyMachineLearning-2023/Homeworks/venv/lib/python3.8/site-packages (from matplotlib>=3.1->seaborn) (1.4.4)\n",
      "Requirement already satisfied, skipping upgrade: packaging>=20.0 in /home/maciej/Documents/Studia/Zima 2022/XAI/TrustworthyMachineLearning-2023/Homeworks/venv/lib/python3.8/site-packages (from matplotlib>=3.1->seaborn) (21.3)\n",
      "Requirement already satisfied, skipping upgrade: pillow>=6.2.0 in /home/maciej/Documents/Studia/Zima 2022/XAI/TrustworthyMachineLearning-2023/Homeworks/venv/lib/python3.8/site-packages (from matplotlib>=3.1->seaborn) (9.2.0)\n",
      "Requirement already satisfied, skipping upgrade: cycler>=0.10 in /home/maciej/Documents/Studia/Zima 2022/XAI/TrustworthyMachineLearning-2023/Homeworks/venv/lib/python3.8/site-packages (from matplotlib>=3.1->seaborn) (0.11.0)\n",
      "Requirement already satisfied, skipping upgrade: contourpy>=1.0.1 in /home/maciej/Documents/Studia/Zima 2022/XAI/TrustworthyMachineLearning-2023/Homeworks/venv/lib/python3.8/site-packages (from matplotlib>=3.1->seaborn) (1.0.5)\n",
      "Requirement already satisfied, skipping upgrade: pyparsing>=2.2.1 in /home/maciej/Documents/Studia/Zima 2022/XAI/TrustworthyMachineLearning-2023/Homeworks/venv/lib/python3.8/site-packages (from matplotlib>=3.1->seaborn) (3.0.9)\n",
      "Requirement already satisfied, skipping upgrade: fonttools>=4.22.0 in /home/maciej/Documents/Studia/Zima 2022/XAI/TrustworthyMachineLearning-2023/Homeworks/venv/lib/python3.8/site-packages (from matplotlib>=3.1->seaborn) (4.37.4)\n"
     ]
    }
   ],
   "source": [
    "!pip install -U gdown numpy pandas scikit-learn seaborn"
   ]
  },
  {
   "cell_type": "markdown",
   "metadata": {},
   "source": [
    "## Download data"
   ]
  },
  {
   "cell_type": "code",
   "execution_count": 2,
   "metadata": {},
   "outputs": [
    {
     "name": "stderr",
     "output_type": "stream",
     "text": [
      "Downloading...\n",
      "From: https://drive.google.com/uc?id=1yBNUVzUAwb5LeQ9eGD55YVPGq-5HoX4c\n",
      "To: /home/maciej/Documents/Studia/Zima 2022/XAI/TrustworthyMachineLearning-2023/Homeworks/HW1/MaciejPióro/heart.csv\n",
      "100%|██████████| 11.3k/11.3k [00:00<00:00, 4.52MB/s]\n"
     ]
    },
    {
     "data": {
      "text/plain": [
       "'heart.csv'"
      ]
     },
     "execution_count": 2,
     "metadata": {},
     "output_type": "execute_result"
    }
   ],
   "source": [
    "import gdown\n",
    "gdown.download(id='1yBNUVzUAwb5LeQ9eGD55YVPGq-5HoX4c', output='heart.csv', quiet=False)"
   ]
  },
  {
   "cell_type": "markdown",
   "metadata": {},
   "source": [
    "## Load & Preprocess data\n",
    "Categorical variables: `cp` and `restecg`. All models used (Logistic Regression, Decision Tree, Random Forest) can benefit from one-hot encoding the categorical variables"
   ]
  },
  {
   "cell_type": "code",
   "execution_count": 3,
   "metadata": {},
   "outputs": [],
   "source": [
    "import pandas as pd\n",
    "import seaborn as sns\n",
    "import matplotlib.pyplot as plt\n",
    "\n",
    "SEED = 997\n",
    "TEST_SIZE = 0.1\n",
    "\n",
    "data = pd.read_csv('heart.csv')"
   ]
  },
  {
   "cell_type": "code",
   "execution_count": 4,
   "metadata": {},
   "outputs": [],
   "source": [
    "def to_one_hot(data, column):\n",
    "    dummies = pd.get_dummies(data[column])\n",
    "    for dummy_value in dummies.columns:\n",
    "        data = pd.concat([data, dummies[dummy_value].rename(f'{column}_{dummy_value}')], axis=1)\n",
    "    return data.drop(column, axis=1)\n",
    "\n",
    "data = to_one_hot(data, 'cp')\n",
    "data = to_one_hot(data, 'restecg')"
   ]
  },
  {
   "cell_type": "code",
   "execution_count": 5,
   "metadata": {},
   "outputs": [],
   "source": [
    "from sklearn.model_selection import train_test_split\n",
    "\n",
    "X = data.drop(columns=['output'])\n",
    "y = data['output']\n",
    "\n",
    "X_train, X_test, y_train, y_test = train_test_split(X, y, test_size=TEST_SIZE, random_state=SEED)"
   ]
  },
  {
   "cell_type": "markdown",
   "metadata": {},
   "source": [
    "## Train & evaluate the models"
   ]
  },
  {
   "cell_type": "code",
   "execution_count": 6,
   "metadata": {},
   "outputs": [],
   "source": [
    "from sklearn.metrics import accuracy_score, f1_score, precision_score, recall_score\n",
    "\n",
    "def check_model_quality(model_name, y_test, y_pred):\n",
    "  print(\"Quality with\", model_name)\n",
    "  accuracy = accuracy_score(y_test, y_pred)\n",
    "  print(f\"- Accuracy score: {accuracy:.2f}\")\n",
    "  f1 = f1_score(y_test, y_pred)\n",
    "  print(f\"- F1 score: {f1:.2f}\")\n",
    "  precision = precision_score(y_test, y_pred)\n",
    "  print(f\"- Precision: {precision:.2f}\")\n",
    "  recall = recall_score(y_test, y_pred)\n",
    "  print(f\"- Recall: {recall:.2f}\")\n",
    "  print()\n",
    "  return accuracy, f1, precision, recall\n",
    "\n",
    "metrics = pd.DataFrame(columns=['Accuracy', 'F1', 'Precision', 'Recall'])"
   ]
  },
  {
   "cell_type": "code",
   "execution_count": 7,
   "metadata": {},
   "outputs": [
    {
     "name": "stdout",
     "output_type": "stream",
     "text": [
      "Quality with Logistic Regression\n",
      "- Accuracy score: 0.77\n",
      "- F1 score: 0.84\n",
      "- Precision: 0.78\n",
      "- Recall: 0.90\n",
      "\n"
     ]
    }
   ],
   "source": [
    "from sklearn.linear_model import LogisticRegression\n",
    "\n",
    "\n",
    "logistic_regression = LogisticRegression(random_state=SEED, max_iter=10_000)\n",
    "logistic_regression.fit(X_train, y_train)\n",
    "\n",
    "y_pred = logistic_regression.predict(X_test)\n",
    "acc, f1, pr, rc = check_model_quality('Logistic Regression', y_test, y_pred)\n",
    "metrics.loc['Logistic Regression'] = [acc, f1, pr, rc]"
   ]
  },
  {
   "cell_type": "code",
   "execution_count": 8,
   "metadata": {},
   "outputs": [
    {
     "name": "stdout",
     "output_type": "stream",
     "text": [
      "Quality with Decision Tree Classifier\n",
      "- Accuracy score: 0.84\n",
      "- F1 score: 0.88\n",
      "- Precision: 0.86\n",
      "- Recall: 0.90\n",
      "\n"
     ]
    }
   ],
   "source": [
    "from sklearn.tree import DecisionTreeClassifier\n",
    "\n",
    "\n",
    "tree_classifier = DecisionTreeClassifier(random_state=SEED)\n",
    "tree_classifier.fit(X_train, y_train)\n",
    "\n",
    "y_pred = tree_classifier.predict(X_test)\n",
    "acc, f1, pr, rc = check_model_quality('Decision Tree Classifier', y_test, y_pred)\n",
    "metrics.loc['Decision Tree'] = [acc, f1, pr, rc]"
   ]
  },
  {
   "cell_type": "code",
   "execution_count": 9,
   "metadata": {},
   "outputs": [
    {
     "name": "stdout",
     "output_type": "stream",
     "text": [
      "Quality with Random Forest Classifier\n",
      "- Accuracy score: 0.90\n",
      "- F1 score: 0.93\n",
      "- Precision: 0.90\n",
      "- Recall: 0.95\n",
      "\n"
     ]
    }
   ],
   "source": [
    "from sklearn.ensemble import RandomForestClassifier\n",
    "from sklearn.metrics import make_scorer\n",
    "\n",
    "\n",
    "forest_classifier = RandomForestClassifier(random_state=SEED)\n",
    "forest_classifier.fit(X_train, y_train)\n",
    "\n",
    "\n",
    "y_pred = forest_classifier.predict(X_test)\n",
    "acc, f1, pr, rc = check_model_quality('Random Forest Classifier', y_test, y_pred)\n",
    "metrics.loc['Random Forest'] = [acc, f1, pr, rc]"
   ]
  },
  {
   "cell_type": "markdown",
   "metadata": {},
   "source": [
    "## Results and conclusions\n",
    "\n",
    "Random Forest improves Decision Classifier, which is better than simple Logistic Regression. The same trend is visible in all relevant chosen metrics (Accuracy, F1, Precision, Recall)."
   ]
  },
  {
   "cell_type": "code",
   "execution_count": 10,
   "metadata": {},
   "outputs": [
    {
     "data": {
      "image/png": "[encoded data removed]",
      "text/plain": [
       "<Figure size 1000x1000 with 4 Axes>"
      ]
     },
     "metadata": {},
     "output_type": "display_data"
    }
   ],
   "source": [
    "from IPython.display import display\n",
    "\n",
    "fig, axes = plt.subplots(2, 2, figsize=(10, 10))\n",
    "for m, ax in zip(['Accuracy', 'F1', 'Precision', 'Recall'], ([0, 0], [0, 1], [1, 0], [1, 1])): \n",
    "    sns.barplot(x = metrics.index, y = metrics[m], ax=axes[ax[0], ax[1]])"
   ]
  }
 ],
 "metadata": {
  "kernelspec": {
   "display_name": "Python 3.8.10 ('venv')",
   "language": "python",
   "name": "python3"
  },
  "language_info": {
   "codemirror_mode": {
    "name": "ipython",
    "version": 3
   },
   "file_extension": ".py",
   "mimetype": "text/x-python",
   "name": "python",
   "nbconvert_exporter": "python",
   "pygments_lexer": "ipython3",
   "version": "3.8.10"
  },
  "orig_nbformat": 4,
  "vscode": {
   "interpreter": {
    "hash": "ce9c5f2b483808732b146207133e565ba3d620514b650bd7b878809989da0efb"
   }
  }
 },
 "nbformat": 4,
 "nbformat_minor": 2
}
