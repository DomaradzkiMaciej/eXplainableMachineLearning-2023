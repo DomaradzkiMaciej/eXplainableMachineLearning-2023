{
  "nbformat": 4,
  "nbformat_minor": 0,
  "metadata": {
    "colab": {
      "provenance": [],
      "collapsed_sections": []
    },
    "kernelspec": {
      "name": "python3",
      "display_name": "Python 3"
    },
    "language_info": {
      "name": "python"
    }
  },
  "cells": [
    {
      "cell_type": "markdown",
      "source": [
        "It is the prediction of students' grades based on the Effects on Study dataset. Dataset consists of both numerical and categorical data. Following methods are used: Linear Regression, Stochastic Gradient Descend Regression and Random Forest Regression.\n",
        "Despite the grades being integers, I would argue that this task can be also treated as a regression problem. The grades are supposed to measure students' knowledge and their discretization has only a purpose of making things easier, not to reflect the nature of the problem it operationalizes. \n",
        "\n",
        "Firstly, in order to download Alcohol Effects on Study dataset, we mount google drive and upload kaggle API."
      ],
      "metadata": {
        "id": "wsRVs0HN6ktU"
      }
    },
    {
      "cell_type": "code",
      "execution_count": 1,
      "metadata": {
        "colab": {
          "base_uri": "https://localhost:8080/"
        },
        "id": "OS2iiYy4burK",
        "outputId": "cb291730-15e7-4986-d56f-7bb1ebb00a42"
      },
      "outputs": [
        {
          "output_type": "stream",
          "name": "stdout",
          "text": [
            "Mounted at /content/gdrive\n"
          ]
        }
      ],
      "source": [
        "from google.colab import drive\n",
        "drive.mount('/content/gdrive')\n",
        "\n",
        "from google.colab import files"
      ]
    },
    {
      "cell_type": "code",
      "source": [
        "files.upload() #this will prompt you to upload the kaggle.jso"
      ],
      "metadata": {
        "colab": {
          "base_uri": "https://localhost:8080/",
          "height": 91
        },
        "id": "fA9haFlOfnrb",
        "outputId": "04cfb26a-5390-4cfe-ac5c-056e4b5096ce"
      },
      "execution_count": 2,
      "outputs": [
        {
          "output_type": "display_data",
          "data": {
            "text/plain": [
              "<IPython.core.display.HTML object>"
            ],
            "text/html": [
              "\n",
              "     <input type=\"file\" id=\"files-4afe00c4-29fd-44e2-abae-f56973422c2b\" name=\"files[]\" multiple disabled\n",
              "        style=\"border:none\" />\n",
              "     <output id=\"result-4afe00c4-29fd-44e2-abae-f56973422c2b\">\n",
              "      Upload widget is only available when the cell has been executed in the\n",
              "      current browser session. Please rerun this cell to enable.\n",
              "      </output>\n",
              "      <script>// Copyright 2017 Google LLC\n",
              "//\n",
              "// Licensed under the Apache License, Version 2.0 (the \"License\");\n",
              "// you may not use this file except in compliance with the License.\n",
              "// You may obtain a copy of the License at\n",
              "//\n",
              "//      http://www.apache.org/licenses/LICENSE-2.0\n",
              "//\n",
              "// Unless required by applicable law or agreed to in writing, software\n",
              "// distributed under the License is distributed on an \"AS IS\" BASIS,\n",
              "// WITHOUT WARRANTIES OR CONDITIONS OF ANY KIND, either express or implied.\n",
              "// See the License for the specific language governing permissions and\n",
              "// limitations under the License.\n",
              "\n",
              "/**\n",
              " * @fileoverview Helpers for google.colab Python module.\n",
              " */\n",
              "(function(scope) {\n",
              "function span(text, styleAttributes = {}) {\n",
              "  const element = document.createElement('span');\n",
              "  element.textContent = text;\n",
              "  for (const key of Object.keys(styleAttributes)) {\n",
              "    element.style[key] = styleAttributes[key];\n",
              "  }\n",
              "  return element;\n",
              "}\n",
              "\n",
              "// Max number of bytes which will be uploaded at a time.\n",
              "const MAX_PAYLOAD_SIZE = 100 * 1024;\n",
              "\n",
              "function _uploadFiles(inputId, outputId) {\n",
              "  const steps = uploadFilesStep(inputId, outputId);\n",
              "  const outputElement = document.getElementById(outputId);\n",
              "  // Cache steps on the outputElement to make it available for the next call\n",
              "  // to uploadFilesContinue from Python.\n",
              "  outputElement.steps = steps;\n",
              "\n",
              "  return _uploadFilesContinue(outputId);\n",
              "}\n",
              "\n",
              "// This is roughly an async generator (not supported in the browser yet),\n",
              "// where there are multiple asynchronous steps and the Python side is going\n",
              "// to poll for completion of each step.\n",
              "// This uses a Promise to block the python side on completion of each step,\n",
              "// then passes the result of the previous step as the input to the next step.\n",
              "function _uploadFilesContinue(outputId) {\n",
              "  const outputElement = document.getElementById(outputId);\n",
              "  const steps = outputElement.steps;\n",
              "\n",
              "  const next = steps.next(outputElement.lastPromiseValue);\n",
              "  return Promise.resolve(next.value.promise).then((value) => {\n",
              "    // Cache the last promise value to make it available to the next\n",
              "    // step of the generator.\n",
              "    outputElement.lastPromiseValue = value;\n",
              "    return next.value.response;\n",
              "  });\n",
              "}\n",
              "\n",
              "/**\n",
              " * Generator function which is called between each async step of the upload\n",
              " * process.\n",
              " * @param {string} inputId Element ID of the input file picker element.\n",
              " * @param {string} outputId Element ID of the output display.\n",
              " * @return {!Iterable<!Object>} Iterable of next steps.\n",
              " */\n",
              "function* uploadFilesStep(inputId, outputId) {\n",
              "  const inputElement = document.getElementById(inputId);\n",
              "  inputElement.disabled = false;\n",
              "\n",
              "  const outputElement = document.getElementById(outputId);\n",
              "  outputElement.innerHTML = '';\n",
              "\n",
              "  const pickedPromise = new Promise((resolve) => {\n",
              "    inputElement.addEventListener('change', (e) => {\n",
              "      resolve(e.target.files);\n",
              "    });\n",
              "  });\n",
              "\n",
              "  const cancel = document.createElement('button');\n",
              "  inputElement.parentElement.appendChild(cancel);\n",
              "  cancel.textContent = 'Cancel upload';\n",
              "  const cancelPromise = new Promise((resolve) => {\n",
              "    cancel.onclick = () => {\n",
              "      resolve(null);\n",
              "    };\n",
              "  });\n",
              "\n",
              "  // Wait for the user to pick the files.\n",
              "  const files = yield {\n",
              "    promise: Promise.race([pickedPromise, cancelPromise]),\n",
              "    response: {\n",
              "      action: 'starting',\n",
              "    }\n",
              "  };\n",
              "\n",
              "  cancel.remove();\n",
              "\n",
              "  // Disable the input element since further picks are not allowed.\n",
              "  inputElement.disabled = true;\n",
              "\n",
              "  if (!files) {\n",
              "    return {\n",
              "      response: {\n",
              "        action: 'complete',\n",
              "      }\n",
              "    };\n",
              "  }\n",
              "\n",
              "  for (const file of files) {\n",
              "    const li = document.createElement('li');\n",
              "    li.append(span(file.name, {fontWeight: 'bold'}));\n",
              "    li.append(span(\n",
              "        `(${file.type || 'n/a'}) - ${file.size} bytes, ` +\n",
              "        `last modified: ${\n",
              "            file.lastModifiedDate ? file.lastModifiedDate.toLocaleDateString() :\n",
              "                                    'n/a'} - `));\n",
              "    const percent = span('0% done');\n",
              "    li.appendChild(percent);\n",
              "\n",
              "    outputElement.appendChild(li);\n",
              "\n",
              "    const fileDataPromise = new Promise((resolve) => {\n",
              "      const reader = new FileReader();\n",
              "      reader.onload = (e) => {\n",
              "        resolve(e.target.result);\n",
              "      };\n",
              "      reader.readAsArrayBuffer(file);\n",
              "    });\n",
              "    // Wait for the data to be ready.\n",
              "    let fileData = yield {\n",
              "      promise: fileDataPromise,\n",
              "      response: {\n",
              "        action: 'continue',\n",
              "      }\n",
              "    };\n",
              "\n",
              "    // Use a chunked sending to avoid message size limits. See b/62115660.\n",
              "    let position = 0;\n",
              "    do {\n",
              "      const length = Math.min(fileData.byteLength - position, MAX_PAYLOAD_SIZE);\n",
              "      const chunk = new Uint8Array(fileData, position, length);\n",
              "      position += length;\n",
              "\n",
              "      const base64 = btoa(String.fromCharCode.apply(null, chunk));\n",
              "      yield {\n",
              "        response: {\n",
              "          action: 'append',\n",
              "          file: file.name,\n",
              "          data: base64,\n",
              "        },\n",
              "      };\n",
              "\n",
              "      let percentDone = fileData.byteLength === 0 ?\n",
              "          100 :\n",
              "          Math.round((position / fileData.byteLength) * 100);\n",
              "      percent.textContent = `${percentDone}% done`;\n",
              "\n",
              "    } while (position < fileData.byteLength);\n",
              "  }\n",
              "\n",
              "  // All done.\n",
              "  yield {\n",
              "    response: {\n",
              "      action: 'complete',\n",
              "    }\n",
              "  };\n",
              "}\n",
              "\n",
              "scope.google = scope.google || {};\n",
              "scope.google.colab = scope.google.colab || {};\n",
              "scope.google.colab._files = {\n",
              "  _uploadFiles,\n",
              "  _uploadFilesContinue,\n",
              "};\n",
              "})(self);\n",
              "</script> "
            ]
          },
          "metadata": {}
        },
        {
          "output_type": "stream",
          "name": "stdout",
          "text": [
            "Saving kaggle.json to kaggle.json\n"
          ]
        },
        {
          "output_type": "execute_result",
          "data": {
            "text/plain": [
              "{'kaggle.json': b'{\"username\":\"paulinakaczyska\",\"key\":\"a590f81fa200cd408d5cb174df96882a\"}'}"
            ]
          },
          "metadata": {},
          "execution_count": 2
        }
      ]
    },
    {
      "cell_type": "code",
      "source": [
        "  #make sure kaggle.json file is present\n",
        "  !ls -lha kaggle.json\n",
        "\n",
        "  #Install kaggle API client\n",
        "  !pip install -q kaggle\n",
        "\n",
        "  #kaggle API client expects the file to be in ~/.kaggle\n",
        "\n",
        "  #so move it there\n",
        "  !mkdir -p ~/.kaggle\n",
        "  !cp kaggle.json ~/.kaggle/\n",
        "  "
      ],
      "metadata": {
        "colab": {
          "base_uri": "https://localhost:8080/"
        },
        "id": "VNHe2lvVhVKK",
        "outputId": "c2daac33-968c-427d-9482-f0246be98942"
      },
      "execution_count": 3,
      "outputs": [
        {
          "output_type": "stream",
          "name": "stdout",
          "text": [
            "-rw-r--r-- 1 root root 71 Oct 13 14:53 kaggle.json\n"
          ]
        }
      ]
    },
    {
      "cell_type": "code",
      "source": [
        "  #seting permissions\n",
        "  !chmod 600 /root/.kaggle/kaggle.json\n",
        "\n",
        "  #check your directory before downloading the datasets\n",
        "  !pwd"
      ],
      "metadata": {
        "colab": {
          "base_uri": "https://localhost:8080/"
        },
        "id": "f_XMybr9haE4",
        "outputId": "43f918bd-2c41-48db-9714-0fc5257d6095"
      },
      "execution_count": 4,
      "outputs": [
        {
          "output_type": "stream",
          "name": "stdout",
          "text": [
            "/content\n"
          ]
        }
      ]
    },
    {
      "cell_type": "code",
      "source": [
        "#downloading\n",
        "!kaggle datasets download -d whenamancodes/alcohol-effects-on-study\n",
        "\n",
        "#unzipping\n",
        "!unzip alcohol-effects-on-study.zip"
      ],
      "metadata": {
        "colab": {
          "base_uri": "https://localhost:8080/"
        },
        "id": "4Tib4hczfMBT",
        "outputId": "7ed4da33-a0bd-442e-b3e8-8b6956411774"
      },
      "execution_count": 5,
      "outputs": [
        {
          "output_type": "stream",
          "name": "stdout",
          "text": [
            "Downloading alcohol-effects-on-study.zip to /content\n",
            "\r  0% 0.00/18.1k [00:00<?, ?B/s]\n",
            "\r100% 18.1k/18.1k [00:00<00:00, 11.5MB/s]\n",
            "Archive:  alcohol-effects-on-study.zip\n",
            "  inflating: Maths.csv               \n",
            "  inflating: Portuguese.csv          \n"
          ]
        }
      ]
    },
    {
      "cell_type": "markdown",
      "source": [
        "# Data Preprocessing"
      ],
      "metadata": {
        "id": "yNPmtbxrd0z8"
      }
    },
    {
      "cell_type": "code",
      "source": [
        "import torch\n",
        "import torch.nn as nn\n",
        "import torch.nn.functional as F\n",
        "import pandas as pd\n",
        "import numpy as np\n",
        "\n",
        "from torch.utils.data import DataLoader, Dataset\n",
        "from sklearn.model_selection import train_test_split"
      ],
      "metadata": {
        "id": "89YSeL5z0OAG"
      },
      "execution_count": 6,
      "outputs": []
    },
    {
      "cell_type": "code",
      "source": [
        "binary = ['school', 'sex', 'address', 'famsize', 'Pstatus','schoolsup', 'famsup', 'paid', 'activities', 'nursery','higher', 'internet', 'romantic']\n",
        "categorical_nb = ['Mjob', 'Fjob', 'reason', 'guardian']\n",
        "numerical = ['Medu', 'Fedu','traveltime', 'studytime','failures','famrel', 'freetime', 'goout', 'Dalc', 'Walc', 'health', 'absences']"
      ],
      "metadata": {
        "id": "lYbAMqbDtAXv"
      },
      "execution_count": 7,
      "outputs": []
    },
    {
      "cell_type": "markdown",
      "source": [
        "The categorical data are one-hot encoded. Data is divided to input and output."
      ],
      "metadata": {
        "id": "O4UWK7t40xrk"
      }
    },
    {
      "cell_type": "code",
      "source": [
        "math = pd.read_csv(\"Maths.csv\", encoding = \"UTF-8\")\n",
        "port = pd.read_csv(\"Portuguese.csv\", encoding = \"UTF-8\")\n",
        "\n",
        "math_i_c = pd.get_dummies(math[binary+categorical_nb],drop_first = True)\n",
        "port_i_c = pd.get_dummies(port[binary+categorical_nb],drop_first = True)\n",
        "\n",
        "math_o = math.iloc[:,-3:]\n",
        "port_o = port.iloc[:,-3:]\n"
      ],
      "metadata": {
        "id": "qITyAaDN27mo"
      },
      "execution_count": 8,
      "outputs": []
    },
    {
      "cell_type": "markdown",
      "source": [
        "Data is combined into input X and output Y arrays."
      ],
      "metadata": {
        "id": "vZNntaO41fYk"
      }
    },
    {
      "cell_type": "code",
      "source": [
        "\n",
        "math_array = pd.concat([math_i_c,math[numerical]],axis=1).to_numpy()\n",
        "port_array = pd.concat([port_i_c,port[numerical]],axis=1).to_numpy()\n",
        "X = np.concatenate((math_array,port_array),axis = 0)\n",
        "\n",
        "math_array_o = math_o.to_numpy()\n",
        "port_array_o = port_o.to_numpy()\n",
        "Y = np.concatenate((math_array_o,port_array_o),axis = 0)\n"
      ],
      "metadata": {
        "id": "yO4Yk6Zu6UdX"
      },
      "execution_count": 73,
      "outputs": []
    },
    {
      "cell_type": "markdown",
      "source": [
        "Division for test and train dataset is made using train_test_split from sklearn library."
      ],
      "metadata": {
        "id": "ZITcLn_vssdp"
      }
    },
    {
      "cell_type": "code",
      "source": [
        "X_train, X_test, y_train, y_test = train_test_split(X,Y, test_size=200, train_size=len(X)-200)"
      ],
      "metadata": {
        "id": "Q1O38jrjxDA4"
      },
      "execution_count": 10,
      "outputs": []
    },
    {
      "cell_type": "markdown",
      "source": [
        "#Linear Regression"
      ],
      "metadata": {
        "id": "TOVeCInHrzqa"
      }
    },
    {
      "cell_type": "code",
      "source": [
        "from sklearn.linear_model import LinearRegression\n",
        "from sklearn.pipeline import make_pipeline\n",
        "from sklearn.preprocessing import StandardScaler"
      ],
      "metadata": {
        "id": "yZ4UQ4gYp95S"
      },
      "execution_count": 11,
      "outputs": []
    },
    {
      "cell_type": "code",
      "source": [
        "model = LinearRegression()\n",
        "reg = model.fit(X_train, y_train)"
      ],
      "metadata": {
        "id": "NNBRD3pRrMRV"
      },
      "execution_count": 74,
      "outputs": []
    },
    {
      "cell_type": "markdown",
      "source": [
        "The performance is evaluated with Mean Square Error. MSE for grades for 1 period, second period and combined is as follows:"
      ],
      "metadata": {
        "id": "xEz42N_-1wJQ"
      }
    },
    {
      "cell_type": "code",
      "source": [
        "np.mean((y_test-reg.predict(X_test))**2, axis = 0)"
      ],
      "metadata": {
        "colab": {
          "base_uri": "https://localhost:8080/"
        },
        "id": "ffTCeJxWrlZM",
        "outputId": "705b8863-7539-4b19-f768-6b4606dd5f28"
      },
      "execution_count": 75,
      "outputs": [
        {
          "output_type": "execute_result",
          "data": {
            "text/plain": [
              "array([6.20646681, 6.05804657, 7.83107989])"
            ]
          },
          "metadata": {},
          "execution_count": 75
        }
      ]
    },
    {
      "cell_type": "markdown",
      "source": [
        "#Stochastic Gradient Descent Regression"
      ],
      "metadata": {
        "id": "Hv9X4GpYFWM8"
      }
    },
    {
      "cell_type": "code",
      "source": [
        " from sklearn.linear_model import SGDRegressor"
      ],
      "metadata": {
        "id": "nWk4HwuvEImK"
      },
      "execution_count": 52,
      "outputs": []
    },
    {
      "cell_type": "code",
      "source": [
        "sgdr1 = SGDRegressor(loss='squared_error', penalty='l2', alpha=0.0001, l1_ratio=0.15, fit_intercept=True, max_iter=2000).fit(X_train,y_train[:,0])\n",
        "sgdr2 = SGDRegressor(loss='squared_error', penalty='l2', alpha=0.0001, l1_ratio=0.15, fit_intercept=True, max_iter=2000).fit(X_train,y_train[:,1])\n",
        "sgdr3 = SGDRegressor(loss='squared_error', penalty='l2', alpha=0.0001, l1_ratio=0.15, fit_intercept=True, max_iter=2000).fit(X_train,y_train[:,2])"
      ],
      "metadata": {
        "id": "3di9gh2eERx5"
      },
      "execution_count": 70,
      "outputs": []
    },
    {
      "cell_type": "code",
      "source": [
        "print('MSE for the first period',np.mean((y_test[:,0]-sgdr1.predict(X_test))**2, axis = 0))\n",
        "print('MSE for the second period',np.mean((y_test[:,1]-sgdr2.predict(X_test))**2, axis = 0))\n",
        "print('MSE for the whole period',np.mean((y_test[:,2]-sgdr3.predict(X_test))**2, axis = 0))\n"
      ],
      "metadata": {
        "colab": {
          "base_uri": "https://localhost:8080/"
        },
        "id": "xFlXSNImEhpW",
        "outputId": "9e00856d-1fa3-4274-cf92-a7699bcfbb78"
      },
      "execution_count": 71,
      "outputs": [
        {
          "output_type": "stream",
          "name": "stdout",
          "text": [
            "MSE for the first period 7.479915889222295\n",
            "MSE for the second period 6.925738058989849\n",
            "MSE for the whole period 8.358964749275772\n"
          ]
        }
      ]
    },
    {
      "cell_type": "markdown",
      "source": [
        "#Random Forest"
      ],
      "metadata": {
        "id": "zhYyY2P1HcRW"
      }
    },
    {
      "cell_type": "markdown",
      "source": [
        "Next method is Random Forest Regressor"
      ],
      "metadata": {
        "id": "M5VALTjv54er"
      }
    },
    {
      "cell_type": "code",
      "source": [
        "from sklearn.ensemble import RandomForestRegressor\n",
        "\n",
        "rfr = RandomForestRegressor(n_estimators = 300, max_depth=5, random_state=0)\n",
        "forest = rfr.fit(X_train, y_train)"
      ],
      "metadata": {
        "id": "_6vIN5D4HeNi"
      },
      "execution_count": 76,
      "outputs": []
    },
    {
      "cell_type": "markdown",
      "source": [
        "MSE for grades for 1 period, second period and combined is as follows:"
      ],
      "metadata": {
        "id": "xS8XoLLvHbb3"
      }
    },
    {
      "cell_type": "code",
      "source": [
        "np.mean((y_test-forest.predict(X_test))**2, axis = 0)"
      ],
      "metadata": {
        "colab": {
          "base_uri": "https://localhost:8080/"
        },
        "id": "kljxPPSvslUB",
        "outputId": "7590d441-2811-45d6-f56d-f95e3499c202"
      },
      "execution_count": 77,
      "outputs": [
        {
          "output_type": "execute_result",
          "data": {
            "text/plain": [
              "array([6.42762741, 6.6490194 , 7.38385581])"
            ]
          },
          "metadata": {},
          "execution_count": 77
        }
      ]
    },
    {
      "cell_type": "markdown",
      "source": [
        "All methods achieve similar results, although Linear Regression is slightly better. The error of prediction for the whole period is bigger than for the semesters. It is interesting, since, intuitively, long-term variables' effects should be more visible in the longer time horizon."
      ],
      "metadata": {
        "id": "OTMhG_LaGsoe"
      }
    }
  ]
}