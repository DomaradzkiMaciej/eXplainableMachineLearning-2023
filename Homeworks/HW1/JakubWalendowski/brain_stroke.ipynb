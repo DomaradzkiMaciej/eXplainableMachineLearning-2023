{
 "cells": [
  {
   "cell_type": "code",
   "execution_count": 207,
   "metadata": {
    "collapsed": true
   },
   "outputs": [
    {
     "name": "stdout",
     "output_type": "stream",
     "text": [
      "gender               0\n",
      "age                  0\n",
      "hypertension         0\n",
      "heart_disease        0\n",
      "ever_married         0\n",
      "work_type            0\n",
      "Residence_type       0\n",
      "avg_glucose_level    0\n",
      "bmi                  0\n",
      "smoking_status       0\n",
      "stroke               0\n",
      "dtype: int64\n"
     ]
    },
    {
     "data": {
      "text/plain": "      gender   age  hypertension  heart_disease ever_married      work_type  \\\n0       Male  67.0             0              1          Yes        Private   \n1       Male  80.0             0              1          Yes        Private   \n2     Female  49.0             0              0          Yes        Private   \n3     Female  79.0             1              0          Yes  Self-employed   \n4       Male  81.0             0              0          Yes        Private   \n...      ...   ...           ...            ...          ...            ...   \n4976    Male  41.0             0              0           No        Private   \n4977    Male  40.0             0              0          Yes        Private   \n4978  Female  45.0             1              0          Yes       Govt_job   \n4979    Male  40.0             0              0          Yes        Private   \n4980  Female  80.0             1              0          Yes        Private   \n\n     Residence_type  avg_glucose_level   bmi   smoking_status  stroke  \n0             Urban             228.69  36.6  formerly smoked       1  \n1             Rural             105.92  32.5     never smoked       1  \n2             Urban             171.23  34.4           smokes       1  \n3             Rural             174.12  24.0     never smoked       1  \n4             Urban             186.21  29.0  formerly smoked       1  \n...             ...                ...   ...              ...     ...  \n4976          Rural              70.15  29.8  formerly smoked       0  \n4977          Urban             191.15  31.1           smokes       0  \n4978          Rural              95.02  31.8           smokes       0  \n4979          Rural              83.94  30.0           smokes       0  \n4980          Urban              83.75  29.1     never smoked       0  \n\n[4981 rows x 11 columns]",
      "text/html": "<div>\n<style scoped>\n    .dataframe tbody tr th:only-of-type {\n        vertical-align: middle;\n    }\n\n    .dataframe tbody tr th {\n        vertical-align: top;\n    }\n\n    .dataframe thead th {\n        text-align: right;\n    }\n</style>\n<table border=\"1\" class=\"dataframe\">\n  <thead>\n    <tr style=\"text-align: right;\">\n      <th></th>\n      <th>gender</th>\n      <th>age</th>\n      <th>hypertension</th>\n      <th>heart_disease</th>\n      <th>ever_married</th>\n      <th>work_type</th>\n      <th>Residence_type</th>\n      <th>avg_glucose_level</th>\n      <th>bmi</th>\n      <th>smoking_status</th>\n      <th>stroke</th>\n    </tr>\n  </thead>\n  <tbody>\n    <tr>\n      <th>0</th>\n      <td>Male</td>\n      <td>67.0</td>\n      <td>0</td>\n      <td>1</td>\n      <td>Yes</td>\n      <td>Private</td>\n      <td>Urban</td>\n      <td>228.69</td>\n      <td>36.6</td>\n      <td>formerly smoked</td>\n      <td>1</td>\n    </tr>\n    <tr>\n      <th>1</th>\n      <td>Male</td>\n      <td>80.0</td>\n      <td>0</td>\n      <td>1</td>\n      <td>Yes</td>\n      <td>Private</td>\n      <td>Rural</td>\n      <td>105.92</td>\n      <td>32.5</td>\n      <td>never smoked</td>\n      <td>1</td>\n    </tr>\n    <tr>\n      <th>2</th>\n      <td>Female</td>\n      <td>49.0</td>\n      <td>0</td>\n      <td>0</td>\n      <td>Yes</td>\n      <td>Private</td>\n      <td>Urban</td>\n      <td>171.23</td>\n      <td>34.4</td>\n      <td>smokes</td>\n      <td>1</td>\n    </tr>\n    <tr>\n      <th>3</th>\n      <td>Female</td>\n      <td>79.0</td>\n      <td>1</td>\n      <td>0</td>\n      <td>Yes</td>\n      <td>Self-employed</td>\n      <td>Rural</td>\n      <td>174.12</td>\n      <td>24.0</td>\n      <td>never smoked</td>\n      <td>1</td>\n    </tr>\n    <tr>\n      <th>4</th>\n      <td>Male</td>\n      <td>81.0</td>\n      <td>0</td>\n      <td>0</td>\n      <td>Yes</td>\n      <td>Private</td>\n      <td>Urban</td>\n      <td>186.21</td>\n      <td>29.0</td>\n      <td>formerly smoked</td>\n      <td>1</td>\n    </tr>\n    <tr>\n      <th>...</th>\n      <td>...</td>\n      <td>...</td>\n      <td>...</td>\n      <td>...</td>\n      <td>...</td>\n      <td>...</td>\n      <td>...</td>\n      <td>...</td>\n      <td>...</td>\n      <td>...</td>\n      <td>...</td>\n    </tr>\n    <tr>\n      <th>4976</th>\n      <td>Male</td>\n      <td>41.0</td>\n      <td>0</td>\n      <td>0</td>\n      <td>No</td>\n      <td>Private</td>\n      <td>Rural</td>\n      <td>70.15</td>\n      <td>29.8</td>\n      <td>formerly smoked</td>\n      <td>0</td>\n    </tr>\n    <tr>\n      <th>4977</th>\n      <td>Male</td>\n      <td>40.0</td>\n      <td>0</td>\n      <td>0</td>\n      <td>Yes</td>\n      <td>Private</td>\n      <td>Urban</td>\n      <td>191.15</td>\n      <td>31.1</td>\n      <td>smokes</td>\n      <td>0</td>\n    </tr>\n    <tr>\n      <th>4978</th>\n      <td>Female</td>\n      <td>45.0</td>\n      <td>1</td>\n      <td>0</td>\n      <td>Yes</td>\n      <td>Govt_job</td>\n      <td>Rural</td>\n      <td>95.02</td>\n      <td>31.8</td>\n      <td>smokes</td>\n      <td>0</td>\n    </tr>\n    <tr>\n      <th>4979</th>\n      <td>Male</td>\n      <td>40.0</td>\n      <td>0</td>\n      <td>0</td>\n      <td>Yes</td>\n      <td>Private</td>\n      <td>Rural</td>\n      <td>83.94</td>\n      <td>30.0</td>\n      <td>smokes</td>\n      <td>0</td>\n    </tr>\n    <tr>\n      <th>4980</th>\n      <td>Female</td>\n      <td>80.0</td>\n      <td>1</td>\n      <td>0</td>\n      <td>Yes</td>\n      <td>Private</td>\n      <td>Urban</td>\n      <td>83.75</td>\n      <td>29.1</td>\n      <td>never smoked</td>\n      <td>0</td>\n    </tr>\n  </tbody>\n</table>\n<p>4981 rows × 11 columns</p>\n</div>"
     },
     "execution_count": 207,
     "metadata": {},
     "output_type": "execute_result"
    }
   ],
   "source": [
    "import pandas as pd\n",
    "df = pd.read_csv(\"brain_stroke.csv\")\n",
    "print(df.isnull().sum())\n",
    "df"
   ]
  },
  {
   "cell_type": "markdown",
   "source": [
    "There is no missing data in the dataset."
   ],
   "metadata": {
    "collapsed": false
   }
  },
  {
   "cell_type": "code",
   "execution_count": 208,
   "outputs": [
    {
     "data": {
      "text/plain": "stroke\n0    4733\n1     248\ndtype: int64"
     },
     "execution_count": 208,
     "metadata": {},
     "output_type": "execute_result"
    }
   ],
   "source": [
    "df.groupby([\"stroke\"]).size()"
   ],
   "metadata": {
    "collapsed": false
   }
  },
  {
   "cell_type": "markdown",
   "source": [
    "The data is very unbalanced. This will have to be taken into account when training the model."
   ],
   "metadata": {
    "collapsed": false
   }
  },
  {
   "cell_type": "code",
   "execution_count": 209,
   "outputs": [
    {
     "name": "stdout",
     "output_type": "stream",
     "text": [
      "Residence_type\n",
      "Rural    2449\n",
      "Urban    2532\n",
      "dtype: int64\n",
      "ever_married\n",
      "No     1701\n",
      "Yes    3280\n",
      "dtype: int64\n",
      "gender\n",
      "Female    2907\n",
      "Male      2074\n",
      "dtype: int64\n"
     ]
    }
   ],
   "source": [
    "print(df.groupby([\"Residence_type\"]).size())\n",
    "print(df.groupby([\"ever_married\"]).size())\n",
    "print(df.groupby([\"gender\"]).size())"
   ],
   "metadata": {
    "collapsed": false
   }
  },
  {
   "cell_type": "markdown",
   "source": [
    "There are only two values for these columns. These columns can be easily encoded."
   ],
   "metadata": {
    "collapsed": false
   }
  },
  {
   "cell_type": "code",
   "execution_count": 210,
   "outputs": [
    {
     "name": "stdout",
     "output_type": "stream",
     "text": [
      "work_type\n",
      "Govt_job          644\n",
      "Private          2860\n",
      "Self-employed     804\n",
      "children          673\n",
      "dtype: int64\n",
      "smoking_status   stroke\n",
      "Unknown          0         1453\n",
      "                 1           47\n",
      "formerly smoked  0          797\n",
      "                 1           70\n",
      "never smoked     0         1749\n",
      "                 1           89\n",
      "smokes           0          734\n",
      "                 1           42\n",
      "dtype: int64\n"
     ]
    }
   ],
   "source": [
    "print(df.groupby([\"work_type\"]).size())\n",
    "print(df.groupby([\"smoking_status\", \"stroke\"]).size())"
   ],
   "metadata": {
    "collapsed": false
   }
  },
  {
   "cell_type": "markdown",
   "source": [
    "Data about the work type can be encoded with one hot encoding, and the data about smoking_data looks useless, because there is a large part of the unknown fields."
   ],
   "metadata": {
    "collapsed": false
   }
  },
  {
   "cell_type": "code",
   "execution_count": 211,
   "outputs": [
    {
     "data": {
      "text/plain": "      gender       age  hypertension  heart_disease  ever_married  \\\n0        1.0  0.816895             0              1           1.0   \n1        1.0  0.975586             0              1           1.0   \n2        0.0  0.597168             0              0           1.0   \n3        0.0  0.963379             1              0           1.0   \n4        1.0  0.987793             0              0           1.0   \n...      ...       ...           ...            ...           ...   \n4976     1.0  0.499512             0              0           0.0   \n4977     1.0  0.487305             0              0           1.0   \n4978     0.0  0.548340             1              0           1.0   \n4979     1.0  0.487305             0              0           1.0   \n4980     0.0  0.975586             1              0           1.0   \n\n      Residence_type  avg_glucose_level       bmi  stroke  work_type_Govt_job  \\\n0                1.0           0.801265  0.647564       1                   0   \n1                0.0           0.234512  0.530086       1                   0   \n2                1.0           0.536008  0.584527       1                   0   \n3                0.0           0.549349  0.286533       1                   0   \n4                1.0           0.605161  0.429799       1                   0   \n...              ...                ...       ...     ...                 ...   \n4976             0.0           0.069384  0.452722       0                   0   \n4977             1.0           0.627966  0.489971       0                   0   \n4978             0.0           0.184194  0.510029       0                   1   \n4979             0.0           0.133044  0.458453       0                   0   \n4980             1.0           0.132167  0.432665       0                   0   \n\n      work_type_Private  work_type_Self-employed  work_type_children  \n0                     1                        0                   0  \n1                     1                        0                   0  \n2                     1                        0                   0  \n3                     0                        1                   0  \n4                     1                        0                   0  \n...                 ...                      ...                 ...  \n4976                  1                        0                   0  \n4977                  1                        0                   0  \n4978                  0                        0                   0  \n4979                  1                        0                   0  \n4980                  1                        0                   0  \n\n[4981 rows x 13 columns]",
      "text/html": "<div>\n<style scoped>\n    .dataframe tbody tr th:only-of-type {\n        vertical-align: middle;\n    }\n\n    .dataframe tbody tr th {\n        vertical-align: top;\n    }\n\n    .dataframe thead th {\n        text-align: right;\n    }\n</style>\n<table border=\"1\" class=\"dataframe\">\n  <thead>\n    <tr style=\"text-align: right;\">\n      <th></th>\n      <th>gender</th>\n      <th>age</th>\n      <th>hypertension</th>\n      <th>heart_disease</th>\n      <th>ever_married</th>\n      <th>Residence_type</th>\n      <th>avg_glucose_level</th>\n      <th>bmi</th>\n      <th>stroke</th>\n      <th>work_type_Govt_job</th>\n      <th>work_type_Private</th>\n      <th>work_type_Self-employed</th>\n      <th>work_type_children</th>\n    </tr>\n  </thead>\n  <tbody>\n    <tr>\n      <th>0</th>\n      <td>1.0</td>\n      <td>0.816895</td>\n      <td>0</td>\n      <td>1</td>\n      <td>1.0</td>\n      <td>1.0</td>\n      <td>0.801265</td>\n      <td>0.647564</td>\n      <td>1</td>\n      <td>0</td>\n      <td>1</td>\n      <td>0</td>\n      <td>0</td>\n    </tr>\n    <tr>\n      <th>1</th>\n      <td>1.0</td>\n      <td>0.975586</td>\n      <td>0</td>\n      <td>1</td>\n      <td>1.0</td>\n      <td>0.0</td>\n      <td>0.234512</td>\n      <td>0.530086</td>\n      <td>1</td>\n      <td>0</td>\n      <td>1</td>\n      <td>0</td>\n      <td>0</td>\n    </tr>\n    <tr>\n      <th>2</th>\n      <td>0.0</td>\n      <td>0.597168</td>\n      <td>0</td>\n      <td>0</td>\n      <td>1.0</td>\n      <td>1.0</td>\n      <td>0.536008</td>\n      <td>0.584527</td>\n      <td>1</td>\n      <td>0</td>\n      <td>1</td>\n      <td>0</td>\n      <td>0</td>\n    </tr>\n    <tr>\n      <th>3</th>\n      <td>0.0</td>\n      <td>0.963379</td>\n      <td>1</td>\n      <td>0</td>\n      <td>1.0</td>\n      <td>0.0</td>\n      <td>0.549349</td>\n      <td>0.286533</td>\n      <td>1</td>\n      <td>0</td>\n      <td>0</td>\n      <td>1</td>\n      <td>0</td>\n    </tr>\n    <tr>\n      <th>4</th>\n      <td>1.0</td>\n      <td>0.987793</td>\n      <td>0</td>\n      <td>0</td>\n      <td>1.0</td>\n      <td>1.0</td>\n      <td>0.605161</td>\n      <td>0.429799</td>\n      <td>1</td>\n      <td>0</td>\n      <td>1</td>\n      <td>0</td>\n      <td>0</td>\n    </tr>\n    <tr>\n      <th>...</th>\n      <td>...</td>\n      <td>...</td>\n      <td>...</td>\n      <td>...</td>\n      <td>...</td>\n      <td>...</td>\n      <td>...</td>\n      <td>...</td>\n      <td>...</td>\n      <td>...</td>\n      <td>...</td>\n      <td>...</td>\n      <td>...</td>\n    </tr>\n    <tr>\n      <th>4976</th>\n      <td>1.0</td>\n      <td>0.499512</td>\n      <td>0</td>\n      <td>0</td>\n      <td>0.0</td>\n      <td>0.0</td>\n      <td>0.069384</td>\n      <td>0.452722</td>\n      <td>0</td>\n      <td>0</td>\n      <td>1</td>\n      <td>0</td>\n      <td>0</td>\n    </tr>\n    <tr>\n      <th>4977</th>\n      <td>1.0</td>\n      <td>0.487305</td>\n      <td>0</td>\n      <td>0</td>\n      <td>1.0</td>\n      <td>1.0</td>\n      <td>0.627966</td>\n      <td>0.489971</td>\n      <td>0</td>\n      <td>0</td>\n      <td>1</td>\n      <td>0</td>\n      <td>0</td>\n    </tr>\n    <tr>\n      <th>4978</th>\n      <td>0.0</td>\n      <td>0.548340</td>\n      <td>1</td>\n      <td>0</td>\n      <td>1.0</td>\n      <td>0.0</td>\n      <td>0.184194</td>\n      <td>0.510029</td>\n      <td>0</td>\n      <td>1</td>\n      <td>0</td>\n      <td>0</td>\n      <td>0</td>\n    </tr>\n    <tr>\n      <th>4979</th>\n      <td>1.0</td>\n      <td>0.487305</td>\n      <td>0</td>\n      <td>0</td>\n      <td>1.0</td>\n      <td>0.0</td>\n      <td>0.133044</td>\n      <td>0.458453</td>\n      <td>0</td>\n      <td>0</td>\n      <td>1</td>\n      <td>0</td>\n      <td>0</td>\n    </tr>\n    <tr>\n      <th>4980</th>\n      <td>0.0</td>\n      <td>0.975586</td>\n      <td>1</td>\n      <td>0</td>\n      <td>1.0</td>\n      <td>1.0</td>\n      <td>0.132167</td>\n      <td>0.432665</td>\n      <td>0</td>\n      <td>0</td>\n      <td>1</td>\n      <td>0</td>\n      <td>0</td>\n    </tr>\n  </tbody>\n</table>\n<p>4981 rows × 13 columns</p>\n</div>"
     },
     "execution_count": 211,
     "metadata": {},
     "output_type": "execute_result"
    }
   ],
   "source": [
    "from sklearn.preprocessing import minmax_scale, OrdinalEncoder\n",
    "enc = OrdinalEncoder()\n",
    "df[[\"Residence_type\", \"ever_married\", \"gender\"]] = enc.fit_transform(df[[\"Residence_type\", \"ever_married\", \"gender\"]])\n",
    "df = pd.get_dummies(df, columns=[\"work_type\"])\n",
    "df = df.drop(columns=[\"smoking_status\"])\n",
    "df[['age','avg_glucose_level','bmi']] = minmax_scale(df[['age','avg_glucose_level','bmi']])\n",
    "df"
   ],
   "metadata": {
    "collapsed": false
   }
  },
  {
   "cell_type": "code",
   "execution_count": 274,
   "outputs": [],
   "source": [
    "from sklearn.model_selection import train_test_split\n",
    "X = df.drop(\"stroke\", axis=1)\n",
    "y = df[\"stroke\"]\n",
    "X_train, X_test, y_train, y_test = train_test_split(X, y, shuffle=True, random_state=5)\n",
    "from imblearn.over_sampling import SMOTE\n",
    "oversample = SMOTE()\n",
    "X_train, y_train = oversample.fit_resample(X_train, y_train)"
   ],
   "metadata": {
    "collapsed": false
   }
  },
  {
   "cell_type": "markdown",
   "source": [
    "To deal with the unbalanced dataset, I performed oversampling on the training dataset."
   ],
   "metadata": {
    "collapsed": false
   }
  },
  {
   "cell_type": "code",
   "execution_count": 275,
   "outputs": [
    {
     "name": "stdout",
     "output_type": "stream",
     "text": [
      "              precision    recall  f1-score   support\n",
      "\n",
      "           0       0.98      0.74      0.85      1182\n",
      "           1       0.14      0.75      0.23        64\n",
      "\n",
      "    accuracy                           0.74      1246\n",
      "   macro avg       0.56      0.75      0.54      1246\n",
      "weighted avg       0.94      0.74      0.81      1246\n",
      "\n",
      "              precision    recall  f1-score   support\n",
      "\n",
      "           0       0.82      0.73      0.77      3551\n",
      "           1       0.76      0.84      0.80      3551\n",
      "\n",
      "    accuracy                           0.79      7102\n",
      "   macro avg       0.79      0.79      0.79      7102\n",
      "weighted avg       0.79      0.79      0.79      7102\n",
      "\n"
     ]
    }
   ],
   "source": [
    "from sklearn.linear_model import LogisticRegression\n",
    "from sklearn.metrics import classification_report\n",
    "lr = LogisticRegression(max_iter=1000)\n",
    "lr.fit(X_train, y_train)\n",
    "y_pred = lr.predict(X_test)\n",
    "y_pred_train = lr.predict(X_train)\n",
    "print(classification_report(y_test, y_pred))\n",
    "print(classification_report(y_train, y_pred_train))"
   ],
   "metadata": {
    "collapsed": false
   }
  },
  {
   "cell_type": "code",
   "execution_count": 278,
   "outputs": [
    {
     "name": "stdout",
     "output_type": "stream",
     "text": [
      "              precision    recall  f1-score   support\n",
      "\n",
      "           0       0.98      0.71      0.82      1182\n",
      "           1       0.13      0.80      0.22        64\n",
      "\n",
      "    accuracy                           0.71      1246\n",
      "   macro avg       0.56      0.75      0.52      1246\n",
      "weighted avg       0.94      0.71      0.79      1246\n",
      "\n",
      "              precision    recall  f1-score   support\n",
      "\n",
      "           0       0.88      0.70      0.78      3551\n",
      "           1       0.75      0.91      0.82      3551\n",
      "\n",
      "    accuracy                           0.80      7102\n",
      "   macro avg       0.82      0.80      0.80      7102\n",
      "weighted avg       0.82      0.80      0.80      7102\n",
      "\n"
     ]
    }
   ],
   "source": [
    "from sklearn.ensemble import RandomForestClassifier\n",
    "rfc = RandomForestClassifier(max_depth=4, random_state=0)\n",
    "rfc.fit(X_train, y_train)\n",
    "y_pred = rfc.predict(X_test)\n",
    "y_pred_train = rfc.predict(X_train)\n",
    "print(classification_report(y_test, y_pred))\n",
    "print(classification_report(y_train, y_pred_train))"
   ],
   "metadata": {
    "collapsed": false
   }
  },
  {
   "cell_type": "markdown",
   "source": [
    "The max_depth of the tree had to be significantly reduced to avoid overfitting. A shallow tree performs better than linear regression. The recall results are at the good level, which is satisfactory for this type of classification. In this case it is better to have more false positives (poor precision) than many false negatives."
   ],
   "metadata": {
    "collapsed": false
   }
  }
 ],
 "metadata": {
  "kernelspec": {
   "display_name": "Python 3",
   "language": "python",
   "name": "python3"
  },
  "language_info": {
   "codemirror_mode": {
    "name": "ipython",
    "version": 2
   },
   "file_extension": ".py",
   "mimetype": "text/x-python",
   "name": "python",
   "nbconvert_exporter": "python",
   "pygments_lexer": "ipython2",
   "version": "2.7.6"
  }
 },
 "nbformat": 4,
 "nbformat_minor": 0
}
