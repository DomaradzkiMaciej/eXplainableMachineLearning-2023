{
 "cells": [
  {
   "cell_type": "markdown",
   "metadata": {},
   "source": [
    "# Brain Stroke Dataset - Analysis, Part IV\n",
    "\n",
    "**Author:** Jakub Bednarz\n",
    "\n",
    "**Previous parts**: [Part I](https://github.com/mim-uw/eXplainableMachineLearning-2023/blob/main/Homeworks/HW1/JakubBednarz/Analysis.ipynb), [Part II](https://htmlpreview.github.io/?https://github.com/mim-uw/eXplainableMachineLearning-2023/blob/main/Homeworks/HW2/JakubBednarz/Analysis%2C%20Part%20II.html), [Part III](https://htmlpreview.github.io/?https://github.com/mim-uw/eXplainableMachineLearning-2023/blob/main/Homeworks/HW3/JakubBednarz/Analysis%2C%20Part%20III.html)."
   ]
  },
  {
   "cell_type": "code",
   "execution_count": 41,
   "metadata": {},
   "outputs": [
    {
     "data": {
      "text/html": [
       "        <script type=\"text/javascript\">\n",
       "        window.PlotlyConfig = {MathJaxConfig: 'local'};\n",
       "        if (window.MathJax && window.MathJax.Hub && window.MathJax.Hub.Config) {window.MathJax.Hub.Config({SVG: {font: \"STIX-Web\"}});}\n",
       "        if (typeof require !== 'undefined') {\n",
       "        require.undef(\"plotly\");\n",
       "        requirejs.config({\n",
       "            paths: {\n",
       "                'plotly': ['https://cdn.plot.ly/plotly-2.14.0.min']\n",
       "            }\n",
       "        });\n",
       "        require(['plotly'], function(Plotly) {\n",
       "            window._Plotly = Plotly;\n",
       "        });\n",
       "        }\n",
       "        </script>\n",
       "        "
      ]
     },
     "metadata": {},
     "output_type": "display_data"
    }
   ],
   "source": [
    "import pandas as pd\n",
    "import matplotlib.pyplot as plt\n",
    "import numpy as np\n",
    "from typing import Union\n",
    "import plotly\n",
    "import plotly.offline as py\n",
    "import plotly.io as pio\n",
    "from scipy.special import logit\n",
    "from copy import deepcopy\n",
    "import warnings\n",
    "warnings.filterwarnings(action=\"ignore\")\n",
    "pio.renderers.default = \"notebook\"\n",
    "plotly.offline.init_notebook_mode(connected=True)\n",
    "\n",
    "from sklearn.preprocessing import OneHotEncoder, OrdinalEncoder\n",
    "from sklearn.pipeline import Pipeline\n",
    "from sklearn.compose import ColumnTransformer\n",
    "from sklearn.model_selection import train_test_split\n",
    "from sklearn.model_selection import cross_val_score, StratifiedKFold\n",
    "from sklearn.base import BaseEstimator, ClassifierMixin\n",
    "from xgboost.sklearn import XGBClassifier\n",
    "from sklearn.linear_model import LogisticRegressionCV, LogisticRegression\n",
    "from sklearn.metrics import roc_auc_score\n",
    "from sklearn.utils.class_weight import compute_sample_weight\n",
    "\n",
    "import optuna\n",
    "from optuna.trial import Trial, FrozenTrial\n",
    "from optuna.integration.sklearn import OptunaSearchCV\n",
    "\n",
    "import shap\n",
    "import shap.maskers\n",
    "import dalex\n",
    "import lime"
   ]
  },
  {
   "cell_type": "code",
   "execution_count": 42,
   "metadata": {},
   "outputs": [],
   "source": [
    "df = pd.read_csv(\"brain_stroke.csv\")\n",
    "for col in (\"hypertension\", \"heart_disease\"):\n",
    "    df[col] = df[col].apply(lambda idx: [\"No\", \"Yes\"][idx])"
   ]
  },
  {
   "cell_type": "code",
   "execution_count": 43,
   "metadata": {},
   "outputs": [],
   "source": [
    "# for name, values in df.select_dtypes(\"object\").iteritems():\n",
    "#     print(name, values.unique())"
   ]
  },
  {
   "cell_type": "code",
   "execution_count": 44,
   "metadata": {},
   "outputs": [],
   "source": [
    "class ColumnTransformerEx(ColumnTransformer):\n",
    "    def transform(self, X):\n",
    "        if isinstance(X, pd.DataFrame):\n",
    "            return pd.DataFrame(\n",
    "                data=np.asarray(super().transform(X)),\n",
    "                columns=self.get_feature_names_out(),\n",
    "                index=X.index,\n",
    "            )\n",
    "        else:\n",
    "            return super().transform(X)\n",
    "    \n",
    "    def fit_transform(self, X, y=None):\n",
    "        if isinstance(X, pd.DataFrame):\n",
    "            return pd.DataFrame(\n",
    "                data=np.asarray(super().fit_transform(X, y)),\n",
    "                columns=self.get_feature_names_out(),\n",
    "                index=X.index,\n",
    "            )\n",
    "        else:\n",
    "            return super().fit_transform(X, y)\n",
    "\n",
    "cat_features = [\n",
    "    \"gender\",\n",
    "    \"ever_married\",\n",
    "    \"work_type\",\n",
    "    \"Residence_type\",\n",
    "    \"smoking_status\",\n",
    "    \"hypertension\",\n",
    "    \"heart_disease\",\n",
    "]\n",
    "\n",
    "one_tf = ColumnTransformerEx(\n",
    "    transformers=[\n",
    "        (col, OneHotEncoder(drop=\"if_binary\"), [col])\n",
    "        for col in cat_features],\n",
    "    remainder=\"passthrough\",\n",
    "    verbose_feature_names_out=False,\n",
    ")\n",
    "\n",
    "ord_tf = ColumnTransformerEx(\n",
    "    transformers=[\n",
    "        (col, OrdinalEncoder(), [col])\n",
    "        for col in cat_features],\n",
    "    remainder=\"passthrough\",\n",
    "    verbose_feature_names_out=False,\n",
    ")\n",
    "\n",
    "one_df = one_tf.fit_transform(df)\n",
    "ord_df = ord_tf.fit_transform(df)\n",
    "\n",
    "all_features = ord_df.columns.tolist()\n",
    "\n",
    "cat_idxes = [all_features.index(feat) for feat in cat_features]\n",
    "\n",
    "cat_names = {\n",
    "    idx: OrdinalEncoder().fit(df[[feat]]).categories_[0]\n",
    "    for idx, feat in zip(cat_idxes, cat_features)\n",
    "}\n",
    "\n",
    "X_tf = ColumnTransformerEx(\n",
    "    transformers=[\n",
    "        (col, OneHotEncoder(drop=\"if_binary\"), [col])\n",
    "        for col in cat_features],\n",
    "    remainder=\"passthrough\",\n",
    "    verbose_feature_names_out=False,\n",
    ")"
   ]
  },
  {
   "cell_type": "code",
   "execution_count": 45,
   "metadata": {},
   "outputs": [],
   "source": [
    "def split(df):\n",
    "    X, y = df.drop(columns=[\"stroke\"]), df[\"stroke\"]\n",
    "    train_X, test_X, train_y, test_y = \\\n",
    "        train_test_split(X, y, test_size=0.2, random_state=42, stratify=y)\n",
    "    return train_X, test_X, train_y, test_y\n",
    "\n",
    "train_X, test_X, train_y, test_y = split(df)\n",
    "X_tf = X_tf.fit(train_X)\n",
    "train_X_one, test_X_one, train_y_one, test_y_one = split(one_df)\n",
    "train_X_ord, test_X_ord, train_y_ord, test_y_ord = split(ord_df)"
   ]
  },
  {
   "cell_type": "code",
   "execution_count": 46,
   "metadata": {},
   "outputs": [],
   "source": [
    "conv_tf = ColumnTransformer(\n",
    "    transformers=[\n",
    "        (col, OneHotEncoder(drop=\"if_binary\"), [idx])\n",
    "        for col, idx in zip(cat_features, cat_idxes)],\n",
    "    remainder=\"passthrough\",\n",
    "    verbose_feature_names_out=False,\n",
    ")\n",
    "\n",
    "conv_tf = conv_tf.fit(ord_df.drop(columns=[\"stroke\"]).to_numpy())"
   ]
  },
  {
   "cell_type": "code",
   "execution_count": 47,
   "metadata": {},
   "outputs": [],
   "source": [
    "class OptunaTrainer:\n",
    "    def fit(self, X, y):\n",
    "        def model_fn(trial: Union[Trial, FrozenTrial]):\n",
    "            return XGBClassifier(\n",
    "                max_depth=int(trial.suggest_float(\"max_depth\", 3, 18, step=1)),\n",
    "                gamma=trial.suggest_float(\"gamma\", 1, 9),\n",
    "                reg_alpha=int(trial.suggest_float(\"reg_alpha\", 40, 180, step=1)),\n",
    "                reg_lambda=trial.suggest_float(\"reg_lambda\", 0, 1),\n",
    "                colsample_bytree=trial.suggest_float(\"colsample_bytree\", 0.5, 1),\n",
    "                min_child_weight=int(trial.suggest_float(\"min_child_weight\", 0, 10, step=1)),\n",
    "                n_estimators=180,\n",
    "                seed=42,\n",
    "            )\n",
    "\n",
    "        sample_wt = compute_sample_weight(\n",
    "            class_weight=\"balanced\",\n",
    "            y=y,\n",
    "        )\n",
    "        \n",
    "        fit_params = dict(\n",
    "            sample_weight=sample_wt,\n",
    "        )\n",
    "\n",
    "        def objective(trial: optuna.Trial):\n",
    "            model = model_fn(trial)\n",
    "            return np.min(cross_val_score(model, X, y, scoring=\"roc_auc\", fit_params=fit_params))\n",
    "        \n",
    "        optuna.logging.set_verbosity(optuna.logging.WARN)\n",
    "        sampler = optuna.samplers.TPESampler(seed=99)\n",
    "        study = optuna.create_study(direction=\"maximize\", sampler=sampler)\n",
    "        study.optimize(objective, n_trials=16)\n",
    "\n",
    "        model = model_fn(study.best_trial)\n",
    "        model.fit(X, y, **fit_params)\n",
    "        return model\n",
    "\n",
    "xgb_model = OptunaTrainer().fit(train_X_one, train_y_one)"
   ]
  },
  {
   "cell_type": "code",
   "execution_count": 48,
   "metadata": {},
   "outputs": [],
   "source": [
    "# roc_auc_score(test_y, xgb_model.predict(test_X))"
   ]
  },
  {
   "cell_type": "code",
   "execution_count": 49,
   "metadata": {},
   "outputs": [],
   "source": [
    "lr_model_cv = LogisticRegressionCV(\n",
    "    solver=\"liblinear\",\n",
    "    scoring=\"roc_auc\",\n",
    "    class_weight=\"balanced\",\n",
    ")\n",
    "\n",
    "lr_model_cv = lr_model_cv.fit(train_X_one, train_y_one)\n",
    "\n",
    "lr_model = LogisticRegression(\n",
    "    solver=\"liblinear\",\n",
    "    class_weight=\"balanced\",\n",
    "    C=lr_model_cv.C_[0],\n",
    ")\n",
    "\n",
    "lr_model = lr_model.fit(train_X_one, train_y_one)"
   ]
  },
  {
   "cell_type": "markdown",
   "metadata": {},
   "source": [
    "## Introduction\n",
    "\n",
    "In this report, having looked at the explanations given by SHAP and LIME, we will now focus on a number of other methods: *Ceteris Paribus* (CP), *Partial Dependence Profiles* (PDP) and variants such as *Accumulated Local Effects* (ALE). The goal is to gain some intuition of the results they yield by computing the variable attributions by hand for a simple example, and evaluating them for a real-world dataset."
   ]
  },
  {
   "cell_type": "markdown",
   "metadata": {},
   "source": [
    "## Toy example\n",
    "\n",
    "We will compute PDP for a following model: $$f(x_1, x_2) = (x_1 + x_2)^2$$, where $x_1, x_2 \\sim \\mathcal{U}[-1, 1]$ and $x_1 = x_2$. From the definition of the PD profile for $x_1$, $$g_{PD}^{x_1}(t) = E[f(x_1, x_2) \\mid x_1 = t] = 4t^2$$, and the same holds for $x_2$ since they're interchangeable."
   ]
  },
  {
   "cell_type": "markdown",
   "metadata": {},
   "source": [
    "## Practical examples"
   ]
  },
  {
   "cell_type": "markdown",
   "metadata": {},
   "source": [
    "Let's now look at the Ceteris Paribus and Partial Dependency profiles in a real-world dataset case. As before, we shall target the brain stroke dataset. First, let's pick an observation and see how the predictions of our model change when we vary the `bmi` variable in some range."
   ]
  },
  {
   "cell_type": "code",
   "execution_count": 50,
   "metadata": {},
   "outputs": [
    {
     "data": {
      "text/html": [
       "<div>\n",
       "<style scoped>\n",
       "    .dataframe tbody tr th:only-of-type {\n",
       "        vertical-align: middle;\n",
       "    }\n",
       "\n",
       "    .dataframe tbody tr th {\n",
       "        vertical-align: top;\n",
       "    }\n",
       "\n",
       "    .dataframe thead th {\n",
       "        text-align: right;\n",
       "    }\n",
       "</style>\n",
       "<table border=\"1\" class=\"dataframe\">\n",
       "  <thead>\n",
       "    <tr style=\"text-align: right;\">\n",
       "      <th></th>\n",
       "      <th>4379</th>\n",
       "      <th>2473</th>\n",
       "    </tr>\n",
       "  </thead>\n",
       "  <tbody>\n",
       "    <tr>\n",
       "      <th>gender</th>\n",
       "      <td>Male</td>\n",
       "      <td>Male</td>\n",
       "    </tr>\n",
       "    <tr>\n",
       "      <th>age</th>\n",
       "      <td>31.0</td>\n",
       "      <td>66.0</td>\n",
       "    </tr>\n",
       "    <tr>\n",
       "      <th>hypertension</th>\n",
       "      <td>No</td>\n",
       "      <td>Yes</td>\n",
       "    </tr>\n",
       "    <tr>\n",
       "      <th>heart_disease</th>\n",
       "      <td>No</td>\n",
       "      <td>No</td>\n",
       "    </tr>\n",
       "    <tr>\n",
       "      <th>ever_married</th>\n",
       "      <td>No</td>\n",
       "      <td>Yes</td>\n",
       "    </tr>\n",
       "    <tr>\n",
       "      <th>work_type</th>\n",
       "      <td>Self-employed</td>\n",
       "      <td>Private</td>\n",
       "    </tr>\n",
       "    <tr>\n",
       "      <th>Residence_type</th>\n",
       "      <td>Rural</td>\n",
       "      <td>Urban</td>\n",
       "    </tr>\n",
       "    <tr>\n",
       "      <th>avg_glucose_level</th>\n",
       "      <td>64.85</td>\n",
       "      <td>82.91</td>\n",
       "    </tr>\n",
       "    <tr>\n",
       "      <th>bmi</th>\n",
       "      <td>23.0</td>\n",
       "      <td>28.9</td>\n",
       "    </tr>\n",
       "    <tr>\n",
       "      <th>smoking_status</th>\n",
       "      <td>Unknown</td>\n",
       "      <td>formerly smoked</td>\n",
       "    </tr>\n",
       "    <tr>\n",
       "      <th>stroke</th>\n",
       "      <td>0</td>\n",
       "      <td>0</td>\n",
       "    </tr>\n",
       "  </tbody>\n",
       "</table>\n",
       "</div>"
      ],
      "text/plain": [
       "                            4379             2473\n",
       "gender                      Male             Male\n",
       "age                         31.0             66.0\n",
       "hypertension                  No              Yes\n",
       "heart_disease                 No               No\n",
       "ever_married                  No              Yes\n",
       "work_type          Self-employed          Private\n",
       "Residence_type             Rural            Urban\n",
       "avg_glucose_level          64.85            82.91\n",
       "bmi                         23.0             28.9\n",
       "smoking_status           Unknown  formerly smoked\n",
       "stroke                         0                0"
      ]
     },
     "execution_count": 50,
     "metadata": {},
     "output_type": "execute_result"
    }
   ],
   "source": [
    "gen = np.random.default_rng(seed=0)\n",
    "idxes = gen.choice(len(test_X), size=2)\n",
    "obs = test_X.iloc[idxes]\n",
    "pd.concat([test_X, test_y], axis=\"columns\").iloc[idxes].T"
   ]
  },
  {
   "cell_type": "code",
   "execution_count": 51,
   "metadata": {},
   "outputs": [],
   "source": [
    "from typing import Dict\n",
    "from numpy.typing import ArrayLike\n",
    "\n",
    "def ceteris_paribus(model, x: pd.Series, var_name: str, values: ArrayLike):\n",
    "    X = pd.DataFrame(x).T\n",
    "    n = len(values)\n",
    "    X = X.loc[X.index.repeat(n)].reset_index(drop=True)\n",
    "    X[var_name] = values\n",
    "    X = X_tf.transform(X)\n",
    "    return model.predict_proba(X.values)[:,-1]"
   ]
  },
  {
   "cell_type": "code",
   "execution_count": 52,
   "metadata": {},
   "outputs": [
    {
     "data": {
      "application/vnd.plotly.v1+json": {
       "config": {
        "plotlyServerURL": "https://plot.ly"
       },
       "data": [
        {
         "mode": "lines",
         "type": "scatter",
         "x": [
          0,
          0.1,
          0.2,
          0.30000000000000004,
          0.4,
          0.5,
          0.6000000000000001,
          0.7000000000000001,
          0.8,
          0.9,
          1,
          1.1,
          1.2000000000000002,
          1.3,
          1.4000000000000001,
          1.5,
          1.6,
          1.7000000000000002,
          1.8,
          1.9000000000000001,
          2,
          2.1,
          2.2,
          2.3000000000000003,
          2.4000000000000004,
          2.5,
          2.6,
          2.7,
          2.8000000000000003,
          2.9000000000000004,
          3,
          3.1,
          3.2,
          3.3000000000000003,
          3.4000000000000004,
          3.5,
          3.6,
          3.7,
          3.8000000000000003,
          3.9000000000000004,
          4,
          4.1000000000000005,
          4.2,
          4.3,
          4.4,
          4.5,
          4.6000000000000005,
          4.7,
          4.800000000000001,
          4.9,
          5,
          5.1000000000000005,
          5.2,
          5.300000000000001,
          5.4,
          5.5,
          5.6000000000000005,
          5.7,
          5.800000000000001,
          5.9,
          6,
          6.1000000000000005,
          6.2,
          6.300000000000001,
          6.4,
          6.5,
          6.6000000000000005,
          6.7,
          6.800000000000001,
          6.9,
          7,
          7.1000000000000005,
          7.2,
          7.300000000000001,
          7.4,
          7.5,
          7.6000000000000005,
          7.7,
          7.800000000000001,
          7.9,
          8,
          8.1,
          8.200000000000001,
          8.3,
          8.4,
          8.5,
          8.6,
          8.700000000000001,
          8.8,
          8.9,
          9,
          9.1,
          9.200000000000001,
          9.3,
          9.4,
          9.5,
          9.600000000000001,
          9.700000000000001,
          9.8,
          9.9,
          10,
          10.100000000000001,
          10.200000000000001,
          10.3,
          10.4,
          10.5,
          10.600000000000001,
          10.700000000000001,
          10.8,
          10.9,
          11,
          11.100000000000001,
          11.200000000000001,
          11.3,
          11.4,
          11.5,
          11.600000000000001,
          11.700000000000001,
          11.8,
          11.9,
          12,
          12.100000000000001,
          12.200000000000001,
          12.3,
          12.4,
          12.5,
          12.600000000000001,
          12.700000000000001,
          12.8,
          12.9,
          13,
          13.100000000000001,
          13.200000000000001,
          13.3,
          13.4,
          13.5,
          13.600000000000001,
          13.700000000000001,
          13.8,
          13.9,
          14,
          14.100000000000001,
          14.200000000000001,
          14.3,
          14.4,
          14.5,
          14.600000000000001,
          14.700000000000001,
          14.8,
          14.9,
          15,
          15.100000000000001,
          15.200000000000001,
          15.3,
          15.4,
          15.5,
          15.600000000000001,
          15.700000000000001,
          15.8,
          15.9,
          16,
          16.1,
          16.2,
          16.3,
          16.400000000000002,
          16.5,
          16.6,
          16.7,
          16.8,
          16.900000000000002,
          17,
          17.1,
          17.2,
          17.3,
          17.400000000000002,
          17.5,
          17.6,
          17.7,
          17.8,
          17.900000000000002,
          18,
          18.1,
          18.2,
          18.3,
          18.400000000000002,
          18.5,
          18.6,
          18.7,
          18.8,
          18.900000000000002,
          19,
          19.1,
          19.200000000000003,
          19.3,
          19.400000000000002,
          19.5,
          19.6,
          19.700000000000003,
          19.8,
          19.900000000000002,
          20,
          20.1,
          20.200000000000003,
          20.3,
          20.400000000000002,
          20.5,
          20.6,
          20.700000000000003,
          20.8,
          20.900000000000002,
          21,
          21.1,
          21.200000000000003,
          21.3,
          21.400000000000002,
          21.5,
          21.6,
          21.700000000000003,
          21.8,
          21.900000000000002,
          22,
          22.1,
          22.200000000000003,
          22.3,
          22.400000000000002,
          22.5,
          22.6,
          22.700000000000003,
          22.8,
          22.900000000000002,
          23,
          23.1,
          23.200000000000003,
          23.3,
          23.400000000000002,
          23.5,
          23.6,
          23.700000000000003,
          23.8,
          23.900000000000002,
          24,
          24.1,
          24.200000000000003,
          24.3,
          24.400000000000002,
          24.5,
          24.6,
          24.700000000000003,
          24.8,
          24.900000000000002,
          25,
          25.1,
          25.200000000000003,
          25.3,
          25.400000000000002,
          25.5,
          25.6,
          25.700000000000003,
          25.8,
          25.900000000000002,
          26,
          26.1,
          26.200000000000003,
          26.3,
          26.400000000000002,
          26.5,
          26.6,
          26.700000000000003,
          26.8,
          26.900000000000002,
          27,
          27.1,
          27.200000000000003,
          27.3,
          27.400000000000002,
          27.5,
          27.6,
          27.700000000000003,
          27.8,
          27.900000000000002,
          28,
          28.1,
          28.200000000000003,
          28.3,
          28.400000000000002,
          28.5,
          28.6,
          28.700000000000003,
          28.8,
          28.900000000000002,
          29,
          29.1,
          29.200000000000003,
          29.3,
          29.400000000000002,
          29.5,
          29.6,
          29.700000000000003,
          29.8,
          29.900000000000002,
          30,
          30.1,
          30.200000000000003,
          30.3,
          30.400000000000002,
          30.5,
          30.6,
          30.700000000000003,
          30.8,
          30.900000000000002,
          31,
          31.1,
          31.200000000000003,
          31.3,
          31.400000000000002,
          31.5,
          31.6,
          31.700000000000003,
          31.8,
          31.900000000000002,
          32,
          32.1,
          32.2,
          32.300000000000004,
          32.4,
          32.5,
          32.6,
          32.7,
          32.800000000000004,
          32.9,
          33,
          33.1,
          33.2,
          33.300000000000004,
          33.4,
          33.5,
          33.6,
          33.7,
          33.800000000000004,
          33.9,
          34,
          34.1,
          34.2,
          34.300000000000004,
          34.4,
          34.5,
          34.6,
          34.7,
          34.800000000000004,
          34.9,
          35,
          35.1,
          35.2,
          35.300000000000004,
          35.4,
          35.5,
          35.6,
          35.7,
          35.800000000000004,
          35.9,
          36,
          36.1,
          36.2,
          36.300000000000004,
          36.4,
          36.5,
          36.6,
          36.7,
          36.800000000000004,
          36.9,
          37,
          37.1,
          37.2,
          37.300000000000004,
          37.4,
          37.5,
          37.6,
          37.7,
          37.800000000000004,
          37.9,
          38,
          38.1,
          38.2,
          38.300000000000004,
          38.400000000000006,
          38.5,
          38.6,
          38.7,
          38.800000000000004,
          38.900000000000006,
          39,
          39.1,
          39.2,
          39.300000000000004,
          39.400000000000006,
          39.5,
          39.6,
          39.7,
          39.800000000000004,
          39.900000000000006,
          40,
          40.1,
          40.2,
          40.300000000000004,
          40.400000000000006,
          40.5,
          40.6,
          40.7,
          40.800000000000004,
          40.900000000000006,
          41,
          41.1,
          41.2,
          41.300000000000004,
          41.400000000000006,
          41.5,
          41.6,
          41.7,
          41.800000000000004,
          41.900000000000006,
          42,
          42.1,
          42.2,
          42.300000000000004,
          42.400000000000006,
          42.5,
          42.6,
          42.7,
          42.800000000000004,
          42.900000000000006,
          43,
          43.1,
          43.2,
          43.300000000000004,
          43.400000000000006,
          43.5,
          43.6,
          43.7,
          43.800000000000004,
          43.900000000000006,
          44,
          44.1,
          44.2,
          44.300000000000004,
          44.400000000000006,
          44.5,
          44.6,
          44.7,
          44.800000000000004,
          44.900000000000006,
          45,
          45.1,
          45.2,
          45.300000000000004,
          45.400000000000006,
          45.5,
          45.6,
          45.7,
          45.800000000000004,
          45.900000000000006,
          46,
          46.1,
          46.2,
          46.300000000000004,
          46.400000000000006,
          46.5,
          46.6,
          46.7,
          46.800000000000004,
          46.900000000000006,
          47,
          47.1,
          47.2,
          47.300000000000004,
          47.400000000000006,
          47.5,
          47.6,
          47.7,
          47.800000000000004,
          47.900000000000006,
          48,
          48.1,
          48.2,
          48.300000000000004,
          48.400000000000006,
          48.5,
          48.6,
          48.7,
          48.800000000000004,
          48.900000000000006,
          49,
          49.1,
          49.2,
          49.300000000000004,
          49.400000000000006,
          49.5,
          49.6,
          49.7,
          49.800000000000004,
          49.900000000000006,
          50,
          50.1,
          50.2,
          50.300000000000004,
          50.400000000000006,
          50.5,
          50.6,
          50.7,
          50.800000000000004,
          50.900000000000006,
          51,
          51.1,
          51.2,
          51.300000000000004,
          51.400000000000006,
          51.5,
          51.6,
          51.7,
          51.800000000000004,
          51.900000000000006,
          52,
          52.1,
          52.2,
          52.300000000000004,
          52.400000000000006,
          52.5,
          52.6,
          52.7,
          52.800000000000004,
          52.900000000000006,
          53,
          53.1,
          53.2,
          53.300000000000004,
          53.400000000000006,
          53.5,
          53.6,
          53.7,
          53.800000000000004,
          53.900000000000006,
          54,
          54.1,
          54.2,
          54.300000000000004,
          54.400000000000006,
          54.5,
          54.6,
          54.7,
          54.800000000000004,
          54.900000000000006,
          55,
          55.1,
          55.2,
          55.300000000000004,
          55.400000000000006,
          55.5,
          55.6,
          55.7,
          55.800000000000004,
          55.900000000000006,
          56,
          56.1,
          56.2,
          56.300000000000004,
          56.400000000000006,
          56.5,
          56.6,
          56.7,
          56.800000000000004,
          56.900000000000006,
          57,
          57.1,
          57.2,
          57.300000000000004,
          57.400000000000006,
          57.5,
          57.6,
          57.7,
          57.800000000000004,
          57.900000000000006,
          58,
          58.1,
          58.2,
          58.300000000000004,
          58.400000000000006,
          58.5,
          58.6,
          58.7,
          58.800000000000004,
          58.900000000000006,
          59,
          59.1,
          59.2,
          59.300000000000004,
          59.400000000000006,
          59.5,
          59.6,
          59.7,
          59.800000000000004,
          59.900000000000006,
          60,
          60.1,
          60.2,
          60.300000000000004,
          60.400000000000006,
          60.5,
          60.6,
          60.7,
          60.800000000000004,
          60.900000000000006,
          61,
          61.1,
          61.2,
          61.300000000000004,
          61.400000000000006,
          61.5,
          61.6,
          61.7,
          61.800000000000004,
          61.900000000000006,
          62,
          62.1,
          62.2,
          62.300000000000004,
          62.400000000000006,
          62.5,
          62.6,
          62.7,
          62.800000000000004,
          62.900000000000006,
          63,
          63.1,
          63.2,
          63.300000000000004,
          63.400000000000006,
          63.5,
          63.6,
          63.7,
          63.800000000000004,
          63.900000000000006,
          64,
          64.10000000000001,
          64.2,
          64.3,
          64.4,
          64.5,
          64.60000000000001,
          64.7,
          64.8,
          64.9,
          65,
          65.10000000000001,
          65.2,
          65.3,
          65.4,
          65.5,
          65.60000000000001,
          65.7,
          65.8,
          65.9,
          66,
          66.10000000000001,
          66.2,
          66.3,
          66.4,
          66.5,
          66.60000000000001,
          66.7,
          66.8,
          66.9,
          67,
          67.10000000000001,
          67.2,
          67.3,
          67.4,
          67.5,
          67.60000000000001,
          67.7,
          67.8,
          67.9,
          68,
          68.10000000000001,
          68.2,
          68.3,
          68.4,
          68.5,
          68.60000000000001,
          68.7,
          68.8,
          68.9,
          69,
          69.10000000000001,
          69.2,
          69.3,
          69.4,
          69.5,
          69.60000000000001,
          69.7,
          69.8,
          69.9,
          70,
          70.10000000000001,
          70.2,
          70.3,
          70.4,
          70.5,
          70.60000000000001,
          70.7,
          70.8,
          70.9,
          71,
          71.10000000000001,
          71.2,
          71.3,
          71.4,
          71.5,
          71.60000000000001,
          71.7,
          71.8,
          71.9,
          72,
          72.10000000000001,
          72.2,
          72.3,
          72.4,
          72.5,
          72.60000000000001,
          72.7,
          72.8,
          72.9,
          73,
          73.10000000000001,
          73.2,
          73.3,
          73.4,
          73.5,
          73.60000000000001,
          73.7,
          73.8,
          73.9,
          74,
          74.10000000000001,
          74.2,
          74.3,
          74.4,
          74.5,
          74.60000000000001,
          74.7,
          74.8,
          74.9,
          75,
          75.10000000000001,
          75.2,
          75.3,
          75.4,
          75.5,
          75.60000000000001,
          75.7,
          75.8,
          75.9,
          76,
          76.10000000000001,
          76.2,
          76.3,
          76.4,
          76.5,
          76.60000000000001,
          76.7,
          76.80000000000001,
          76.9,
          77,
          77.10000000000001,
          77.2,
          77.30000000000001,
          77.4,
          77.5,
          77.60000000000001,
          77.7,
          77.80000000000001,
          77.9,
          78,
          78.10000000000001,
          78.2,
          78.30000000000001,
          78.4,
          78.5,
          78.60000000000001,
          78.7,
          78.80000000000001,
          78.9,
          79,
          79.10000000000001,
          79.2,
          79.30000000000001,
          79.4,
          79.5,
          79.60000000000001,
          79.7,
          79.80000000000001,
          79.9,
          80,
          80.10000000000001,
          80.2,
          80.30000000000001,
          80.4,
          80.5,
          80.60000000000001,
          80.7,
          80.80000000000001,
          80.9,
          81,
          81.10000000000001,
          81.2,
          81.30000000000001,
          81.4,
          81.5,
          81.60000000000001,
          81.7,
          81.80000000000001,
          81.9,
          82,
          82.10000000000001,
          82.2,
          82.30000000000001,
          82.4,
          82.5,
          82.60000000000001,
          82.7,
          82.80000000000001,
          82.9,
          83,
          83.10000000000001,
          83.2,
          83.30000000000001,
          83.4,
          83.5,
          83.60000000000001,
          83.7,
          83.80000000000001,
          83.9,
          84,
          84.10000000000001,
          84.2,
          84.30000000000001,
          84.4,
          84.5,
          84.60000000000001,
          84.7,
          84.80000000000001,
          84.9,
          85,
          85.10000000000001,
          85.2,
          85.30000000000001,
          85.4,
          85.5,
          85.60000000000001,
          85.7,
          85.80000000000001,
          85.9,
          86,
          86.10000000000001,
          86.2,
          86.30000000000001,
          86.4,
          86.5,
          86.60000000000001,
          86.7,
          86.80000000000001,
          86.9,
          87,
          87.10000000000001,
          87.2,
          87.30000000000001,
          87.4,
          87.5,
          87.60000000000001,
          87.7,
          87.80000000000001,
          87.9,
          88,
          88.10000000000001,
          88.2,
          88.30000000000001,
          88.4,
          88.5,
          88.60000000000001,
          88.7,
          88.80000000000001,
          88.9,
          89,
          89.10000000000001,
          89.2,
          89.30000000000001,
          89.4,
          89.5,
          89.60000000000001,
          89.7,
          89.80000000000001,
          89.9,
          90,
          90.10000000000001,
          90.2,
          90.30000000000001,
          90.4,
          90.5,
          90.60000000000001,
          90.7,
          90.80000000000001,
          90.9,
          91,
          91.10000000000001,
          91.2,
          91.30000000000001,
          91.4,
          91.5,
          91.60000000000001,
          91.7,
          91.80000000000001,
          91.9,
          92,
          92.10000000000001,
          92.2,
          92.30000000000001,
          92.4,
          92.5,
          92.60000000000001,
          92.7,
          92.80000000000001,
          92.9,
          93,
          93.10000000000001,
          93.2,
          93.30000000000001,
          93.4,
          93.5,
          93.60000000000001,
          93.7,
          93.80000000000001,
          93.9,
          94,
          94.10000000000001,
          94.2,
          94.30000000000001,
          94.4,
          94.5,
          94.60000000000001,
          94.7,
          94.80000000000001,
          94.9,
          95,
          95.10000000000001,
          95.2,
          95.30000000000001,
          95.4,
          95.5,
          95.60000000000001,
          95.7,
          95.80000000000001,
          95.9,
          96,
          96.10000000000001,
          96.2,
          96.30000000000001,
          96.4,
          96.5,
          96.60000000000001,
          96.7,
          96.80000000000001,
          96.9,
          97,
          97.10000000000001,
          97.2,
          97.30000000000001,
          97.4,
          97.5,
          97.60000000000001,
          97.7,
          97.80000000000001,
          97.9,
          98,
          98.10000000000001,
          98.2,
          98.30000000000001,
          98.4,
          98.5,
          98.60000000000001,
          98.7,
          98.80000000000001,
          98.9,
          99,
          99.10000000000001,
          99.2,
          99.30000000000001,
          99.4,
          99.5,
          99.60000000000001,
          99.7,
          99.80000000000001,
          99.9
         ],
         "y": [
          0.116742775,
          0.116742775,
          0.116742775,
          0.116742775,
          0.116742775,
          0.116742775,
          0.116742775,
          0.116742775,
          0.116742775,
          0.116742775,
          0.116742775,
          0.116742775,
          0.116742775,
          0.116742775,
          0.116742775,
          0.116742775,
          0.116742775,
          0.116742775,
          0.116742775,
          0.116742775,
          0.116742775,
          0.116742775,
          0.116742775,
          0.116742775,
          0.116742775,
          0.116742775,
          0.116742775,
          0.116742775,
          0.116742775,
          0.116742775,
          0.116742775,
          0.116742775,
          0.116742775,
          0.116742775,
          0.116742775,
          0.116742775,
          0.116742775,
          0.116742775,
          0.116742775,
          0.116742775,
          0.116742775,
          0.116742775,
          0.116742775,
          0.116742775,
          0.116742775,
          0.116742775,
          0.116742775,
          0.116742775,
          0.116742775,
          0.116742775,
          0.116742775,
          0.116742775,
          0.116742775,
          0.116742775,
          0.116742775,
          0.116742775,
          0.116742775,
          0.116742775,
          0.116742775,
          0.116742775,
          0.116742775,
          0.116742775,
          0.116742775,
          0.116742775,
          0.116742775,
          0.116742775,
          0.116742775,
          0.116742775,
          0.116742775,
          0.116742775,
          0.116742775,
          0.116742775,
          0.116742775,
          0.116742775,
          0.116742775,
          0.116742775,
          0.116742775,
          0.116742775,
          0.116742775,
          0.116742775,
          0.116742775,
          0.116742775,
          0.116742775,
          0.116742775,
          0.116742775,
          0.116742775,
          0.116742775,
          0.116742775,
          0.116742775,
          0.116742775,
          0.116742775,
          0.116742775,
          0.116742775,
          0.116742775,
          0.116742775,
          0.116742775,
          0.116742775,
          0.116742775,
          0.116742775,
          0.116742775,
          0.116742775,
          0.116742775,
          0.116742775,
          0.116742775,
          0.116742775,
          0.116742775,
          0.116742775,
          0.116742775,
          0.116742775,
          0.116742775,
          0.116742775,
          0.116742775,
          0.116742775,
          0.116742775,
          0.116742775,
          0.116742775,
          0.116742775,
          0.116742775,
          0.116742775,
          0.116742775,
          0.116742775,
          0.116742775,
          0.116742775,
          0.116742775,
          0.116742775,
          0.116742775,
          0.116742775,
          0.116742775,
          0.116742775,
          0.116742775,
          0.116742775,
          0.116742775,
          0.116742775,
          0.116742775,
          0.116742775,
          0.116742775,
          0.116742775,
          0.116742775,
          0.116742775,
          0.116742775,
          0.116742775,
          0.116742775,
          0.116742775,
          0.116742775,
          0.116742775,
          0.116742775,
          0.116742775,
          0.116742775,
          0.116742775,
          0.116742775,
          0.116742775,
          0.116742775,
          0.116742775,
          0.116742775,
          0.116742775,
          0.116742775,
          0.116742775,
          0.116742775,
          0.116742775,
          0.116742775,
          0.116742775,
          0.116742775,
          0.116742775,
          0.116742775,
          0.116742775,
          0.116742775,
          0.116742775,
          0.116742775,
          0.116742775,
          0.116742775,
          0.116742775,
          0.116742775,
          0.116742775,
          0.116742775,
          0.116742775,
          0.116742775,
          0.116742775,
          0.116742775,
          0.116742775,
          0.116742775,
          0.116742775,
          0.116742775,
          0.116742775,
          0.116742775,
          0.116742775,
          0.116742775,
          0.116742775,
          0.116742775,
          0.116742775,
          0.116742775,
          0.116742775,
          0.116742775,
          0.116742775,
          0.116742775,
          0.116742775,
          0.116742775,
          0.116742775,
          0.116742775,
          0.116742775,
          0.116742775,
          0.116742775,
          0.116742775,
          0.116742775,
          0.116742775,
          0.116742775,
          0.116742775,
          0.116742775,
          0.116742775,
          0.116742775,
          0.116742775,
          0.116742775,
          0.116742775,
          0.116742775,
          0.116742775,
          0.116742775,
          0.116742775,
          0.116742775,
          0.116742775,
          0.116742775,
          0.116742775,
          0.116742775,
          0.116742775,
          0.116742775,
          0.116742775,
          0.116742775,
          0.116742775,
          0.116742775,
          0.116742775,
          0.116742775,
          0.116742775,
          0.116742775,
          0.116742775,
          0.116742775,
          0.116742775,
          0.116742775,
          0.116742775,
          0.116742775,
          0.116742775,
          0.116742775,
          0.116742775,
          0.116742775,
          0.116742775,
          0.116742775,
          0.116742775,
          0.116742775,
          0.116742775,
          0.116742775,
          0.116742775,
          0.116742775,
          0.116742775,
          0.116742775,
          0.116742775,
          0.116742775,
          0.116742775,
          0.116742775,
          0.116742775,
          0.116742775,
          0.116742775,
          0.116742775,
          0.116742775,
          0.116742775,
          0.116742775,
          0.116742775,
          0.116742775,
          0.116742775,
          0.116742775,
          0.116742775,
          0.116742775,
          0.116742775,
          0.116742775,
          0.116742775,
          0.116742775,
          0.12510766,
          0.12510766,
          0.12510766,
          0.12510766,
          0.12510766,
          0.12510766,
          0.12510766,
          0.12510766,
          0.12510766,
          0.12510766,
          0.12510766,
          0.12510766,
          0.12510766,
          0.12510766,
          0.12510766,
          0.12510766,
          0.12510766,
          0.12510766,
          0.12510766,
          0.12510766,
          0.12510766,
          0.12510766,
          0.12510766,
          0.12510766,
          0.12510766,
          0.12510766,
          0.12510766,
          0.12510766,
          0.12510766,
          0.12510766,
          0.12510766,
          0.12510766,
          0.12510766,
          0.12510766,
          0.12510766,
          0.12510766,
          0.12510766,
          0.12510766,
          0.12510766,
          0.12510766,
          0.12510766,
          0.12510766,
          0.12510766,
          0.12510766,
          0.12510766,
          0.12510766,
          0.12510766,
          0.12510766,
          0.12510766,
          0.12510766,
          0.12510766,
          0.12510766,
          0.12510766,
          0.12510766,
          0.12510766,
          0.12510766,
          0.12510766,
          0.12510766,
          0.12510766,
          0.12510766,
          0.12510766,
          0.12510766,
          0.12510766,
          0.12510766,
          0.12510766,
          0.12510766,
          0.12510766,
          0.12510766,
          0.12510766,
          0.12510766,
          0.12510766,
          0.12510766,
          0.12510766,
          0.12510766,
          0.12510766,
          0.12510766,
          0.12510766,
          0.12510766,
          0.12510766,
          0.12510766,
          0.12510766,
          0.12510766,
          0.12510766,
          0.12510766,
          0.12510766,
          0.12510766,
          0.12510766,
          0.12510766,
          0.12510766,
          0.12510766,
          0.12510766,
          0.12510766,
          0.12510766,
          0.12510766,
          0.12510766,
          0.12510766,
          0.12510766,
          0.12510766,
          0.12510766,
          0.12510766,
          0.12510766,
          0.12510766,
          0.12510766,
          0.12510766,
          0.12510766,
          0.12510766,
          0.12510766,
          0.12510766,
          0.12510766,
          0.12510766,
          0.12510766,
          0.12510766,
          0.12510766,
          0.12510766,
          0.12510766,
          0.12510766,
          0.12510766,
          0.12510766,
          0.12510766,
          0.12510766,
          0.12510766,
          0.12510766,
          0.12510766,
          0.12510766,
          0.12510766,
          0.12510766,
          0.12510766,
          0.12510766,
          0.14257759,
          0.14257759,
          0.14257759,
          0.14257759,
          0.14257759,
          0.14257759,
          0.14257759,
          0.14257759,
          0.14257759,
          0.14257759,
          0.14257759,
          0.14257759,
          0.14257759,
          0.14257759,
          0.14257759,
          0.14257759,
          0.14257759,
          0.14257759,
          0.14257759,
          0.14257759,
          0.14257759,
          0.14257759,
          0.14257759,
          0.14257759,
          0.14257759,
          0.14257759,
          0.14257759,
          0.14257759,
          0.14257759,
          0.14257759,
          0.14257759,
          0.14257759,
          0.14257759,
          0.14257759,
          0.14257759,
          0.14257759,
          0.14257759,
          0.14257759,
          0.14257759,
          0.14257759,
          0.14257759,
          0.14257759,
          0.14257759,
          0.14257759,
          0.14257759,
          0.14257759,
          0.14257759,
          0.14257759,
          0.14257759,
          0.14257759,
          0.14257759,
          0.14257759,
          0.14257759,
          0.14257759,
          0.14257759,
          0.14257759,
          0.14257759,
          0.14257759,
          0.14257759,
          0.1755705,
          0.1755705,
          0.1755705,
          0.1755705,
          0.1755705,
          0.1755705,
          0.1755705,
          0.1755705,
          0.1755705,
          0.1755705,
          0.1755705,
          0.1755705,
          0.1755705,
          0.1755705,
          0.1755705,
          0.1755705,
          0.1755705,
          0.1755705,
          0.1755705,
          0.1755705,
          0.1755705,
          0.1755705,
          0.1755705,
          0.1755705,
          0.1755705,
          0.1755705,
          0.1755705,
          0.1755705,
          0.1755705,
          0.1755705,
          0.1755705,
          0.1755705,
          0.1755705,
          0.1755705,
          0.1755705,
          0.1755705,
          0.1755705,
          0.1755705,
          0.1755705,
          0.1755705,
          0.1755705,
          0.1755705,
          0.1755705,
          0.1755705,
          0.1755705,
          0.1755705,
          0.1755705,
          0.1755705,
          0.1755705,
          0.1755705,
          0.1755705,
          0.1755705,
          0.1755705,
          0.1755705,
          0.1755705,
          0.1755705,
          0.1755705,
          0.1755705,
          0.1755705,
          0.1755705,
          0.1755705,
          0.1755705,
          0.1755705,
          0.1755705,
          0.1755705,
          0.1755705,
          0.1755705,
          0.1755705,
          0.1755705,
          0.1755705,
          0.1755705,
          0.1755705,
          0.1755705,
          0.1755705,
          0.1755705,
          0.1755705,
          0.1755705,
          0.1755705,
          0.1755705,
          0.1755705,
          0.1755705,
          0.1755705,
          0.1755705,
          0.1755705,
          0.1755705,
          0.1755705,
          0.1755705,
          0.1755705,
          0.1755705,
          0.1755705,
          0.1755705,
          0.1755705,
          0.1755705,
          0.1755705,
          0.1755705,
          0.1755705,
          0.1755705,
          0.1755705,
          0.1755705,
          0.1755705,
          0.1755705,
          0.1755705,
          0.1755705,
          0.1755705,
          0.1755705,
          0.1755705,
          0.1755705,
          0.1755705,
          0.1755705,
          0.1755705,
          0.1755705,
          0.1755705,
          0.1755705,
          0.1755705,
          0.1755705,
          0.1755705,
          0.1755705,
          0.1755705,
          0.1755705,
          0.1755705,
          0.1755705,
          0.1755705,
          0.1755705,
          0.1755705,
          0.1755705,
          0.1755705,
          0.1755705,
          0.1755705,
          0.1755705,
          0.1755705,
          0.1755705,
          0.1755705,
          0.1755705,
          0.1755705,
          0.1755705,
          0.1755705,
          0.1755705,
          0.1755705,
          0.1755705,
          0.1755705,
          0.1755705,
          0.1755705,
          0.1755705,
          0.1755705,
          0.1755705,
          0.1755705,
          0.1755705,
          0.1755705,
          0.1755705,
          0.1755705,
          0.1755705,
          0.1755705,
          0.1755705,
          0.1755705,
          0.1755705,
          0.1755705,
          0.1755705,
          0.1755705,
          0.1755705,
          0.1755705,
          0.1755705,
          0.1755705,
          0.1755705,
          0.1755705,
          0.1755705,
          0.1755705,
          0.1755705,
          0.1755705,
          0.1755705,
          0.1755705,
          0.1755705,
          0.1755705,
          0.1755705,
          0.1755705,
          0.1755705,
          0.1755705,
          0.1755705,
          0.1755705,
          0.1755705,
          0.1755705,
          0.1755705,
          0.1755705,
          0.1755705,
          0.1755705,
          0.1755705,
          0.1755705,
          0.1755705,
          0.1755705,
          0.1755705,
          0.1755705,
          0.1755705,
          0.1755705,
          0.1755705,
          0.1755705,
          0.1755705,
          0.1755705,
          0.1755705,
          0.1755705,
          0.1755705,
          0.1755705,
          0.1755705,
          0.1755705,
          0.1755705,
          0.1755705,
          0.1755705,
          0.1755705,
          0.1755705,
          0.1755705,
          0.1755705,
          0.1755705,
          0.1755705,
          0.1755705,
          0.1755705,
          0.1755705,
          0.1755705,
          0.1755705,
          0.1755705,
          0.1755705,
          0.1755705,
          0.1755705,
          0.1755705,
          0.1755705,
          0.1755705,
          0.1755705,
          0.1755705,
          0.1755705,
          0.1755705,
          0.1755705,
          0.1755705,
          0.1755705,
          0.1755705,
          0.1755705,
          0.1755705,
          0.1755705,
          0.1755705,
          0.1755705,
          0.1755705,
          0.1755705,
          0.1755705,
          0.1755705,
          0.1755705,
          0.1755705,
          0.1755705,
          0.1755705,
          0.1755705,
          0.1755705,
          0.1755705,
          0.1755705,
          0.1755705,
          0.1755705,
          0.1755705,
          0.1755705,
          0.1755705,
          0.1755705,
          0.1755705,
          0.1755705,
          0.1755705,
          0.1755705,
          0.1755705,
          0.1755705,
          0.1755705,
          0.1755705,
          0.1755705,
          0.1755705,
          0.1755705,
          0.1755705,
          0.1755705,
          0.1755705,
          0.1755705,
          0.1755705,
          0.1755705,
          0.1755705,
          0.1755705,
          0.1755705,
          0.1755705,
          0.1755705,
          0.1755705,
          0.1755705,
          0.1755705,
          0.1755705,
          0.1755705,
          0.1755705,
          0.1755705,
          0.1755705,
          0.1755705,
          0.1755705,
          0.1755705,
          0.1755705,
          0.1755705,
          0.1755705,
          0.1755705,
          0.1755705,
          0.1755705,
          0.1755705,
          0.1755705,
          0.1755705,
          0.1755705,
          0.1755705,
          0.1755705,
          0.1755705,
          0.1755705,
          0.1755705,
          0.1755705,
          0.1755705,
          0.1755705,
          0.1755705,
          0.1755705,
          0.1755705,
          0.1755705,
          0.1755705,
          0.1755705,
          0.1755705,
          0.1755705,
          0.1755705,
          0.1755705,
          0.1755705,
          0.1755705,
          0.1755705,
          0.1755705,
          0.1755705,
          0.1755705,
          0.1755705,
          0.1755705,
          0.1755705,
          0.1755705,
          0.1755705,
          0.1755705,
          0.1755705,
          0.1755705,
          0.1755705,
          0.1755705,
          0.1755705,
          0.1755705,
          0.1755705,
          0.1755705,
          0.1755705,
          0.1755705,
          0.1755705,
          0.1755705,
          0.1755705,
          0.1755705,
          0.1755705,
          0.1755705,
          0.1755705,
          0.1755705,
          0.1755705,
          0.1755705,
          0.1755705,
          0.1755705,
          0.1755705,
          0.1755705,
          0.1755705,
          0.1755705,
          0.1755705,
          0.1755705,
          0.1755705,
          0.1755705,
          0.1755705,
          0.1755705,
          0.1755705,
          0.1755705,
          0.1755705,
          0.1755705,
          0.1755705,
          0.1755705,
          0.1755705,
          0.1755705,
          0.1755705,
          0.1755705,
          0.1755705,
          0.1755705,
          0.1755705,
          0.1755705,
          0.1755705,
          0.1755705,
          0.1755705,
          0.1755705,
          0.1755705,
          0.1755705,
          0.1755705,
          0.1755705,
          0.1755705,
          0.1755705,
          0.1755705,
          0.1755705,
          0.1755705,
          0.1755705,
          0.1755705,
          0.1755705,
          0.1755705,
          0.1755705,
          0.1755705,
          0.1755705,
          0.1755705,
          0.1755705,
          0.1755705,
          0.1755705,
          0.1755705,
          0.1755705,
          0.1755705,
          0.1755705,
          0.1755705,
          0.1755705,
          0.1755705,
          0.1755705,
          0.1755705,
          0.1755705,
          0.1755705,
          0.1755705,
          0.1755705,
          0.1755705,
          0.1755705,
          0.1755705,
          0.1755705,
          0.1755705,
          0.1755705,
          0.1755705,
          0.1755705,
          0.1755705,
          0.1755705,
          0.1755705,
          0.1755705,
          0.1755705,
          0.1755705,
          0.1755705,
          0.1755705,
          0.1755705,
          0.1755705,
          0.1755705,
          0.1755705,
          0.1755705,
          0.1755705,
          0.1755705,
          0.1755705,
          0.1755705,
          0.1755705,
          0.1755705,
          0.1755705,
          0.1755705,
          0.1755705,
          0.1755705,
          0.1755705,
          0.1755705,
          0.1755705,
          0.1755705,
          0.1755705,
          0.1755705,
          0.1755705,
          0.1755705,
          0.1755705,
          0.1755705,
          0.1755705,
          0.1755705,
          0.1755705,
          0.1755705,
          0.1755705,
          0.1755705,
          0.1755705,
          0.1755705,
          0.1755705,
          0.1755705,
          0.1755705,
          0.1755705,
          0.1755705,
          0.1755705,
          0.1755705,
          0.1755705,
          0.1755705,
          0.1755705,
          0.1755705,
          0.1755705,
          0.1755705,
          0.1755705,
          0.1755705,
          0.1755705,
          0.1755705,
          0.1755705,
          0.1755705,
          0.1755705,
          0.1755705,
          0.1755705,
          0.1755705,
          0.1755705,
          0.1755705,
          0.1755705,
          0.1755705,
          0.1755705,
          0.1755705,
          0.1755705,
          0.1755705,
          0.1755705,
          0.1755705,
          0.1755705,
          0.1755705,
          0.1755705,
          0.1755705,
          0.1755705,
          0.1755705,
          0.1755705,
          0.1755705,
          0.1755705,
          0.1755705,
          0.1755705,
          0.1755705,
          0.1755705,
          0.1755705,
          0.1755705,
          0.1755705,
          0.1755705,
          0.1755705,
          0.1755705,
          0.1755705,
          0.1755705,
          0.1755705,
          0.1755705,
          0.1755705,
          0.1755705,
          0.1755705,
          0.1755705,
          0.1755705,
          0.1755705,
          0.1755705,
          0.1755705,
          0.1755705,
          0.1755705,
          0.1755705,
          0.1755705,
          0.1755705,
          0.1755705,
          0.1755705,
          0.1755705,
          0.1755705,
          0.1755705,
          0.1755705,
          0.1755705,
          0.1755705,
          0.1755705,
          0.1755705,
          0.1755705,
          0.1755705,
          0.1755705
         ]
        }
       ],
       "layout": {
        "template": {
         "data": {
          "bar": [
           {
            "error_x": {
             "color": "#2a3f5f"
            },
            "error_y": {
             "color": "#2a3f5f"
            },
            "marker": {
             "line": {
              "color": "#E5ECF6",
              "width": 0.5
             },
             "pattern": {
              "fillmode": "overlay",
              "size": 10,
              "solidity": 0.2
             }
            },
            "type": "bar"
           }
          ],
          "barpolar": [
           {
            "marker": {
             "line": {
              "color": "#E5ECF6",
              "width": 0.5
             },
             "pattern": {
              "fillmode": "overlay",
              "size": 10,
              "solidity": 0.2
             }
            },
            "type": "barpolar"
           }
          ],
          "carpet": [
           {
            "aaxis": {
             "endlinecolor": "#2a3f5f",
             "gridcolor": "white",
             "linecolor": "white",
             "minorgridcolor": "white",
             "startlinecolor": "#2a3f5f"
            },
            "baxis": {
             "endlinecolor": "#2a3f5f",
             "gridcolor": "white",
             "linecolor": "white",
             "minorgridcolor": "white",
             "startlinecolor": "#2a3f5f"
            },
            "type": "carpet"
           }
          ],
          "choropleth": [
           {
            "colorbar": {
             "outlinewidth": 0,
             "ticks": ""
            },
            "type": "choropleth"
           }
          ],
          "contour": [
           {
            "colorbar": {
             "outlinewidth": 0,
             "ticks": ""
            },
            "colorscale": [
             [
              0,
              "#0d0887"
             ],
             [
              0.1111111111111111,
              "#46039f"
             ],
             [
              0.2222222222222222,
              "#7201a8"
             ],
             [
              0.3333333333333333,
              "#9c179e"
             ],
             [
              0.4444444444444444,
              "#bd3786"
             ],
             [
              0.5555555555555556,
              "#d8576b"
             ],
             [
              0.6666666666666666,
              "#ed7953"
             ],
             [
              0.7777777777777778,
              "#fb9f3a"
             ],
             [
              0.8888888888888888,
              "#fdca26"
             ],
             [
              1,
              "#f0f921"
             ]
            ],
            "type": "contour"
           }
          ],
          "contourcarpet": [
           {
            "colorbar": {
             "outlinewidth": 0,
             "ticks": ""
            },
            "type": "contourcarpet"
           }
          ],
          "heatmap": [
           {
            "colorbar": {
             "outlinewidth": 0,
             "ticks": ""
            },
            "colorscale": [
             [
              0,
              "#0d0887"
             ],
             [
              0.1111111111111111,
              "#46039f"
             ],
             [
              0.2222222222222222,
              "#7201a8"
             ],
             [
              0.3333333333333333,
              "#9c179e"
             ],
             [
              0.4444444444444444,
              "#bd3786"
             ],
             [
              0.5555555555555556,
              "#d8576b"
             ],
             [
              0.6666666666666666,
              "#ed7953"
             ],
             [
              0.7777777777777778,
              "#fb9f3a"
             ],
             [
              0.8888888888888888,
              "#fdca26"
             ],
             [
              1,
              "#f0f921"
             ]
            ],
            "type": "heatmap"
           }
          ],
          "heatmapgl": [
           {
            "colorbar": {
             "outlinewidth": 0,
             "ticks": ""
            },
            "colorscale": [
             [
              0,
              "#0d0887"
             ],
             [
              0.1111111111111111,
              "#46039f"
             ],
             [
              0.2222222222222222,
              "#7201a8"
             ],
             [
              0.3333333333333333,
              "#9c179e"
             ],
             [
              0.4444444444444444,
              "#bd3786"
             ],
             [
              0.5555555555555556,
              "#d8576b"
             ],
             [
              0.6666666666666666,
              "#ed7953"
             ],
             [
              0.7777777777777778,
              "#fb9f3a"
             ],
             [
              0.8888888888888888,
              "#fdca26"
             ],
             [
              1,
              "#f0f921"
             ]
            ],
            "type": "heatmapgl"
           }
          ],
          "histogram": [
           {
            "marker": {
             "pattern": {
              "fillmode": "overlay",
              "size": 10,
              "solidity": 0.2
             }
            },
            "type": "histogram"
           }
          ],
          "histogram2d": [
           {
            "colorbar": {
             "outlinewidth": 0,
             "ticks": ""
            },
            "colorscale": [
             [
              0,
              "#0d0887"
             ],
             [
              0.1111111111111111,
              "#46039f"
             ],
             [
              0.2222222222222222,
              "#7201a8"
             ],
             [
              0.3333333333333333,
              "#9c179e"
             ],
             [
              0.4444444444444444,
              "#bd3786"
             ],
             [
              0.5555555555555556,
              "#d8576b"
             ],
             [
              0.6666666666666666,
              "#ed7953"
             ],
             [
              0.7777777777777778,
              "#fb9f3a"
             ],
             [
              0.8888888888888888,
              "#fdca26"
             ],
             [
              1,
              "#f0f921"
             ]
            ],
            "type": "histogram2d"
           }
          ],
          "histogram2dcontour": [
           {
            "colorbar": {
             "outlinewidth": 0,
             "ticks": ""
            },
            "colorscale": [
             [
              0,
              "#0d0887"
             ],
             [
              0.1111111111111111,
              "#46039f"
             ],
             [
              0.2222222222222222,
              "#7201a8"
             ],
             [
              0.3333333333333333,
              "#9c179e"
             ],
             [
              0.4444444444444444,
              "#bd3786"
             ],
             [
              0.5555555555555556,
              "#d8576b"
             ],
             [
              0.6666666666666666,
              "#ed7953"
             ],
             [
              0.7777777777777778,
              "#fb9f3a"
             ],
             [
              0.8888888888888888,
              "#fdca26"
             ],
             [
              1,
              "#f0f921"
             ]
            ],
            "type": "histogram2dcontour"
           }
          ],
          "mesh3d": [
           {
            "colorbar": {
             "outlinewidth": 0,
             "ticks": ""
            },
            "type": "mesh3d"
           }
          ],
          "parcoords": [
           {
            "line": {
             "colorbar": {
              "outlinewidth": 0,
              "ticks": ""
             }
            },
            "type": "parcoords"
           }
          ],
          "pie": [
           {
            "automargin": true,
            "type": "pie"
           }
          ],
          "scatter": [
           {
            "fillpattern": {
             "fillmode": "overlay",
             "size": 10,
             "solidity": 0.2
            },
            "type": "scatter"
           }
          ],
          "scatter3d": [
           {
            "line": {
             "colorbar": {
              "outlinewidth": 0,
              "ticks": ""
             }
            },
            "marker": {
             "colorbar": {
              "outlinewidth": 0,
              "ticks": ""
             }
            },
            "type": "scatter3d"
           }
          ],
          "scattercarpet": [
           {
            "marker": {
             "colorbar": {
              "outlinewidth": 0,
              "ticks": ""
             }
            },
            "type": "scattercarpet"
           }
          ],
          "scattergeo": [
           {
            "marker": {
             "colorbar": {
              "outlinewidth": 0,
              "ticks": ""
             }
            },
            "type": "scattergeo"
           }
          ],
          "scattergl": [
           {
            "marker": {
             "colorbar": {
              "outlinewidth": 0,
              "ticks": ""
             }
            },
            "type": "scattergl"
           }
          ],
          "scattermapbox": [
           {
            "marker": {
             "colorbar": {
              "outlinewidth": 0,
              "ticks": ""
             }
            },
            "type": "scattermapbox"
           }
          ],
          "scatterpolar": [
           {
            "marker": {
             "colorbar": {
              "outlinewidth": 0,
              "ticks": ""
             }
            },
            "type": "scatterpolar"
           }
          ],
          "scatterpolargl": [
           {
            "marker": {
             "colorbar": {
              "outlinewidth": 0,
              "ticks": ""
             }
            },
            "type": "scatterpolargl"
           }
          ],
          "scatterternary": [
           {
            "marker": {
             "colorbar": {
              "outlinewidth": 0,
              "ticks": ""
             }
            },
            "type": "scatterternary"
           }
          ],
          "surface": [
           {
            "colorbar": {
             "outlinewidth": 0,
             "ticks": ""
            },
            "colorscale": [
             [
              0,
              "#0d0887"
             ],
             [
              0.1111111111111111,
              "#46039f"
             ],
             [
              0.2222222222222222,
              "#7201a8"
             ],
             [
              0.3333333333333333,
              "#9c179e"
             ],
             [
              0.4444444444444444,
              "#bd3786"
             ],
             [
              0.5555555555555556,
              "#d8576b"
             ],
             [
              0.6666666666666666,
              "#ed7953"
             ],
             [
              0.7777777777777778,
              "#fb9f3a"
             ],
             [
              0.8888888888888888,
              "#fdca26"
             ],
             [
              1,
              "#f0f921"
             ]
            ],
            "type": "surface"
           }
          ],
          "table": [
           {
            "cells": {
             "fill": {
              "color": "#EBF0F8"
             },
             "line": {
              "color": "white"
             }
            },
            "header": {
             "fill": {
              "color": "#C8D4E3"
             },
             "line": {
              "color": "white"
             }
            },
            "type": "table"
           }
          ]
         },
         "layout": {
          "annotationdefaults": {
           "arrowcolor": "#2a3f5f",
           "arrowhead": 0,
           "arrowwidth": 1
          },
          "autotypenumbers": "strict",
          "coloraxis": {
           "colorbar": {
            "outlinewidth": 0,
            "ticks": ""
           }
          },
          "colorscale": {
           "diverging": [
            [
             0,
             "#8e0152"
            ],
            [
             0.1,
             "#c51b7d"
            ],
            [
             0.2,
             "#de77ae"
            ],
            [
             0.3,
             "#f1b6da"
            ],
            [
             0.4,
             "#fde0ef"
            ],
            [
             0.5,
             "#f7f7f7"
            ],
            [
             0.6,
             "#e6f5d0"
            ],
            [
             0.7,
             "#b8e186"
            ],
            [
             0.8,
             "#7fbc41"
            ],
            [
             0.9,
             "#4d9221"
            ],
            [
             1,
             "#276419"
            ]
           ],
           "sequential": [
            [
             0,
             "#0d0887"
            ],
            [
             0.1111111111111111,
             "#46039f"
            ],
            [
             0.2222222222222222,
             "#7201a8"
            ],
            [
             0.3333333333333333,
             "#9c179e"
            ],
            [
             0.4444444444444444,
             "#bd3786"
            ],
            [
             0.5555555555555556,
             "#d8576b"
            ],
            [
             0.6666666666666666,
             "#ed7953"
            ],
            [
             0.7777777777777778,
             "#fb9f3a"
            ],
            [
             0.8888888888888888,
             "#fdca26"
            ],
            [
             1,
             "#f0f921"
            ]
           ],
           "sequentialminus": [
            [
             0,
             "#0d0887"
            ],
            [
             0.1111111111111111,
             "#46039f"
            ],
            [
             0.2222222222222222,
             "#7201a8"
            ],
            [
             0.3333333333333333,
             "#9c179e"
            ],
            [
             0.4444444444444444,
             "#bd3786"
            ],
            [
             0.5555555555555556,
             "#d8576b"
            ],
            [
             0.6666666666666666,
             "#ed7953"
            ],
            [
             0.7777777777777778,
             "#fb9f3a"
            ],
            [
             0.8888888888888888,
             "#fdca26"
            ],
            [
             1,
             "#f0f921"
            ]
           ]
          },
          "colorway": [
           "#636efa",
           "#EF553B",
           "#00cc96",
           "#ab63fa",
           "#FFA15A",
           "#19d3f3",
           "#FF6692",
           "#B6E880",
           "#FF97FF",
           "#FECB52"
          ],
          "font": {
           "color": "#2a3f5f"
          },
          "geo": {
           "bgcolor": "white",
           "lakecolor": "white",
           "landcolor": "#E5ECF6",
           "showlakes": true,
           "showland": true,
           "subunitcolor": "white"
          },
          "hoverlabel": {
           "align": "left"
          },
          "hovermode": "closest",
          "mapbox": {
           "style": "light"
          },
          "paper_bgcolor": "white",
          "plot_bgcolor": "#E5ECF6",
          "polar": {
           "angularaxis": {
            "gridcolor": "white",
            "linecolor": "white",
            "ticks": ""
           },
           "bgcolor": "#E5ECF6",
           "radialaxis": {
            "gridcolor": "white",
            "linecolor": "white",
            "ticks": ""
           }
          },
          "scene": {
           "xaxis": {
            "backgroundcolor": "#E5ECF6",
            "gridcolor": "white",
            "gridwidth": 2,
            "linecolor": "white",
            "showbackground": true,
            "ticks": "",
            "zerolinecolor": "white"
           },
           "yaxis": {
            "backgroundcolor": "#E5ECF6",
            "gridcolor": "white",
            "gridwidth": 2,
            "linecolor": "white",
            "showbackground": true,
            "ticks": "",
            "zerolinecolor": "white"
           },
           "zaxis": {
            "backgroundcolor": "#E5ECF6",
            "gridcolor": "white",
            "gridwidth": 2,
            "linecolor": "white",
            "showbackground": true,
            "ticks": "",
            "zerolinecolor": "white"
           }
          },
          "shapedefaults": {
           "line": {
            "color": "#2a3f5f"
           }
          },
          "ternary": {
           "aaxis": {
            "gridcolor": "white",
            "linecolor": "white",
            "ticks": ""
           },
           "baxis": {
            "gridcolor": "white",
            "linecolor": "white",
            "ticks": ""
           },
           "bgcolor": "#E5ECF6",
           "caxis": {
            "gridcolor": "white",
            "linecolor": "white",
            "ticks": ""
           }
          },
          "title": {
           "x": 0.05
          },
          "xaxis": {
           "automargin": true,
           "gridcolor": "white",
           "linecolor": "white",
           "ticks": "",
           "title": {
            "standoff": 15
           },
           "zerolinecolor": "white",
           "zerolinewidth": 2
          },
          "yaxis": {
           "automargin": true,
           "gridcolor": "white",
           "linecolor": "white",
           "ticks": "",
           "title": {
            "standoff": 15
           },
           "zerolinecolor": "white",
           "zerolinewidth": 2
          }
         }
        },
        "title": {
         "text": "CP profile for Subject #4379"
        },
        "xaxis": {
         "title": {
          "text": "Age"
         }
        },
        "yaxis": {
         "title": {
          "text": "Probability of stroke"
         }
        }
       }
      },
      "text/html": [
       "<div>                            <div id=\"198f6a51-5c66-41ee-9515-6edfddfc78ee\" class=\"plotly-graph-div\" style=\"height:525px; width:100%;\"></div>            <script type=\"text/javascript\">                require([\"plotly\"], function(Plotly) {                    window.PLOTLYENV=window.PLOTLYENV || {};                                    if (document.getElementById(\"198f6a51-5c66-41ee-9515-6edfddfc78ee\")) {                    Plotly.newPlot(                        \"198f6a51-5c66-41ee-9515-6edfddfc78ee\",                        [{\"mode\":\"lines\",\"x\":[0.0,0.1,0.2,0.30000000000000004,0.4,0.5,0.6000000000000001,0.7000000000000001,0.8,0.9,1.0,1.1,1.2000000000000002,1.3,1.4000000000000001,1.5,1.6,1.7000000000000002,1.8,1.9000000000000001,2.0,2.1,2.2,2.3000000000000003,2.4000000000000004,2.5,2.6,2.7,2.8000000000000003,2.9000000000000004,3.0,3.1,3.2,3.3000000000000003,3.4000000000000004,3.5,3.6,3.7,3.8000000000000003,3.9000000000000004,4.0,4.1000000000000005,4.2,4.3,4.4,4.5,4.6000000000000005,4.7,4.800000000000001,4.9,5.0,5.1000000000000005,5.2,5.300000000000001,5.4,5.5,5.6000000000000005,5.7,5.800000000000001,5.9,6.0,6.1000000000000005,6.2,6.300000000000001,6.4,6.5,6.6000000000000005,6.7,6.800000000000001,6.9,7.0,7.1000000000000005,7.2,7.300000000000001,7.4,7.5,7.6000000000000005,7.7,7.800000000000001,7.9,8.0,8.1,8.200000000000001,8.3,8.4,8.5,8.6,8.700000000000001,8.8,8.9,9.0,9.1,9.200000000000001,9.3,9.4,9.5,9.600000000000001,9.700000000000001,9.8,9.9,10.0,10.100000000000001,10.200000000000001,10.3,10.4,10.5,10.600000000000001,10.700000000000001,10.8,10.9,11.0,11.100000000000001,11.200000000000001,11.3,11.4,11.5,11.600000000000001,11.700000000000001,11.8,11.9,12.0,12.100000000000001,12.200000000000001,12.3,12.4,12.5,12.600000000000001,12.700000000000001,12.8,12.9,13.0,13.100000000000001,13.200000000000001,13.3,13.4,13.5,13.600000000000001,13.700000000000001,13.8,13.9,14.0,14.100000000000001,14.200000000000001,14.3,14.4,14.5,14.600000000000001,14.700000000000001,14.8,14.9,15.0,15.100000000000001,15.200000000000001,15.3,15.4,15.5,15.600000000000001,15.700000000000001,15.8,15.9,16.0,16.1,16.2,16.3,16.400000000000002,16.5,16.6,16.7,16.8,16.900000000000002,17.0,17.1,17.2,17.3,17.400000000000002,17.5,17.6,17.7,17.8,17.900000000000002,18.0,18.1,18.2,18.3,18.400000000000002,18.5,18.6,18.7,18.8,18.900000000000002,19.0,19.1,19.200000000000003,19.3,19.400000000000002,19.5,19.6,19.700000000000003,19.8,19.900000000000002,20.0,20.1,20.200000000000003,20.3,20.400000000000002,20.5,20.6,20.700000000000003,20.8,20.900000000000002,21.0,21.1,21.200000000000003,21.3,21.400000000000002,21.5,21.6,21.700000000000003,21.8,21.900000000000002,22.0,22.1,22.200000000000003,22.3,22.400000000000002,22.5,22.6,22.700000000000003,22.8,22.900000000000002,23.0,23.1,23.200000000000003,23.3,23.400000000000002,23.5,23.6,23.700000000000003,23.8,23.900000000000002,24.0,24.1,24.200000000000003,24.3,24.400000000000002,24.5,24.6,24.700000000000003,24.8,24.900000000000002,25.0,25.1,25.200000000000003,25.3,25.400000000000002,25.5,25.6,25.700000000000003,25.8,25.900000000000002,26.0,26.1,26.200000000000003,26.3,26.400000000000002,26.5,26.6,26.700000000000003,26.8,26.900000000000002,27.0,27.1,27.200000000000003,27.3,27.400000000000002,27.5,27.6,27.700000000000003,27.8,27.900000000000002,28.0,28.1,28.200000000000003,28.3,28.400000000000002,28.5,28.6,28.700000000000003,28.8,28.900000000000002,29.0,29.1,29.200000000000003,29.3,29.400000000000002,29.5,29.6,29.700000000000003,29.8,29.900000000000002,30.0,30.1,30.200000000000003,30.3,30.400000000000002,30.5,30.6,30.700000000000003,30.8,30.900000000000002,31.0,31.1,31.200000000000003,31.3,31.400000000000002,31.5,31.6,31.700000000000003,31.8,31.900000000000002,32.0,32.1,32.2,32.300000000000004,32.4,32.5,32.6,32.7,32.800000000000004,32.9,33.0,33.1,33.2,33.300000000000004,33.4,33.5,33.6,33.7,33.800000000000004,33.9,34.0,34.1,34.2,34.300000000000004,34.4,34.5,34.6,34.7,34.800000000000004,34.9,35.0,35.1,35.2,35.300000000000004,35.4,35.5,35.6,35.7,35.800000000000004,35.9,36.0,36.1,36.2,36.300000000000004,36.4,36.5,36.6,36.7,36.800000000000004,36.9,37.0,37.1,37.2,37.300000000000004,37.4,37.5,37.6,37.7,37.800000000000004,37.9,38.0,38.1,38.2,38.300000000000004,38.400000000000006,38.5,38.6,38.7,38.800000000000004,38.900000000000006,39.0,39.1,39.2,39.300000000000004,39.400000000000006,39.5,39.6,39.7,39.800000000000004,39.900000000000006,40.0,40.1,40.2,40.300000000000004,40.400000000000006,40.5,40.6,40.7,40.800000000000004,40.900000000000006,41.0,41.1,41.2,41.300000000000004,41.400000000000006,41.5,41.6,41.7,41.800000000000004,41.900000000000006,42.0,42.1,42.2,42.300000000000004,42.400000000000006,42.5,42.6,42.7,42.800000000000004,42.900000000000006,43.0,43.1,43.2,43.300000000000004,43.400000000000006,43.5,43.6,43.7,43.800000000000004,43.900000000000006,44.0,44.1,44.2,44.300000000000004,44.400000000000006,44.5,44.6,44.7,44.800000000000004,44.900000000000006,45.0,45.1,45.2,45.300000000000004,45.400000000000006,45.5,45.6,45.7,45.800000000000004,45.900000000000006,46.0,46.1,46.2,46.300000000000004,46.400000000000006,46.5,46.6,46.7,46.800000000000004,46.900000000000006,47.0,47.1,47.2,47.300000000000004,47.400000000000006,47.5,47.6,47.7,47.800000000000004,47.900000000000006,48.0,48.1,48.2,48.300000000000004,48.400000000000006,48.5,48.6,48.7,48.800000000000004,48.900000000000006,49.0,49.1,49.2,49.300000000000004,49.400000000000006,49.5,49.6,49.7,49.800000000000004,49.900000000000006,50.0,50.1,50.2,50.300000000000004,50.400000000000006,50.5,50.6,50.7,50.800000000000004,50.900000000000006,51.0,51.1,51.2,51.300000000000004,51.400000000000006,51.5,51.6,51.7,51.800000000000004,51.900000000000006,52.0,52.1,52.2,52.300000000000004,52.400000000000006,52.5,52.6,52.7,52.800000000000004,52.900000000000006,53.0,53.1,53.2,53.300000000000004,53.400000000000006,53.5,53.6,53.7,53.800000000000004,53.900000000000006,54.0,54.1,54.2,54.300000000000004,54.400000000000006,54.5,54.6,54.7,54.800000000000004,54.900000000000006,55.0,55.1,55.2,55.300000000000004,55.400000000000006,55.5,55.6,55.7,55.800000000000004,55.900000000000006,56.0,56.1,56.2,56.300000000000004,56.400000000000006,56.5,56.6,56.7,56.800000000000004,56.900000000000006,57.0,57.1,57.2,57.300000000000004,57.400000000000006,57.5,57.6,57.7,57.800000000000004,57.900000000000006,58.0,58.1,58.2,58.300000000000004,58.400000000000006,58.5,58.6,58.7,58.800000000000004,58.900000000000006,59.0,59.1,59.2,59.300000000000004,59.400000000000006,59.5,59.6,59.7,59.800000000000004,59.900000000000006,60.0,60.1,60.2,60.300000000000004,60.400000000000006,60.5,60.6,60.7,60.800000000000004,60.900000000000006,61.0,61.1,61.2,61.300000000000004,61.400000000000006,61.5,61.6,61.7,61.800000000000004,61.900000000000006,62.0,62.1,62.2,62.300000000000004,62.400000000000006,62.5,62.6,62.7,62.800000000000004,62.900000000000006,63.0,63.1,63.2,63.300000000000004,63.400000000000006,63.5,63.6,63.7,63.800000000000004,63.900000000000006,64.0,64.10000000000001,64.2,64.3,64.4,64.5,64.60000000000001,64.7,64.8,64.9,65.0,65.10000000000001,65.2,65.3,65.4,65.5,65.60000000000001,65.7,65.8,65.9,66.0,66.10000000000001,66.2,66.3,66.4,66.5,66.60000000000001,66.7,66.8,66.9,67.0,67.10000000000001,67.2,67.3,67.4,67.5,67.60000000000001,67.7,67.8,67.9,68.0,68.10000000000001,68.2,68.3,68.4,68.5,68.60000000000001,68.7,68.8,68.9,69.0,69.10000000000001,69.2,69.3,69.4,69.5,69.60000000000001,69.7,69.8,69.9,70.0,70.10000000000001,70.2,70.3,70.4,70.5,70.60000000000001,70.7,70.8,70.9,71.0,71.10000000000001,71.2,71.3,71.4,71.5,71.60000000000001,71.7,71.8,71.9,72.0,72.10000000000001,72.2,72.3,72.4,72.5,72.60000000000001,72.7,72.8,72.9,73.0,73.10000000000001,73.2,73.3,73.4,73.5,73.60000000000001,73.7,73.8,73.9,74.0,74.10000000000001,74.2,74.3,74.4,74.5,74.60000000000001,74.7,74.8,74.9,75.0,75.10000000000001,75.2,75.3,75.4,75.5,75.60000000000001,75.7,75.8,75.9,76.0,76.10000000000001,76.2,76.3,76.4,76.5,76.60000000000001,76.7,76.80000000000001,76.9,77.0,77.10000000000001,77.2,77.30000000000001,77.4,77.5,77.60000000000001,77.7,77.80000000000001,77.9,78.0,78.10000000000001,78.2,78.30000000000001,78.4,78.5,78.60000000000001,78.7,78.80000000000001,78.9,79.0,79.10000000000001,79.2,79.30000000000001,79.4,79.5,79.60000000000001,79.7,79.80000000000001,79.9,80.0,80.10000000000001,80.2,80.30000000000001,80.4,80.5,80.60000000000001,80.7,80.80000000000001,80.9,81.0,81.10000000000001,81.2,81.30000000000001,81.4,81.5,81.60000000000001,81.7,81.80000000000001,81.9,82.0,82.10000000000001,82.2,82.30000000000001,82.4,82.5,82.60000000000001,82.7,82.80000000000001,82.9,83.0,83.10000000000001,83.2,83.30000000000001,83.4,83.5,83.60000000000001,83.7,83.80000000000001,83.9,84.0,84.10000000000001,84.2,84.30000000000001,84.4,84.5,84.60000000000001,84.7,84.80000000000001,84.9,85.0,85.10000000000001,85.2,85.30000000000001,85.4,85.5,85.60000000000001,85.7,85.80000000000001,85.9,86.0,86.10000000000001,86.2,86.30000000000001,86.4,86.5,86.60000000000001,86.7,86.80000000000001,86.9,87.0,87.10000000000001,87.2,87.30000000000001,87.4,87.5,87.60000000000001,87.7,87.80000000000001,87.9,88.0,88.10000000000001,88.2,88.30000000000001,88.4,88.5,88.60000000000001,88.7,88.80000000000001,88.9,89.0,89.10000000000001,89.2,89.30000000000001,89.4,89.5,89.60000000000001,89.7,89.80000000000001,89.9,90.0,90.10000000000001,90.2,90.30000000000001,90.4,90.5,90.60000000000001,90.7,90.80000000000001,90.9,91.0,91.10000000000001,91.2,91.30000000000001,91.4,91.5,91.60000000000001,91.7,91.80000000000001,91.9,92.0,92.10000000000001,92.2,92.30000000000001,92.4,92.5,92.60000000000001,92.7,92.80000000000001,92.9,93.0,93.10000000000001,93.2,93.30000000000001,93.4,93.5,93.60000000000001,93.7,93.80000000000001,93.9,94.0,94.10000000000001,94.2,94.30000000000001,94.4,94.5,94.60000000000001,94.7,94.80000000000001,94.9,95.0,95.10000000000001,95.2,95.30000000000001,95.4,95.5,95.60000000000001,95.7,95.80000000000001,95.9,96.0,96.10000000000001,96.2,96.30000000000001,96.4,96.5,96.60000000000001,96.7,96.80000000000001,96.9,97.0,97.10000000000001,97.2,97.30000000000001,97.4,97.5,97.60000000000001,97.7,97.80000000000001,97.9,98.0,98.10000000000001,98.2,98.30000000000001,98.4,98.5,98.60000000000001,98.7,98.80000000000001,98.9,99.0,99.10000000000001,99.2,99.30000000000001,99.4,99.5,99.60000000000001,99.7,99.80000000000001,99.9],\"y\":[0.116742775,0.116742775,0.116742775,0.116742775,0.116742775,0.116742775,0.116742775,0.116742775,0.116742775,0.116742775,0.116742775,0.116742775,0.116742775,0.116742775,0.116742775,0.116742775,0.116742775,0.116742775,0.116742775,0.116742775,0.116742775,0.116742775,0.116742775,0.116742775,0.116742775,0.116742775,0.116742775,0.116742775,0.116742775,0.116742775,0.116742775,0.116742775,0.116742775,0.116742775,0.116742775,0.116742775,0.116742775,0.116742775,0.116742775,0.116742775,0.116742775,0.116742775,0.116742775,0.116742775,0.116742775,0.116742775,0.116742775,0.116742775,0.116742775,0.116742775,0.116742775,0.116742775,0.116742775,0.116742775,0.116742775,0.116742775,0.116742775,0.116742775,0.116742775,0.116742775,0.116742775,0.116742775,0.116742775,0.116742775,0.116742775,0.116742775,0.116742775,0.116742775,0.116742775,0.116742775,0.116742775,0.116742775,0.116742775,0.116742775,0.116742775,0.116742775,0.116742775,0.116742775,0.116742775,0.116742775,0.116742775,0.116742775,0.116742775,0.116742775,0.116742775,0.116742775,0.116742775,0.116742775,0.116742775,0.116742775,0.116742775,0.116742775,0.116742775,0.116742775,0.116742775,0.116742775,0.116742775,0.116742775,0.116742775,0.116742775,0.116742775,0.116742775,0.116742775,0.116742775,0.116742775,0.116742775,0.116742775,0.116742775,0.116742775,0.116742775,0.116742775,0.116742775,0.116742775,0.116742775,0.116742775,0.116742775,0.116742775,0.116742775,0.116742775,0.116742775,0.116742775,0.116742775,0.116742775,0.116742775,0.116742775,0.116742775,0.116742775,0.116742775,0.116742775,0.116742775,0.116742775,0.116742775,0.116742775,0.116742775,0.116742775,0.116742775,0.116742775,0.116742775,0.116742775,0.116742775,0.116742775,0.116742775,0.116742775,0.116742775,0.116742775,0.116742775,0.116742775,0.116742775,0.116742775,0.116742775,0.116742775,0.116742775,0.116742775,0.116742775,0.116742775,0.116742775,0.116742775,0.116742775,0.116742775,0.116742775,0.116742775,0.116742775,0.116742775,0.116742775,0.116742775,0.116742775,0.116742775,0.116742775,0.116742775,0.116742775,0.116742775,0.116742775,0.116742775,0.116742775,0.116742775,0.116742775,0.116742775,0.116742775,0.116742775,0.116742775,0.116742775,0.116742775,0.116742775,0.116742775,0.116742775,0.116742775,0.116742775,0.116742775,0.116742775,0.116742775,0.116742775,0.116742775,0.116742775,0.116742775,0.116742775,0.116742775,0.116742775,0.116742775,0.116742775,0.116742775,0.116742775,0.116742775,0.116742775,0.116742775,0.116742775,0.116742775,0.116742775,0.116742775,0.116742775,0.116742775,0.116742775,0.116742775,0.116742775,0.116742775,0.116742775,0.116742775,0.116742775,0.116742775,0.116742775,0.116742775,0.116742775,0.116742775,0.116742775,0.116742775,0.116742775,0.116742775,0.116742775,0.116742775,0.116742775,0.116742775,0.116742775,0.116742775,0.116742775,0.116742775,0.116742775,0.116742775,0.116742775,0.116742775,0.116742775,0.116742775,0.116742775,0.116742775,0.116742775,0.116742775,0.116742775,0.116742775,0.116742775,0.116742775,0.116742775,0.116742775,0.116742775,0.116742775,0.116742775,0.116742775,0.116742775,0.116742775,0.116742775,0.116742775,0.116742775,0.116742775,0.116742775,0.116742775,0.116742775,0.116742775,0.116742775,0.116742775,0.116742775,0.116742775,0.116742775,0.116742775,0.116742775,0.116742775,0.12510766,0.12510766,0.12510766,0.12510766,0.12510766,0.12510766,0.12510766,0.12510766,0.12510766,0.12510766,0.12510766,0.12510766,0.12510766,0.12510766,0.12510766,0.12510766,0.12510766,0.12510766,0.12510766,0.12510766,0.12510766,0.12510766,0.12510766,0.12510766,0.12510766,0.12510766,0.12510766,0.12510766,0.12510766,0.12510766,0.12510766,0.12510766,0.12510766,0.12510766,0.12510766,0.12510766,0.12510766,0.12510766,0.12510766,0.12510766,0.12510766,0.12510766,0.12510766,0.12510766,0.12510766,0.12510766,0.12510766,0.12510766,0.12510766,0.12510766,0.12510766,0.12510766,0.12510766,0.12510766,0.12510766,0.12510766,0.12510766,0.12510766,0.12510766,0.12510766,0.12510766,0.12510766,0.12510766,0.12510766,0.12510766,0.12510766,0.12510766,0.12510766,0.12510766,0.12510766,0.12510766,0.12510766,0.12510766,0.12510766,0.12510766,0.12510766,0.12510766,0.12510766,0.12510766,0.12510766,0.12510766,0.12510766,0.12510766,0.12510766,0.12510766,0.12510766,0.12510766,0.12510766,0.12510766,0.12510766,0.12510766,0.12510766,0.12510766,0.12510766,0.12510766,0.12510766,0.12510766,0.12510766,0.12510766,0.12510766,0.12510766,0.12510766,0.12510766,0.12510766,0.12510766,0.12510766,0.12510766,0.12510766,0.12510766,0.12510766,0.12510766,0.12510766,0.12510766,0.12510766,0.12510766,0.12510766,0.12510766,0.12510766,0.12510766,0.12510766,0.12510766,0.12510766,0.12510766,0.12510766,0.12510766,0.12510766,0.12510766,0.12510766,0.14257759,0.14257759,0.14257759,0.14257759,0.14257759,0.14257759,0.14257759,0.14257759,0.14257759,0.14257759,0.14257759,0.14257759,0.14257759,0.14257759,0.14257759,0.14257759,0.14257759,0.14257759,0.14257759,0.14257759,0.14257759,0.14257759,0.14257759,0.14257759,0.14257759,0.14257759,0.14257759,0.14257759,0.14257759,0.14257759,0.14257759,0.14257759,0.14257759,0.14257759,0.14257759,0.14257759,0.14257759,0.14257759,0.14257759,0.14257759,0.14257759,0.14257759,0.14257759,0.14257759,0.14257759,0.14257759,0.14257759,0.14257759,0.14257759,0.14257759,0.14257759,0.14257759,0.14257759,0.14257759,0.14257759,0.14257759,0.14257759,0.14257759,0.14257759,0.1755705,0.1755705,0.1755705,0.1755705,0.1755705,0.1755705,0.1755705,0.1755705,0.1755705,0.1755705,0.1755705,0.1755705,0.1755705,0.1755705,0.1755705,0.1755705,0.1755705,0.1755705,0.1755705,0.1755705,0.1755705,0.1755705,0.1755705,0.1755705,0.1755705,0.1755705,0.1755705,0.1755705,0.1755705,0.1755705,0.1755705,0.1755705,0.1755705,0.1755705,0.1755705,0.1755705,0.1755705,0.1755705,0.1755705,0.1755705,0.1755705,0.1755705,0.1755705,0.1755705,0.1755705,0.1755705,0.1755705,0.1755705,0.1755705,0.1755705,0.1755705,0.1755705,0.1755705,0.1755705,0.1755705,0.1755705,0.1755705,0.1755705,0.1755705,0.1755705,0.1755705,0.1755705,0.1755705,0.1755705,0.1755705,0.1755705,0.1755705,0.1755705,0.1755705,0.1755705,0.1755705,0.1755705,0.1755705,0.1755705,0.1755705,0.1755705,0.1755705,0.1755705,0.1755705,0.1755705,0.1755705,0.1755705,0.1755705,0.1755705,0.1755705,0.1755705,0.1755705,0.1755705,0.1755705,0.1755705,0.1755705,0.1755705,0.1755705,0.1755705,0.1755705,0.1755705,0.1755705,0.1755705,0.1755705,0.1755705,0.1755705,0.1755705,0.1755705,0.1755705,0.1755705,0.1755705,0.1755705,0.1755705,0.1755705,0.1755705,0.1755705,0.1755705,0.1755705,0.1755705,0.1755705,0.1755705,0.1755705,0.1755705,0.1755705,0.1755705,0.1755705,0.1755705,0.1755705,0.1755705,0.1755705,0.1755705,0.1755705,0.1755705,0.1755705,0.1755705,0.1755705,0.1755705,0.1755705,0.1755705,0.1755705,0.1755705,0.1755705,0.1755705,0.1755705,0.1755705,0.1755705,0.1755705,0.1755705,0.1755705,0.1755705,0.1755705,0.1755705,0.1755705,0.1755705,0.1755705,0.1755705,0.1755705,0.1755705,0.1755705,0.1755705,0.1755705,0.1755705,0.1755705,0.1755705,0.1755705,0.1755705,0.1755705,0.1755705,0.1755705,0.1755705,0.1755705,0.1755705,0.1755705,0.1755705,0.1755705,0.1755705,0.1755705,0.1755705,0.1755705,0.1755705,0.1755705,0.1755705,0.1755705,0.1755705,0.1755705,0.1755705,0.1755705,0.1755705,0.1755705,0.1755705,0.1755705,0.1755705,0.1755705,0.1755705,0.1755705,0.1755705,0.1755705,0.1755705,0.1755705,0.1755705,0.1755705,0.1755705,0.1755705,0.1755705,0.1755705,0.1755705,0.1755705,0.1755705,0.1755705,0.1755705,0.1755705,0.1755705,0.1755705,0.1755705,0.1755705,0.1755705,0.1755705,0.1755705,0.1755705,0.1755705,0.1755705,0.1755705,0.1755705,0.1755705,0.1755705,0.1755705,0.1755705,0.1755705,0.1755705,0.1755705,0.1755705,0.1755705,0.1755705,0.1755705,0.1755705,0.1755705,0.1755705,0.1755705,0.1755705,0.1755705,0.1755705,0.1755705,0.1755705,0.1755705,0.1755705,0.1755705,0.1755705,0.1755705,0.1755705,0.1755705,0.1755705,0.1755705,0.1755705,0.1755705,0.1755705,0.1755705,0.1755705,0.1755705,0.1755705,0.1755705,0.1755705,0.1755705,0.1755705,0.1755705,0.1755705,0.1755705,0.1755705,0.1755705,0.1755705,0.1755705,0.1755705,0.1755705,0.1755705,0.1755705,0.1755705,0.1755705,0.1755705,0.1755705,0.1755705,0.1755705,0.1755705,0.1755705,0.1755705,0.1755705,0.1755705,0.1755705,0.1755705,0.1755705,0.1755705,0.1755705,0.1755705,0.1755705,0.1755705,0.1755705,0.1755705,0.1755705,0.1755705,0.1755705,0.1755705,0.1755705,0.1755705,0.1755705,0.1755705,0.1755705,0.1755705,0.1755705,0.1755705,0.1755705,0.1755705,0.1755705,0.1755705,0.1755705,0.1755705,0.1755705,0.1755705,0.1755705,0.1755705,0.1755705,0.1755705,0.1755705,0.1755705,0.1755705,0.1755705,0.1755705,0.1755705,0.1755705,0.1755705,0.1755705,0.1755705,0.1755705,0.1755705,0.1755705,0.1755705,0.1755705,0.1755705,0.1755705,0.1755705,0.1755705,0.1755705,0.1755705,0.1755705,0.1755705,0.1755705,0.1755705,0.1755705,0.1755705,0.1755705,0.1755705,0.1755705,0.1755705,0.1755705,0.1755705,0.1755705,0.1755705,0.1755705,0.1755705,0.1755705,0.1755705,0.1755705,0.1755705,0.1755705,0.1755705,0.1755705,0.1755705,0.1755705,0.1755705,0.1755705,0.1755705,0.1755705,0.1755705,0.1755705,0.1755705,0.1755705,0.1755705,0.1755705,0.1755705,0.1755705,0.1755705,0.1755705,0.1755705,0.1755705,0.1755705,0.1755705,0.1755705,0.1755705,0.1755705,0.1755705,0.1755705,0.1755705,0.1755705,0.1755705,0.1755705,0.1755705,0.1755705,0.1755705,0.1755705,0.1755705,0.1755705,0.1755705,0.1755705,0.1755705,0.1755705,0.1755705,0.1755705,0.1755705,0.1755705,0.1755705,0.1755705,0.1755705,0.1755705,0.1755705,0.1755705,0.1755705,0.1755705,0.1755705,0.1755705,0.1755705,0.1755705,0.1755705,0.1755705,0.1755705,0.1755705,0.1755705,0.1755705,0.1755705,0.1755705,0.1755705,0.1755705,0.1755705,0.1755705,0.1755705,0.1755705,0.1755705,0.1755705,0.1755705,0.1755705,0.1755705,0.1755705,0.1755705,0.1755705,0.1755705,0.1755705,0.1755705,0.1755705,0.1755705,0.1755705,0.1755705,0.1755705,0.1755705,0.1755705,0.1755705,0.1755705,0.1755705,0.1755705,0.1755705,0.1755705,0.1755705,0.1755705,0.1755705,0.1755705,0.1755705,0.1755705,0.1755705,0.1755705,0.1755705,0.1755705,0.1755705,0.1755705,0.1755705,0.1755705,0.1755705,0.1755705,0.1755705,0.1755705,0.1755705,0.1755705,0.1755705,0.1755705,0.1755705,0.1755705,0.1755705,0.1755705,0.1755705,0.1755705,0.1755705,0.1755705,0.1755705,0.1755705,0.1755705,0.1755705,0.1755705,0.1755705,0.1755705,0.1755705,0.1755705,0.1755705,0.1755705,0.1755705,0.1755705,0.1755705,0.1755705,0.1755705,0.1755705,0.1755705,0.1755705,0.1755705,0.1755705,0.1755705,0.1755705,0.1755705,0.1755705,0.1755705,0.1755705,0.1755705,0.1755705,0.1755705,0.1755705,0.1755705,0.1755705,0.1755705,0.1755705,0.1755705,0.1755705,0.1755705,0.1755705,0.1755705,0.1755705,0.1755705,0.1755705,0.1755705,0.1755705,0.1755705,0.1755705,0.1755705,0.1755705,0.1755705,0.1755705,0.1755705,0.1755705,0.1755705,0.1755705,0.1755705,0.1755705,0.1755705,0.1755705,0.1755705],\"type\":\"scatter\"}],                        {\"template\":{\"data\":{\"histogram2dcontour\":[{\"type\":\"histogram2dcontour\",\"colorbar\":{\"outlinewidth\":0,\"ticks\":\"\"},\"colorscale\":[[0.0,\"#0d0887\"],[0.1111111111111111,\"#46039f\"],[0.2222222222222222,\"#7201a8\"],[0.3333333333333333,\"#9c179e\"],[0.4444444444444444,\"#bd3786\"],[0.5555555555555556,\"#d8576b\"],[0.6666666666666666,\"#ed7953\"],[0.7777777777777778,\"#fb9f3a\"],[0.8888888888888888,\"#fdca26\"],[1.0,\"#f0f921\"]]}],\"choropleth\":[{\"type\":\"choropleth\",\"colorbar\":{\"outlinewidth\":0,\"ticks\":\"\"}}],\"histogram2d\":[{\"type\":\"histogram2d\",\"colorbar\":{\"outlinewidth\":0,\"ticks\":\"\"},\"colorscale\":[[0.0,\"#0d0887\"],[0.1111111111111111,\"#46039f\"],[0.2222222222222222,\"#7201a8\"],[0.3333333333333333,\"#9c179e\"],[0.4444444444444444,\"#bd3786\"],[0.5555555555555556,\"#d8576b\"],[0.6666666666666666,\"#ed7953\"],[0.7777777777777778,\"#fb9f3a\"],[0.8888888888888888,\"#fdca26\"],[1.0,\"#f0f921\"]]}],\"heatmap\":[{\"type\":\"heatmap\",\"colorbar\":{\"outlinewidth\":0,\"ticks\":\"\"},\"colorscale\":[[0.0,\"#0d0887\"],[0.1111111111111111,\"#46039f\"],[0.2222222222222222,\"#7201a8\"],[0.3333333333333333,\"#9c179e\"],[0.4444444444444444,\"#bd3786\"],[0.5555555555555556,\"#d8576b\"],[0.6666666666666666,\"#ed7953\"],[0.7777777777777778,\"#fb9f3a\"],[0.8888888888888888,\"#fdca26\"],[1.0,\"#f0f921\"]]}],\"heatmapgl\":[{\"type\":\"heatmapgl\",\"colorbar\":{\"outlinewidth\":0,\"ticks\":\"\"},\"colorscale\":[[0.0,\"#0d0887\"],[0.1111111111111111,\"#46039f\"],[0.2222222222222222,\"#7201a8\"],[0.3333333333333333,\"#9c179e\"],[0.4444444444444444,\"#bd3786\"],[0.5555555555555556,\"#d8576b\"],[0.6666666666666666,\"#ed7953\"],[0.7777777777777778,\"#fb9f3a\"],[0.8888888888888888,\"#fdca26\"],[1.0,\"#f0f921\"]]}],\"contourcarpet\":[{\"type\":\"contourcarpet\",\"colorbar\":{\"outlinewidth\":0,\"ticks\":\"\"}}],\"contour\":[{\"type\":\"contour\",\"colorbar\":{\"outlinewidth\":0,\"ticks\":\"\"},\"colorscale\":[[0.0,\"#0d0887\"],[0.1111111111111111,\"#46039f\"],[0.2222222222222222,\"#7201a8\"],[0.3333333333333333,\"#9c179e\"],[0.4444444444444444,\"#bd3786\"],[0.5555555555555556,\"#d8576b\"],[0.6666666666666666,\"#ed7953\"],[0.7777777777777778,\"#fb9f3a\"],[0.8888888888888888,\"#fdca26\"],[1.0,\"#f0f921\"]]}],\"surface\":[{\"type\":\"surface\",\"colorbar\":{\"outlinewidth\":0,\"ticks\":\"\"},\"colorscale\":[[0.0,\"#0d0887\"],[0.1111111111111111,\"#46039f\"],[0.2222222222222222,\"#7201a8\"],[0.3333333333333333,\"#9c179e\"],[0.4444444444444444,\"#bd3786\"],[0.5555555555555556,\"#d8576b\"],[0.6666666666666666,\"#ed7953\"],[0.7777777777777778,\"#fb9f3a\"],[0.8888888888888888,\"#fdca26\"],[1.0,\"#f0f921\"]]}],\"mesh3d\":[{\"type\":\"mesh3d\",\"colorbar\":{\"outlinewidth\":0,\"ticks\":\"\"}}],\"scatter\":[{\"fillpattern\":{\"fillmode\":\"overlay\",\"size\":10,\"solidity\":0.2},\"type\":\"scatter\"}],\"parcoords\":[{\"type\":\"parcoords\",\"line\":{\"colorbar\":{\"outlinewidth\":0,\"ticks\":\"\"}}}],\"scatterpolargl\":[{\"type\":\"scatterpolargl\",\"marker\":{\"colorbar\":{\"outlinewidth\":0,\"ticks\":\"\"}}}],\"bar\":[{\"error_x\":{\"color\":\"#2a3f5f\"},\"error_y\":{\"color\":\"#2a3f5f\"},\"marker\":{\"line\":{\"color\":\"#E5ECF6\",\"width\":0.5},\"pattern\":{\"fillmode\":\"overlay\",\"size\":10,\"solidity\":0.2}},\"type\":\"bar\"}],\"scattergeo\":[{\"type\":\"scattergeo\",\"marker\":{\"colorbar\":{\"outlinewidth\":0,\"ticks\":\"\"}}}],\"scatterpolar\":[{\"type\":\"scatterpolar\",\"marker\":{\"colorbar\":{\"outlinewidth\":0,\"ticks\":\"\"}}}],\"histogram\":[{\"marker\":{\"pattern\":{\"fillmode\":\"overlay\",\"size\":10,\"solidity\":0.2}},\"type\":\"histogram\"}],\"scattergl\":[{\"type\":\"scattergl\",\"marker\":{\"colorbar\":{\"outlinewidth\":0,\"ticks\":\"\"}}}],\"scatter3d\":[{\"type\":\"scatter3d\",\"line\":{\"colorbar\":{\"outlinewidth\":0,\"ticks\":\"\"}},\"marker\":{\"colorbar\":{\"outlinewidth\":0,\"ticks\":\"\"}}}],\"scattermapbox\":[{\"type\":\"scattermapbox\",\"marker\":{\"colorbar\":{\"outlinewidth\":0,\"ticks\":\"\"}}}],\"scatterternary\":[{\"type\":\"scatterternary\",\"marker\":{\"colorbar\":{\"outlinewidth\":0,\"ticks\":\"\"}}}],\"scattercarpet\":[{\"type\":\"scattercarpet\",\"marker\":{\"colorbar\":{\"outlinewidth\":0,\"ticks\":\"\"}}}],\"carpet\":[{\"aaxis\":{\"endlinecolor\":\"#2a3f5f\",\"gridcolor\":\"white\",\"linecolor\":\"white\",\"minorgridcolor\":\"white\",\"startlinecolor\":\"#2a3f5f\"},\"baxis\":{\"endlinecolor\":\"#2a3f5f\",\"gridcolor\":\"white\",\"linecolor\":\"white\",\"minorgridcolor\":\"white\",\"startlinecolor\":\"#2a3f5f\"},\"type\":\"carpet\"}],\"table\":[{\"cells\":{\"fill\":{\"color\":\"#EBF0F8\"},\"line\":{\"color\":\"white\"}},\"header\":{\"fill\":{\"color\":\"#C8D4E3\"},\"line\":{\"color\":\"white\"}},\"type\":\"table\"}],\"barpolar\":[{\"marker\":{\"line\":{\"color\":\"#E5ECF6\",\"width\":0.5},\"pattern\":{\"fillmode\":\"overlay\",\"size\":10,\"solidity\":0.2}},\"type\":\"barpolar\"}],\"pie\":[{\"automargin\":true,\"type\":\"pie\"}]},\"layout\":{\"autotypenumbers\":\"strict\",\"colorway\":[\"#636efa\",\"#EF553B\",\"#00cc96\",\"#ab63fa\",\"#FFA15A\",\"#19d3f3\",\"#FF6692\",\"#B6E880\",\"#FF97FF\",\"#FECB52\"],\"font\":{\"color\":\"#2a3f5f\"},\"hovermode\":\"closest\",\"hoverlabel\":{\"align\":\"left\"},\"paper_bgcolor\":\"white\",\"plot_bgcolor\":\"#E5ECF6\",\"polar\":{\"bgcolor\":\"#E5ECF6\",\"angularaxis\":{\"gridcolor\":\"white\",\"linecolor\":\"white\",\"ticks\":\"\"},\"radialaxis\":{\"gridcolor\":\"white\",\"linecolor\":\"white\",\"ticks\":\"\"}},\"ternary\":{\"bgcolor\":\"#E5ECF6\",\"aaxis\":{\"gridcolor\":\"white\",\"linecolor\":\"white\",\"ticks\":\"\"},\"baxis\":{\"gridcolor\":\"white\",\"linecolor\":\"white\",\"ticks\":\"\"},\"caxis\":{\"gridcolor\":\"white\",\"linecolor\":\"white\",\"ticks\":\"\"}},\"coloraxis\":{\"colorbar\":{\"outlinewidth\":0,\"ticks\":\"\"}},\"colorscale\":{\"sequential\":[[0.0,\"#0d0887\"],[0.1111111111111111,\"#46039f\"],[0.2222222222222222,\"#7201a8\"],[0.3333333333333333,\"#9c179e\"],[0.4444444444444444,\"#bd3786\"],[0.5555555555555556,\"#d8576b\"],[0.6666666666666666,\"#ed7953\"],[0.7777777777777778,\"#fb9f3a\"],[0.8888888888888888,\"#fdca26\"],[1.0,\"#f0f921\"]],\"sequentialminus\":[[0.0,\"#0d0887\"],[0.1111111111111111,\"#46039f\"],[0.2222222222222222,\"#7201a8\"],[0.3333333333333333,\"#9c179e\"],[0.4444444444444444,\"#bd3786\"],[0.5555555555555556,\"#d8576b\"],[0.6666666666666666,\"#ed7953\"],[0.7777777777777778,\"#fb9f3a\"],[0.8888888888888888,\"#fdca26\"],[1.0,\"#f0f921\"]],\"diverging\":[[0,\"#8e0152\"],[0.1,\"#c51b7d\"],[0.2,\"#de77ae\"],[0.3,\"#f1b6da\"],[0.4,\"#fde0ef\"],[0.5,\"#f7f7f7\"],[0.6,\"#e6f5d0\"],[0.7,\"#b8e186\"],[0.8,\"#7fbc41\"],[0.9,\"#4d9221\"],[1,\"#276419\"]]},\"xaxis\":{\"gridcolor\":\"white\",\"linecolor\":\"white\",\"ticks\":\"\",\"title\":{\"standoff\":15},\"zerolinecolor\":\"white\",\"automargin\":true,\"zerolinewidth\":2},\"yaxis\":{\"gridcolor\":\"white\",\"linecolor\":\"white\",\"ticks\":\"\",\"title\":{\"standoff\":15},\"zerolinecolor\":\"white\",\"automargin\":true,\"zerolinewidth\":2},\"scene\":{\"xaxis\":{\"backgroundcolor\":\"#E5ECF6\",\"gridcolor\":\"white\",\"linecolor\":\"white\",\"showbackground\":true,\"ticks\":\"\",\"zerolinecolor\":\"white\",\"gridwidth\":2},\"yaxis\":{\"backgroundcolor\":\"#E5ECF6\",\"gridcolor\":\"white\",\"linecolor\":\"white\",\"showbackground\":true,\"ticks\":\"\",\"zerolinecolor\":\"white\",\"gridwidth\":2},\"zaxis\":{\"backgroundcolor\":\"#E5ECF6\",\"gridcolor\":\"white\",\"linecolor\":\"white\",\"showbackground\":true,\"ticks\":\"\",\"zerolinecolor\":\"white\",\"gridwidth\":2}},\"shapedefaults\":{\"line\":{\"color\":\"#2a3f5f\"}},\"annotationdefaults\":{\"arrowcolor\":\"#2a3f5f\",\"arrowhead\":0,\"arrowwidth\":1},\"geo\":{\"bgcolor\":\"white\",\"landcolor\":\"#E5ECF6\",\"subunitcolor\":\"white\",\"showland\":true,\"showlakes\":true,\"lakecolor\":\"white\"},\"title\":{\"x\":0.05},\"mapbox\":{\"style\":\"light\"}}},\"title\":{\"text\":\"CP profile for Subject #4379\"},\"xaxis\":{\"title\":{\"text\":\"Age\"}},\"yaxis\":{\"title\":{\"text\":\"Probability of stroke\"}}},                        {\"responsive\": true}                    ).then(function(){\n",
       "                            \n",
       "var gd = document.getElementById('198f6a51-5c66-41ee-9515-6edfddfc78ee');\n",
       "var x = new MutationObserver(function (mutations, observer) {{\n",
       "        var display = window.getComputedStyle(gd).display;\n",
       "        if (!display || display === 'none') {{\n",
       "            console.log([gd, 'removed!']);\n",
       "            Plotly.purge(gd);\n",
       "            observer.disconnect();\n",
       "        }}\n",
       "}});\n",
       "\n",
       "// Listen for the removal of the full notebook cells\n",
       "var notebookContainer = gd.closest('#notebook-container');\n",
       "if (notebookContainer) {{\n",
       "    x.observe(notebookContainer, {childList: true});\n",
       "}}\n",
       "\n",
       "// Listen for the clearing of the current output cell\n",
       "var outputEl = gd.closest('.output');\n",
       "if (outputEl) {{\n",
       "    x.observe(outputEl, {childList: true});\n",
       "}}\n",
       "\n",
       "                        })                };                });            </script>        </div>"
      ]
     },
     "metadata": {},
     "output_type": "display_data"
    }
   ],
   "source": [
    "import plotly.graph_objects as go\n",
    "\n",
    "values = np.arange(0.0, 100.0, 0.1)\n",
    "probs = ceteris_paribus(xgb_model, obs.iloc[0], \"bmi\", values)\n",
    "\n",
    "fig = go.Figure()\n",
    "fig.add_trace(go.Scatter(x=values, y=probs, mode=\"lines\"))\n",
    "fig.update_layout(title=f\"CP profile for Subject #{obs.index[0]}\")\n",
    "fig.update_xaxes(title=\"Age\")\n",
    "fig.update_yaxes(title=\"Probability of stroke\")"
   ]
  },
  {
   "cell_type": "code",
   "execution_count": 53,
   "metadata": {},
   "outputs": [
    {
     "data": {
      "application/vnd.plotly.v1+json": {
       "config": {
        "plotlyServerURL": "https://plot.ly"
       },
       "data": [
        {
         "mode": "lines",
         "type": "scatter",
         "x": [
          15,
          15.1,
          15.2,
          15.299999999999999,
          15.399999999999999,
          15.499999999999998,
          15.599999999999998,
          15.699999999999998,
          15.799999999999997,
          15.899999999999997,
          15.999999999999996,
          16.099999999999994,
          16.199999999999996,
          16.299999999999997,
          16.399999999999995,
          16.499999999999993,
          16.599999999999994,
          16.699999999999996,
          16.799999999999994,
          16.89999999999999,
          16.999999999999993,
          17.099999999999994,
          17.199999999999992,
          17.29999999999999,
          17.39999999999999,
          17.499999999999993,
          17.59999999999999,
          17.69999999999999,
          17.79999999999999,
          17.89999999999999,
          17.99999999999999,
          18.099999999999987,
          18.19999999999999,
          18.29999999999999,
          18.399999999999988,
          18.499999999999986,
          18.599999999999987,
          18.69999999999999,
          18.799999999999986,
          18.899999999999984,
          18.999999999999986,
          19.099999999999987,
          19.199999999999985,
          19.299999999999983,
          19.399999999999984,
          19.499999999999986,
          19.599999999999984,
          19.69999999999998,
          19.799999999999983,
          19.899999999999984,
          19.999999999999982,
          20.09999999999998,
          20.19999999999998,
          20.299999999999983,
          20.39999999999998,
          20.49999999999998,
          20.59999999999998,
          20.69999999999998,
          20.79999999999998,
          20.899999999999977,
          20.99999999999998,
          21.09999999999998,
          21.199999999999978,
          21.299999999999976,
          21.399999999999977,
          21.49999999999998,
          21.599999999999977,
          21.699999999999974,
          21.799999999999976,
          21.899999999999977,
          21.999999999999975,
          22.099999999999973,
          22.199999999999974,
          22.299999999999976,
          22.399999999999974,
          22.49999999999997,
          22.599999999999973,
          22.699999999999974,
          22.799999999999972,
          22.89999999999997,
          22.99999999999997,
          23.099999999999973,
          23.19999999999997,
          23.29999999999997,
          23.39999999999997,
          23.49999999999997,
          23.59999999999997,
          23.699999999999967,
          23.79999999999997,
          23.89999999999997,
          23.999999999999968,
          24.099999999999966,
          24.199999999999967,
          24.29999999999997,
          24.399999999999967,
          24.499999999999964,
          24.599999999999966,
          24.699999999999967,
          24.799999999999965,
          24.899999999999963,
          24.999999999999964,
          25.099999999999966,
          25.199999999999964,
          25.29999999999996,
          25.399999999999963,
          25.499999999999964,
          25.599999999999962,
          25.69999999999996,
          25.79999999999996,
          25.899999999999963,
          25.99999999999996,
          26.09999999999996,
          26.19999999999996,
          26.29999999999996,
          26.39999999999996,
          26.499999999999957,
          26.59999999999996,
          26.69999999999996,
          26.799999999999958,
          26.899999999999956,
          26.999999999999957,
          27.09999999999996,
          27.199999999999957,
          27.299999999999955,
          27.399999999999956,
          27.499999999999957,
          27.599999999999955,
          27.699999999999953,
          27.799999999999955,
          27.899999999999956,
          27.999999999999954,
          28.09999999999995,
          28.199999999999953,
          28.299999999999955,
          28.399999999999952,
          28.49999999999995,
          28.59999999999995,
          28.699999999999953,
          28.79999999999995,
          28.89999999999995,
          28.99999999999995,
          29.09999999999995,
          29.19999999999995,
          29.299999999999947,
          29.39999999999995,
          29.49999999999995,
          29.599999999999948,
          29.699999999999946,
          29.799999999999947,
          29.89999999999995,
          29.999999999999947,
          30.099999999999945,
          30.199999999999946,
          30.299999999999947,
          30.399999999999945,
          30.499999999999943,
          30.599999999999945,
          30.699999999999946,
          30.799999999999944,
          30.89999999999994,
          30.999999999999943,
          31.099999999999945,
          31.199999999999942,
          31.29999999999994,
          31.39999999999994,
          31.499999999999943,
          31.59999999999994,
          31.69999999999994,
          31.79999999999994,
          31.89999999999994,
          31.99999999999994,
          32.09999999999994,
          32.19999999999994,
          32.29999999999994,
          32.399999999999935,
          32.499999999999936,
          32.59999999999994,
          32.69999999999994,
          32.79999999999994,
          32.899999999999935,
          32.999999999999936,
          33.09999999999994,
          33.19999999999993,
          33.29999999999993,
          33.399999999999935,
          33.499999999999936,
          33.59999999999994,
          33.69999999999993,
          33.79999999999993,
          33.899999999999935,
          33.99999999999993,
          34.09999999999993,
          34.19999999999993,
          34.29999999999993,
          34.399999999999935,
          34.49999999999993,
          34.59999999999993,
          34.69999999999993,
          34.799999999999926,
          34.89999999999993,
          34.99999999999993,
          35.09999999999993,
          35.19999999999993,
          35.299999999999926,
          35.39999999999993,
          35.49999999999993,
          35.59999999999992,
          35.699999999999925,
          35.799999999999926,
          35.89999999999993,
          35.99999999999993,
          36.09999999999992,
          36.199999999999925,
          36.299999999999926,
          36.39999999999992,
          36.49999999999992,
          36.59999999999992,
          36.699999999999925,
          36.799999999999926,
          36.89999999999992,
          36.99999999999992,
          37.09999999999992,
          37.19999999999992,
          37.29999999999992,
          37.39999999999992,
          37.49999999999992,
          37.59999999999992,
          37.69999999999992,
          37.79999999999992,
          37.89999999999992,
          37.999999999999915,
          38.099999999999916,
          38.19999999999992,
          38.29999999999992,
          38.39999999999992,
          38.499999999999915,
          38.599999999999916,
          38.69999999999992,
          38.79999999999991,
          38.89999999999991,
          38.999999999999915,
          39.099999999999916,
          39.19999999999992,
          39.29999999999991,
          39.39999999999991,
          39.499999999999915,
          39.59999999999991,
          39.69999999999991,
          39.79999999999991,
          39.89999999999991,
          39.999999999999915,
          40.09999999999991,
          40.19999999999991,
          40.29999999999991,
          40.399999999999906,
          40.49999999999991,
          40.59999999999991,
          40.69999999999991,
          40.79999999999991,
          40.899999999999906,
          40.99999999999991,
          41.09999999999991,
          41.1999999999999,
          41.299999999999905,
          41.399999999999906,
          41.49999999999991,
          41.59999999999991,
          41.6999999999999,
          41.799999999999905,
          41.899999999999906,
          41.9999999999999,
          42.0999999999999,
          42.1999999999999,
          42.299999999999905,
          42.399999999999906,
          42.4999999999999,
          42.5999999999999,
          42.6999999999999,
          42.7999999999999,
          42.8999999999999,
          42.9999999999999,
          43.0999999999999,
          43.1999999999999,
          43.2999999999999,
          43.3999999999999,
          43.4999999999999,
          43.599999999999895,
          43.699999999999896,
          43.7999999999999,
          43.8999999999999,
          43.9999999999999,
          44.099999999999895,
          44.199999999999896,
          44.2999999999999,
          44.39999999999989,
          44.49999999999989,
          44.599999999999895,
          44.699999999999896,
          44.7999999999999,
          44.89999999999989,
          44.99999999999989,
          45.099999999999895,
          45.19999999999989,
          45.29999999999989,
          45.39999999999989,
          45.49999999999989,
          45.599999999999895,
          45.69999999999989,
          45.79999999999989,
          45.89999999999989,
          45.999999999999886,
          46.09999999999989,
          46.19999999999989,
          46.29999999999989,
          46.39999999999989,
          46.499999999999886,
          46.59999999999989,
          46.69999999999989,
          46.79999999999988,
          46.899999999999885,
          46.999999999999886,
          47.09999999999989,
          47.19999999999989,
          47.29999999999988,
          47.399999999999885,
          47.499999999999886,
          47.59999999999988,
          47.69999999999988,
          47.79999999999988,
          47.899999999999885,
          47.999999999999886,
          48.09999999999988,
          48.19999999999988,
          48.29999999999988,
          48.39999999999988,
          48.49999999999988,
          48.59999999999988,
          48.69999999999988,
          48.79999999999988,
          48.89999999999988,
          48.99999999999988,
          49.09999999999988,
          49.199999999999875,
          49.299999999999876,
          49.39999999999988,
          49.49999999999988,
          49.59999999999988,
          49.699999999999875,
          49.799999999999876,
          49.89999999999988
         ],
         "y": [
          0.5471913,
          0.5471913,
          0.5471913,
          0.5471913,
          0.5471913,
          0.5471913,
          0.5471913,
          0.5471913,
          0.5471913,
          0.5471913,
          0.5471913,
          0.5471913,
          0.5471913,
          0.5471913,
          0.5471913,
          0.5471913,
          0.5471913,
          0.5471913,
          0.5471913,
          0.5471913,
          0.5471913,
          0.5471913,
          0.5471913,
          0.5471913,
          0.5471913,
          0.5471913,
          0.5471913,
          0.5471913,
          0.5471913,
          0.5471913,
          0.5471913,
          0.5471913,
          0.5471913,
          0.5471913,
          0.5471913,
          0.5471913,
          0.5471913,
          0.5471913,
          0.5471913,
          0.5471913,
          0.5471913,
          0.5471913,
          0.5471913,
          0.5471913,
          0.5471913,
          0.5471913,
          0.5471913,
          0.5471913,
          0.5471913,
          0.5471913,
          0.5471913,
          0.5471913,
          0.5471913,
          0.5471913,
          0.5471913,
          0.5471913,
          0.5471913,
          0.5471913,
          0.5471913,
          0.5471913,
          0.5471913,
          0.5471913,
          0.5471913,
          0.5471913,
          0.5471913,
          0.5471913,
          0.5471913,
          0.5471913,
          0.5471913,
          0.5471913,
          0.5471913,
          0.5471913,
          0.5471913,
          0.5471913,
          0.5471913,
          0.5471913,
          0.5471913,
          0.5471913,
          0.5471913,
          0.5471913,
          0.5471913,
          0.5471913,
          0.5471913,
          0.5471913,
          0.5471913,
          0.5471913,
          0.5471913,
          0.5471913,
          0.5471913,
          0.5471913,
          0.5471913,
          0.5471913,
          0.5471913,
          0.5471913,
          0.5471913,
          0.5471913,
          0.5471913,
          0.5471913,
          0.5471913,
          0.5471913,
          0.5471913,
          0.5471913,
          0.5471913,
          0.5471913,
          0.5471913,
          0.5471913,
          0.5471913,
          0.5471913,
          0.5471913,
          0.5471913,
          0.5471913,
          0.5774301,
          0.5774301,
          0.5774301,
          0.5774301,
          0.5774301,
          0.5774301,
          0.5774301,
          0.5774301,
          0.5774301,
          0.5774301,
          0.5774301,
          0.59651136,
          0.59651136,
          0.59651136,
          0.59651136,
          0.59651136,
          0.59651136,
          0.59651136,
          0.59651136,
          0.59651136,
          0.59651136,
          0.59651136,
          0.59651136,
          0.59651136,
          0.59651136,
          0.59651136,
          0.59651136,
          0.59651136,
          0.59651136,
          0.59651136,
          0.59651136,
          0.59651136,
          0.59651136,
          0.59651136,
          0.59651136,
          0.59651136,
          0.59651136,
          0.59651136,
          0.59651136,
          0.59651136,
          0.59651136,
          0.59651136,
          0.59651136,
          0.59651136,
          0.59651136,
          0.59651136,
          0.59651136,
          0.59651136,
          0.59651136,
          0.59651136,
          0.59651136,
          0.59651136,
          0.59651136,
          0.59651136,
          0.59651136,
          0.59651136,
          0.59651136,
          0.56661314,
          0.56661314,
          0.56661314,
          0.56661314,
          0.56661314,
          0.56661314,
          0.56661314,
          0.56661314,
          0.56661314,
          0.56661314,
          0.56661314,
          0.56661314,
          0.56661314,
          0.56661314,
          0.56661314,
          0.56661314,
          0.56661314,
          0.56661314,
          0.56661314,
          0.56661314,
          0.56661314,
          0.56661314,
          0.56661314,
          0.56661314,
          0.56661314,
          0.56661314,
          0.56661314,
          0.56661314,
          0.56661314,
          0.56661314,
          0.56661314,
          0.56661314,
          0.56661314,
          0.56661314,
          0.56661314,
          0.56661314,
          0.56661314,
          0.56661314,
          0.56661314,
          0.56661314,
          0.56661314,
          0.56661314,
          0.56661314,
          0.56661314,
          0.56661314,
          0.56661314,
          0.56661314,
          0.56661314,
          0.56661314,
          0.56661314,
          0.56661314,
          0.56661314,
          0.56661314,
          0.56661314,
          0.56661314,
          0.56661314,
          0.56661314,
          0.56661314,
          0.56661314,
          0.56661314,
          0.56661314,
          0.56661314,
          0.56661314,
          0.56661314,
          0.56661314,
          0.56661314,
          0.56661314,
          0.56661314,
          0.56661314,
          0.56661314,
          0.56661314,
          0.56661314,
          0.56661314,
          0.56661314,
          0.56661314,
          0.56661314,
          0.56661314,
          0.56661314,
          0.56661314,
          0.56661314,
          0.56661314,
          0.56661314,
          0.56661314,
          0.56661314,
          0.56661314,
          0.56661314,
          0.56661314,
          0.56661314,
          0.56661314,
          0.56661314,
          0.56661314,
          0.56661314,
          0.56661314,
          0.56661314,
          0.56661314,
          0.56661314,
          0.56661314,
          0.56661314,
          0.56661314,
          0.56661314,
          0.56661314,
          0.56661314,
          0.56661314,
          0.56661314,
          0.56661314,
          0.56661314,
          0.56661314,
          0.56661314,
          0.56661314,
          0.56661314,
          0.56661314,
          0.56661314,
          0.56661314,
          0.56661314,
          0.56661314,
          0.56661314,
          0.56661314,
          0.56661314,
          0.56661314,
          0.56661314,
          0.56661314,
          0.56661314,
          0.56661314,
          0.56661314,
          0.56661314,
          0.56661314,
          0.56661314,
          0.56661314,
          0.56661314,
          0.56661314,
          0.56661314,
          0.56661314,
          0.56661314,
          0.56661314,
          0.56661314,
          0.56661314,
          0.56661314,
          0.56661314,
          0.56661314,
          0.56661314,
          0.56661314,
          0.56661314,
          0.56661314,
          0.56661314,
          0.56661314,
          0.56661314,
          0.56661314,
          0.56661314,
          0.56661314,
          0.56661314,
          0.56661314,
          0.56661314,
          0.56661314,
          0.56661314,
          0.56661314,
          0.56661314,
          0.56661314,
          0.56661314,
          0.56661314,
          0.56661314,
          0.56661314,
          0.56661314,
          0.56661314,
          0.56661314,
          0.56661314,
          0.56661314,
          0.56661314,
          0.56661314,
          0.56661314,
          0.56661314,
          0.56661314,
          0.56661314,
          0.56661314,
          0.56661314,
          0.56661314,
          0.56661314,
          0.56661314,
          0.56661314,
          0.56661314,
          0.56661314,
          0.56661314,
          0.56661314
         ]
        }
       ],
       "layout": {
        "template": {
         "data": {
          "bar": [
           {
            "error_x": {
             "color": "#2a3f5f"
            },
            "error_y": {
             "color": "#2a3f5f"
            },
            "marker": {
             "line": {
              "color": "#E5ECF6",
              "width": 0.5
             },
             "pattern": {
              "fillmode": "overlay",
              "size": 10,
              "solidity": 0.2
             }
            },
            "type": "bar"
           }
          ],
          "barpolar": [
           {
            "marker": {
             "line": {
              "color": "#E5ECF6",
              "width": 0.5
             },
             "pattern": {
              "fillmode": "overlay",
              "size": 10,
              "solidity": 0.2
             }
            },
            "type": "barpolar"
           }
          ],
          "carpet": [
           {
            "aaxis": {
             "endlinecolor": "#2a3f5f",
             "gridcolor": "white",
             "linecolor": "white",
             "minorgridcolor": "white",
             "startlinecolor": "#2a3f5f"
            },
            "baxis": {
             "endlinecolor": "#2a3f5f",
             "gridcolor": "white",
             "linecolor": "white",
             "minorgridcolor": "white",
             "startlinecolor": "#2a3f5f"
            },
            "type": "carpet"
           }
          ],
          "choropleth": [
           {
            "colorbar": {
             "outlinewidth": 0,
             "ticks": ""
            },
            "type": "choropleth"
           }
          ],
          "contour": [
           {
            "colorbar": {
             "outlinewidth": 0,
             "ticks": ""
            },
            "colorscale": [
             [
              0,
              "#0d0887"
             ],
             [
              0.1111111111111111,
              "#46039f"
             ],
             [
              0.2222222222222222,
              "#7201a8"
             ],
             [
              0.3333333333333333,
              "#9c179e"
             ],
             [
              0.4444444444444444,
              "#bd3786"
             ],
             [
              0.5555555555555556,
              "#d8576b"
             ],
             [
              0.6666666666666666,
              "#ed7953"
             ],
             [
              0.7777777777777778,
              "#fb9f3a"
             ],
             [
              0.8888888888888888,
              "#fdca26"
             ],
             [
              1,
              "#f0f921"
             ]
            ],
            "type": "contour"
           }
          ],
          "contourcarpet": [
           {
            "colorbar": {
             "outlinewidth": 0,
             "ticks": ""
            },
            "type": "contourcarpet"
           }
          ],
          "heatmap": [
           {
            "colorbar": {
             "outlinewidth": 0,
             "ticks": ""
            },
            "colorscale": [
             [
              0,
              "#0d0887"
             ],
             [
              0.1111111111111111,
              "#46039f"
             ],
             [
              0.2222222222222222,
              "#7201a8"
             ],
             [
              0.3333333333333333,
              "#9c179e"
             ],
             [
              0.4444444444444444,
              "#bd3786"
             ],
             [
              0.5555555555555556,
              "#d8576b"
             ],
             [
              0.6666666666666666,
              "#ed7953"
             ],
             [
              0.7777777777777778,
              "#fb9f3a"
             ],
             [
              0.8888888888888888,
              "#fdca26"
             ],
             [
              1,
              "#f0f921"
             ]
            ],
            "type": "heatmap"
           }
          ],
          "heatmapgl": [
           {
            "colorbar": {
             "outlinewidth": 0,
             "ticks": ""
            },
            "colorscale": [
             [
              0,
              "#0d0887"
             ],
             [
              0.1111111111111111,
              "#46039f"
             ],
             [
              0.2222222222222222,
              "#7201a8"
             ],
             [
              0.3333333333333333,
              "#9c179e"
             ],
             [
              0.4444444444444444,
              "#bd3786"
             ],
             [
              0.5555555555555556,
              "#d8576b"
             ],
             [
              0.6666666666666666,
              "#ed7953"
             ],
             [
              0.7777777777777778,
              "#fb9f3a"
             ],
             [
              0.8888888888888888,
              "#fdca26"
             ],
             [
              1,
              "#f0f921"
             ]
            ],
            "type": "heatmapgl"
           }
          ],
          "histogram": [
           {
            "marker": {
             "pattern": {
              "fillmode": "overlay",
              "size": 10,
              "solidity": 0.2
             }
            },
            "type": "histogram"
           }
          ],
          "histogram2d": [
           {
            "colorbar": {
             "outlinewidth": 0,
             "ticks": ""
            },
            "colorscale": [
             [
              0,
              "#0d0887"
             ],
             [
              0.1111111111111111,
              "#46039f"
             ],
             [
              0.2222222222222222,
              "#7201a8"
             ],
             [
              0.3333333333333333,
              "#9c179e"
             ],
             [
              0.4444444444444444,
              "#bd3786"
             ],
             [
              0.5555555555555556,
              "#d8576b"
             ],
             [
              0.6666666666666666,
              "#ed7953"
             ],
             [
              0.7777777777777778,
              "#fb9f3a"
             ],
             [
              0.8888888888888888,
              "#fdca26"
             ],
             [
              1,
              "#f0f921"
             ]
            ],
            "type": "histogram2d"
           }
          ],
          "histogram2dcontour": [
           {
            "colorbar": {
             "outlinewidth": 0,
             "ticks": ""
            },
            "colorscale": [
             [
              0,
              "#0d0887"
             ],
             [
              0.1111111111111111,
              "#46039f"
             ],
             [
              0.2222222222222222,
              "#7201a8"
             ],
             [
              0.3333333333333333,
              "#9c179e"
             ],
             [
              0.4444444444444444,
              "#bd3786"
             ],
             [
              0.5555555555555556,
              "#d8576b"
             ],
             [
              0.6666666666666666,
              "#ed7953"
             ],
             [
              0.7777777777777778,
              "#fb9f3a"
             ],
             [
              0.8888888888888888,
              "#fdca26"
             ],
             [
              1,
              "#f0f921"
             ]
            ],
            "type": "histogram2dcontour"
           }
          ],
          "mesh3d": [
           {
            "colorbar": {
             "outlinewidth": 0,
             "ticks": ""
            },
            "type": "mesh3d"
           }
          ],
          "parcoords": [
           {
            "line": {
             "colorbar": {
              "outlinewidth": 0,
              "ticks": ""
             }
            },
            "type": "parcoords"
           }
          ],
          "pie": [
           {
            "automargin": true,
            "type": "pie"
           }
          ],
          "scatter": [
           {
            "fillpattern": {
             "fillmode": "overlay",
             "size": 10,
             "solidity": 0.2
            },
            "type": "scatter"
           }
          ],
          "scatter3d": [
           {
            "line": {
             "colorbar": {
              "outlinewidth": 0,
              "ticks": ""
             }
            },
            "marker": {
             "colorbar": {
              "outlinewidth": 0,
              "ticks": ""
             }
            },
            "type": "scatter3d"
           }
          ],
          "scattercarpet": [
           {
            "marker": {
             "colorbar": {
              "outlinewidth": 0,
              "ticks": ""
             }
            },
            "type": "scattercarpet"
           }
          ],
          "scattergeo": [
           {
            "marker": {
             "colorbar": {
              "outlinewidth": 0,
              "ticks": ""
             }
            },
            "type": "scattergeo"
           }
          ],
          "scattergl": [
           {
            "marker": {
             "colorbar": {
              "outlinewidth": 0,
              "ticks": ""
             }
            },
            "type": "scattergl"
           }
          ],
          "scattermapbox": [
           {
            "marker": {
             "colorbar": {
              "outlinewidth": 0,
              "ticks": ""
             }
            },
            "type": "scattermapbox"
           }
          ],
          "scatterpolar": [
           {
            "marker": {
             "colorbar": {
              "outlinewidth": 0,
              "ticks": ""
             }
            },
            "type": "scatterpolar"
           }
          ],
          "scatterpolargl": [
           {
            "marker": {
             "colorbar": {
              "outlinewidth": 0,
              "ticks": ""
             }
            },
            "type": "scatterpolargl"
           }
          ],
          "scatterternary": [
           {
            "marker": {
             "colorbar": {
              "outlinewidth": 0,
              "ticks": ""
             }
            },
            "type": "scatterternary"
           }
          ],
          "surface": [
           {
            "colorbar": {
             "outlinewidth": 0,
             "ticks": ""
            },
            "colorscale": [
             [
              0,
              "#0d0887"
             ],
             [
              0.1111111111111111,
              "#46039f"
             ],
             [
              0.2222222222222222,
              "#7201a8"
             ],
             [
              0.3333333333333333,
              "#9c179e"
             ],
             [
              0.4444444444444444,
              "#bd3786"
             ],
             [
              0.5555555555555556,
              "#d8576b"
             ],
             [
              0.6666666666666666,
              "#ed7953"
             ],
             [
              0.7777777777777778,
              "#fb9f3a"
             ],
             [
              0.8888888888888888,
              "#fdca26"
             ],
             [
              1,
              "#f0f921"
             ]
            ],
            "type": "surface"
           }
          ],
          "table": [
           {
            "cells": {
             "fill": {
              "color": "#EBF0F8"
             },
             "line": {
              "color": "white"
             }
            },
            "header": {
             "fill": {
              "color": "#C8D4E3"
             },
             "line": {
              "color": "white"
             }
            },
            "type": "table"
           }
          ]
         },
         "layout": {
          "annotationdefaults": {
           "arrowcolor": "#2a3f5f",
           "arrowhead": 0,
           "arrowwidth": 1
          },
          "autotypenumbers": "strict",
          "coloraxis": {
           "colorbar": {
            "outlinewidth": 0,
            "ticks": ""
           }
          },
          "colorscale": {
           "diverging": [
            [
             0,
             "#8e0152"
            ],
            [
             0.1,
             "#c51b7d"
            ],
            [
             0.2,
             "#de77ae"
            ],
            [
             0.3,
             "#f1b6da"
            ],
            [
             0.4,
             "#fde0ef"
            ],
            [
             0.5,
             "#f7f7f7"
            ],
            [
             0.6,
             "#e6f5d0"
            ],
            [
             0.7,
             "#b8e186"
            ],
            [
             0.8,
             "#7fbc41"
            ],
            [
             0.9,
             "#4d9221"
            ],
            [
             1,
             "#276419"
            ]
           ],
           "sequential": [
            [
             0,
             "#0d0887"
            ],
            [
             0.1111111111111111,
             "#46039f"
            ],
            [
             0.2222222222222222,
             "#7201a8"
            ],
            [
             0.3333333333333333,
             "#9c179e"
            ],
            [
             0.4444444444444444,
             "#bd3786"
            ],
            [
             0.5555555555555556,
             "#d8576b"
            ],
            [
             0.6666666666666666,
             "#ed7953"
            ],
            [
             0.7777777777777778,
             "#fb9f3a"
            ],
            [
             0.8888888888888888,
             "#fdca26"
            ],
            [
             1,
             "#f0f921"
            ]
           ],
           "sequentialminus": [
            [
             0,
             "#0d0887"
            ],
            [
             0.1111111111111111,
             "#46039f"
            ],
            [
             0.2222222222222222,
             "#7201a8"
            ],
            [
             0.3333333333333333,
             "#9c179e"
            ],
            [
             0.4444444444444444,
             "#bd3786"
            ],
            [
             0.5555555555555556,
             "#d8576b"
            ],
            [
             0.6666666666666666,
             "#ed7953"
            ],
            [
             0.7777777777777778,
             "#fb9f3a"
            ],
            [
             0.8888888888888888,
             "#fdca26"
            ],
            [
             1,
             "#f0f921"
            ]
           ]
          },
          "colorway": [
           "#636efa",
           "#EF553B",
           "#00cc96",
           "#ab63fa",
           "#FFA15A",
           "#19d3f3",
           "#FF6692",
           "#B6E880",
           "#FF97FF",
           "#FECB52"
          ],
          "font": {
           "color": "#2a3f5f"
          },
          "geo": {
           "bgcolor": "white",
           "lakecolor": "white",
           "landcolor": "#E5ECF6",
           "showlakes": true,
           "showland": true,
           "subunitcolor": "white"
          },
          "hoverlabel": {
           "align": "left"
          },
          "hovermode": "closest",
          "mapbox": {
           "style": "light"
          },
          "paper_bgcolor": "white",
          "plot_bgcolor": "#E5ECF6",
          "polar": {
           "angularaxis": {
            "gridcolor": "white",
            "linecolor": "white",
            "ticks": ""
           },
           "bgcolor": "#E5ECF6",
           "radialaxis": {
            "gridcolor": "white",
            "linecolor": "white",
            "ticks": ""
           }
          },
          "scene": {
           "xaxis": {
            "backgroundcolor": "#E5ECF6",
            "gridcolor": "white",
            "gridwidth": 2,
            "linecolor": "white",
            "showbackground": true,
            "ticks": "",
            "zerolinecolor": "white"
           },
           "yaxis": {
            "backgroundcolor": "#E5ECF6",
            "gridcolor": "white",
            "gridwidth": 2,
            "linecolor": "white",
            "showbackground": true,
            "ticks": "",
            "zerolinecolor": "white"
           },
           "zaxis": {
            "backgroundcolor": "#E5ECF6",
            "gridcolor": "white",
            "gridwidth": 2,
            "linecolor": "white",
            "showbackground": true,
            "ticks": "",
            "zerolinecolor": "white"
           }
          },
          "shapedefaults": {
           "line": {
            "color": "#2a3f5f"
           }
          },
          "ternary": {
           "aaxis": {
            "gridcolor": "white",
            "linecolor": "white",
            "ticks": ""
           },
           "baxis": {
            "gridcolor": "white",
            "linecolor": "white",
            "ticks": ""
           },
           "bgcolor": "#E5ECF6",
           "caxis": {
            "gridcolor": "white",
            "linecolor": "white",
            "ticks": ""
           }
          },
          "title": {
           "x": 0.05
          },
          "xaxis": {
           "automargin": true,
           "gridcolor": "white",
           "linecolor": "white",
           "ticks": "",
           "title": {
            "standoff": 15
           },
           "zerolinecolor": "white",
           "zerolinewidth": 2
          },
          "yaxis": {
           "automargin": true,
           "gridcolor": "white",
           "linecolor": "white",
           "ticks": "",
           "title": {
            "standoff": 15
           },
           "zerolinecolor": "white",
           "zerolinewidth": 2
          }
         }
        },
        "title": {
         "text": "CP profile for Subject #2473"
        },
        "xaxis": {
         "title": {
          "text": "BMI"
         }
        },
        "yaxis": {
         "title": {
          "text": "Probability of stroke"
         }
        }
       }
      },
      "text/html": [
       "<div>                            <div id=\"7df1a258-96e8-4316-9f9b-dedf5d1fdd1e\" class=\"plotly-graph-div\" style=\"height:525px; width:100%;\"></div>            <script type=\"text/javascript\">                require([\"plotly\"], function(Plotly) {                    window.PLOTLYENV=window.PLOTLYENV || {};                                    if (document.getElementById(\"7df1a258-96e8-4316-9f9b-dedf5d1fdd1e\")) {                    Plotly.newPlot(                        \"7df1a258-96e8-4316-9f9b-dedf5d1fdd1e\",                        [{\"mode\":\"lines\",\"x\":[15.0,15.1,15.2,15.299999999999999,15.399999999999999,15.499999999999998,15.599999999999998,15.699999999999998,15.799999999999997,15.899999999999997,15.999999999999996,16.099999999999994,16.199999999999996,16.299999999999997,16.399999999999995,16.499999999999993,16.599999999999994,16.699999999999996,16.799999999999994,16.89999999999999,16.999999999999993,17.099999999999994,17.199999999999992,17.29999999999999,17.39999999999999,17.499999999999993,17.59999999999999,17.69999999999999,17.79999999999999,17.89999999999999,17.99999999999999,18.099999999999987,18.19999999999999,18.29999999999999,18.399999999999988,18.499999999999986,18.599999999999987,18.69999999999999,18.799999999999986,18.899999999999984,18.999999999999986,19.099999999999987,19.199999999999985,19.299999999999983,19.399999999999984,19.499999999999986,19.599999999999984,19.69999999999998,19.799999999999983,19.899999999999984,19.999999999999982,20.09999999999998,20.19999999999998,20.299999999999983,20.39999999999998,20.49999999999998,20.59999999999998,20.69999999999998,20.79999999999998,20.899999999999977,20.99999999999998,21.09999999999998,21.199999999999978,21.299999999999976,21.399999999999977,21.49999999999998,21.599999999999977,21.699999999999974,21.799999999999976,21.899999999999977,21.999999999999975,22.099999999999973,22.199999999999974,22.299999999999976,22.399999999999974,22.49999999999997,22.599999999999973,22.699999999999974,22.799999999999972,22.89999999999997,22.99999999999997,23.099999999999973,23.19999999999997,23.29999999999997,23.39999999999997,23.49999999999997,23.59999999999997,23.699999999999967,23.79999999999997,23.89999999999997,23.999999999999968,24.099999999999966,24.199999999999967,24.29999999999997,24.399999999999967,24.499999999999964,24.599999999999966,24.699999999999967,24.799999999999965,24.899999999999963,24.999999999999964,25.099999999999966,25.199999999999964,25.29999999999996,25.399999999999963,25.499999999999964,25.599999999999962,25.69999999999996,25.79999999999996,25.899999999999963,25.99999999999996,26.09999999999996,26.19999999999996,26.29999999999996,26.39999999999996,26.499999999999957,26.59999999999996,26.69999999999996,26.799999999999958,26.899999999999956,26.999999999999957,27.09999999999996,27.199999999999957,27.299999999999955,27.399999999999956,27.499999999999957,27.599999999999955,27.699999999999953,27.799999999999955,27.899999999999956,27.999999999999954,28.09999999999995,28.199999999999953,28.299999999999955,28.399999999999952,28.49999999999995,28.59999999999995,28.699999999999953,28.79999999999995,28.89999999999995,28.99999999999995,29.09999999999995,29.19999999999995,29.299999999999947,29.39999999999995,29.49999999999995,29.599999999999948,29.699999999999946,29.799999999999947,29.89999999999995,29.999999999999947,30.099999999999945,30.199999999999946,30.299999999999947,30.399999999999945,30.499999999999943,30.599999999999945,30.699999999999946,30.799999999999944,30.89999999999994,30.999999999999943,31.099999999999945,31.199999999999942,31.29999999999994,31.39999999999994,31.499999999999943,31.59999999999994,31.69999999999994,31.79999999999994,31.89999999999994,31.99999999999994,32.09999999999994,32.19999999999994,32.29999999999994,32.399999999999935,32.499999999999936,32.59999999999994,32.69999999999994,32.79999999999994,32.899999999999935,32.999999999999936,33.09999999999994,33.19999999999993,33.29999999999993,33.399999999999935,33.499999999999936,33.59999999999994,33.69999999999993,33.79999999999993,33.899999999999935,33.99999999999993,34.09999999999993,34.19999999999993,34.29999999999993,34.399999999999935,34.49999999999993,34.59999999999993,34.69999999999993,34.799999999999926,34.89999999999993,34.99999999999993,35.09999999999993,35.19999999999993,35.299999999999926,35.39999999999993,35.49999999999993,35.59999999999992,35.699999999999925,35.799999999999926,35.89999999999993,35.99999999999993,36.09999999999992,36.199999999999925,36.299999999999926,36.39999999999992,36.49999999999992,36.59999999999992,36.699999999999925,36.799999999999926,36.89999999999992,36.99999999999992,37.09999999999992,37.19999999999992,37.29999999999992,37.39999999999992,37.49999999999992,37.59999999999992,37.69999999999992,37.79999999999992,37.89999999999992,37.999999999999915,38.099999999999916,38.19999999999992,38.29999999999992,38.39999999999992,38.499999999999915,38.599999999999916,38.69999999999992,38.79999999999991,38.89999999999991,38.999999999999915,39.099999999999916,39.19999999999992,39.29999999999991,39.39999999999991,39.499999999999915,39.59999999999991,39.69999999999991,39.79999999999991,39.89999999999991,39.999999999999915,40.09999999999991,40.19999999999991,40.29999999999991,40.399999999999906,40.49999999999991,40.59999999999991,40.69999999999991,40.79999999999991,40.899999999999906,40.99999999999991,41.09999999999991,41.1999999999999,41.299999999999905,41.399999999999906,41.49999999999991,41.59999999999991,41.6999999999999,41.799999999999905,41.899999999999906,41.9999999999999,42.0999999999999,42.1999999999999,42.299999999999905,42.399999999999906,42.4999999999999,42.5999999999999,42.6999999999999,42.7999999999999,42.8999999999999,42.9999999999999,43.0999999999999,43.1999999999999,43.2999999999999,43.3999999999999,43.4999999999999,43.599999999999895,43.699999999999896,43.7999999999999,43.8999999999999,43.9999999999999,44.099999999999895,44.199999999999896,44.2999999999999,44.39999999999989,44.49999999999989,44.599999999999895,44.699999999999896,44.7999999999999,44.89999999999989,44.99999999999989,45.099999999999895,45.19999999999989,45.29999999999989,45.39999999999989,45.49999999999989,45.599999999999895,45.69999999999989,45.79999999999989,45.89999999999989,45.999999999999886,46.09999999999989,46.19999999999989,46.29999999999989,46.39999999999989,46.499999999999886,46.59999999999989,46.69999999999989,46.79999999999988,46.899999999999885,46.999999999999886,47.09999999999989,47.19999999999989,47.29999999999988,47.399999999999885,47.499999999999886,47.59999999999988,47.69999999999988,47.79999999999988,47.899999999999885,47.999999999999886,48.09999999999988,48.19999999999988,48.29999999999988,48.39999999999988,48.49999999999988,48.59999999999988,48.69999999999988,48.79999999999988,48.89999999999988,48.99999999999988,49.09999999999988,49.199999999999875,49.299999999999876,49.39999999999988,49.49999999999988,49.59999999999988,49.699999999999875,49.799999999999876,49.89999999999988],\"y\":[0.5471913,0.5471913,0.5471913,0.5471913,0.5471913,0.5471913,0.5471913,0.5471913,0.5471913,0.5471913,0.5471913,0.5471913,0.5471913,0.5471913,0.5471913,0.5471913,0.5471913,0.5471913,0.5471913,0.5471913,0.5471913,0.5471913,0.5471913,0.5471913,0.5471913,0.5471913,0.5471913,0.5471913,0.5471913,0.5471913,0.5471913,0.5471913,0.5471913,0.5471913,0.5471913,0.5471913,0.5471913,0.5471913,0.5471913,0.5471913,0.5471913,0.5471913,0.5471913,0.5471913,0.5471913,0.5471913,0.5471913,0.5471913,0.5471913,0.5471913,0.5471913,0.5471913,0.5471913,0.5471913,0.5471913,0.5471913,0.5471913,0.5471913,0.5471913,0.5471913,0.5471913,0.5471913,0.5471913,0.5471913,0.5471913,0.5471913,0.5471913,0.5471913,0.5471913,0.5471913,0.5471913,0.5471913,0.5471913,0.5471913,0.5471913,0.5471913,0.5471913,0.5471913,0.5471913,0.5471913,0.5471913,0.5471913,0.5471913,0.5471913,0.5471913,0.5471913,0.5471913,0.5471913,0.5471913,0.5471913,0.5471913,0.5471913,0.5471913,0.5471913,0.5471913,0.5471913,0.5471913,0.5471913,0.5471913,0.5471913,0.5471913,0.5471913,0.5471913,0.5471913,0.5471913,0.5471913,0.5471913,0.5471913,0.5471913,0.5471913,0.5471913,0.5774301,0.5774301,0.5774301,0.5774301,0.5774301,0.5774301,0.5774301,0.5774301,0.5774301,0.5774301,0.5774301,0.59651136,0.59651136,0.59651136,0.59651136,0.59651136,0.59651136,0.59651136,0.59651136,0.59651136,0.59651136,0.59651136,0.59651136,0.59651136,0.59651136,0.59651136,0.59651136,0.59651136,0.59651136,0.59651136,0.59651136,0.59651136,0.59651136,0.59651136,0.59651136,0.59651136,0.59651136,0.59651136,0.59651136,0.59651136,0.59651136,0.59651136,0.59651136,0.59651136,0.59651136,0.59651136,0.59651136,0.59651136,0.59651136,0.59651136,0.59651136,0.59651136,0.59651136,0.59651136,0.59651136,0.59651136,0.59651136,0.56661314,0.56661314,0.56661314,0.56661314,0.56661314,0.56661314,0.56661314,0.56661314,0.56661314,0.56661314,0.56661314,0.56661314,0.56661314,0.56661314,0.56661314,0.56661314,0.56661314,0.56661314,0.56661314,0.56661314,0.56661314,0.56661314,0.56661314,0.56661314,0.56661314,0.56661314,0.56661314,0.56661314,0.56661314,0.56661314,0.56661314,0.56661314,0.56661314,0.56661314,0.56661314,0.56661314,0.56661314,0.56661314,0.56661314,0.56661314,0.56661314,0.56661314,0.56661314,0.56661314,0.56661314,0.56661314,0.56661314,0.56661314,0.56661314,0.56661314,0.56661314,0.56661314,0.56661314,0.56661314,0.56661314,0.56661314,0.56661314,0.56661314,0.56661314,0.56661314,0.56661314,0.56661314,0.56661314,0.56661314,0.56661314,0.56661314,0.56661314,0.56661314,0.56661314,0.56661314,0.56661314,0.56661314,0.56661314,0.56661314,0.56661314,0.56661314,0.56661314,0.56661314,0.56661314,0.56661314,0.56661314,0.56661314,0.56661314,0.56661314,0.56661314,0.56661314,0.56661314,0.56661314,0.56661314,0.56661314,0.56661314,0.56661314,0.56661314,0.56661314,0.56661314,0.56661314,0.56661314,0.56661314,0.56661314,0.56661314,0.56661314,0.56661314,0.56661314,0.56661314,0.56661314,0.56661314,0.56661314,0.56661314,0.56661314,0.56661314,0.56661314,0.56661314,0.56661314,0.56661314,0.56661314,0.56661314,0.56661314,0.56661314,0.56661314,0.56661314,0.56661314,0.56661314,0.56661314,0.56661314,0.56661314,0.56661314,0.56661314,0.56661314,0.56661314,0.56661314,0.56661314,0.56661314,0.56661314,0.56661314,0.56661314,0.56661314,0.56661314,0.56661314,0.56661314,0.56661314,0.56661314,0.56661314,0.56661314,0.56661314,0.56661314,0.56661314,0.56661314,0.56661314,0.56661314,0.56661314,0.56661314,0.56661314,0.56661314,0.56661314,0.56661314,0.56661314,0.56661314,0.56661314,0.56661314,0.56661314,0.56661314,0.56661314,0.56661314,0.56661314,0.56661314,0.56661314,0.56661314,0.56661314,0.56661314,0.56661314,0.56661314,0.56661314,0.56661314,0.56661314,0.56661314,0.56661314,0.56661314,0.56661314,0.56661314,0.56661314,0.56661314,0.56661314],\"type\":\"scatter\"}],                        {\"template\":{\"data\":{\"histogram2dcontour\":[{\"type\":\"histogram2dcontour\",\"colorbar\":{\"outlinewidth\":0,\"ticks\":\"\"},\"colorscale\":[[0.0,\"#0d0887\"],[0.1111111111111111,\"#46039f\"],[0.2222222222222222,\"#7201a8\"],[0.3333333333333333,\"#9c179e\"],[0.4444444444444444,\"#bd3786\"],[0.5555555555555556,\"#d8576b\"],[0.6666666666666666,\"#ed7953\"],[0.7777777777777778,\"#fb9f3a\"],[0.8888888888888888,\"#fdca26\"],[1.0,\"#f0f921\"]]}],\"choropleth\":[{\"type\":\"choropleth\",\"colorbar\":{\"outlinewidth\":0,\"ticks\":\"\"}}],\"histogram2d\":[{\"type\":\"histogram2d\",\"colorbar\":{\"outlinewidth\":0,\"ticks\":\"\"},\"colorscale\":[[0.0,\"#0d0887\"],[0.1111111111111111,\"#46039f\"],[0.2222222222222222,\"#7201a8\"],[0.3333333333333333,\"#9c179e\"],[0.4444444444444444,\"#bd3786\"],[0.5555555555555556,\"#d8576b\"],[0.6666666666666666,\"#ed7953\"],[0.7777777777777778,\"#fb9f3a\"],[0.8888888888888888,\"#fdca26\"],[1.0,\"#f0f921\"]]}],\"heatmap\":[{\"type\":\"heatmap\",\"colorbar\":{\"outlinewidth\":0,\"ticks\":\"\"},\"colorscale\":[[0.0,\"#0d0887\"],[0.1111111111111111,\"#46039f\"],[0.2222222222222222,\"#7201a8\"],[0.3333333333333333,\"#9c179e\"],[0.4444444444444444,\"#bd3786\"],[0.5555555555555556,\"#d8576b\"],[0.6666666666666666,\"#ed7953\"],[0.7777777777777778,\"#fb9f3a\"],[0.8888888888888888,\"#fdca26\"],[1.0,\"#f0f921\"]]}],\"heatmapgl\":[{\"type\":\"heatmapgl\",\"colorbar\":{\"outlinewidth\":0,\"ticks\":\"\"},\"colorscale\":[[0.0,\"#0d0887\"],[0.1111111111111111,\"#46039f\"],[0.2222222222222222,\"#7201a8\"],[0.3333333333333333,\"#9c179e\"],[0.4444444444444444,\"#bd3786\"],[0.5555555555555556,\"#d8576b\"],[0.6666666666666666,\"#ed7953\"],[0.7777777777777778,\"#fb9f3a\"],[0.8888888888888888,\"#fdca26\"],[1.0,\"#f0f921\"]]}],\"contourcarpet\":[{\"type\":\"contourcarpet\",\"colorbar\":{\"outlinewidth\":0,\"ticks\":\"\"}}],\"contour\":[{\"type\":\"contour\",\"colorbar\":{\"outlinewidth\":0,\"ticks\":\"\"},\"colorscale\":[[0.0,\"#0d0887\"],[0.1111111111111111,\"#46039f\"],[0.2222222222222222,\"#7201a8\"],[0.3333333333333333,\"#9c179e\"],[0.4444444444444444,\"#bd3786\"],[0.5555555555555556,\"#d8576b\"],[0.6666666666666666,\"#ed7953\"],[0.7777777777777778,\"#fb9f3a\"],[0.8888888888888888,\"#fdca26\"],[1.0,\"#f0f921\"]]}],\"surface\":[{\"type\":\"surface\",\"colorbar\":{\"outlinewidth\":0,\"ticks\":\"\"},\"colorscale\":[[0.0,\"#0d0887\"],[0.1111111111111111,\"#46039f\"],[0.2222222222222222,\"#7201a8\"],[0.3333333333333333,\"#9c179e\"],[0.4444444444444444,\"#bd3786\"],[0.5555555555555556,\"#d8576b\"],[0.6666666666666666,\"#ed7953\"],[0.7777777777777778,\"#fb9f3a\"],[0.8888888888888888,\"#fdca26\"],[1.0,\"#f0f921\"]]}],\"mesh3d\":[{\"type\":\"mesh3d\",\"colorbar\":{\"outlinewidth\":0,\"ticks\":\"\"}}],\"scatter\":[{\"fillpattern\":{\"fillmode\":\"overlay\",\"size\":10,\"solidity\":0.2},\"type\":\"scatter\"}],\"parcoords\":[{\"type\":\"parcoords\",\"line\":{\"colorbar\":{\"outlinewidth\":0,\"ticks\":\"\"}}}],\"scatterpolargl\":[{\"type\":\"scatterpolargl\",\"marker\":{\"colorbar\":{\"outlinewidth\":0,\"ticks\":\"\"}}}],\"bar\":[{\"error_x\":{\"color\":\"#2a3f5f\"},\"error_y\":{\"color\":\"#2a3f5f\"},\"marker\":{\"line\":{\"color\":\"#E5ECF6\",\"width\":0.5},\"pattern\":{\"fillmode\":\"overlay\",\"size\":10,\"solidity\":0.2}},\"type\":\"bar\"}],\"scattergeo\":[{\"type\":\"scattergeo\",\"marker\":{\"colorbar\":{\"outlinewidth\":0,\"ticks\":\"\"}}}],\"scatterpolar\":[{\"type\":\"scatterpolar\",\"marker\":{\"colorbar\":{\"outlinewidth\":0,\"ticks\":\"\"}}}],\"histogram\":[{\"marker\":{\"pattern\":{\"fillmode\":\"overlay\",\"size\":10,\"solidity\":0.2}},\"type\":\"histogram\"}],\"scattergl\":[{\"type\":\"scattergl\",\"marker\":{\"colorbar\":{\"outlinewidth\":0,\"ticks\":\"\"}}}],\"scatter3d\":[{\"type\":\"scatter3d\",\"line\":{\"colorbar\":{\"outlinewidth\":0,\"ticks\":\"\"}},\"marker\":{\"colorbar\":{\"outlinewidth\":0,\"ticks\":\"\"}}}],\"scattermapbox\":[{\"type\":\"scattermapbox\",\"marker\":{\"colorbar\":{\"outlinewidth\":0,\"ticks\":\"\"}}}],\"scatterternary\":[{\"type\":\"scatterternary\",\"marker\":{\"colorbar\":{\"outlinewidth\":0,\"ticks\":\"\"}}}],\"scattercarpet\":[{\"type\":\"scattercarpet\",\"marker\":{\"colorbar\":{\"outlinewidth\":0,\"ticks\":\"\"}}}],\"carpet\":[{\"aaxis\":{\"endlinecolor\":\"#2a3f5f\",\"gridcolor\":\"white\",\"linecolor\":\"white\",\"minorgridcolor\":\"white\",\"startlinecolor\":\"#2a3f5f\"},\"baxis\":{\"endlinecolor\":\"#2a3f5f\",\"gridcolor\":\"white\",\"linecolor\":\"white\",\"minorgridcolor\":\"white\",\"startlinecolor\":\"#2a3f5f\"},\"type\":\"carpet\"}],\"table\":[{\"cells\":{\"fill\":{\"color\":\"#EBF0F8\"},\"line\":{\"color\":\"white\"}},\"header\":{\"fill\":{\"color\":\"#C8D4E3\"},\"line\":{\"color\":\"white\"}},\"type\":\"table\"}],\"barpolar\":[{\"marker\":{\"line\":{\"color\":\"#E5ECF6\",\"width\":0.5},\"pattern\":{\"fillmode\":\"overlay\",\"size\":10,\"solidity\":0.2}},\"type\":\"barpolar\"}],\"pie\":[{\"automargin\":true,\"type\":\"pie\"}]},\"layout\":{\"autotypenumbers\":\"strict\",\"colorway\":[\"#636efa\",\"#EF553B\",\"#00cc96\",\"#ab63fa\",\"#FFA15A\",\"#19d3f3\",\"#FF6692\",\"#B6E880\",\"#FF97FF\",\"#FECB52\"],\"font\":{\"color\":\"#2a3f5f\"},\"hovermode\":\"closest\",\"hoverlabel\":{\"align\":\"left\"},\"paper_bgcolor\":\"white\",\"plot_bgcolor\":\"#E5ECF6\",\"polar\":{\"bgcolor\":\"#E5ECF6\",\"angularaxis\":{\"gridcolor\":\"white\",\"linecolor\":\"white\",\"ticks\":\"\"},\"radialaxis\":{\"gridcolor\":\"white\",\"linecolor\":\"white\",\"ticks\":\"\"}},\"ternary\":{\"bgcolor\":\"#E5ECF6\",\"aaxis\":{\"gridcolor\":\"white\",\"linecolor\":\"white\",\"ticks\":\"\"},\"baxis\":{\"gridcolor\":\"white\",\"linecolor\":\"white\",\"ticks\":\"\"},\"caxis\":{\"gridcolor\":\"white\",\"linecolor\":\"white\",\"ticks\":\"\"}},\"coloraxis\":{\"colorbar\":{\"outlinewidth\":0,\"ticks\":\"\"}},\"colorscale\":{\"sequential\":[[0.0,\"#0d0887\"],[0.1111111111111111,\"#46039f\"],[0.2222222222222222,\"#7201a8\"],[0.3333333333333333,\"#9c179e\"],[0.4444444444444444,\"#bd3786\"],[0.5555555555555556,\"#d8576b\"],[0.6666666666666666,\"#ed7953\"],[0.7777777777777778,\"#fb9f3a\"],[0.8888888888888888,\"#fdca26\"],[1.0,\"#f0f921\"]],\"sequentialminus\":[[0.0,\"#0d0887\"],[0.1111111111111111,\"#46039f\"],[0.2222222222222222,\"#7201a8\"],[0.3333333333333333,\"#9c179e\"],[0.4444444444444444,\"#bd3786\"],[0.5555555555555556,\"#d8576b\"],[0.6666666666666666,\"#ed7953\"],[0.7777777777777778,\"#fb9f3a\"],[0.8888888888888888,\"#fdca26\"],[1.0,\"#f0f921\"]],\"diverging\":[[0,\"#8e0152\"],[0.1,\"#c51b7d\"],[0.2,\"#de77ae\"],[0.3,\"#f1b6da\"],[0.4,\"#fde0ef\"],[0.5,\"#f7f7f7\"],[0.6,\"#e6f5d0\"],[0.7,\"#b8e186\"],[0.8,\"#7fbc41\"],[0.9,\"#4d9221\"],[1,\"#276419\"]]},\"xaxis\":{\"gridcolor\":\"white\",\"linecolor\":\"white\",\"ticks\":\"\",\"title\":{\"standoff\":15},\"zerolinecolor\":\"white\",\"automargin\":true,\"zerolinewidth\":2},\"yaxis\":{\"gridcolor\":\"white\",\"linecolor\":\"white\",\"ticks\":\"\",\"title\":{\"standoff\":15},\"zerolinecolor\":\"white\",\"automargin\":true,\"zerolinewidth\":2},\"scene\":{\"xaxis\":{\"backgroundcolor\":\"#E5ECF6\",\"gridcolor\":\"white\",\"linecolor\":\"white\",\"showbackground\":true,\"ticks\":\"\",\"zerolinecolor\":\"white\",\"gridwidth\":2},\"yaxis\":{\"backgroundcolor\":\"#E5ECF6\",\"gridcolor\":\"white\",\"linecolor\":\"white\",\"showbackground\":true,\"ticks\":\"\",\"zerolinecolor\":\"white\",\"gridwidth\":2},\"zaxis\":{\"backgroundcolor\":\"#E5ECF6\",\"gridcolor\":\"white\",\"linecolor\":\"white\",\"showbackground\":true,\"ticks\":\"\",\"zerolinecolor\":\"white\",\"gridwidth\":2}},\"shapedefaults\":{\"line\":{\"color\":\"#2a3f5f\"}},\"annotationdefaults\":{\"arrowcolor\":\"#2a3f5f\",\"arrowhead\":0,\"arrowwidth\":1},\"geo\":{\"bgcolor\":\"white\",\"landcolor\":\"#E5ECF6\",\"subunitcolor\":\"white\",\"showland\":true,\"showlakes\":true,\"lakecolor\":\"white\"},\"title\":{\"x\":0.05},\"mapbox\":{\"style\":\"light\"}}},\"title\":{\"text\":\"CP profile for Subject #2473\"},\"xaxis\":{\"title\":{\"text\":\"BMI\"}},\"yaxis\":{\"title\":{\"text\":\"Probability of stroke\"}}},                        {\"responsive\": true}                    ).then(function(){\n",
       "                            \n",
       "var gd = document.getElementById('7df1a258-96e8-4316-9f9b-dedf5d1fdd1e');\n",
       "var x = new MutationObserver(function (mutations, observer) {{\n",
       "        var display = window.getComputedStyle(gd).display;\n",
       "        if (!display || display === 'none') {{\n",
       "            console.log([gd, 'removed!']);\n",
       "            Plotly.purge(gd);\n",
       "            observer.disconnect();\n",
       "        }}\n",
       "}});\n",
       "\n",
       "// Listen for the removal of the full notebook cells\n",
       "var notebookContainer = gd.closest('#notebook-container');\n",
       "if (notebookContainer) {{\n",
       "    x.observe(notebookContainer, {childList: true});\n",
       "}}\n",
       "\n",
       "// Listen for the clearing of the current output cell\n",
       "var outputEl = gd.closest('.output');\n",
       "if (outputEl) {{\n",
       "    x.observe(outputEl, {childList: true});\n",
       "}}\n",
       "\n",
       "                        })                };                });            </script>        </div>"
      ]
     },
     "metadata": {},
     "output_type": "display_data"
    }
   ],
   "source": [
    "import plotly.graph_objects as go\n",
    "\n",
    "values = np.arange(15.0, 50.0, 0.1)\n",
    "probs = ceteris_paribus(xgb_model, obs.iloc[1], \"bmi\", values)\n",
    "\n",
    "fig = go.Figure()\n",
    "fig.add_trace(go.Scatter(x=values, y=probs, mode=\"lines\"))\n",
    "fig.update_layout(title=f\"CP profile for Subject #{obs.index[1]}\")\n",
    "fig.update_xaxes(title=\"BMI\")\n",
    "fig.update_yaxes(title=\"Probability of stroke\")"
   ]
  },
  {
   "cell_type": "markdown",
   "metadata": {},
   "source": [
    "As we can see, we get the result that, when other variables are fixed, increasing BMI increases the probability of stroke for the first subject. Curiously, our model predicts that, for the second subject, the expected probability of a stroke *decreases* from a certain point onwards (right around $BMI > 31.8$). This is an example of a behavior which we wouldn't know of if we only looked at SHAP and LIME values - in this case, one possible conclusion would be that our model does something quite weird, which would be useful to know if we wished to deploy it."
   ]
  },
  {
   "cell_type": "markdown",
   "metadata": {},
   "source": [
    "So far we've look at Ceteris Paribus profiles. Insofar as they describe the effect of varying a variable for a given data point, we may ask what happens if we do that for *all* data points and average out the results - then, we will get the average effect of varying a variable, as evaluated on the entire data distribution. Such profiles are called *Partial Dependency Profiles* (PDPs). To get an intuition for how it works, let's look at the PDP for `bmi` variable:"
   ]
  },
  {
   "cell_type": "code",
   "execution_count": 54,
   "metadata": {},
   "outputs": [],
   "source": [
    "def partial_dependency_profile(model, X: pd.DataFrame, var_name: str, values: ArrayLike) -> np.ndarray:\n",
    "    avg_preds = []\n",
    "    tmp_X = X.copy()\n",
    "    for value in values:\n",
    "        tmp_X[var_name] = value\n",
    "        preds = model.predict_proba(X_tf.transform(tmp_X).values)[:,-1]\n",
    "        avg_preds.append(np.mean(preds))\n",
    "    return np.array(avg_preds)"
   ]
  },
  {
   "cell_type": "code",
   "execution_count": 55,
   "metadata": {},
   "outputs": [
    {
     "data": {
      "application/vnd.plotly.v1+json": {
       "config": {
        "plotlyServerURL": "https://plot.ly"
       },
       "data": [
        {
         "mode": "lines",
         "type": "scatter",
         "x": [
          15,
          15.1,
          15.2,
          15.299999999999999,
          15.399999999999999,
          15.499999999999998,
          15.599999999999998,
          15.699999999999998,
          15.799999999999997,
          15.899999999999997,
          15.999999999999996,
          16.099999999999994,
          16.199999999999996,
          16.299999999999997,
          16.399999999999995,
          16.499999999999993,
          16.599999999999994,
          16.699999999999996,
          16.799999999999994,
          16.89999999999999,
          16.999999999999993,
          17.099999999999994,
          17.199999999999992,
          17.29999999999999,
          17.39999999999999,
          17.499999999999993,
          17.59999999999999,
          17.69999999999999,
          17.79999999999999,
          17.89999999999999,
          17.99999999999999,
          18.099999999999987,
          18.19999999999999,
          18.29999999999999,
          18.399999999999988,
          18.499999999999986,
          18.599999999999987,
          18.69999999999999,
          18.799999999999986,
          18.899999999999984,
          18.999999999999986,
          19.099999999999987,
          19.199999999999985,
          19.299999999999983,
          19.399999999999984,
          19.499999999999986,
          19.599999999999984,
          19.69999999999998,
          19.799999999999983,
          19.899999999999984,
          19.999999999999982,
          20.09999999999998,
          20.19999999999998,
          20.299999999999983,
          20.39999999999998,
          20.49999999999998,
          20.59999999999998,
          20.69999999999998,
          20.79999999999998,
          20.899999999999977,
          20.99999999999998,
          21.09999999999998,
          21.199999999999978,
          21.299999999999976,
          21.399999999999977,
          21.49999999999998,
          21.599999999999977,
          21.699999999999974,
          21.799999999999976,
          21.899999999999977,
          21.999999999999975,
          22.099999999999973,
          22.199999999999974,
          22.299999999999976,
          22.399999999999974,
          22.49999999999997,
          22.599999999999973,
          22.699999999999974,
          22.799999999999972,
          22.89999999999997,
          22.99999999999997,
          23.099999999999973,
          23.19999999999997,
          23.29999999999997,
          23.39999999999997,
          23.49999999999997,
          23.59999999999997,
          23.699999999999967,
          23.79999999999997,
          23.89999999999997,
          23.999999999999968,
          24.099999999999966,
          24.199999999999967,
          24.29999999999997,
          24.399999999999967,
          24.499999999999964,
          24.599999999999966,
          24.699999999999967,
          24.799999999999965,
          24.899999999999963,
          24.999999999999964,
          25.099999999999966,
          25.199999999999964,
          25.29999999999996,
          25.399999999999963,
          25.499999999999964,
          25.599999999999962,
          25.69999999999996,
          25.79999999999996,
          25.899999999999963,
          25.99999999999996,
          26.09999999999996,
          26.19999999999996,
          26.29999999999996,
          26.39999999999996,
          26.499999999999957,
          26.59999999999996,
          26.69999999999996,
          26.799999999999958,
          26.899999999999956,
          26.999999999999957,
          27.09999999999996,
          27.199999999999957,
          27.299999999999955,
          27.399999999999956,
          27.499999999999957,
          27.599999999999955,
          27.699999999999953,
          27.799999999999955,
          27.899999999999956,
          27.999999999999954,
          28.09999999999995,
          28.199999999999953,
          28.299999999999955,
          28.399999999999952,
          28.49999999999995,
          28.59999999999995,
          28.699999999999953,
          28.79999999999995,
          28.89999999999995,
          28.99999999999995,
          29.09999999999995,
          29.19999999999995,
          29.299999999999947,
          29.39999999999995,
          29.49999999999995,
          29.599999999999948,
          29.699999999999946,
          29.799999999999947,
          29.89999999999995,
          29.999999999999947,
          30.099999999999945,
          30.199999999999946,
          30.299999999999947,
          30.399999999999945,
          30.499999999999943,
          30.599999999999945,
          30.699999999999946,
          30.799999999999944,
          30.89999999999994,
          30.999999999999943,
          31.099999999999945,
          31.199999999999942,
          31.29999999999994,
          31.39999999999994,
          31.499999999999943,
          31.59999999999994,
          31.69999999999994,
          31.79999999999994,
          31.89999999999994,
          31.99999999999994,
          32.09999999999994,
          32.19999999999994,
          32.29999999999994,
          32.399999999999935,
          32.499999999999936,
          32.59999999999994,
          32.69999999999994,
          32.79999999999994,
          32.899999999999935,
          32.999999999999936,
          33.09999999999994,
          33.19999999999993,
          33.29999999999993,
          33.399999999999935,
          33.499999999999936,
          33.59999999999994,
          33.69999999999993,
          33.79999999999993,
          33.899999999999935,
          33.99999999999993,
          34.09999999999993,
          34.19999999999993,
          34.29999999999993,
          34.399999999999935,
          34.49999999999993,
          34.59999999999993,
          34.69999999999993,
          34.799999999999926,
          34.89999999999993,
          34.99999999999993,
          35.09999999999993,
          35.19999999999993,
          35.299999999999926,
          35.39999999999993,
          35.49999999999993,
          35.59999999999992,
          35.699999999999925,
          35.799999999999926,
          35.89999999999993,
          35.99999999999993,
          36.09999999999992,
          36.199999999999925,
          36.299999999999926,
          36.39999999999992,
          36.49999999999992,
          36.59999999999992,
          36.699999999999925,
          36.799999999999926,
          36.89999999999992,
          36.99999999999992,
          37.09999999999992,
          37.19999999999992,
          37.29999999999992,
          37.39999999999992,
          37.49999999999992,
          37.59999999999992,
          37.69999999999992,
          37.79999999999992,
          37.89999999999992,
          37.999999999999915,
          38.099999999999916,
          38.19999999999992,
          38.29999999999992,
          38.39999999999992,
          38.499999999999915,
          38.599999999999916,
          38.69999999999992,
          38.79999999999991,
          38.89999999999991,
          38.999999999999915,
          39.099999999999916,
          39.19999999999992,
          39.29999999999991,
          39.39999999999991,
          39.499999999999915,
          39.59999999999991,
          39.69999999999991,
          39.79999999999991,
          39.89999999999991,
          39.999999999999915,
          40.09999999999991,
          40.19999999999991,
          40.29999999999991,
          40.399999999999906,
          40.49999999999991,
          40.59999999999991,
          40.69999999999991,
          40.79999999999991,
          40.899999999999906,
          40.99999999999991,
          41.09999999999991,
          41.1999999999999,
          41.299999999999905,
          41.399999999999906,
          41.49999999999991,
          41.59999999999991,
          41.6999999999999,
          41.799999999999905,
          41.899999999999906,
          41.9999999999999,
          42.0999999999999,
          42.1999999999999,
          42.299999999999905,
          42.399999999999906,
          42.4999999999999,
          42.5999999999999,
          42.6999999999999,
          42.7999999999999,
          42.8999999999999,
          42.9999999999999,
          43.0999999999999,
          43.1999999999999,
          43.2999999999999,
          43.3999999999999,
          43.4999999999999,
          43.599999999999895,
          43.699999999999896,
          43.7999999999999,
          43.8999999999999,
          43.9999999999999,
          44.099999999999895,
          44.199999999999896,
          44.2999999999999,
          44.39999999999989,
          44.49999999999989,
          44.599999999999895,
          44.699999999999896,
          44.7999999999999,
          44.89999999999989,
          44.99999999999989,
          45.099999999999895,
          45.19999999999989,
          45.29999999999989,
          45.39999999999989,
          45.49999999999989,
          45.599999999999895,
          45.69999999999989,
          45.79999999999989,
          45.89999999999989,
          45.999999999999886,
          46.09999999999989,
          46.19999999999989,
          46.29999999999989,
          46.39999999999989,
          46.499999999999886,
          46.59999999999989,
          46.69999999999989,
          46.79999999999988,
          46.899999999999885,
          46.999999999999886,
          47.09999999999989,
          47.19999999999989,
          47.29999999999988,
          47.399999999999885,
          47.499999999999886,
          47.59999999999988,
          47.69999999999988,
          47.79999999999988,
          47.899999999999885,
          47.999999999999886,
          48.09999999999988,
          48.19999999999988,
          48.29999999999988,
          48.39999999999988,
          48.49999999999988,
          48.59999999999988,
          48.69999999999988,
          48.79999999999988,
          48.89999999999988,
          48.99999999999988,
          49.09999999999988,
          49.199999999999875,
          49.299999999999876,
          49.39999999999988,
          49.49999999999988,
          49.59999999999988,
          49.699999999999875,
          49.799999999999876,
          49.89999999999988
         ],
         "y": [
          0.32122657,
          0.32122657,
          0.32122657,
          0.32122657,
          0.32122657,
          0.32122657,
          0.32122657,
          0.32122657,
          0.32122657,
          0.32122657,
          0.32122657,
          0.32122657,
          0.32122657,
          0.32122657,
          0.32122657,
          0.32122657,
          0.32122657,
          0.32122657,
          0.32122657,
          0.32122657,
          0.32122657,
          0.32122657,
          0.32122657,
          0.32122657,
          0.32122657,
          0.32122657,
          0.32122657,
          0.32122657,
          0.32122657,
          0.32122657,
          0.32122657,
          0.32122657,
          0.32122657,
          0.32122657,
          0.32122657,
          0.32122657,
          0.32122657,
          0.32122657,
          0.32122657,
          0.32122657,
          0.32122657,
          0.32122657,
          0.32122657,
          0.32122657,
          0.32122657,
          0.32122657,
          0.32122657,
          0.32122657,
          0.32122657,
          0.32122657,
          0.32122657,
          0.32122657,
          0.32122657,
          0.32122657,
          0.32122657,
          0.32122657,
          0.32122657,
          0.32122657,
          0.32122657,
          0.32122657,
          0.32122657,
          0.32122657,
          0.32122657,
          0.32122657,
          0.32122657,
          0.32122657,
          0.32122657,
          0.32122657,
          0.32122657,
          0.32122657,
          0.32122657,
          0.32122657,
          0.32122657,
          0.32122657,
          0.32122657,
          0.32122657,
          0.32122657,
          0.32122657,
          0.32122657,
          0.32122657,
          0.32122657,
          0.32122657,
          0.32122657,
          0.32122657,
          0.32122657,
          0.32122657,
          0.32122657,
          0.32122657,
          0.32122657,
          0.32122657,
          0.32122657,
          0.32122657,
          0.32122657,
          0.32122657,
          0.32122657,
          0.32122657,
          0.32122657,
          0.32122657,
          0.32122657,
          0.32122657,
          0.32122657,
          0.32122657,
          0.32122657,
          0.32122657,
          0.32122657,
          0.32122657,
          0.32122657,
          0.32122657,
          0.3294204,
          0.3294204,
          0.3294204,
          0.34467748,
          0.34467748,
          0.34467748,
          0.34467748,
          0.34467748,
          0.34467748,
          0.34467748,
          0.34467748,
          0.34467748,
          0.34467748,
          0.34467748,
          0.35577312,
          0.35577312,
          0.35577312,
          0.35577312,
          0.35577312,
          0.35577312,
          0.35577312,
          0.35577312,
          0.35577312,
          0.35577312,
          0.35577312,
          0.35577312,
          0.35577312,
          0.35577312,
          0.35577312,
          0.35577312,
          0.35577312,
          0.35577312,
          0.35577312,
          0.35577312,
          0.35577312,
          0.35577312,
          0.35577312,
          0.35577312,
          0.35577312,
          0.35577312,
          0.35577312,
          0.35577312,
          0.35577312,
          0.35577312,
          0.35577312,
          0.35577312,
          0.35577312,
          0.35577312,
          0.35577312,
          0.35577312,
          0.35577312,
          0.35577312,
          0.35577312,
          0.35577312,
          0.35577312,
          0.35577312,
          0.35577312,
          0.35577312,
          0.35577312,
          0.35577312,
          0.34040505,
          0.34040505,
          0.34040505,
          0.34040505,
          0.34040505,
          0.34040505,
          0.34040505,
          0.34040505,
          0.34040505,
          0.34040505,
          0.34040505,
          0.34040505,
          0.34040505,
          0.34040505,
          0.34040505,
          0.34040505,
          0.34040505,
          0.34040505,
          0.34040505,
          0.34040505,
          0.34040505,
          0.34040505,
          0.34040505,
          0.34040505,
          0.34040505,
          0.34040505,
          0.34040505,
          0.34040505,
          0.34040505,
          0.34040505,
          0.34040505,
          0.34040505,
          0.34040505,
          0.34040505,
          0.34040505,
          0.34040505,
          0.34040505,
          0.34040505,
          0.34040505,
          0.34040505,
          0.34040505,
          0.34040505,
          0.34040505,
          0.34040505,
          0.34040505,
          0.34040505,
          0.34040505,
          0.34040505,
          0.34040505,
          0.34040505,
          0.34040505,
          0.34040505,
          0.34040505,
          0.34040505,
          0.34040505,
          0.34040505,
          0.34040505,
          0.34040505,
          0.34040505,
          0.34040505,
          0.34040505,
          0.34040505,
          0.34040505,
          0.34040505,
          0.34040505,
          0.34040505,
          0.34040505,
          0.34040505,
          0.34040505,
          0.34040505,
          0.34040505,
          0.34040505,
          0.34040505,
          0.34040505,
          0.34040505,
          0.34040505,
          0.34040505,
          0.34040505,
          0.34040505,
          0.34040505,
          0.34040505,
          0.34040505,
          0.3556856,
          0.3556856,
          0.3556856,
          0.3556856,
          0.3556856,
          0.3556856,
          0.3556856,
          0.3556856,
          0.3556856,
          0.3556856,
          0.3556856,
          0.3556856,
          0.3556856,
          0.3556856,
          0.3556856,
          0.3556856,
          0.3556856,
          0.3556856,
          0.3556856,
          0.3556856,
          0.3556856,
          0.3556856,
          0.3556856,
          0.3556856,
          0.3556856,
          0.3556856,
          0.3556856,
          0.3556856,
          0.3556856,
          0.3556856,
          0.3556856,
          0.3556856,
          0.3556856,
          0.3556856,
          0.3556856,
          0.3556856,
          0.3556856,
          0.3556856,
          0.3556856,
          0.3556856,
          0.3556856,
          0.3556856,
          0.3556856,
          0.3556856,
          0.3556856,
          0.3556856,
          0.3556856,
          0.3556856,
          0.3556856,
          0.3556856,
          0.3556856,
          0.3556856,
          0.3556856,
          0.3556856,
          0.3556856,
          0.3556856,
          0.3556856,
          0.3556856,
          0.3556856,
          0.37355143,
          0.37355143,
          0.37355143,
          0.37355143,
          0.37355143,
          0.37355143,
          0.37355143,
          0.37355143,
          0.37355143,
          0.37355143,
          0.37355143,
          0.37355143,
          0.37355143,
          0.37355143,
          0.37355143,
          0.37355143,
          0.37355143,
          0.37355143,
          0.37355143,
          0.37355143,
          0.37355143,
          0.37355143,
          0.37355143,
          0.37355143,
          0.37355143,
          0.37355143,
          0.37355143,
          0.37355143,
          0.37355143,
          0.37355143,
          0.37355143,
          0.37355143,
          0.37355143,
          0.37355143,
          0.37355143,
          0.37355143,
          0.37355143,
          0.37355143,
          0.37355143,
          0.37355143,
          0.37355143
         ]
        }
       ],
       "layout": {
        "template": {
         "data": {
          "bar": [
           {
            "error_x": {
             "color": "#2a3f5f"
            },
            "error_y": {
             "color": "#2a3f5f"
            },
            "marker": {
             "line": {
              "color": "#E5ECF6",
              "width": 0.5
             },
             "pattern": {
              "fillmode": "overlay",
              "size": 10,
              "solidity": 0.2
             }
            },
            "type": "bar"
           }
          ],
          "barpolar": [
           {
            "marker": {
             "line": {
              "color": "#E5ECF6",
              "width": 0.5
             },
             "pattern": {
              "fillmode": "overlay",
              "size": 10,
              "solidity": 0.2
             }
            },
            "type": "barpolar"
           }
          ],
          "carpet": [
           {
            "aaxis": {
             "endlinecolor": "#2a3f5f",
             "gridcolor": "white",
             "linecolor": "white",
             "minorgridcolor": "white",
             "startlinecolor": "#2a3f5f"
            },
            "baxis": {
             "endlinecolor": "#2a3f5f",
             "gridcolor": "white",
             "linecolor": "white",
             "minorgridcolor": "white",
             "startlinecolor": "#2a3f5f"
            },
            "type": "carpet"
           }
          ],
          "choropleth": [
           {
            "colorbar": {
             "outlinewidth": 0,
             "ticks": ""
            },
            "type": "choropleth"
           }
          ],
          "contour": [
           {
            "colorbar": {
             "outlinewidth": 0,
             "ticks": ""
            },
            "colorscale": [
             [
              0,
              "#0d0887"
             ],
             [
              0.1111111111111111,
              "#46039f"
             ],
             [
              0.2222222222222222,
              "#7201a8"
             ],
             [
              0.3333333333333333,
              "#9c179e"
             ],
             [
              0.4444444444444444,
              "#bd3786"
             ],
             [
              0.5555555555555556,
              "#d8576b"
             ],
             [
              0.6666666666666666,
              "#ed7953"
             ],
             [
              0.7777777777777778,
              "#fb9f3a"
             ],
             [
              0.8888888888888888,
              "#fdca26"
             ],
             [
              1,
              "#f0f921"
             ]
            ],
            "type": "contour"
           }
          ],
          "contourcarpet": [
           {
            "colorbar": {
             "outlinewidth": 0,
             "ticks": ""
            },
            "type": "contourcarpet"
           }
          ],
          "heatmap": [
           {
            "colorbar": {
             "outlinewidth": 0,
             "ticks": ""
            },
            "colorscale": [
             [
              0,
              "#0d0887"
             ],
             [
              0.1111111111111111,
              "#46039f"
             ],
             [
              0.2222222222222222,
              "#7201a8"
             ],
             [
              0.3333333333333333,
              "#9c179e"
             ],
             [
              0.4444444444444444,
              "#bd3786"
             ],
             [
              0.5555555555555556,
              "#d8576b"
             ],
             [
              0.6666666666666666,
              "#ed7953"
             ],
             [
              0.7777777777777778,
              "#fb9f3a"
             ],
             [
              0.8888888888888888,
              "#fdca26"
             ],
             [
              1,
              "#f0f921"
             ]
            ],
            "type": "heatmap"
           }
          ],
          "heatmapgl": [
           {
            "colorbar": {
             "outlinewidth": 0,
             "ticks": ""
            },
            "colorscale": [
             [
              0,
              "#0d0887"
             ],
             [
              0.1111111111111111,
              "#46039f"
             ],
             [
              0.2222222222222222,
              "#7201a8"
             ],
             [
              0.3333333333333333,
              "#9c179e"
             ],
             [
              0.4444444444444444,
              "#bd3786"
             ],
             [
              0.5555555555555556,
              "#d8576b"
             ],
             [
              0.6666666666666666,
              "#ed7953"
             ],
             [
              0.7777777777777778,
              "#fb9f3a"
             ],
             [
              0.8888888888888888,
              "#fdca26"
             ],
             [
              1,
              "#f0f921"
             ]
            ],
            "type": "heatmapgl"
           }
          ],
          "histogram": [
           {
            "marker": {
             "pattern": {
              "fillmode": "overlay",
              "size": 10,
              "solidity": 0.2
             }
            },
            "type": "histogram"
           }
          ],
          "histogram2d": [
           {
            "colorbar": {
             "outlinewidth": 0,
             "ticks": ""
            },
            "colorscale": [
             [
              0,
              "#0d0887"
             ],
             [
              0.1111111111111111,
              "#46039f"
             ],
             [
              0.2222222222222222,
              "#7201a8"
             ],
             [
              0.3333333333333333,
              "#9c179e"
             ],
             [
              0.4444444444444444,
              "#bd3786"
             ],
             [
              0.5555555555555556,
              "#d8576b"
             ],
             [
              0.6666666666666666,
              "#ed7953"
             ],
             [
              0.7777777777777778,
              "#fb9f3a"
             ],
             [
              0.8888888888888888,
              "#fdca26"
             ],
             [
              1,
              "#f0f921"
             ]
            ],
            "type": "histogram2d"
           }
          ],
          "histogram2dcontour": [
           {
            "colorbar": {
             "outlinewidth": 0,
             "ticks": ""
            },
            "colorscale": [
             [
              0,
              "#0d0887"
             ],
             [
              0.1111111111111111,
              "#46039f"
             ],
             [
              0.2222222222222222,
              "#7201a8"
             ],
             [
              0.3333333333333333,
              "#9c179e"
             ],
             [
              0.4444444444444444,
              "#bd3786"
             ],
             [
              0.5555555555555556,
              "#d8576b"
             ],
             [
              0.6666666666666666,
              "#ed7953"
             ],
             [
              0.7777777777777778,
              "#fb9f3a"
             ],
             [
              0.8888888888888888,
              "#fdca26"
             ],
             [
              1,
              "#f0f921"
             ]
            ],
            "type": "histogram2dcontour"
           }
          ],
          "mesh3d": [
           {
            "colorbar": {
             "outlinewidth": 0,
             "ticks": ""
            },
            "type": "mesh3d"
           }
          ],
          "parcoords": [
           {
            "line": {
             "colorbar": {
              "outlinewidth": 0,
              "ticks": ""
             }
            },
            "type": "parcoords"
           }
          ],
          "pie": [
           {
            "automargin": true,
            "type": "pie"
           }
          ],
          "scatter": [
           {
            "fillpattern": {
             "fillmode": "overlay",
             "size": 10,
             "solidity": 0.2
            },
            "type": "scatter"
           }
          ],
          "scatter3d": [
           {
            "line": {
             "colorbar": {
              "outlinewidth": 0,
              "ticks": ""
             }
            },
            "marker": {
             "colorbar": {
              "outlinewidth": 0,
              "ticks": ""
             }
            },
            "type": "scatter3d"
           }
          ],
          "scattercarpet": [
           {
            "marker": {
             "colorbar": {
              "outlinewidth": 0,
              "ticks": ""
             }
            },
            "type": "scattercarpet"
           }
          ],
          "scattergeo": [
           {
            "marker": {
             "colorbar": {
              "outlinewidth": 0,
              "ticks": ""
             }
            },
            "type": "scattergeo"
           }
          ],
          "scattergl": [
           {
            "marker": {
             "colorbar": {
              "outlinewidth": 0,
              "ticks": ""
             }
            },
            "type": "scattergl"
           }
          ],
          "scattermapbox": [
           {
            "marker": {
             "colorbar": {
              "outlinewidth": 0,
              "ticks": ""
             }
            },
            "type": "scattermapbox"
           }
          ],
          "scatterpolar": [
           {
            "marker": {
             "colorbar": {
              "outlinewidth": 0,
              "ticks": ""
             }
            },
            "type": "scatterpolar"
           }
          ],
          "scatterpolargl": [
           {
            "marker": {
             "colorbar": {
              "outlinewidth": 0,
              "ticks": ""
             }
            },
            "type": "scatterpolargl"
           }
          ],
          "scatterternary": [
           {
            "marker": {
             "colorbar": {
              "outlinewidth": 0,
              "ticks": ""
             }
            },
            "type": "scatterternary"
           }
          ],
          "surface": [
           {
            "colorbar": {
             "outlinewidth": 0,
             "ticks": ""
            },
            "colorscale": [
             [
              0,
              "#0d0887"
             ],
             [
              0.1111111111111111,
              "#46039f"
             ],
             [
              0.2222222222222222,
              "#7201a8"
             ],
             [
              0.3333333333333333,
              "#9c179e"
             ],
             [
              0.4444444444444444,
              "#bd3786"
             ],
             [
              0.5555555555555556,
              "#d8576b"
             ],
             [
              0.6666666666666666,
              "#ed7953"
             ],
             [
              0.7777777777777778,
              "#fb9f3a"
             ],
             [
              0.8888888888888888,
              "#fdca26"
             ],
             [
              1,
              "#f0f921"
             ]
            ],
            "type": "surface"
           }
          ],
          "table": [
           {
            "cells": {
             "fill": {
              "color": "#EBF0F8"
             },
             "line": {
              "color": "white"
             }
            },
            "header": {
             "fill": {
              "color": "#C8D4E3"
             },
             "line": {
              "color": "white"
             }
            },
            "type": "table"
           }
          ]
         },
         "layout": {
          "annotationdefaults": {
           "arrowcolor": "#2a3f5f",
           "arrowhead": 0,
           "arrowwidth": 1
          },
          "autotypenumbers": "strict",
          "coloraxis": {
           "colorbar": {
            "outlinewidth": 0,
            "ticks": ""
           }
          },
          "colorscale": {
           "diverging": [
            [
             0,
             "#8e0152"
            ],
            [
             0.1,
             "#c51b7d"
            ],
            [
             0.2,
             "#de77ae"
            ],
            [
             0.3,
             "#f1b6da"
            ],
            [
             0.4,
             "#fde0ef"
            ],
            [
             0.5,
             "#f7f7f7"
            ],
            [
             0.6,
             "#e6f5d0"
            ],
            [
             0.7,
             "#b8e186"
            ],
            [
             0.8,
             "#7fbc41"
            ],
            [
             0.9,
             "#4d9221"
            ],
            [
             1,
             "#276419"
            ]
           ],
           "sequential": [
            [
             0,
             "#0d0887"
            ],
            [
             0.1111111111111111,
             "#46039f"
            ],
            [
             0.2222222222222222,
             "#7201a8"
            ],
            [
             0.3333333333333333,
             "#9c179e"
            ],
            [
             0.4444444444444444,
             "#bd3786"
            ],
            [
             0.5555555555555556,
             "#d8576b"
            ],
            [
             0.6666666666666666,
             "#ed7953"
            ],
            [
             0.7777777777777778,
             "#fb9f3a"
            ],
            [
             0.8888888888888888,
             "#fdca26"
            ],
            [
             1,
             "#f0f921"
            ]
           ],
           "sequentialminus": [
            [
             0,
             "#0d0887"
            ],
            [
             0.1111111111111111,
             "#46039f"
            ],
            [
             0.2222222222222222,
             "#7201a8"
            ],
            [
             0.3333333333333333,
             "#9c179e"
            ],
            [
             0.4444444444444444,
             "#bd3786"
            ],
            [
             0.5555555555555556,
             "#d8576b"
            ],
            [
             0.6666666666666666,
             "#ed7953"
            ],
            [
             0.7777777777777778,
             "#fb9f3a"
            ],
            [
             0.8888888888888888,
             "#fdca26"
            ],
            [
             1,
             "#f0f921"
            ]
           ]
          },
          "colorway": [
           "#636efa",
           "#EF553B",
           "#00cc96",
           "#ab63fa",
           "#FFA15A",
           "#19d3f3",
           "#FF6692",
           "#B6E880",
           "#FF97FF",
           "#FECB52"
          ],
          "font": {
           "color": "#2a3f5f"
          },
          "geo": {
           "bgcolor": "white",
           "lakecolor": "white",
           "landcolor": "#E5ECF6",
           "showlakes": true,
           "showland": true,
           "subunitcolor": "white"
          },
          "hoverlabel": {
           "align": "left"
          },
          "hovermode": "closest",
          "mapbox": {
           "style": "light"
          },
          "paper_bgcolor": "white",
          "plot_bgcolor": "#E5ECF6",
          "polar": {
           "angularaxis": {
            "gridcolor": "white",
            "linecolor": "white",
            "ticks": ""
           },
           "bgcolor": "#E5ECF6",
           "radialaxis": {
            "gridcolor": "white",
            "linecolor": "white",
            "ticks": ""
           }
          },
          "scene": {
           "xaxis": {
            "backgroundcolor": "#E5ECF6",
            "gridcolor": "white",
            "gridwidth": 2,
            "linecolor": "white",
            "showbackground": true,
            "ticks": "",
            "zerolinecolor": "white"
           },
           "yaxis": {
            "backgroundcolor": "#E5ECF6",
            "gridcolor": "white",
            "gridwidth": 2,
            "linecolor": "white",
            "showbackground": true,
            "ticks": "",
            "zerolinecolor": "white"
           },
           "zaxis": {
            "backgroundcolor": "#E5ECF6",
            "gridcolor": "white",
            "gridwidth": 2,
            "linecolor": "white",
            "showbackground": true,
            "ticks": "",
            "zerolinecolor": "white"
           }
          },
          "shapedefaults": {
           "line": {
            "color": "#2a3f5f"
           }
          },
          "ternary": {
           "aaxis": {
            "gridcolor": "white",
            "linecolor": "white",
            "ticks": ""
           },
           "baxis": {
            "gridcolor": "white",
            "linecolor": "white",
            "ticks": ""
           },
           "bgcolor": "#E5ECF6",
           "caxis": {
            "gridcolor": "white",
            "linecolor": "white",
            "ticks": ""
           }
          },
          "title": {
           "x": 0.05
          },
          "xaxis": {
           "automargin": true,
           "gridcolor": "white",
           "linecolor": "white",
           "ticks": "",
           "title": {
            "standoff": 15
           },
           "zerolinecolor": "white",
           "zerolinewidth": 2
          },
          "yaxis": {
           "automargin": true,
           "gridcolor": "white",
           "linecolor": "white",
           "ticks": "",
           "title": {
            "standoff": 15
           },
           "zerolinecolor": "white",
           "zerolinewidth": 2
          }
         }
        },
        "title": {
         "text": "PDP profile for BMI"
        },
        "xaxis": {
         "title": {
          "text": "BMI"
         }
        },
        "yaxis": {
         "title": {
          "text": "Probability of stroke"
         }
        }
       }
      },
      "text/html": [
       "<div>                            <div id=\"82a92fbe-1d3e-4229-882f-a73d9a662bc1\" class=\"plotly-graph-div\" style=\"height:525px; width:100%;\"></div>            <script type=\"text/javascript\">                require([\"plotly\"], function(Plotly) {                    window.PLOTLYENV=window.PLOTLYENV || {};                                    if (document.getElementById(\"82a92fbe-1d3e-4229-882f-a73d9a662bc1\")) {                    Plotly.newPlot(                        \"82a92fbe-1d3e-4229-882f-a73d9a662bc1\",                        [{\"mode\":\"lines\",\"x\":[15.0,15.1,15.2,15.299999999999999,15.399999999999999,15.499999999999998,15.599999999999998,15.699999999999998,15.799999999999997,15.899999999999997,15.999999999999996,16.099999999999994,16.199999999999996,16.299999999999997,16.399999999999995,16.499999999999993,16.599999999999994,16.699999999999996,16.799999999999994,16.89999999999999,16.999999999999993,17.099999999999994,17.199999999999992,17.29999999999999,17.39999999999999,17.499999999999993,17.59999999999999,17.69999999999999,17.79999999999999,17.89999999999999,17.99999999999999,18.099999999999987,18.19999999999999,18.29999999999999,18.399999999999988,18.499999999999986,18.599999999999987,18.69999999999999,18.799999999999986,18.899999999999984,18.999999999999986,19.099999999999987,19.199999999999985,19.299999999999983,19.399999999999984,19.499999999999986,19.599999999999984,19.69999999999998,19.799999999999983,19.899999999999984,19.999999999999982,20.09999999999998,20.19999999999998,20.299999999999983,20.39999999999998,20.49999999999998,20.59999999999998,20.69999999999998,20.79999999999998,20.899999999999977,20.99999999999998,21.09999999999998,21.199999999999978,21.299999999999976,21.399999999999977,21.49999999999998,21.599999999999977,21.699999999999974,21.799999999999976,21.899999999999977,21.999999999999975,22.099999999999973,22.199999999999974,22.299999999999976,22.399999999999974,22.49999999999997,22.599999999999973,22.699999999999974,22.799999999999972,22.89999999999997,22.99999999999997,23.099999999999973,23.19999999999997,23.29999999999997,23.39999999999997,23.49999999999997,23.59999999999997,23.699999999999967,23.79999999999997,23.89999999999997,23.999999999999968,24.099999999999966,24.199999999999967,24.29999999999997,24.399999999999967,24.499999999999964,24.599999999999966,24.699999999999967,24.799999999999965,24.899999999999963,24.999999999999964,25.099999999999966,25.199999999999964,25.29999999999996,25.399999999999963,25.499999999999964,25.599999999999962,25.69999999999996,25.79999999999996,25.899999999999963,25.99999999999996,26.09999999999996,26.19999999999996,26.29999999999996,26.39999999999996,26.499999999999957,26.59999999999996,26.69999999999996,26.799999999999958,26.899999999999956,26.999999999999957,27.09999999999996,27.199999999999957,27.299999999999955,27.399999999999956,27.499999999999957,27.599999999999955,27.699999999999953,27.799999999999955,27.899999999999956,27.999999999999954,28.09999999999995,28.199999999999953,28.299999999999955,28.399999999999952,28.49999999999995,28.59999999999995,28.699999999999953,28.79999999999995,28.89999999999995,28.99999999999995,29.09999999999995,29.19999999999995,29.299999999999947,29.39999999999995,29.49999999999995,29.599999999999948,29.699999999999946,29.799999999999947,29.89999999999995,29.999999999999947,30.099999999999945,30.199999999999946,30.299999999999947,30.399999999999945,30.499999999999943,30.599999999999945,30.699999999999946,30.799999999999944,30.89999999999994,30.999999999999943,31.099999999999945,31.199999999999942,31.29999999999994,31.39999999999994,31.499999999999943,31.59999999999994,31.69999999999994,31.79999999999994,31.89999999999994,31.99999999999994,32.09999999999994,32.19999999999994,32.29999999999994,32.399999999999935,32.499999999999936,32.59999999999994,32.69999999999994,32.79999999999994,32.899999999999935,32.999999999999936,33.09999999999994,33.19999999999993,33.29999999999993,33.399999999999935,33.499999999999936,33.59999999999994,33.69999999999993,33.79999999999993,33.899999999999935,33.99999999999993,34.09999999999993,34.19999999999993,34.29999999999993,34.399999999999935,34.49999999999993,34.59999999999993,34.69999999999993,34.799999999999926,34.89999999999993,34.99999999999993,35.09999999999993,35.19999999999993,35.299999999999926,35.39999999999993,35.49999999999993,35.59999999999992,35.699999999999925,35.799999999999926,35.89999999999993,35.99999999999993,36.09999999999992,36.199999999999925,36.299999999999926,36.39999999999992,36.49999999999992,36.59999999999992,36.699999999999925,36.799999999999926,36.89999999999992,36.99999999999992,37.09999999999992,37.19999999999992,37.29999999999992,37.39999999999992,37.49999999999992,37.59999999999992,37.69999999999992,37.79999999999992,37.89999999999992,37.999999999999915,38.099999999999916,38.19999999999992,38.29999999999992,38.39999999999992,38.499999999999915,38.599999999999916,38.69999999999992,38.79999999999991,38.89999999999991,38.999999999999915,39.099999999999916,39.19999999999992,39.29999999999991,39.39999999999991,39.499999999999915,39.59999999999991,39.69999999999991,39.79999999999991,39.89999999999991,39.999999999999915,40.09999999999991,40.19999999999991,40.29999999999991,40.399999999999906,40.49999999999991,40.59999999999991,40.69999999999991,40.79999999999991,40.899999999999906,40.99999999999991,41.09999999999991,41.1999999999999,41.299999999999905,41.399999999999906,41.49999999999991,41.59999999999991,41.6999999999999,41.799999999999905,41.899999999999906,41.9999999999999,42.0999999999999,42.1999999999999,42.299999999999905,42.399999999999906,42.4999999999999,42.5999999999999,42.6999999999999,42.7999999999999,42.8999999999999,42.9999999999999,43.0999999999999,43.1999999999999,43.2999999999999,43.3999999999999,43.4999999999999,43.599999999999895,43.699999999999896,43.7999999999999,43.8999999999999,43.9999999999999,44.099999999999895,44.199999999999896,44.2999999999999,44.39999999999989,44.49999999999989,44.599999999999895,44.699999999999896,44.7999999999999,44.89999999999989,44.99999999999989,45.099999999999895,45.19999999999989,45.29999999999989,45.39999999999989,45.49999999999989,45.599999999999895,45.69999999999989,45.79999999999989,45.89999999999989,45.999999999999886,46.09999999999989,46.19999999999989,46.29999999999989,46.39999999999989,46.499999999999886,46.59999999999989,46.69999999999989,46.79999999999988,46.899999999999885,46.999999999999886,47.09999999999989,47.19999999999989,47.29999999999988,47.399999999999885,47.499999999999886,47.59999999999988,47.69999999999988,47.79999999999988,47.899999999999885,47.999999999999886,48.09999999999988,48.19999999999988,48.29999999999988,48.39999999999988,48.49999999999988,48.59999999999988,48.69999999999988,48.79999999999988,48.89999999999988,48.99999999999988,49.09999999999988,49.199999999999875,49.299999999999876,49.39999999999988,49.49999999999988,49.59999999999988,49.699999999999875,49.799999999999876,49.89999999999988],\"y\":[0.32122657,0.32122657,0.32122657,0.32122657,0.32122657,0.32122657,0.32122657,0.32122657,0.32122657,0.32122657,0.32122657,0.32122657,0.32122657,0.32122657,0.32122657,0.32122657,0.32122657,0.32122657,0.32122657,0.32122657,0.32122657,0.32122657,0.32122657,0.32122657,0.32122657,0.32122657,0.32122657,0.32122657,0.32122657,0.32122657,0.32122657,0.32122657,0.32122657,0.32122657,0.32122657,0.32122657,0.32122657,0.32122657,0.32122657,0.32122657,0.32122657,0.32122657,0.32122657,0.32122657,0.32122657,0.32122657,0.32122657,0.32122657,0.32122657,0.32122657,0.32122657,0.32122657,0.32122657,0.32122657,0.32122657,0.32122657,0.32122657,0.32122657,0.32122657,0.32122657,0.32122657,0.32122657,0.32122657,0.32122657,0.32122657,0.32122657,0.32122657,0.32122657,0.32122657,0.32122657,0.32122657,0.32122657,0.32122657,0.32122657,0.32122657,0.32122657,0.32122657,0.32122657,0.32122657,0.32122657,0.32122657,0.32122657,0.32122657,0.32122657,0.32122657,0.32122657,0.32122657,0.32122657,0.32122657,0.32122657,0.32122657,0.32122657,0.32122657,0.32122657,0.32122657,0.32122657,0.32122657,0.32122657,0.32122657,0.32122657,0.32122657,0.32122657,0.32122657,0.32122657,0.32122657,0.32122657,0.32122657,0.32122657,0.3294204,0.3294204,0.3294204,0.34467748,0.34467748,0.34467748,0.34467748,0.34467748,0.34467748,0.34467748,0.34467748,0.34467748,0.34467748,0.34467748,0.35577312,0.35577312,0.35577312,0.35577312,0.35577312,0.35577312,0.35577312,0.35577312,0.35577312,0.35577312,0.35577312,0.35577312,0.35577312,0.35577312,0.35577312,0.35577312,0.35577312,0.35577312,0.35577312,0.35577312,0.35577312,0.35577312,0.35577312,0.35577312,0.35577312,0.35577312,0.35577312,0.35577312,0.35577312,0.35577312,0.35577312,0.35577312,0.35577312,0.35577312,0.35577312,0.35577312,0.35577312,0.35577312,0.35577312,0.35577312,0.35577312,0.35577312,0.35577312,0.35577312,0.35577312,0.35577312,0.34040505,0.34040505,0.34040505,0.34040505,0.34040505,0.34040505,0.34040505,0.34040505,0.34040505,0.34040505,0.34040505,0.34040505,0.34040505,0.34040505,0.34040505,0.34040505,0.34040505,0.34040505,0.34040505,0.34040505,0.34040505,0.34040505,0.34040505,0.34040505,0.34040505,0.34040505,0.34040505,0.34040505,0.34040505,0.34040505,0.34040505,0.34040505,0.34040505,0.34040505,0.34040505,0.34040505,0.34040505,0.34040505,0.34040505,0.34040505,0.34040505,0.34040505,0.34040505,0.34040505,0.34040505,0.34040505,0.34040505,0.34040505,0.34040505,0.34040505,0.34040505,0.34040505,0.34040505,0.34040505,0.34040505,0.34040505,0.34040505,0.34040505,0.34040505,0.34040505,0.34040505,0.34040505,0.34040505,0.34040505,0.34040505,0.34040505,0.34040505,0.34040505,0.34040505,0.34040505,0.34040505,0.34040505,0.34040505,0.34040505,0.34040505,0.34040505,0.34040505,0.34040505,0.34040505,0.34040505,0.34040505,0.34040505,0.3556856,0.3556856,0.3556856,0.3556856,0.3556856,0.3556856,0.3556856,0.3556856,0.3556856,0.3556856,0.3556856,0.3556856,0.3556856,0.3556856,0.3556856,0.3556856,0.3556856,0.3556856,0.3556856,0.3556856,0.3556856,0.3556856,0.3556856,0.3556856,0.3556856,0.3556856,0.3556856,0.3556856,0.3556856,0.3556856,0.3556856,0.3556856,0.3556856,0.3556856,0.3556856,0.3556856,0.3556856,0.3556856,0.3556856,0.3556856,0.3556856,0.3556856,0.3556856,0.3556856,0.3556856,0.3556856,0.3556856,0.3556856,0.3556856,0.3556856,0.3556856,0.3556856,0.3556856,0.3556856,0.3556856,0.3556856,0.3556856,0.3556856,0.3556856,0.37355143,0.37355143,0.37355143,0.37355143,0.37355143,0.37355143,0.37355143,0.37355143,0.37355143,0.37355143,0.37355143,0.37355143,0.37355143,0.37355143,0.37355143,0.37355143,0.37355143,0.37355143,0.37355143,0.37355143,0.37355143,0.37355143,0.37355143,0.37355143,0.37355143,0.37355143,0.37355143,0.37355143,0.37355143,0.37355143,0.37355143,0.37355143,0.37355143,0.37355143,0.37355143,0.37355143,0.37355143,0.37355143,0.37355143,0.37355143,0.37355143],\"type\":\"scatter\"}],                        {\"template\":{\"data\":{\"histogram2dcontour\":[{\"type\":\"histogram2dcontour\",\"colorbar\":{\"outlinewidth\":0,\"ticks\":\"\"},\"colorscale\":[[0.0,\"#0d0887\"],[0.1111111111111111,\"#46039f\"],[0.2222222222222222,\"#7201a8\"],[0.3333333333333333,\"#9c179e\"],[0.4444444444444444,\"#bd3786\"],[0.5555555555555556,\"#d8576b\"],[0.6666666666666666,\"#ed7953\"],[0.7777777777777778,\"#fb9f3a\"],[0.8888888888888888,\"#fdca26\"],[1.0,\"#f0f921\"]]}],\"choropleth\":[{\"type\":\"choropleth\",\"colorbar\":{\"outlinewidth\":0,\"ticks\":\"\"}}],\"histogram2d\":[{\"type\":\"histogram2d\",\"colorbar\":{\"outlinewidth\":0,\"ticks\":\"\"},\"colorscale\":[[0.0,\"#0d0887\"],[0.1111111111111111,\"#46039f\"],[0.2222222222222222,\"#7201a8\"],[0.3333333333333333,\"#9c179e\"],[0.4444444444444444,\"#bd3786\"],[0.5555555555555556,\"#d8576b\"],[0.6666666666666666,\"#ed7953\"],[0.7777777777777778,\"#fb9f3a\"],[0.8888888888888888,\"#fdca26\"],[1.0,\"#f0f921\"]]}],\"heatmap\":[{\"type\":\"heatmap\",\"colorbar\":{\"outlinewidth\":0,\"ticks\":\"\"},\"colorscale\":[[0.0,\"#0d0887\"],[0.1111111111111111,\"#46039f\"],[0.2222222222222222,\"#7201a8\"],[0.3333333333333333,\"#9c179e\"],[0.4444444444444444,\"#bd3786\"],[0.5555555555555556,\"#d8576b\"],[0.6666666666666666,\"#ed7953\"],[0.7777777777777778,\"#fb9f3a\"],[0.8888888888888888,\"#fdca26\"],[1.0,\"#f0f921\"]]}],\"heatmapgl\":[{\"type\":\"heatmapgl\",\"colorbar\":{\"outlinewidth\":0,\"ticks\":\"\"},\"colorscale\":[[0.0,\"#0d0887\"],[0.1111111111111111,\"#46039f\"],[0.2222222222222222,\"#7201a8\"],[0.3333333333333333,\"#9c179e\"],[0.4444444444444444,\"#bd3786\"],[0.5555555555555556,\"#d8576b\"],[0.6666666666666666,\"#ed7953\"],[0.7777777777777778,\"#fb9f3a\"],[0.8888888888888888,\"#fdca26\"],[1.0,\"#f0f921\"]]}],\"contourcarpet\":[{\"type\":\"contourcarpet\",\"colorbar\":{\"outlinewidth\":0,\"ticks\":\"\"}}],\"contour\":[{\"type\":\"contour\",\"colorbar\":{\"outlinewidth\":0,\"ticks\":\"\"},\"colorscale\":[[0.0,\"#0d0887\"],[0.1111111111111111,\"#46039f\"],[0.2222222222222222,\"#7201a8\"],[0.3333333333333333,\"#9c179e\"],[0.4444444444444444,\"#bd3786\"],[0.5555555555555556,\"#d8576b\"],[0.6666666666666666,\"#ed7953\"],[0.7777777777777778,\"#fb9f3a\"],[0.8888888888888888,\"#fdca26\"],[1.0,\"#f0f921\"]]}],\"surface\":[{\"type\":\"surface\",\"colorbar\":{\"outlinewidth\":0,\"ticks\":\"\"},\"colorscale\":[[0.0,\"#0d0887\"],[0.1111111111111111,\"#46039f\"],[0.2222222222222222,\"#7201a8\"],[0.3333333333333333,\"#9c179e\"],[0.4444444444444444,\"#bd3786\"],[0.5555555555555556,\"#d8576b\"],[0.6666666666666666,\"#ed7953\"],[0.7777777777777778,\"#fb9f3a\"],[0.8888888888888888,\"#fdca26\"],[1.0,\"#f0f921\"]]}],\"mesh3d\":[{\"type\":\"mesh3d\",\"colorbar\":{\"outlinewidth\":0,\"ticks\":\"\"}}],\"scatter\":[{\"fillpattern\":{\"fillmode\":\"overlay\",\"size\":10,\"solidity\":0.2},\"type\":\"scatter\"}],\"parcoords\":[{\"type\":\"parcoords\",\"line\":{\"colorbar\":{\"outlinewidth\":0,\"ticks\":\"\"}}}],\"scatterpolargl\":[{\"type\":\"scatterpolargl\",\"marker\":{\"colorbar\":{\"outlinewidth\":0,\"ticks\":\"\"}}}],\"bar\":[{\"error_x\":{\"color\":\"#2a3f5f\"},\"error_y\":{\"color\":\"#2a3f5f\"},\"marker\":{\"line\":{\"color\":\"#E5ECF6\",\"width\":0.5},\"pattern\":{\"fillmode\":\"overlay\",\"size\":10,\"solidity\":0.2}},\"type\":\"bar\"}],\"scattergeo\":[{\"type\":\"scattergeo\",\"marker\":{\"colorbar\":{\"outlinewidth\":0,\"ticks\":\"\"}}}],\"scatterpolar\":[{\"type\":\"scatterpolar\",\"marker\":{\"colorbar\":{\"outlinewidth\":0,\"ticks\":\"\"}}}],\"histogram\":[{\"marker\":{\"pattern\":{\"fillmode\":\"overlay\",\"size\":10,\"solidity\":0.2}},\"type\":\"histogram\"}],\"scattergl\":[{\"type\":\"scattergl\",\"marker\":{\"colorbar\":{\"outlinewidth\":0,\"ticks\":\"\"}}}],\"scatter3d\":[{\"type\":\"scatter3d\",\"line\":{\"colorbar\":{\"outlinewidth\":0,\"ticks\":\"\"}},\"marker\":{\"colorbar\":{\"outlinewidth\":0,\"ticks\":\"\"}}}],\"scattermapbox\":[{\"type\":\"scattermapbox\",\"marker\":{\"colorbar\":{\"outlinewidth\":0,\"ticks\":\"\"}}}],\"scatterternary\":[{\"type\":\"scatterternary\",\"marker\":{\"colorbar\":{\"outlinewidth\":0,\"ticks\":\"\"}}}],\"scattercarpet\":[{\"type\":\"scattercarpet\",\"marker\":{\"colorbar\":{\"outlinewidth\":0,\"ticks\":\"\"}}}],\"carpet\":[{\"aaxis\":{\"endlinecolor\":\"#2a3f5f\",\"gridcolor\":\"white\",\"linecolor\":\"white\",\"minorgridcolor\":\"white\",\"startlinecolor\":\"#2a3f5f\"},\"baxis\":{\"endlinecolor\":\"#2a3f5f\",\"gridcolor\":\"white\",\"linecolor\":\"white\",\"minorgridcolor\":\"white\",\"startlinecolor\":\"#2a3f5f\"},\"type\":\"carpet\"}],\"table\":[{\"cells\":{\"fill\":{\"color\":\"#EBF0F8\"},\"line\":{\"color\":\"white\"}},\"header\":{\"fill\":{\"color\":\"#C8D4E3\"},\"line\":{\"color\":\"white\"}},\"type\":\"table\"}],\"barpolar\":[{\"marker\":{\"line\":{\"color\":\"#E5ECF6\",\"width\":0.5},\"pattern\":{\"fillmode\":\"overlay\",\"size\":10,\"solidity\":0.2}},\"type\":\"barpolar\"}],\"pie\":[{\"automargin\":true,\"type\":\"pie\"}]},\"layout\":{\"autotypenumbers\":\"strict\",\"colorway\":[\"#636efa\",\"#EF553B\",\"#00cc96\",\"#ab63fa\",\"#FFA15A\",\"#19d3f3\",\"#FF6692\",\"#B6E880\",\"#FF97FF\",\"#FECB52\"],\"font\":{\"color\":\"#2a3f5f\"},\"hovermode\":\"closest\",\"hoverlabel\":{\"align\":\"left\"},\"paper_bgcolor\":\"white\",\"plot_bgcolor\":\"#E5ECF6\",\"polar\":{\"bgcolor\":\"#E5ECF6\",\"angularaxis\":{\"gridcolor\":\"white\",\"linecolor\":\"white\",\"ticks\":\"\"},\"radialaxis\":{\"gridcolor\":\"white\",\"linecolor\":\"white\",\"ticks\":\"\"}},\"ternary\":{\"bgcolor\":\"#E5ECF6\",\"aaxis\":{\"gridcolor\":\"white\",\"linecolor\":\"white\",\"ticks\":\"\"},\"baxis\":{\"gridcolor\":\"white\",\"linecolor\":\"white\",\"ticks\":\"\"},\"caxis\":{\"gridcolor\":\"white\",\"linecolor\":\"white\",\"ticks\":\"\"}},\"coloraxis\":{\"colorbar\":{\"outlinewidth\":0,\"ticks\":\"\"}},\"colorscale\":{\"sequential\":[[0.0,\"#0d0887\"],[0.1111111111111111,\"#46039f\"],[0.2222222222222222,\"#7201a8\"],[0.3333333333333333,\"#9c179e\"],[0.4444444444444444,\"#bd3786\"],[0.5555555555555556,\"#d8576b\"],[0.6666666666666666,\"#ed7953\"],[0.7777777777777778,\"#fb9f3a\"],[0.8888888888888888,\"#fdca26\"],[1.0,\"#f0f921\"]],\"sequentialminus\":[[0.0,\"#0d0887\"],[0.1111111111111111,\"#46039f\"],[0.2222222222222222,\"#7201a8\"],[0.3333333333333333,\"#9c179e\"],[0.4444444444444444,\"#bd3786\"],[0.5555555555555556,\"#d8576b\"],[0.6666666666666666,\"#ed7953\"],[0.7777777777777778,\"#fb9f3a\"],[0.8888888888888888,\"#fdca26\"],[1.0,\"#f0f921\"]],\"diverging\":[[0,\"#8e0152\"],[0.1,\"#c51b7d\"],[0.2,\"#de77ae\"],[0.3,\"#f1b6da\"],[0.4,\"#fde0ef\"],[0.5,\"#f7f7f7\"],[0.6,\"#e6f5d0\"],[0.7,\"#b8e186\"],[0.8,\"#7fbc41\"],[0.9,\"#4d9221\"],[1,\"#276419\"]]},\"xaxis\":{\"gridcolor\":\"white\",\"linecolor\":\"white\",\"ticks\":\"\",\"title\":{\"standoff\":15},\"zerolinecolor\":\"white\",\"automargin\":true,\"zerolinewidth\":2},\"yaxis\":{\"gridcolor\":\"white\",\"linecolor\":\"white\",\"ticks\":\"\",\"title\":{\"standoff\":15},\"zerolinecolor\":\"white\",\"automargin\":true,\"zerolinewidth\":2},\"scene\":{\"xaxis\":{\"backgroundcolor\":\"#E5ECF6\",\"gridcolor\":\"white\",\"linecolor\":\"white\",\"showbackground\":true,\"ticks\":\"\",\"zerolinecolor\":\"white\",\"gridwidth\":2},\"yaxis\":{\"backgroundcolor\":\"#E5ECF6\",\"gridcolor\":\"white\",\"linecolor\":\"white\",\"showbackground\":true,\"ticks\":\"\",\"zerolinecolor\":\"white\",\"gridwidth\":2},\"zaxis\":{\"backgroundcolor\":\"#E5ECF6\",\"gridcolor\":\"white\",\"linecolor\":\"white\",\"showbackground\":true,\"ticks\":\"\",\"zerolinecolor\":\"white\",\"gridwidth\":2}},\"shapedefaults\":{\"line\":{\"color\":\"#2a3f5f\"}},\"annotationdefaults\":{\"arrowcolor\":\"#2a3f5f\",\"arrowhead\":0,\"arrowwidth\":1},\"geo\":{\"bgcolor\":\"white\",\"landcolor\":\"#E5ECF6\",\"subunitcolor\":\"white\",\"showland\":true,\"showlakes\":true,\"lakecolor\":\"white\"},\"title\":{\"x\":0.05},\"mapbox\":{\"style\":\"light\"}}},\"title\":{\"text\":\"PDP profile for BMI\"},\"xaxis\":{\"title\":{\"text\":\"BMI\"}},\"yaxis\":{\"title\":{\"text\":\"Probability of stroke\"}}},                        {\"responsive\": true}                    ).then(function(){\n",
       "                            \n",
       "var gd = document.getElementById('82a92fbe-1d3e-4229-882f-a73d9a662bc1');\n",
       "var x = new MutationObserver(function (mutations, observer) {{\n",
       "        var display = window.getComputedStyle(gd).display;\n",
       "        if (!display || display === 'none') {{\n",
       "            console.log([gd, 'removed!']);\n",
       "            Plotly.purge(gd);\n",
       "            observer.disconnect();\n",
       "        }}\n",
       "}});\n",
       "\n",
       "// Listen for the removal of the full notebook cells\n",
       "var notebookContainer = gd.closest('#notebook-container');\n",
       "if (notebookContainer) {{\n",
       "    x.observe(notebookContainer, {childList: true});\n",
       "}}\n",
       "\n",
       "// Listen for the clearing of the current output cell\n",
       "var outputEl = gd.closest('.output');\n",
       "if (outputEl) {{\n",
       "    x.observe(outputEl, {childList: true});\n",
       "}}\n",
       "\n",
       "                        })                };                });            </script>        </div>"
      ]
     },
     "metadata": {},
     "output_type": "display_data"
    }
   ],
   "source": [
    "values = np.arange(15.0, 50.0, 0.1)\n",
    "probs = partial_dependency_profile(xgb_model, test_X, \"bmi\", values)\n",
    "\n",
    "fig = go.Figure()\n",
    "fig.add_trace(go.Scatter(x=values, y=probs, mode=\"lines\"))\n",
    "fig.update_layout(title=f\"PDP profile for BMI\")\n",
    "fig.update_xaxes(title=\"BMI\")\n",
    "fig.update_yaxes(title=\"Probability of stroke\")"
   ]
  },
  {
   "cell_type": "markdown",
   "metadata": {},
   "source": [
    "What we can see is that, averaged over the entire (test) dataset, the predictions of our model are quite nontrivial - in general, we can say that there is an upward trajectory, as the BMI increases, but it's not monotonic, in that at some points the average predicted probability of a stroke decreases with increasing BMI. As noted previously, such a behavior seems intuitively quite strange. Thus, PDP profiles can certainly prove to be a useful tool in diagnosing and explaining our predictive models."
   ]
  },
  {
   "cell_type": "markdown",
   "metadata": {},
   "source": [
    "Another thing we can use PDP profiles for is comparing various models. Let's do it for a tree-based model and a logistic regression model:"
   ]
  },
  {
   "cell_type": "code",
   "execution_count": 56,
   "metadata": {},
   "outputs": [
    {
     "data": {
      "application/vnd.plotly.v1+json": {
       "config": {
        "plotlyServerURL": "https://plot.ly"
       },
       "data": [
        {
         "mode": "lines",
         "name": "XGBoost",
         "type": "scatter",
         "x": [
          15,
          15.275590551181102,
          15.551181102362206,
          15.826771653543307,
          16.10236220472441,
          16.37795275590551,
          16.653543307086615,
          16.92913385826772,
          17.20472440944882,
          17.480314960629922,
          17.755905511811022,
          18.031496062992126,
          18.30708661417323,
          18.58267716535433,
          18.858267716535433,
          19.133858267716533,
          19.409448818897637,
          19.68503937007874,
          19.960629921259844,
          20.236220472440944,
          20.511811023622048,
          20.787401574803148,
          21.062992125984252,
          21.338582677165356,
          21.61417322834646,
          21.88976377952756,
          22.165354330708663,
          22.440944881889763,
          22.716535433070867,
          22.99212598425197,
          23.26771653543307,
          23.543307086614174,
          23.818897637795274,
          24.094488188976378,
          24.37007874015748,
          24.645669291338585,
          24.921259842519685,
          25.196850393700785,
          25.47244094488189,
          25.748031496062993,
          26.023622047244096,
          26.2992125984252,
          26.5748031496063,
          26.8503937007874,
          27.125984251968504,
          27.401574803149607,
          27.67716535433071,
          27.95275590551181,
          28.228346456692915,
          28.503937007874015,
          28.77952755905512,
          29.055118110236222,
          29.330708661417326,
          29.606299212598426,
          29.881889763779526,
          30.15748031496063,
          30.433070866141733,
          30.708661417322837,
          30.984251968503937,
          31.25984251968504,
          31.53543307086614,
          31.811023622047244,
          32.08661417322835,
          32.36220472440945,
          32.63779527559055,
          32.91338582677166,
          33.188976377952756,
          33.46456692913386,
          33.74015748031496,
          34.01574803149606,
          34.29133858267717,
          34.56692913385827,
          34.84251968503937,
          35.118110236220474,
          35.39370078740157,
          35.66929133858268,
          35.94488188976378,
          36.22047244094488,
          36.496062992125985,
          36.77165354330709,
          37.04724409448819,
          37.32283464566929,
          37.5984251968504,
          37.874015748031496,
          38.1496062992126,
          38.425196850393704,
          38.7007874015748,
          38.97637795275591,
          39.25196850393701,
          39.52755905511811,
          39.803149606299215,
          40.07874015748031,
          40.35433070866142,
          40.62992125984252,
          40.90551181102362,
          41.181102362204726,
          41.45669291338583,
          41.73228346456693,
          42.00787401574803,
          42.28346456692913,
          42.55905511811024,
          42.83464566929134,
          43.110236220472444,
          43.38582677165354,
          43.66141732283465,
          43.93700787401575,
          44.21259842519685,
          44.488188976377955,
          44.76377952755905,
          45.03937007874016,
          45.31496062992126,
          45.59055118110236,
          45.86614173228347,
          46.14173228346456,
          46.417322834645674,
          46.69291338582677,
          46.968503937007874,
          47.24409448818898,
          47.51968503937008,
          47.795275590551185,
          48.07086614173228,
          48.346456692913385,
          48.62204724409449,
          48.89763779527559,
          49.173228346456696,
          49.4488188976378,
          49.724409448818896,
          50
         ],
         "y": [
          0.32122657,
          0.32122657,
          0.32122657,
          0.32122657,
          0.32122657,
          0.32122657,
          0.32122657,
          0.32122657,
          0.32122657,
          0.32122657,
          0.32122657,
          0.32122657,
          0.32122657,
          0.32122657,
          0.32122657,
          0.32122657,
          0.32122657,
          0.32122657,
          0.32122657,
          0.32122657,
          0.32122657,
          0.32122657,
          0.32122657,
          0.32122657,
          0.32122657,
          0.32122657,
          0.32122657,
          0.32122657,
          0.32122657,
          0.32122657,
          0.32122657,
          0.32122657,
          0.32122657,
          0.32122657,
          0.32122657,
          0.32122657,
          0.32122657,
          0.32122657,
          0.32122657,
          0.32122657,
          0.3294204,
          0.34467748,
          0.34467748,
          0.34467748,
          0.34467748,
          0.35577312,
          0.35577312,
          0.35577312,
          0.35577312,
          0.35577312,
          0.35577312,
          0.35577312,
          0.35577312,
          0.35577312,
          0.35577312,
          0.35577312,
          0.35577312,
          0.35577312,
          0.35577312,
          0.35577312,
          0.35577312,
          0.34040505,
          0.34040505,
          0.34040505,
          0.34040505,
          0.34040505,
          0.34040505,
          0.34040505,
          0.34040505,
          0.34040505,
          0.34040505,
          0.34040505,
          0.34040505,
          0.34040505,
          0.34040505,
          0.34040505,
          0.34040505,
          0.34040505,
          0.34040505,
          0.34040505,
          0.34040505,
          0.34040505,
          0.34040505,
          0.34040505,
          0.34040505,
          0.34040505,
          0.34040505,
          0.34040505,
          0.34040505,
          0.34040505,
          0.34040505,
          0.3556856,
          0.3556856,
          0.3556856,
          0.3556856,
          0.3556856,
          0.3556856,
          0.3556856,
          0.3556856,
          0.3556856,
          0.3556856,
          0.3556856,
          0.3556856,
          0.3556856,
          0.3556856,
          0.3556856,
          0.3556856,
          0.3556856,
          0.3556856,
          0.3556856,
          0.3556856,
          0.3556856,
          0.37355143,
          0.37355143,
          0.37355143,
          0.37355143,
          0.37355143,
          0.37355143,
          0.37355143,
          0.37355143,
          0.37355143,
          0.37355143,
          0.37355143,
          0.37355143,
          0.37355143,
          0.37355143,
          0.37355143,
          0.37355143
         ]
        },
        {
         "mode": "lines",
         "name": "Logistic Regression",
         "type": "scatter",
         "x": [
          15,
          15.275590551181102,
          15.551181102362206,
          15.826771653543307,
          16.10236220472441,
          16.37795275590551,
          16.653543307086615,
          16.92913385826772,
          17.20472440944882,
          17.480314960629922,
          17.755905511811022,
          18.031496062992126,
          18.30708661417323,
          18.58267716535433,
          18.858267716535433,
          19.133858267716533,
          19.409448818897637,
          19.68503937007874,
          19.960629921259844,
          20.236220472440944,
          20.511811023622048,
          20.787401574803148,
          21.062992125984252,
          21.338582677165356,
          21.61417322834646,
          21.88976377952756,
          22.165354330708663,
          22.440944881889763,
          22.716535433070867,
          22.99212598425197,
          23.26771653543307,
          23.543307086614174,
          23.818897637795274,
          24.094488188976378,
          24.37007874015748,
          24.645669291338585,
          24.921259842519685,
          25.196850393700785,
          25.47244094488189,
          25.748031496062993,
          26.023622047244096,
          26.2992125984252,
          26.5748031496063,
          26.8503937007874,
          27.125984251968504,
          27.401574803149607,
          27.67716535433071,
          27.95275590551181,
          28.228346456692915,
          28.503937007874015,
          28.77952755905512,
          29.055118110236222,
          29.330708661417326,
          29.606299212598426,
          29.881889763779526,
          30.15748031496063,
          30.433070866141733,
          30.708661417322837,
          30.984251968503937,
          31.25984251968504,
          31.53543307086614,
          31.811023622047244,
          32.08661417322835,
          32.36220472440945,
          32.63779527559055,
          32.91338582677166,
          33.188976377952756,
          33.46456692913386,
          33.74015748031496,
          34.01574803149606,
          34.29133858267717,
          34.56692913385827,
          34.84251968503937,
          35.118110236220474,
          35.39370078740157,
          35.66929133858268,
          35.94488188976378,
          36.22047244094488,
          36.496062992125985,
          36.77165354330709,
          37.04724409448819,
          37.32283464566929,
          37.5984251968504,
          37.874015748031496,
          38.1496062992126,
          38.425196850393704,
          38.7007874015748,
          38.97637795275591,
          39.25196850393701,
          39.52755905511811,
          39.803149606299215,
          40.07874015748031,
          40.35433070866142,
          40.62992125984252,
          40.90551181102362,
          41.181102362204726,
          41.45669291338583,
          41.73228346456693,
          42.00787401574803,
          42.28346456692913,
          42.55905511811024,
          42.83464566929134,
          43.110236220472444,
          43.38582677165354,
          43.66141732283465,
          43.93700787401575,
          44.21259842519685,
          44.488188976377955,
          44.76377952755905,
          45.03937007874016,
          45.31496062992126,
          45.59055118110236,
          45.86614173228347,
          46.14173228346456,
          46.417322834645674,
          46.69291338582677,
          46.968503937007874,
          47.24409448818898,
          47.51968503937008,
          47.795275590551185,
          48.07086614173228,
          48.346456692913385,
          48.62204724409449,
          48.89763779527559,
          49.173228346456696,
          49.4488188976378,
          49.724409448818896,
          50
         ],
         "y": [
          0.30421946896782515,
          0.3046009992517497,
          0.30498273583449764,
          0.3053646784732919,
          0.3057468269251381,
          0.3061291809468241,
          0.30651174029491995,
          0.30689450472577756,
          0.3072774739955307,
          0.30766064786009417,
          0.3080440260751644,
          0.3084276083962187,
          0.30881139457851475,
          0.3091953843770911,
          0.30957957754676596,
          0.309963973842138,
          0.3103485730175851,
          0.31073337482726476,
          0.31111837902511325,
          0.31150358536484585,
          0.3118889935999561,
          0.31227460348371594,
          0.3126604147691751,
          0.3130464272091608,
          0.31343264055627756,
          0.31381905456290693,
          0.3142056689812068,
          0.31459248356311137,
          0.3149794980603311,
          0.3153667122243518,
          0.31575412580643447,
          0.3161417385576152,
          0.3165295502287044,
          0.31691756057028686,
          0.31730576933272125,
          0.3176941762661394,
          0.31808278112044663,
          0.3184715836453205,
          0.3188605835902114,
          0.3192497807043412,
          0.31963917473670356,
          0.3200287654360634,
          0.3204185525509561,
          0.3208085358296876,
          0.3211987150203337,
          0.32158908987073964,
          0.32197966012851986,
          0.32237042554105766,
          0.3227613858555042,
          0.32315254081877864,
          0.3235438901775676,
          0.32393543367832456,
          0.3243271710672695,
          0.32471910209038835,
          0.3251112264934328,
          0.32550354402191967,
          0.3258960544211301,
          0.32628875743611,
          0.32668165281166844,
          0.32707474029237804,
          0.3274680196225743,
          0.32786149054635455,
          0.32825515280757833,
          0.3286490061498663,
          0.3290430503166002,
          0.3294372850509215,
          0.329831710095732,
          0.33022632519369255,
          0.3306211300872227,
          0.3310161245185005,
          0.3314113082294615,
          0.33180668096179855,
          0.33220224245696106,
          0.3325979924561549,
          0.3329939307003411,
          0.33339005693023605,
          0.33378637088631047,
          0.3341828723087892,
          0.3345795609376504,
          0.334976436512625,
          0.33537349877319633,
          0.3357707474585995,
          0.33616818230782053,
          0.3365658030595962,
          0.33696360945241327,
          0.33736160122450776,
          0.3377597781138647,
          0.3381581398582174,
          0.33855668619504653,
          0.33895541686158,
          0.33935433159479234,
          0.33975343013140347,
          0.340152712207879,
          0.34055217756042894,
          0.3409518259250073,
          0.3413516570373115,
          0.34175167063278183,
          0.3421518664466006,
          0.3425522442136917,
          0.34295280366871983,
          0.34335354454609,
          0.3437544665799469,
          0.3441555695041739,
          0.3445568530523928,
          0.3449583169579634,
          0.345359960953982,
          0.34576178477328146,
          0.34616378814843046,
          0.3465659708117323,
          0.3469683324952252,
          0.34737087293068053,
          0.3477735918496031,
          0.34817648898322956,
          0.3485795640625288,
          0.34898281681820004,
          0.34938624698067333,
          0.3497898542801079,
          0.35019363844639206,
          0.35059759920914224,
          0.3510017362977025,
          0.3514060494411433,
          0.35181053836826165,
          0.3522152028075797,
          0.352620042487344,
          0.3530250571355255,
          0.3534302464798182,
          0.35383561024763815,
          0.35424114816612384
         ]
        }
       ],
       "layout": {
        "template": {
         "data": {
          "bar": [
           {
            "error_x": {
             "color": "#2a3f5f"
            },
            "error_y": {
             "color": "#2a3f5f"
            },
            "marker": {
             "line": {
              "color": "#E5ECF6",
              "width": 0.5
             },
             "pattern": {
              "fillmode": "overlay",
              "size": 10,
              "solidity": 0.2
             }
            },
            "type": "bar"
           }
          ],
          "barpolar": [
           {
            "marker": {
             "line": {
              "color": "#E5ECF6",
              "width": 0.5
             },
             "pattern": {
              "fillmode": "overlay",
              "size": 10,
              "solidity": 0.2
             }
            },
            "type": "barpolar"
           }
          ],
          "carpet": [
           {
            "aaxis": {
             "endlinecolor": "#2a3f5f",
             "gridcolor": "white",
             "linecolor": "white",
             "minorgridcolor": "white",
             "startlinecolor": "#2a3f5f"
            },
            "baxis": {
             "endlinecolor": "#2a3f5f",
             "gridcolor": "white",
             "linecolor": "white",
             "minorgridcolor": "white",
             "startlinecolor": "#2a3f5f"
            },
            "type": "carpet"
           }
          ],
          "choropleth": [
           {
            "colorbar": {
             "outlinewidth": 0,
             "ticks": ""
            },
            "type": "choropleth"
           }
          ],
          "contour": [
           {
            "colorbar": {
             "outlinewidth": 0,
             "ticks": ""
            },
            "colorscale": [
             [
              0,
              "#0d0887"
             ],
             [
              0.1111111111111111,
              "#46039f"
             ],
             [
              0.2222222222222222,
              "#7201a8"
             ],
             [
              0.3333333333333333,
              "#9c179e"
             ],
             [
              0.4444444444444444,
              "#bd3786"
             ],
             [
              0.5555555555555556,
              "#d8576b"
             ],
             [
              0.6666666666666666,
              "#ed7953"
             ],
             [
              0.7777777777777778,
              "#fb9f3a"
             ],
             [
              0.8888888888888888,
              "#fdca26"
             ],
             [
              1,
              "#f0f921"
             ]
            ],
            "type": "contour"
           }
          ],
          "contourcarpet": [
           {
            "colorbar": {
             "outlinewidth": 0,
             "ticks": ""
            },
            "type": "contourcarpet"
           }
          ],
          "heatmap": [
           {
            "colorbar": {
             "outlinewidth": 0,
             "ticks": ""
            },
            "colorscale": [
             [
              0,
              "#0d0887"
             ],
             [
              0.1111111111111111,
              "#46039f"
             ],
             [
              0.2222222222222222,
              "#7201a8"
             ],
             [
              0.3333333333333333,
              "#9c179e"
             ],
             [
              0.4444444444444444,
              "#bd3786"
             ],
             [
              0.5555555555555556,
              "#d8576b"
             ],
             [
              0.6666666666666666,
              "#ed7953"
             ],
             [
              0.7777777777777778,
              "#fb9f3a"
             ],
             [
              0.8888888888888888,
              "#fdca26"
             ],
             [
              1,
              "#f0f921"
             ]
            ],
            "type": "heatmap"
           }
          ],
          "heatmapgl": [
           {
            "colorbar": {
             "outlinewidth": 0,
             "ticks": ""
            },
            "colorscale": [
             [
              0,
              "#0d0887"
             ],
             [
              0.1111111111111111,
              "#46039f"
             ],
             [
              0.2222222222222222,
              "#7201a8"
             ],
             [
              0.3333333333333333,
              "#9c179e"
             ],
             [
              0.4444444444444444,
              "#bd3786"
             ],
             [
              0.5555555555555556,
              "#d8576b"
             ],
             [
              0.6666666666666666,
              "#ed7953"
             ],
             [
              0.7777777777777778,
              "#fb9f3a"
             ],
             [
              0.8888888888888888,
              "#fdca26"
             ],
             [
              1,
              "#f0f921"
             ]
            ],
            "type": "heatmapgl"
           }
          ],
          "histogram": [
           {
            "marker": {
             "pattern": {
              "fillmode": "overlay",
              "size": 10,
              "solidity": 0.2
             }
            },
            "type": "histogram"
           }
          ],
          "histogram2d": [
           {
            "colorbar": {
             "outlinewidth": 0,
             "ticks": ""
            },
            "colorscale": [
             [
              0,
              "#0d0887"
             ],
             [
              0.1111111111111111,
              "#46039f"
             ],
             [
              0.2222222222222222,
              "#7201a8"
             ],
             [
              0.3333333333333333,
              "#9c179e"
             ],
             [
              0.4444444444444444,
              "#bd3786"
             ],
             [
              0.5555555555555556,
              "#d8576b"
             ],
             [
              0.6666666666666666,
              "#ed7953"
             ],
             [
              0.7777777777777778,
              "#fb9f3a"
             ],
             [
              0.8888888888888888,
              "#fdca26"
             ],
             [
              1,
              "#f0f921"
             ]
            ],
            "type": "histogram2d"
           }
          ],
          "histogram2dcontour": [
           {
            "colorbar": {
             "outlinewidth": 0,
             "ticks": ""
            },
            "colorscale": [
             [
              0,
              "#0d0887"
             ],
             [
              0.1111111111111111,
              "#46039f"
             ],
             [
              0.2222222222222222,
              "#7201a8"
             ],
             [
              0.3333333333333333,
              "#9c179e"
             ],
             [
              0.4444444444444444,
              "#bd3786"
             ],
             [
              0.5555555555555556,
              "#d8576b"
             ],
             [
              0.6666666666666666,
              "#ed7953"
             ],
             [
              0.7777777777777778,
              "#fb9f3a"
             ],
             [
              0.8888888888888888,
              "#fdca26"
             ],
             [
              1,
              "#f0f921"
             ]
            ],
            "type": "histogram2dcontour"
           }
          ],
          "mesh3d": [
           {
            "colorbar": {
             "outlinewidth": 0,
             "ticks": ""
            },
            "type": "mesh3d"
           }
          ],
          "parcoords": [
           {
            "line": {
             "colorbar": {
              "outlinewidth": 0,
              "ticks": ""
             }
            },
            "type": "parcoords"
           }
          ],
          "pie": [
           {
            "automargin": true,
            "type": "pie"
           }
          ],
          "scatter": [
           {
            "fillpattern": {
             "fillmode": "overlay",
             "size": 10,
             "solidity": 0.2
            },
            "type": "scatter"
           }
          ],
          "scatter3d": [
           {
            "line": {
             "colorbar": {
              "outlinewidth": 0,
              "ticks": ""
             }
            },
            "marker": {
             "colorbar": {
              "outlinewidth": 0,
              "ticks": ""
             }
            },
            "type": "scatter3d"
           }
          ],
          "scattercarpet": [
           {
            "marker": {
             "colorbar": {
              "outlinewidth": 0,
              "ticks": ""
             }
            },
            "type": "scattercarpet"
           }
          ],
          "scattergeo": [
           {
            "marker": {
             "colorbar": {
              "outlinewidth": 0,
              "ticks": ""
             }
            },
            "type": "scattergeo"
           }
          ],
          "scattergl": [
           {
            "marker": {
             "colorbar": {
              "outlinewidth": 0,
              "ticks": ""
             }
            },
            "type": "scattergl"
           }
          ],
          "scattermapbox": [
           {
            "marker": {
             "colorbar": {
              "outlinewidth": 0,
              "ticks": ""
             }
            },
            "type": "scattermapbox"
           }
          ],
          "scatterpolar": [
           {
            "marker": {
             "colorbar": {
              "outlinewidth": 0,
              "ticks": ""
             }
            },
            "type": "scatterpolar"
           }
          ],
          "scatterpolargl": [
           {
            "marker": {
             "colorbar": {
              "outlinewidth": 0,
              "ticks": ""
             }
            },
            "type": "scatterpolargl"
           }
          ],
          "scatterternary": [
           {
            "marker": {
             "colorbar": {
              "outlinewidth": 0,
              "ticks": ""
             }
            },
            "type": "scatterternary"
           }
          ],
          "surface": [
           {
            "colorbar": {
             "outlinewidth": 0,
             "ticks": ""
            },
            "colorscale": [
             [
              0,
              "#0d0887"
             ],
             [
              0.1111111111111111,
              "#46039f"
             ],
             [
              0.2222222222222222,
              "#7201a8"
             ],
             [
              0.3333333333333333,
              "#9c179e"
             ],
             [
              0.4444444444444444,
              "#bd3786"
             ],
             [
              0.5555555555555556,
              "#d8576b"
             ],
             [
              0.6666666666666666,
              "#ed7953"
             ],
             [
              0.7777777777777778,
              "#fb9f3a"
             ],
             [
              0.8888888888888888,
              "#fdca26"
             ],
             [
              1,
              "#f0f921"
             ]
            ],
            "type": "surface"
           }
          ],
          "table": [
           {
            "cells": {
             "fill": {
              "color": "#EBF0F8"
             },
             "line": {
              "color": "white"
             }
            },
            "header": {
             "fill": {
              "color": "#C8D4E3"
             },
             "line": {
              "color": "white"
             }
            },
            "type": "table"
           }
          ]
         },
         "layout": {
          "annotationdefaults": {
           "arrowcolor": "#2a3f5f",
           "arrowhead": 0,
           "arrowwidth": 1
          },
          "autotypenumbers": "strict",
          "coloraxis": {
           "colorbar": {
            "outlinewidth": 0,
            "ticks": ""
           }
          },
          "colorscale": {
           "diverging": [
            [
             0,
             "#8e0152"
            ],
            [
             0.1,
             "#c51b7d"
            ],
            [
             0.2,
             "#de77ae"
            ],
            [
             0.3,
             "#f1b6da"
            ],
            [
             0.4,
             "#fde0ef"
            ],
            [
             0.5,
             "#f7f7f7"
            ],
            [
             0.6,
             "#e6f5d0"
            ],
            [
             0.7,
             "#b8e186"
            ],
            [
             0.8,
             "#7fbc41"
            ],
            [
             0.9,
             "#4d9221"
            ],
            [
             1,
             "#276419"
            ]
           ],
           "sequential": [
            [
             0,
             "#0d0887"
            ],
            [
             0.1111111111111111,
             "#46039f"
            ],
            [
             0.2222222222222222,
             "#7201a8"
            ],
            [
             0.3333333333333333,
             "#9c179e"
            ],
            [
             0.4444444444444444,
             "#bd3786"
            ],
            [
             0.5555555555555556,
             "#d8576b"
            ],
            [
             0.6666666666666666,
             "#ed7953"
            ],
            [
             0.7777777777777778,
             "#fb9f3a"
            ],
            [
             0.8888888888888888,
             "#fdca26"
            ],
            [
             1,
             "#f0f921"
            ]
           ],
           "sequentialminus": [
            [
             0,
             "#0d0887"
            ],
            [
             0.1111111111111111,
             "#46039f"
            ],
            [
             0.2222222222222222,
             "#7201a8"
            ],
            [
             0.3333333333333333,
             "#9c179e"
            ],
            [
             0.4444444444444444,
             "#bd3786"
            ],
            [
             0.5555555555555556,
             "#d8576b"
            ],
            [
             0.6666666666666666,
             "#ed7953"
            ],
            [
             0.7777777777777778,
             "#fb9f3a"
            ],
            [
             0.8888888888888888,
             "#fdca26"
            ],
            [
             1,
             "#f0f921"
            ]
           ]
          },
          "colorway": [
           "#636efa",
           "#EF553B",
           "#00cc96",
           "#ab63fa",
           "#FFA15A",
           "#19d3f3",
           "#FF6692",
           "#B6E880",
           "#FF97FF",
           "#FECB52"
          ],
          "font": {
           "color": "#2a3f5f"
          },
          "geo": {
           "bgcolor": "white",
           "lakecolor": "white",
           "landcolor": "#E5ECF6",
           "showlakes": true,
           "showland": true,
           "subunitcolor": "white"
          },
          "hoverlabel": {
           "align": "left"
          },
          "hovermode": "closest",
          "mapbox": {
           "style": "light"
          },
          "paper_bgcolor": "white",
          "plot_bgcolor": "#E5ECF6",
          "polar": {
           "angularaxis": {
            "gridcolor": "white",
            "linecolor": "white",
            "ticks": ""
           },
           "bgcolor": "#E5ECF6",
           "radialaxis": {
            "gridcolor": "white",
            "linecolor": "white",
            "ticks": ""
           }
          },
          "scene": {
           "xaxis": {
            "backgroundcolor": "#E5ECF6",
            "gridcolor": "white",
            "gridwidth": 2,
            "linecolor": "white",
            "showbackground": true,
            "ticks": "",
            "zerolinecolor": "white"
           },
           "yaxis": {
            "backgroundcolor": "#E5ECF6",
            "gridcolor": "white",
            "gridwidth": 2,
            "linecolor": "white",
            "showbackground": true,
            "ticks": "",
            "zerolinecolor": "white"
           },
           "zaxis": {
            "backgroundcolor": "#E5ECF6",
            "gridcolor": "white",
            "gridwidth": 2,
            "linecolor": "white",
            "showbackground": true,
            "ticks": "",
            "zerolinecolor": "white"
           }
          },
          "shapedefaults": {
           "line": {
            "color": "#2a3f5f"
           }
          },
          "ternary": {
           "aaxis": {
            "gridcolor": "white",
            "linecolor": "white",
            "ticks": ""
           },
           "baxis": {
            "gridcolor": "white",
            "linecolor": "white",
            "ticks": ""
           },
           "bgcolor": "#E5ECF6",
           "caxis": {
            "gridcolor": "white",
            "linecolor": "white",
            "ticks": ""
           }
          },
          "title": {
           "x": 0.05
          },
          "xaxis": {
           "automargin": true,
           "gridcolor": "white",
           "linecolor": "white",
           "ticks": "",
           "title": {
            "standoff": 15
           },
           "zerolinecolor": "white",
           "zerolinewidth": 2
          },
          "yaxis": {
           "automargin": true,
           "gridcolor": "white",
           "linecolor": "white",
           "ticks": "",
           "title": {
            "standoff": 15
           },
           "zerolinecolor": "white",
           "zerolinewidth": 2
          }
         }
        },
        "title": {
         "text": "PDP profiles for BMI for two different models"
        },
        "xaxis": {
         "title": {
          "text": "BMI"
         }
        },
        "yaxis": {
         "title": {
          "text": "Probability of stroke"
         }
        }
       }
      },
      "text/html": [
       "<div>                            <div id=\"ead62531-4872-430d-89f2-86f5650dd764\" class=\"plotly-graph-div\" style=\"height:525px; width:100%;\"></div>            <script type=\"text/javascript\">                require([\"plotly\"], function(Plotly) {                    window.PLOTLYENV=window.PLOTLYENV || {};                                    if (document.getElementById(\"ead62531-4872-430d-89f2-86f5650dd764\")) {                    Plotly.newPlot(                        \"ead62531-4872-430d-89f2-86f5650dd764\",                        [{\"mode\":\"lines\",\"name\":\"XGBoost\",\"x\":[15.0,15.275590551181102,15.551181102362206,15.826771653543307,16.10236220472441,16.37795275590551,16.653543307086615,16.92913385826772,17.20472440944882,17.480314960629922,17.755905511811022,18.031496062992126,18.30708661417323,18.58267716535433,18.858267716535433,19.133858267716533,19.409448818897637,19.68503937007874,19.960629921259844,20.236220472440944,20.511811023622048,20.787401574803148,21.062992125984252,21.338582677165356,21.61417322834646,21.88976377952756,22.165354330708663,22.440944881889763,22.716535433070867,22.99212598425197,23.26771653543307,23.543307086614174,23.818897637795274,24.094488188976378,24.37007874015748,24.645669291338585,24.921259842519685,25.196850393700785,25.47244094488189,25.748031496062993,26.023622047244096,26.2992125984252,26.5748031496063,26.8503937007874,27.125984251968504,27.401574803149607,27.67716535433071,27.95275590551181,28.228346456692915,28.503937007874015,28.77952755905512,29.055118110236222,29.330708661417326,29.606299212598426,29.881889763779526,30.15748031496063,30.433070866141733,30.708661417322837,30.984251968503937,31.25984251968504,31.53543307086614,31.811023622047244,32.08661417322835,32.36220472440945,32.63779527559055,32.91338582677166,33.188976377952756,33.46456692913386,33.74015748031496,34.01574803149606,34.29133858267717,34.56692913385827,34.84251968503937,35.118110236220474,35.39370078740157,35.66929133858268,35.94488188976378,36.22047244094488,36.496062992125985,36.77165354330709,37.04724409448819,37.32283464566929,37.5984251968504,37.874015748031496,38.1496062992126,38.425196850393704,38.7007874015748,38.97637795275591,39.25196850393701,39.52755905511811,39.803149606299215,40.07874015748031,40.35433070866142,40.62992125984252,40.90551181102362,41.181102362204726,41.45669291338583,41.73228346456693,42.00787401574803,42.28346456692913,42.55905511811024,42.83464566929134,43.110236220472444,43.38582677165354,43.66141732283465,43.93700787401575,44.21259842519685,44.488188976377955,44.76377952755905,45.03937007874016,45.31496062992126,45.59055118110236,45.86614173228347,46.14173228346456,46.417322834645674,46.69291338582677,46.968503937007874,47.24409448818898,47.51968503937008,47.795275590551185,48.07086614173228,48.346456692913385,48.62204724409449,48.89763779527559,49.173228346456696,49.4488188976378,49.724409448818896,50.0],\"y\":[0.32122657,0.32122657,0.32122657,0.32122657,0.32122657,0.32122657,0.32122657,0.32122657,0.32122657,0.32122657,0.32122657,0.32122657,0.32122657,0.32122657,0.32122657,0.32122657,0.32122657,0.32122657,0.32122657,0.32122657,0.32122657,0.32122657,0.32122657,0.32122657,0.32122657,0.32122657,0.32122657,0.32122657,0.32122657,0.32122657,0.32122657,0.32122657,0.32122657,0.32122657,0.32122657,0.32122657,0.32122657,0.32122657,0.32122657,0.32122657,0.3294204,0.34467748,0.34467748,0.34467748,0.34467748,0.35577312,0.35577312,0.35577312,0.35577312,0.35577312,0.35577312,0.35577312,0.35577312,0.35577312,0.35577312,0.35577312,0.35577312,0.35577312,0.35577312,0.35577312,0.35577312,0.34040505,0.34040505,0.34040505,0.34040505,0.34040505,0.34040505,0.34040505,0.34040505,0.34040505,0.34040505,0.34040505,0.34040505,0.34040505,0.34040505,0.34040505,0.34040505,0.34040505,0.34040505,0.34040505,0.34040505,0.34040505,0.34040505,0.34040505,0.34040505,0.34040505,0.34040505,0.34040505,0.34040505,0.34040505,0.34040505,0.3556856,0.3556856,0.3556856,0.3556856,0.3556856,0.3556856,0.3556856,0.3556856,0.3556856,0.3556856,0.3556856,0.3556856,0.3556856,0.3556856,0.3556856,0.3556856,0.3556856,0.3556856,0.3556856,0.3556856,0.3556856,0.37355143,0.37355143,0.37355143,0.37355143,0.37355143,0.37355143,0.37355143,0.37355143,0.37355143,0.37355143,0.37355143,0.37355143,0.37355143,0.37355143,0.37355143,0.37355143],\"type\":\"scatter\"},{\"mode\":\"lines\",\"name\":\"Logistic Regression\",\"x\":[15.0,15.275590551181102,15.551181102362206,15.826771653543307,16.10236220472441,16.37795275590551,16.653543307086615,16.92913385826772,17.20472440944882,17.480314960629922,17.755905511811022,18.031496062992126,18.30708661417323,18.58267716535433,18.858267716535433,19.133858267716533,19.409448818897637,19.68503937007874,19.960629921259844,20.236220472440944,20.511811023622048,20.787401574803148,21.062992125984252,21.338582677165356,21.61417322834646,21.88976377952756,22.165354330708663,22.440944881889763,22.716535433070867,22.99212598425197,23.26771653543307,23.543307086614174,23.818897637795274,24.094488188976378,24.37007874015748,24.645669291338585,24.921259842519685,25.196850393700785,25.47244094488189,25.748031496062993,26.023622047244096,26.2992125984252,26.5748031496063,26.8503937007874,27.125984251968504,27.401574803149607,27.67716535433071,27.95275590551181,28.228346456692915,28.503937007874015,28.77952755905512,29.055118110236222,29.330708661417326,29.606299212598426,29.881889763779526,30.15748031496063,30.433070866141733,30.708661417322837,30.984251968503937,31.25984251968504,31.53543307086614,31.811023622047244,32.08661417322835,32.36220472440945,32.63779527559055,32.91338582677166,33.188976377952756,33.46456692913386,33.74015748031496,34.01574803149606,34.29133858267717,34.56692913385827,34.84251968503937,35.118110236220474,35.39370078740157,35.66929133858268,35.94488188976378,36.22047244094488,36.496062992125985,36.77165354330709,37.04724409448819,37.32283464566929,37.5984251968504,37.874015748031496,38.1496062992126,38.425196850393704,38.7007874015748,38.97637795275591,39.25196850393701,39.52755905511811,39.803149606299215,40.07874015748031,40.35433070866142,40.62992125984252,40.90551181102362,41.181102362204726,41.45669291338583,41.73228346456693,42.00787401574803,42.28346456692913,42.55905511811024,42.83464566929134,43.110236220472444,43.38582677165354,43.66141732283465,43.93700787401575,44.21259842519685,44.488188976377955,44.76377952755905,45.03937007874016,45.31496062992126,45.59055118110236,45.86614173228347,46.14173228346456,46.417322834645674,46.69291338582677,46.968503937007874,47.24409448818898,47.51968503937008,47.795275590551185,48.07086614173228,48.346456692913385,48.62204724409449,48.89763779527559,49.173228346456696,49.4488188976378,49.724409448818896,50.0],\"y\":[0.30421946896782515,0.3046009992517497,0.30498273583449764,0.3053646784732919,0.3057468269251381,0.3061291809468241,0.30651174029491995,0.30689450472577756,0.3072774739955307,0.30766064786009417,0.3080440260751644,0.3084276083962187,0.30881139457851475,0.3091953843770911,0.30957957754676596,0.309963973842138,0.3103485730175851,0.31073337482726476,0.31111837902511325,0.31150358536484585,0.3118889935999561,0.31227460348371594,0.3126604147691751,0.3130464272091608,0.31343264055627756,0.31381905456290693,0.3142056689812068,0.31459248356311137,0.3149794980603311,0.3153667122243518,0.31575412580643447,0.3161417385576152,0.3165295502287044,0.31691756057028686,0.31730576933272125,0.3176941762661394,0.31808278112044663,0.3184715836453205,0.3188605835902114,0.3192497807043412,0.31963917473670356,0.3200287654360634,0.3204185525509561,0.3208085358296876,0.3211987150203337,0.32158908987073964,0.32197966012851986,0.32237042554105766,0.3227613858555042,0.32315254081877864,0.3235438901775676,0.32393543367832456,0.3243271710672695,0.32471910209038835,0.3251112264934328,0.32550354402191967,0.3258960544211301,0.32628875743611,0.32668165281166844,0.32707474029237804,0.3274680196225743,0.32786149054635455,0.32825515280757833,0.3286490061498663,0.3290430503166002,0.3294372850509215,0.329831710095732,0.33022632519369255,0.3306211300872227,0.3310161245185005,0.3314113082294615,0.33180668096179855,0.33220224245696106,0.3325979924561549,0.3329939307003411,0.33339005693023605,0.33378637088631047,0.3341828723087892,0.3345795609376504,0.334976436512625,0.33537349877319633,0.3357707474585995,0.33616818230782053,0.3365658030595962,0.33696360945241327,0.33736160122450776,0.3377597781138647,0.3381581398582174,0.33855668619504653,0.33895541686158,0.33935433159479234,0.33975343013140347,0.340152712207879,0.34055217756042894,0.3409518259250073,0.3413516570373115,0.34175167063278183,0.3421518664466006,0.3425522442136917,0.34295280366871983,0.34335354454609,0.3437544665799469,0.3441555695041739,0.3445568530523928,0.3449583169579634,0.345359960953982,0.34576178477328146,0.34616378814843046,0.3465659708117323,0.3469683324952252,0.34737087293068053,0.3477735918496031,0.34817648898322956,0.3485795640625288,0.34898281681820004,0.34938624698067333,0.3497898542801079,0.35019363844639206,0.35059759920914224,0.3510017362977025,0.3514060494411433,0.35181053836826165,0.3522152028075797,0.352620042487344,0.3530250571355255,0.3534302464798182,0.35383561024763815,0.35424114816612384],\"type\":\"scatter\"}],                        {\"template\":{\"data\":{\"histogram2dcontour\":[{\"type\":\"histogram2dcontour\",\"colorbar\":{\"outlinewidth\":0,\"ticks\":\"\"},\"colorscale\":[[0.0,\"#0d0887\"],[0.1111111111111111,\"#46039f\"],[0.2222222222222222,\"#7201a8\"],[0.3333333333333333,\"#9c179e\"],[0.4444444444444444,\"#bd3786\"],[0.5555555555555556,\"#d8576b\"],[0.6666666666666666,\"#ed7953\"],[0.7777777777777778,\"#fb9f3a\"],[0.8888888888888888,\"#fdca26\"],[1.0,\"#f0f921\"]]}],\"choropleth\":[{\"type\":\"choropleth\",\"colorbar\":{\"outlinewidth\":0,\"ticks\":\"\"}}],\"histogram2d\":[{\"type\":\"histogram2d\",\"colorbar\":{\"outlinewidth\":0,\"ticks\":\"\"},\"colorscale\":[[0.0,\"#0d0887\"],[0.1111111111111111,\"#46039f\"],[0.2222222222222222,\"#7201a8\"],[0.3333333333333333,\"#9c179e\"],[0.4444444444444444,\"#bd3786\"],[0.5555555555555556,\"#d8576b\"],[0.6666666666666666,\"#ed7953\"],[0.7777777777777778,\"#fb9f3a\"],[0.8888888888888888,\"#fdca26\"],[1.0,\"#f0f921\"]]}],\"heatmap\":[{\"type\":\"heatmap\",\"colorbar\":{\"outlinewidth\":0,\"ticks\":\"\"},\"colorscale\":[[0.0,\"#0d0887\"],[0.1111111111111111,\"#46039f\"],[0.2222222222222222,\"#7201a8\"],[0.3333333333333333,\"#9c179e\"],[0.4444444444444444,\"#bd3786\"],[0.5555555555555556,\"#d8576b\"],[0.6666666666666666,\"#ed7953\"],[0.7777777777777778,\"#fb9f3a\"],[0.8888888888888888,\"#fdca26\"],[1.0,\"#f0f921\"]]}],\"heatmapgl\":[{\"type\":\"heatmapgl\",\"colorbar\":{\"outlinewidth\":0,\"ticks\":\"\"},\"colorscale\":[[0.0,\"#0d0887\"],[0.1111111111111111,\"#46039f\"],[0.2222222222222222,\"#7201a8\"],[0.3333333333333333,\"#9c179e\"],[0.4444444444444444,\"#bd3786\"],[0.5555555555555556,\"#d8576b\"],[0.6666666666666666,\"#ed7953\"],[0.7777777777777778,\"#fb9f3a\"],[0.8888888888888888,\"#fdca26\"],[1.0,\"#f0f921\"]]}],\"contourcarpet\":[{\"type\":\"contourcarpet\",\"colorbar\":{\"outlinewidth\":0,\"ticks\":\"\"}}],\"contour\":[{\"type\":\"contour\",\"colorbar\":{\"outlinewidth\":0,\"ticks\":\"\"},\"colorscale\":[[0.0,\"#0d0887\"],[0.1111111111111111,\"#46039f\"],[0.2222222222222222,\"#7201a8\"],[0.3333333333333333,\"#9c179e\"],[0.4444444444444444,\"#bd3786\"],[0.5555555555555556,\"#d8576b\"],[0.6666666666666666,\"#ed7953\"],[0.7777777777777778,\"#fb9f3a\"],[0.8888888888888888,\"#fdca26\"],[1.0,\"#f0f921\"]]}],\"surface\":[{\"type\":\"surface\",\"colorbar\":{\"outlinewidth\":0,\"ticks\":\"\"},\"colorscale\":[[0.0,\"#0d0887\"],[0.1111111111111111,\"#46039f\"],[0.2222222222222222,\"#7201a8\"],[0.3333333333333333,\"#9c179e\"],[0.4444444444444444,\"#bd3786\"],[0.5555555555555556,\"#d8576b\"],[0.6666666666666666,\"#ed7953\"],[0.7777777777777778,\"#fb9f3a\"],[0.8888888888888888,\"#fdca26\"],[1.0,\"#f0f921\"]]}],\"mesh3d\":[{\"type\":\"mesh3d\",\"colorbar\":{\"outlinewidth\":0,\"ticks\":\"\"}}],\"scatter\":[{\"fillpattern\":{\"fillmode\":\"overlay\",\"size\":10,\"solidity\":0.2},\"type\":\"scatter\"}],\"parcoords\":[{\"type\":\"parcoords\",\"line\":{\"colorbar\":{\"outlinewidth\":0,\"ticks\":\"\"}}}],\"scatterpolargl\":[{\"type\":\"scatterpolargl\",\"marker\":{\"colorbar\":{\"outlinewidth\":0,\"ticks\":\"\"}}}],\"bar\":[{\"error_x\":{\"color\":\"#2a3f5f\"},\"error_y\":{\"color\":\"#2a3f5f\"},\"marker\":{\"line\":{\"color\":\"#E5ECF6\",\"width\":0.5},\"pattern\":{\"fillmode\":\"overlay\",\"size\":10,\"solidity\":0.2}},\"type\":\"bar\"}],\"scattergeo\":[{\"type\":\"scattergeo\",\"marker\":{\"colorbar\":{\"outlinewidth\":0,\"ticks\":\"\"}}}],\"scatterpolar\":[{\"type\":\"scatterpolar\",\"marker\":{\"colorbar\":{\"outlinewidth\":0,\"ticks\":\"\"}}}],\"histogram\":[{\"marker\":{\"pattern\":{\"fillmode\":\"overlay\",\"size\":10,\"solidity\":0.2}},\"type\":\"histogram\"}],\"scattergl\":[{\"type\":\"scattergl\",\"marker\":{\"colorbar\":{\"outlinewidth\":0,\"ticks\":\"\"}}}],\"scatter3d\":[{\"type\":\"scatter3d\",\"line\":{\"colorbar\":{\"outlinewidth\":0,\"ticks\":\"\"}},\"marker\":{\"colorbar\":{\"outlinewidth\":0,\"ticks\":\"\"}}}],\"scattermapbox\":[{\"type\":\"scattermapbox\",\"marker\":{\"colorbar\":{\"outlinewidth\":0,\"ticks\":\"\"}}}],\"scatterternary\":[{\"type\":\"scatterternary\",\"marker\":{\"colorbar\":{\"outlinewidth\":0,\"ticks\":\"\"}}}],\"scattercarpet\":[{\"type\":\"scattercarpet\",\"marker\":{\"colorbar\":{\"outlinewidth\":0,\"ticks\":\"\"}}}],\"carpet\":[{\"aaxis\":{\"endlinecolor\":\"#2a3f5f\",\"gridcolor\":\"white\",\"linecolor\":\"white\",\"minorgridcolor\":\"white\",\"startlinecolor\":\"#2a3f5f\"},\"baxis\":{\"endlinecolor\":\"#2a3f5f\",\"gridcolor\":\"white\",\"linecolor\":\"white\",\"minorgridcolor\":\"white\",\"startlinecolor\":\"#2a3f5f\"},\"type\":\"carpet\"}],\"table\":[{\"cells\":{\"fill\":{\"color\":\"#EBF0F8\"},\"line\":{\"color\":\"white\"}},\"header\":{\"fill\":{\"color\":\"#C8D4E3\"},\"line\":{\"color\":\"white\"}},\"type\":\"table\"}],\"barpolar\":[{\"marker\":{\"line\":{\"color\":\"#E5ECF6\",\"width\":0.5},\"pattern\":{\"fillmode\":\"overlay\",\"size\":10,\"solidity\":0.2}},\"type\":\"barpolar\"}],\"pie\":[{\"automargin\":true,\"type\":\"pie\"}]},\"layout\":{\"autotypenumbers\":\"strict\",\"colorway\":[\"#636efa\",\"#EF553B\",\"#00cc96\",\"#ab63fa\",\"#FFA15A\",\"#19d3f3\",\"#FF6692\",\"#B6E880\",\"#FF97FF\",\"#FECB52\"],\"font\":{\"color\":\"#2a3f5f\"},\"hovermode\":\"closest\",\"hoverlabel\":{\"align\":\"left\"},\"paper_bgcolor\":\"white\",\"plot_bgcolor\":\"#E5ECF6\",\"polar\":{\"bgcolor\":\"#E5ECF6\",\"angularaxis\":{\"gridcolor\":\"white\",\"linecolor\":\"white\",\"ticks\":\"\"},\"radialaxis\":{\"gridcolor\":\"white\",\"linecolor\":\"white\",\"ticks\":\"\"}},\"ternary\":{\"bgcolor\":\"#E5ECF6\",\"aaxis\":{\"gridcolor\":\"white\",\"linecolor\":\"white\",\"ticks\":\"\"},\"baxis\":{\"gridcolor\":\"white\",\"linecolor\":\"white\",\"ticks\":\"\"},\"caxis\":{\"gridcolor\":\"white\",\"linecolor\":\"white\",\"ticks\":\"\"}},\"coloraxis\":{\"colorbar\":{\"outlinewidth\":0,\"ticks\":\"\"}},\"colorscale\":{\"sequential\":[[0.0,\"#0d0887\"],[0.1111111111111111,\"#46039f\"],[0.2222222222222222,\"#7201a8\"],[0.3333333333333333,\"#9c179e\"],[0.4444444444444444,\"#bd3786\"],[0.5555555555555556,\"#d8576b\"],[0.6666666666666666,\"#ed7953\"],[0.7777777777777778,\"#fb9f3a\"],[0.8888888888888888,\"#fdca26\"],[1.0,\"#f0f921\"]],\"sequentialminus\":[[0.0,\"#0d0887\"],[0.1111111111111111,\"#46039f\"],[0.2222222222222222,\"#7201a8\"],[0.3333333333333333,\"#9c179e\"],[0.4444444444444444,\"#bd3786\"],[0.5555555555555556,\"#d8576b\"],[0.6666666666666666,\"#ed7953\"],[0.7777777777777778,\"#fb9f3a\"],[0.8888888888888888,\"#fdca26\"],[1.0,\"#f0f921\"]],\"diverging\":[[0,\"#8e0152\"],[0.1,\"#c51b7d\"],[0.2,\"#de77ae\"],[0.3,\"#f1b6da\"],[0.4,\"#fde0ef\"],[0.5,\"#f7f7f7\"],[0.6,\"#e6f5d0\"],[0.7,\"#b8e186\"],[0.8,\"#7fbc41\"],[0.9,\"#4d9221\"],[1,\"#276419\"]]},\"xaxis\":{\"gridcolor\":\"white\",\"linecolor\":\"white\",\"ticks\":\"\",\"title\":{\"standoff\":15},\"zerolinecolor\":\"white\",\"automargin\":true,\"zerolinewidth\":2},\"yaxis\":{\"gridcolor\":\"white\",\"linecolor\":\"white\",\"ticks\":\"\",\"title\":{\"standoff\":15},\"zerolinecolor\":\"white\",\"automargin\":true,\"zerolinewidth\":2},\"scene\":{\"xaxis\":{\"backgroundcolor\":\"#E5ECF6\",\"gridcolor\":\"white\",\"linecolor\":\"white\",\"showbackground\":true,\"ticks\":\"\",\"zerolinecolor\":\"white\",\"gridwidth\":2},\"yaxis\":{\"backgroundcolor\":\"#E5ECF6\",\"gridcolor\":\"white\",\"linecolor\":\"white\",\"showbackground\":true,\"ticks\":\"\",\"zerolinecolor\":\"white\",\"gridwidth\":2},\"zaxis\":{\"backgroundcolor\":\"#E5ECF6\",\"gridcolor\":\"white\",\"linecolor\":\"white\",\"showbackground\":true,\"ticks\":\"\",\"zerolinecolor\":\"white\",\"gridwidth\":2}},\"shapedefaults\":{\"line\":{\"color\":\"#2a3f5f\"}},\"annotationdefaults\":{\"arrowcolor\":\"#2a3f5f\",\"arrowhead\":0,\"arrowwidth\":1},\"geo\":{\"bgcolor\":\"white\",\"landcolor\":\"#E5ECF6\",\"subunitcolor\":\"white\",\"showland\":true,\"showlakes\":true,\"lakecolor\":\"white\"},\"title\":{\"x\":0.05},\"mapbox\":{\"style\":\"light\"}}},\"title\":{\"text\":\"PDP profiles for BMI for two different models\"},\"xaxis\":{\"title\":{\"text\":\"BMI\"}},\"yaxis\":{\"title\":{\"text\":\"Probability of stroke\"}}},                        {\"responsive\": true}                    ).then(function(){\n",
       "                            \n",
       "var gd = document.getElementById('ead62531-4872-430d-89f2-86f5650dd764');\n",
       "var x = new MutationObserver(function (mutations, observer) {{\n",
       "        var display = window.getComputedStyle(gd).display;\n",
       "        if (!display || display === 'none') {{\n",
       "            console.log([gd, 'removed!']);\n",
       "            Plotly.purge(gd);\n",
       "            observer.disconnect();\n",
       "        }}\n",
       "}});\n",
       "\n",
       "// Listen for the removal of the full notebook cells\n",
       "var notebookContainer = gd.closest('#notebook-container');\n",
       "if (notebookContainer) {{\n",
       "    x.observe(notebookContainer, {childList: true});\n",
       "}}\n",
       "\n",
       "// Listen for the clearing of the current output cell\n",
       "var outputEl = gd.closest('.output');\n",
       "if (outputEl) {{\n",
       "    x.observe(outputEl, {childList: true});\n",
       "}}\n",
       "\n",
       "                        })                };                });            </script>        </div>"
      ]
     },
     "metadata": {},
     "output_type": "display_data"
    }
   ],
   "source": [
    "values = np.linspace(15.0, 50.0, 128)\n",
    "xgb_probs = partial_dependency_profile(xgb_model, test_X, \"bmi\", values)\n",
    "lr_probs = partial_dependency_profile(lr_model, test_X, \"bmi\", values)\n",
    "\n",
    "fig = go.Figure()\n",
    "fig.add_trace(go.Scatter(x=values, y=xgb_probs, mode=\"lines\", name=\"XGBoost\"))\n",
    "fig.add_trace(go.Scatter(x=values, y=lr_probs, mode=\"lines\", name=\"Logistic Regression\"))\n",
    "fig.update_layout(title=f\"PDP profiles for BMI for two different models\")\n",
    "fig.update_xaxes(title=\"BMI\")\n",
    "fig.update_yaxes(title=\"Probability of stroke\")"
   ]
  },
  {
   "cell_type": "markdown",
   "metadata": {},
   "source": [
    "One conclusion we can draw is that logistic regression-based model underestimates the probability, when compared to the XGBoost model. Second would be that logistic regression model better matches our intuition with regards to the expected effect of increasing subject's BMI to the probability of stroke, though one must note that the difference is not *that* massive (see the y-axis). Nevertheless, this observation could be one reason why our stakeholders would wish to choose it over the tree-based model."
   ]
  }
 ],
 "metadata": {
  "kernelspec": {
   "display_name": "Python 3.10.8 64-bit",
   "language": "python",
   "name": "python3"
  },
  "language_info": {
   "codemirror_mode": {
    "name": "ipython",
    "version": 3
   },
   "file_extension": ".py",
   "mimetype": "text/x-python",
   "name": "python",
   "nbconvert_exporter": "python",
   "pygments_lexer": "ipython3",
   "version": "3.10.8"
  },
  "orig_nbformat": 4,
  "vscode": {
   "interpreter": {
    "hash": "e7370f93d1d0cde622a1f8e1c04877d8463912d04d973331ad4851f04de6915a"
   }
  }
 },
 "nbformat": 4,
 "nbformat_minor": 2
}
