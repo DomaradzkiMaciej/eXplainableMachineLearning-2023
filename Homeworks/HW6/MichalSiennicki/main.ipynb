{
 "cells": [
  {
   "cell_type": "markdown",
   "source": [
    "# Task 1.\n",
    "$ Y $ - will use XAI\n",
    "\n",
    "$ \\hat{Y} $ - enrolled in training\n",
    "\n",
    "### Demographic parity\n",
    "$ P(\\hat{Y} | Blue) / P(\\hat{Y} | Red) = 0.65 / 0.5 = 1.3 $\n",
    "\n",
    "### Equal opportunity\n",
    "$ P(\\hat{Y} | Blue, Y) / P(\\hat{Y} | Red, Y) = 0.75 / 0.5 = 1.5 $\n",
    "\n",
    "### Predictive rate parity\n",
    "$ P(Y | \\hat{Y},  Blue) / P(Y | \\hat{Y}, Red) = \\frac{12}{13} / \\frac{1}{2} = 24 / 13 = 1.83 $\n",
    "\n"
   ],
   "metadata": {
    "collapsed": false,
    "pycharm": {
     "name": "#%% md\n"
    }
   }
  },
  {
   "cell_type": "markdown",
   "source": [
    "# Task 2."
   ],
   "metadata": {
    "collapsed": false,
    "pycharm": {
     "name": "#%% md\n"
    }
   }
  },
  {
   "cell_type": "markdown",
   "source": [
    "## 2.\n",
    "\n",
    "| Model                          | Statistical parity | Equal opportunity | Predictive parity |\n",
    "|--------------------------------|--------------------|-------------------|-------------------|\n",
    "| Random Forest                  | 0.298182           | 0.922492          | 1.047222          |\n",
    "\n",
    "This model has statistical parity close to 0.3, which means that it predicts higher income for males.\n",
    "Other coefficients are in the desired [0.8, 1.25] interval.\n",
    "\n",
    "## 3.\n",
    "\n",
    "| Model                          | Statistical parity | Equal opportunity | Predictive parity |\n",
    "|--------------------------------|--------------------|-------------------|-------------------|\n",
    "| Logistic Regression            | 0.533333           | 1.143396          | 0.722368          |\n",
    "\n",
    "Here are the fairness coefficients results for Logistic Regression model. This model is much simpler (and worse in terms of metrics - AUC).\n",
    "It is probably better - Statistical parity is 0.53 instead of 0.3. Predictive parity is worse than earlier (0.72).\n",
    "\n",
    "## 4.\n",
    "\n",
    "| Model                          | Statistical parity | Equal opportunity | Predictive parity |\n",
    "|--------------------------------|--------------------|-------------------|-------------------|\n",
    "| Random Forest, bias mitigated  | 0.380000           | 1.056180          | 0.941176          |\n",
    "\n",
    "Here we have the Random Forest model with the ROC pivot bias mitigation technique. As expected, this model is more fair than the standard Random Forest, having 0.38 Statistical parity coefficient.\n",
    "\n",
    "\n",
    "## 5.\n",
    "\n",
    "| Model                          | Statistical parity | Equal opportunity | Predictive parity | AUC   |\n",
    "|--------------------------------|--------------------|-------------------|-------------------|-------|\n",
    "| Random Forest                  | 0.298182           | 0.922492          | 1.047222          | 0.785 |\n",
    "| Logistic Regression            | 0.533333           | 1.143396          | 0.722368          | 0.618 |\n",
    "| Random Forest, bias mitigated  | 0.380000           | 1.056180          | 0.941176          | 0.779 |\n",
    "\n",
    "Here is the comparison between all the 3 models with their metric (AUROC) and their fairness coefficients.\n",
    "As expected, making the model more fair results in a bit worse auc. It is still of course worth it in most of the cases.\n",
    "\n"
   ],
   "metadata": {
    "collapsed": false,
    "pycharm": {
     "name": "#%% md\n"
    }
   }
  },
  {
   "cell_type": "markdown",
   "source": [
    "# Appendix\n",
    "\n",
    "## 0.\n",
    "Here the data is loaded (same as in previous homework) and a simple model is trained and evaluated. It is Random Forest Classifier from sklearn with default parameters.\n",
    "\n",
    "Loading and preparing the data consists of:\n",
    "- one hot encoding (models like logistic regression require this)\n",
    "- splitting between target (y) and x"
   ],
   "metadata": {
    "collapsed": false,
    "pycharm": {
     "name": "#%% md\n"
    }
   }
  },
  {
   "cell_type": "code",
   "execution_count": 1,
   "outputs": [
    {
     "name": "stdout",
     "output_type": "stream",
     "text": [
      "x_train.shape=(39073, 108) x_test.shape=(9769, 108) y_train.shape=(39073,) y_test.shape=(9769,)\n"
     ]
    }
   ],
   "source": [
    "import warnings\n",
    "warnings.simplefilter(action='ignore', category=FutureWarning)\n",
    "warnings.simplefilter(action='ignore', category=UserWarning)\n",
    "\n",
    "import numpy as np\n",
    "import pandas as pd\n",
    "from sklearn.ensemble import RandomForestClassifier\n",
    "from sklearn.linear_model import LogisticRegression\n",
    "from sklearn.metrics import roc_auc_score, accuracy_score\n",
    "from sklearn.model_selection import train_test_split\n",
    "import dalex as dx\n",
    "\n",
    "\n",
    "np.random.seed(42)\n",
    "\n",
    "\n",
    "def load_data():\n",
    "    df = pd.read_csv('adult.csv')\n",
    "\n",
    "    # One hot encoding (for linear classifier)\n",
    "    df = pd.get_dummies(df, columns=[\"workclass\", \"education\", \"marital-status\", \"occupation\", \"relationship\", \"race\", \"gender\", \"native-country\"])\n",
    "\n",
    "    # Get targets\n",
    "    y_all = df['income'] == \">50K\"\n",
    "\n",
    "    x_all = df.drop(columns=['income'])\n",
    "\n",
    "    # Split data to train and test\n",
    "    return train_test_split(x_all, y_all, test_size=0.2, random_state=42)\n",
    "\n",
    "\n",
    "x_train, x_test, y_train, y_test = load_data()\n",
    "print(f\"{x_train.shape=}\", f\"{x_test.shape=}\", f\"{y_train.shape=}\", f\"{y_test.shape=}\")"
   ],
   "metadata": {
    "collapsed": false,
    "pycharm": {
     "name": "#%%\n"
    }
   }
  },
  {
   "cell_type": "markdown",
   "source": [
    "# 1.\n",
    "Training the models"
   ],
   "metadata": {
    "collapsed": false,
    "pycharm": {
     "name": "#%% md\n"
    }
   }
  },
  {
   "cell_type": "code",
   "execution_count": 2,
   "outputs": [
    {
     "name": "stdout",
     "output_type": "stream",
     "text": [
      "{'auc': 0.7850466604892535, 'accuracy': 0.8603746545193981}\n",
      "{'auc': 0.6186399356334563, 'accuracy': 0.8036646534957519}\n"
     ]
    }
   ],
   "source": [
    "def get_model(verbose=False, model=None, n_estimators=100, x_train=x_train, y_train=y_train, x_test=x_test, y_test=y_test):\n",
    "    if model is None:\n",
    "        model = RandomForestClassifier(n_estimators=n_estimators)\n",
    "    metrics = {\n",
    "        \"auc\": roc_auc_score,\n",
    "        \"accuracy\": accuracy_score\n",
    "    }\n",
    "    model.fit(x_train, y_train)\n",
    "    pred_test = model.predict(x_test)\n",
    "    if verbose:\n",
    "        print({metric_name: metric_fun(y_test, pred_test) for metric_name, metric_fun in metrics.items()})\n",
    "\n",
    "    return model\n",
    "\n",
    "model = get_model(True)\n",
    "model_linear = get_model(True, LogisticRegression())"
   ],
   "metadata": {
    "collapsed": false,
    "pycharm": {
     "name": "#%%\n"
    }
   }
  },
  {
   "cell_type": "markdown",
   "source": [
    "## 2 & 3."
   ],
   "metadata": {
    "collapsed": false,
    "pycharm": {
     "name": "#%% md\n"
    }
   }
  },
  {
   "cell_type": "code",
   "execution_count": 3,
   "outputs": [
    {
     "name": "stdout",
     "output_type": "stream",
     "text": [
      "RandomForestClassifier\n",
      "STP    0.298182\n",
      "TPR    0.922492\n",
      "PPV    1.047222\n",
      "Name: female, dtype: float64\n",
      "LogisticRegression\n",
      "STP    0.533333\n",
      "TPR    1.143396\n",
      "PPV    0.722368\n",
      "Name: female, dtype: float64\n"
     ]
    }
   ],
   "source": [
    "def pf_xgboost_classifier_categorical(model, df):\n",
    "    df.loc[:, df.dtypes == 'object'] =\\\n",
    "        df.select_dtypes(['object'])\\\n",
    "        .apply(lambda x: x.astype('category'))\n",
    "    return model.predict_proba(df)[:, 1]\n",
    "\n",
    "protected = x_test['gender_Male'].apply(lambda x: \"male\" if x else \"female\")\n",
    "privileged = \"male\"\n",
    "\n",
    "def stats(_model):\n",
    "    explainer = dx.Explainer(_model, x_test, y_test, predict_function=pf_xgboost_classifier_categorical, verbose=False)\n",
    "\n",
    "    fobject = explainer.model_fairness(\n",
    "        protected=protected,\n",
    "        privileged=privileged,\n",
    "    )\n",
    "\n",
    "    print(_model.__class__.__name__)\n",
    "    print(fobject.result[['STP', 'TPR', 'PPV']].iloc[0])\n",
    "    # print(fobject.result)\n",
    "    # fobject.plot()\n",
    "    # fobject.fairness_check()\n",
    "\n",
    "stats(model)\n",
    "stats(model_linear)"
   ],
   "metadata": {
    "collapsed": false,
    "pycharm": {
     "name": "#%%\n"
    }
   }
  },
  {
   "cell_type": "markdown",
   "source": [
    "## 3."
   ],
   "metadata": {
    "collapsed": false,
    "pycharm": {
     "name": "#%% md\n"
    }
   }
  },
  {
   "cell_type": "code",
   "execution_count": 6,
   "outputs": [
    {
     "name": "stdout",
     "output_type": "stream",
     "text": [
      "{'auc': 0.7794231417109099, 'accuracy': 0.8570989865902344}\n",
      "STP    0.380000\n",
      "TPR    1.056180\n",
      "PPV    0.941176\n",
      "Name: female, dtype: float64\n"
     ]
    }
   ],
   "source": [
    "from copy import copy\n",
    "from dalex.fairness import roc_pivot\n",
    "\n",
    "X_train_without_prot, X_test_without_prot = x_train.drop(\"gender_Male\", axis=1).drop(\"gender_Female\", axis=1), x_test.drop(\"gender_Male\", axis=1).drop(\"gender_Female\", axis=1)\n",
    "\n",
    "model_without_prot = get_model(x_train=X_train_without_prot, x_test=X_test_without_prot, verbose=True)\n",
    "\n",
    "explainer_without_prot = dx.Explainer(\n",
    "    model_without_prot,\n",
    "    X_test_without_prot,\n",
    "    y_test,\n",
    "    predict_function=pf_xgboost_classifier_categorical,\n",
    "    label=\"XGBClassifier without the protected attribute\",\n",
    "    verbose=False\n",
    ")\n",
    "\n",
    "fobject_without_prot = explainer_without_prot.model_fairness(protected, privileged)\n",
    "\n",
    "# roc_pivot\n",
    "explainer_roc_pivot = roc_pivot(\n",
    "    copy(explainer_without_prot),\n",
    "    protected,\n",
    "    privileged,\n",
    "    verbose=False\n",
    ")\n",
    "\n",
    "print(explainer_roc_pivot.model_fairness(protected, privileged).result[['STP', 'TPR', 'PPV']].iloc[0])"
   ],
   "metadata": {
    "collapsed": false,
    "pycharm": {
     "name": "#%%\n"
    }
   }
  }
 ],
 "metadata": {
  "kernelspec": {
   "display_name": "Python 3",
   "language": "python",
   "name": "python3"
  },
  "language_info": {
   "codemirror_mode": {
    "name": "ipython",
    "version": 2
   },
   "file_extension": ".py",
   "mimetype": "text/x-python",
   "name": "python",
   "nbconvert_exporter": "python",
   "pygments_lexer": "ipython2",
   "version": "2.7.6"
  }
 },
 "nbformat": 4,
 "nbformat_minor": 0
}